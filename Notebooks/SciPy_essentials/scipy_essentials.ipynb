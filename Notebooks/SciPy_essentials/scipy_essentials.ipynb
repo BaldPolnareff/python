{
 "cells": [
  {
   "attachments": {},
   "cell_type": "markdown",
   "metadata": {},
   "source": [
    "# SciPy Essentials"
   ]
  },
  {
   "cell_type": "code",
   "execution_count": 2,
   "metadata": {},
   "outputs": [],
   "source": [
    "import numpy as np\n",
    "import matplotlib.pyplot as plt\n",
    "import scipy as sp\n",
    "%config InlineBackend.figure_format = 'svg'"
   ]
  },
  {
   "attachments": {},
   "cell_type": "markdown",
   "metadata": {},
   "source": [
    "A lot of the **scipy** material is built on top of **numpy** and it comprises a lot of extremely optimized functions for numerical computing that are commonly used across all branches of mathematics, physics, engineering, and many other fields. The **scipy** library is built to work with **numpy** arrays and provides many user-friendly and efficient numerical routines such as routines for numerical integration and optimization."
   ]
  },
  {
   "attachments": {},
   "cell_type": "markdown",
   "metadata": {},
   "source": [
    "## Basics\n",
    "\n",
    "### Optimization\n",
    "\n",
    "Minimize the function $f(x) = (x - 3)^2$ "
   ]
  },
  {
   "cell_type": "code",
   "execution_count": 3,
   "metadata": {},
   "outputs": [
    {
     "name": "stdout",
     "output_type": "stream",
     "text": [
      "      fun: 5.551437397369767e-17\n",
      " hess_inv: array([[0.5]])\n",
      "      jac: array([-4.3254289e-13])\n",
      "  message: 'Optimization terminated successfully.'\n",
      "     nfev: 6\n",
      "      nit: 2\n",
      "     njev: 3\n",
      "   status: 0\n",
      "  success: True\n",
      "        x: array([2.99999999])\n"
     ]
    }
   ],
   "source": [
    "from scipy.optimize import minimize\n",
    "\n",
    "def f(x):\n",
    "    return (x-3)**2\n",
    "\n",
    "initial_guess = 2\n",
    "res = minimize(f, initial_guess)\n",
    "print(res)"
   ]
  },
  {
   "attachments": {},
   "cell_type": "markdown",
   "metadata": {},
   "source": [
    "Minimize the function $f(x,y) = (x - 1)^2 + (y - 2.5)^2$ subject to the constraints\n",
    "\n",
    "$x - 2y + 2 \\geq 0$\n",
    "\n",
    "$ -x - 2y + 6 \\geq 0$\n",
    "\n",
    "$ -x + 2y + 2 \\geq 0$\n",
    "\n",
    "$x \\geq 0$\n",
    "\n",
    "$y \\geq 0$"
   ]
  },
  {
   "attachments": {},
   "cell_type": "markdown",
   "metadata": {},
   "source": [
    "Here's the approach to use for constrained optimization:\n",
    "\n",
    "+ 2D function takes in vector $x$\n",
    "+ Constraints must be specified as $g_i(x) \\geq 0$\n",
    "+ Bounds must be specified as rectangular regions"
   ]
  },
  {
   "cell_type": "code",
   "execution_count": 4,
   "metadata": {},
   "outputs": [
    {
     "name": "stdout",
     "output_type": "stream",
     "text": [
      "     fun: 0.8000000011920985\n",
      "     jac: array([ 0.80000002, -1.59999999])\n",
      " message: 'Optimization terminated successfully'\n",
      "    nfev: 10\n",
      "     nit: 3\n",
      "    njev: 3\n",
      "  status: 0\n",
      " success: True\n",
      "       x: array([1.4, 1.7])\n"
     ]
    }
   ],
   "source": [
    "#f = lambda x: (x[0] -1)**2 + (x[1] - 2.5)**2\n",
    "\n",
    "def f(v):\n",
    "    return (v[0] -1)**2 + (v[1] - 2.5)**2\n",
    "\n",
    "cons1 = lambda v: v[0] - 2*v[1] + 2\n",
    "cons2 = lambda v: -v[0] - 2*v[1] + 6\n",
    "cons3 = lambda v: -v[0] + 2*v[1] + 2\n",
    "constr = ({'type': 'ineq', 'fun': cons1},\n",
    "               {'type': 'ineq', 'fun': cons2},\n",
    "               {'type': 'ineq', 'fun': cons3},\n",
    "               ) # tuple of dictionaries defining the inequality constraints\n",
    "bnds = ((0, None), (0, None)) # tuple of two tuples going from 0 to infinity each\n",
    "\n",
    "res = minimize(f, (2, 0), bounds=bnds, constraints=constr)\n",
    "print(res)"
   ]
  },
  {
   "attachments": {},
   "cell_type": "markdown",
   "metadata": {},
   "source": [
    "You can look at the documentation for any function using the `?` operator."
   ]
  },
  {
   "cell_type": "code",
   "execution_count": 5,
   "metadata": {},
   "outputs": [],
   "source": [
    "#minimize?"
   ]
  },
  {
   "attachments": {},
   "cell_type": "markdown",
   "metadata": {},
   "source": [
    "## Interpolation\n",
    "\n",
    "SciPy provides a number of functions for interpolation, which are extremely useful for experimental data analysis. "
   ]
  },
  {
   "attachments": {},
   "cell_type": "markdown",
   "metadata": {},
   "source": [
    "Suppose you have a set of data points like this:"
   ]
  },
  {
   "cell_type": "code",
   "execution_count": 6,
   "metadata": {},
   "outputs": [
    {
     "data": {
      "text/plain": [
       "<matplotlib.collections.PathCollection at 0x7f6534481910>"
      ]
     },
     "execution_count": 6,
     "metadata": {},
     "output_type": "execute_result"
    },
    {
     "data": {
      "image/svg+xml": "<?xml version=\"1.0\" encoding=\"utf-8\" standalone=\"no\"?>\n<!DOCTYPE svg PUBLIC \"-//W3C//DTD SVG 1.1//EN\"\n  \"http://www.w3.org/Graphics/SVG/1.1/DTD/svg11.dtd\">\n<svg xmlns:xlink=\"http://www.w3.org/1999/xlink\" width=\"399.624687pt\" height=\"297.190125pt\" viewBox=\"0 0 399.624687 297.190125\" xmlns=\"http://www.w3.org/2000/svg\" version=\"1.1\">\n <metadata>\n  <rdf:RDF xmlns:dc=\"http://purl.org/dc/elements/1.1/\" xmlns:cc=\"http://creativecommons.org/ns#\" xmlns:rdf=\"http://www.w3.org/1999/02/22-rdf-syntax-ns#\">\n   <cc:Work>\n    <dc:type rdf:resource=\"http://purl.org/dc/dcmitype/StillImage\"/>\n    <dc:date>2023-02-24T16:42:31.327728</dc:date>\n    <dc:format>image/svg+xml</dc:format>\n    <dc:creator>\n     <cc:Agent>\n      <dc:title>Matplotlib v3.7.0, https://matplotlib.org/</dc:title>\n     </cc:Agent>\n    </dc:creator>\n   </cc:Work>\n  </rdf:RDF>\n </metadata>\n <defs>\n  <style type=\"text/css\">*{stroke-linejoin: round; stroke-linecap: butt}</style>\n </defs>\n <g id=\"figure_1\">\n  <g id=\"patch_1\">\n   <path d=\"M 0 297.190125 \nL 399.624687 297.190125 \nL 399.624687 0 \nL 0 0 \nz\n\" style=\"fill: #ffffff\"/>\n  </g>\n  <g id=\"axes_1\">\n   <g id=\"patch_2\">\n    <path d=\"M 35.304688 273.312 \nL 392.424688 273.312 \nL 392.424688 7.2 \nL 35.304688 7.2 \nz\n\" style=\"fill: #ffffff\"/>\n   </g>\n   <g id=\"PathCollection_1\">\n    <defs>\n     <path id=\"md607944ff4\" d=\"M 0 3 \nC 0.795609 3 1.55874 2.683901 2.12132 2.12132 \nC 2.683901 1.55874 3 0.795609 3 0 \nC 3 -0.795609 2.683901 -1.55874 2.12132 -2.12132 \nC 1.55874 -2.683901 0.795609 -3 0 -3 \nC -0.795609 -3 -1.55874 -2.683901 -2.12132 -2.12132 \nC -2.683901 -1.55874 -3 -0.795609 -3 0 \nC -3 0.795609 -2.683901 1.55874 -2.12132 2.12132 \nC -1.55874 2.683901 -0.795609 3 0 3 \nz\n\" style=\"stroke: #1f77b4\"/>\n    </defs>\n    <g clip-path=\"url(#p7eadb2e761)\">\n     <use xlink:href=\"#md607944ff4\" x=\"51.537415\" y=\"146.493935\" style=\"fill: #1f77b4; stroke: #1f77b4\"/>\n     <use xlink:href=\"#md607944ff4\" x=\"87.610142\" y=\"144.16076\" style=\"fill: #1f77b4; stroke: #1f77b4\"/>\n     <use xlink:href=\"#md607944ff4\" x=\"123.682869\" y=\"138.212731\" style=\"fill: #1f77b4; stroke: #1f77b4\"/>\n     <use xlink:href=\"#md607944ff4\" x=\"159.755597\" y=\"150.959111\" style=\"fill: #1f77b4; stroke: #1f77b4\"/>\n     <use xlink:href=\"#md607944ff4\" x=\"195.828324\" y=\"186.662475\" style=\"fill: #1f77b4; stroke: #1f77b4\"/>\n     <use xlink:href=\"#md607944ff4\" x=\"231.901051\" y=\"189.782594\" style=\"fill: #1f77b4; stroke: #1f77b4\"/>\n     <use xlink:href=\"#md607944ff4\" x=\"267.973778\" y=\"111.427157\" style=\"fill: #1f77b4; stroke: #1f77b4\"/>\n     <use xlink:href=\"#md607944ff4\" x=\"304.046506\" y=\"19.296\" style=\"fill: #1f77b4; stroke: #1f77b4\"/>\n     <use xlink:href=\"#md607944ff4\" x=\"340.119233\" y=\"61.417007\" style=\"fill: #1f77b4; stroke: #1f77b4\"/>\n     <use xlink:href=\"#md607944ff4\" x=\"376.19196\" y=\"261.216\" style=\"fill: #1f77b4; stroke: #1f77b4\"/>\n    </g>\n   </g>\n   <g id=\"matplotlib.axis_1\">\n    <g id=\"xtick_1\">\n     <g id=\"line2d_1\">\n      <defs>\n       <path id=\"m6cd9a317f3\" d=\"M 0 0 \nL 0 3.5 \n\" style=\"stroke: #000000; stroke-width: 0.8\"/>\n      </defs>\n      <g>\n       <use xlink:href=\"#m6cd9a317f3\" x=\"51.537415\" y=\"273.312\" style=\"stroke: #000000; stroke-width: 0.8\"/>\n      </g>\n     </g>\n     <g id=\"text_1\">\n      <!-- 0 -->\n      <g transform=\"translate(48.356165 287.910437) scale(0.1 -0.1)\">\n       <defs>\n        <path id=\"DejaVuSans-30\" d=\"M 2034 4250 \nQ 1547 4250 1301 3770 \nQ 1056 3291 1056 2328 \nQ 1056 1369 1301 889 \nQ 1547 409 2034 409 \nQ 2525 409 2770 889 \nQ 3016 1369 3016 2328 \nQ 3016 3291 2770 3770 \nQ 2525 4250 2034 4250 \nz\nM 2034 4750 \nQ 2819 4750 3233 4129 \nQ 3647 3509 3647 2328 \nQ 3647 1150 3233 529 \nQ 2819 -91 2034 -91 \nQ 1250 -91 836 529 \nQ 422 1150 422 2328 \nQ 422 3509 836 4129 \nQ 1250 4750 2034 4750 \nz\n\" transform=\"scale(0.015625)\"/>\n       </defs>\n       <use xlink:href=\"#DejaVuSans-30\"/>\n      </g>\n     </g>\n    </g>\n    <g id=\"xtick_2\">\n     <g id=\"line2d_2\">\n      <g>\n       <use xlink:href=\"#m6cd9a317f3\" x=\"116.468324\" y=\"273.312\" style=\"stroke: #000000; stroke-width: 0.8\"/>\n      </g>\n     </g>\n     <g id=\"text_2\">\n      <!-- 2 -->\n      <g transform=\"translate(113.287074 287.910437) scale(0.1 -0.1)\">\n       <defs>\n        <path id=\"DejaVuSans-32\" d=\"M 1228 531 \nL 3431 531 \nL 3431 0 \nL 469 0 \nL 469 531 \nQ 828 903 1448 1529 \nQ 2069 2156 2228 2338 \nQ 2531 2678 2651 2914 \nQ 2772 3150 2772 3378 \nQ 2772 3750 2511 3984 \nQ 2250 4219 1831 4219 \nQ 1534 4219 1204 4116 \nQ 875 4013 500 3803 \nL 500 4441 \nQ 881 4594 1212 4672 \nQ 1544 4750 1819 4750 \nQ 2544 4750 2975 4387 \nQ 3406 4025 3406 3419 \nQ 3406 3131 3298 2873 \nQ 3191 2616 2906 2266 \nQ 2828 2175 2409 1742 \nQ 1991 1309 1228 531 \nz\n\" transform=\"scale(0.015625)\"/>\n       </defs>\n       <use xlink:href=\"#DejaVuSans-32\"/>\n      </g>\n     </g>\n    </g>\n    <g id=\"xtick_3\">\n     <g id=\"line2d_3\">\n      <g>\n       <use xlink:href=\"#m6cd9a317f3\" x=\"181.399233\" y=\"273.312\" style=\"stroke: #000000; stroke-width: 0.8\"/>\n      </g>\n     </g>\n     <g id=\"text_3\">\n      <!-- 4 -->\n      <g transform=\"translate(178.217983 287.910437) scale(0.1 -0.1)\">\n       <defs>\n        <path id=\"DejaVuSans-34\" d=\"M 2419 4116 \nL 825 1625 \nL 2419 1625 \nL 2419 4116 \nz\nM 2253 4666 \nL 3047 4666 \nL 3047 1625 \nL 3713 1625 \nL 3713 1100 \nL 3047 1100 \nL 3047 0 \nL 2419 0 \nL 2419 1100 \nL 313 1100 \nL 313 1709 \nL 2253 4666 \nz\n\" transform=\"scale(0.015625)\"/>\n       </defs>\n       <use xlink:href=\"#DejaVuSans-34\"/>\n      </g>\n     </g>\n    </g>\n    <g id=\"xtick_4\">\n     <g id=\"line2d_4\">\n      <g>\n       <use xlink:href=\"#m6cd9a317f3\" x=\"246.330142\" y=\"273.312\" style=\"stroke: #000000; stroke-width: 0.8\"/>\n      </g>\n     </g>\n     <g id=\"text_4\">\n      <!-- 6 -->\n      <g transform=\"translate(243.148892 287.910437) scale(0.1 -0.1)\">\n       <defs>\n        <path id=\"DejaVuSans-36\" d=\"M 2113 2584 \nQ 1688 2584 1439 2293 \nQ 1191 2003 1191 1497 \nQ 1191 994 1439 701 \nQ 1688 409 2113 409 \nQ 2538 409 2786 701 \nQ 3034 994 3034 1497 \nQ 3034 2003 2786 2293 \nQ 2538 2584 2113 2584 \nz\nM 3366 4563 \nL 3366 3988 \nQ 3128 4100 2886 4159 \nQ 2644 4219 2406 4219 \nQ 1781 4219 1451 3797 \nQ 1122 3375 1075 2522 \nQ 1259 2794 1537 2939 \nQ 1816 3084 2150 3084 \nQ 2853 3084 3261 2657 \nQ 3669 2231 3669 1497 \nQ 3669 778 3244 343 \nQ 2819 -91 2113 -91 \nQ 1303 -91 875 529 \nQ 447 1150 447 2328 \nQ 447 3434 972 4092 \nQ 1497 4750 2381 4750 \nQ 2619 4750 2861 4703 \nQ 3103 4656 3366 4563 \nz\n\" transform=\"scale(0.015625)\"/>\n       </defs>\n       <use xlink:href=\"#DejaVuSans-36\"/>\n      </g>\n     </g>\n    </g>\n    <g id=\"xtick_5\">\n     <g id=\"line2d_5\">\n      <g>\n       <use xlink:href=\"#m6cd9a317f3\" x=\"311.261051\" y=\"273.312\" style=\"stroke: #000000; stroke-width: 0.8\"/>\n      </g>\n     </g>\n     <g id=\"text_5\">\n      <!-- 8 -->\n      <g transform=\"translate(308.079801 287.910437) scale(0.1 -0.1)\">\n       <defs>\n        <path id=\"DejaVuSans-38\" d=\"M 2034 2216 \nQ 1584 2216 1326 1975 \nQ 1069 1734 1069 1313 \nQ 1069 891 1326 650 \nQ 1584 409 2034 409 \nQ 2484 409 2743 651 \nQ 3003 894 3003 1313 \nQ 3003 1734 2745 1975 \nQ 2488 2216 2034 2216 \nz\nM 1403 2484 \nQ 997 2584 770 2862 \nQ 544 3141 544 3541 \nQ 544 4100 942 4425 \nQ 1341 4750 2034 4750 \nQ 2731 4750 3128 4425 \nQ 3525 4100 3525 3541 \nQ 3525 3141 3298 2862 \nQ 3072 2584 2669 2484 \nQ 3125 2378 3379 2068 \nQ 3634 1759 3634 1313 \nQ 3634 634 3220 271 \nQ 2806 -91 2034 -91 \nQ 1263 -91 848 271 \nQ 434 634 434 1313 \nQ 434 1759 690 2068 \nQ 947 2378 1403 2484 \nz\nM 1172 3481 \nQ 1172 3119 1398 2916 \nQ 1625 2713 2034 2713 \nQ 2441 2713 2670 2916 \nQ 2900 3119 2900 3481 \nQ 2900 3844 2670 4047 \nQ 2441 4250 2034 4250 \nQ 1625 4250 1398 4047 \nQ 1172 3844 1172 3481 \nz\n\" transform=\"scale(0.015625)\"/>\n       </defs>\n       <use xlink:href=\"#DejaVuSans-38\"/>\n      </g>\n     </g>\n    </g>\n    <g id=\"xtick_6\">\n     <g id=\"line2d_6\">\n      <g>\n       <use xlink:href=\"#m6cd9a317f3\" x=\"376.19196\" y=\"273.312\" style=\"stroke: #000000; stroke-width: 0.8\"/>\n      </g>\n     </g>\n     <g id=\"text_6\">\n      <!-- 10 -->\n      <g transform=\"translate(369.82946 287.910437) scale(0.1 -0.1)\">\n       <defs>\n        <path id=\"DejaVuSans-31\" d=\"M 794 531 \nL 1825 531 \nL 1825 4091 \nL 703 3866 \nL 703 4441 \nL 1819 4666 \nL 2450 4666 \nL 2450 531 \nL 3481 531 \nL 3481 0 \nL 794 0 \nL 794 531 \nz\n\" transform=\"scale(0.015625)\"/>\n       </defs>\n       <use xlink:href=\"#DejaVuSans-31\"/>\n       <use xlink:href=\"#DejaVuSans-30\" x=\"63.623047\"/>\n      </g>\n     </g>\n    </g>\n   </g>\n   <g id=\"matplotlib.axis_2\">\n    <g id=\"ytick_1\">\n     <g id=\"line2d_7\">\n      <defs>\n       <path id=\"m3b0c5cc18a\" d=\"M 0 0 \nL -3.5 0 \n\" style=\"stroke: #000000; stroke-width: 0.8\"/>\n      </defs>\n      <g>\n       <use xlink:href=\"#m3b0c5cc18a\" x=\"35.304688\" y=\"273.020714\" style=\"stroke: #000000; stroke-width: 0.8\"/>\n      </g>\n     </g>\n     <g id=\"text_7\">\n      <!-- −60 -->\n      <g transform=\"translate(7.2 276.819933) scale(0.1 -0.1)\">\n       <defs>\n        <path id=\"DejaVuSans-2212\" d=\"M 678 2272 \nL 4684 2272 \nL 4684 1741 \nL 678 1741 \nL 678 2272 \nz\n\" transform=\"scale(0.015625)\"/>\n       </defs>\n       <use xlink:href=\"#DejaVuSans-2212\"/>\n       <use xlink:href=\"#DejaVuSans-36\" x=\"83.789062\"/>\n       <use xlink:href=\"#DejaVuSans-30\" x=\"147.412109\"/>\n      </g>\n     </g>\n    </g>\n    <g id=\"ytick_2\">\n     <g id=\"line2d_8\">\n      <g>\n       <use xlink:href=\"#m3b0c5cc18a\" x=\"35.304688\" y=\"230.845121\" style=\"stroke: #000000; stroke-width: 0.8\"/>\n      </g>\n     </g>\n     <g id=\"text_8\">\n      <!-- −40 -->\n      <g transform=\"translate(7.2 234.64434) scale(0.1 -0.1)\">\n       <use xlink:href=\"#DejaVuSans-2212\"/>\n       <use xlink:href=\"#DejaVuSans-34\" x=\"83.789062\"/>\n       <use xlink:href=\"#DejaVuSans-30\" x=\"147.412109\"/>\n      </g>\n     </g>\n    </g>\n    <g id=\"ytick_3\">\n     <g id=\"line2d_9\">\n      <g>\n       <use xlink:href=\"#m3b0c5cc18a\" x=\"35.304688\" y=\"188.669528\" style=\"stroke: #000000; stroke-width: 0.8\"/>\n      </g>\n     </g>\n     <g id=\"text_9\">\n      <!-- −20 -->\n      <g transform=\"translate(7.2 192.468747) scale(0.1 -0.1)\">\n       <use xlink:href=\"#DejaVuSans-2212\"/>\n       <use xlink:href=\"#DejaVuSans-32\" x=\"83.789062\"/>\n       <use xlink:href=\"#DejaVuSans-30\" x=\"147.412109\"/>\n      </g>\n     </g>\n    </g>\n    <g id=\"ytick_4\">\n     <g id=\"line2d_10\">\n      <g>\n       <use xlink:href=\"#m3b0c5cc18a\" x=\"35.304688\" y=\"146.493935\" style=\"stroke: #000000; stroke-width: 0.8\"/>\n      </g>\n     </g>\n     <g id=\"text_10\">\n      <!-- 0 -->\n      <g transform=\"translate(21.942187 150.293154) scale(0.1 -0.1)\">\n       <use xlink:href=\"#DejaVuSans-30\"/>\n      </g>\n     </g>\n    </g>\n    <g id=\"ytick_5\">\n     <g id=\"line2d_11\">\n      <g>\n       <use xlink:href=\"#m3b0c5cc18a\" x=\"35.304688\" y=\"104.318342\" style=\"stroke: #000000; stroke-width: 0.8\"/>\n      </g>\n     </g>\n     <g id=\"text_11\">\n      <!-- 20 -->\n      <g transform=\"translate(15.579687 108.117561) scale(0.1 -0.1)\">\n       <use xlink:href=\"#DejaVuSans-32\"/>\n       <use xlink:href=\"#DejaVuSans-30\" x=\"63.623047\"/>\n      </g>\n     </g>\n    </g>\n    <g id=\"ytick_6\">\n     <g id=\"line2d_12\">\n      <g>\n       <use xlink:href=\"#m3b0c5cc18a\" x=\"35.304688\" y=\"62.142749\" style=\"stroke: #000000; stroke-width: 0.8\"/>\n      </g>\n     </g>\n     <g id=\"text_12\">\n      <!-- 40 -->\n      <g transform=\"translate(15.579687 65.941968) scale(0.1 -0.1)\">\n       <use xlink:href=\"#DejaVuSans-34\"/>\n       <use xlink:href=\"#DejaVuSans-30\" x=\"63.623047\"/>\n      </g>\n     </g>\n    </g>\n    <g id=\"ytick_7\">\n     <g id=\"line2d_13\">\n      <g>\n       <use xlink:href=\"#m3b0c5cc18a\" x=\"35.304688\" y=\"19.967156\" style=\"stroke: #000000; stroke-width: 0.8\"/>\n      </g>\n     </g>\n     <g id=\"text_13\">\n      <!-- 60 -->\n      <g transform=\"translate(15.579687 23.766375) scale(0.1 -0.1)\">\n       <use xlink:href=\"#DejaVuSans-36\"/>\n       <use xlink:href=\"#DejaVuSans-30\" x=\"63.623047\"/>\n      </g>\n     </g>\n    </g>\n   </g>\n   <g id=\"patch_3\">\n    <path d=\"M 35.304688 273.312 \nL 35.304688 7.2 \n\" style=\"fill: none; stroke: #000000; stroke-width: 0.8; stroke-linejoin: miter; stroke-linecap: square\"/>\n   </g>\n   <g id=\"patch_4\">\n    <path d=\"M 392.424688 273.312 \nL 392.424688 7.2 \n\" style=\"fill: none; stroke: #000000; stroke-width: 0.8; stroke-linejoin: miter; stroke-linecap: square\"/>\n   </g>\n   <g id=\"patch_5\">\n    <path d=\"M 35.304688 273.312 \nL 392.424688 273.312 \n\" style=\"fill: none; stroke: #000000; stroke-width: 0.8; stroke-linejoin: miter; stroke-linecap: square\"/>\n   </g>\n   <g id=\"patch_6\">\n    <path d=\"M 35.304688 7.2 \nL 392.424688 7.2 \n\" style=\"fill: none; stroke: #000000; stroke-width: 0.8; stroke-linejoin: miter; stroke-linecap: square\"/>\n   </g>\n  </g>\n </g>\n <defs>\n  <clipPath id=\"p7eadb2e761\">\n   <rect x=\"35.304688\" y=\"7.2\" width=\"357.12\" height=\"266.112\"/>\n  </clipPath>\n </defs>\n</svg>\n",
      "text/plain": [
       "<Figure size 640x480 with 1 Axes>"
      ]
     },
     "metadata": {},
     "output_type": "display_data"
    }
   ],
   "source": [
    "x = np.linspace(0, 10, 10)\n",
    "y = x**2 * np.sin(x)\n",
    "plt.scatter(x, y)"
   ]
  },
  {
   "attachments": {},
   "cell_type": "markdown",
   "metadata": {},
   "source": [
    "Your goal is to know all the values in between the scattered points. You can use the `interp1d` function to interpolate the data."
   ]
  },
  {
   "cell_type": "code",
   "execution_count": 7,
   "metadata": {},
   "outputs": [],
   "source": [
    "from scipy.interpolate import interp1d"
   ]
  },
  {
   "cell_type": "code",
   "execution_count": 8,
   "metadata": {},
   "outputs": [],
   "source": [
    "f = interp1d(x, y, kind='cubic') # way better than linear!\n",
    "x_dense = np.linspace(0,10,100)\n",
    "y_dense = f(x_dense)"
   ]
  },
  {
   "cell_type": "code",
   "execution_count": 9,
   "metadata": {},
   "outputs": [
    {
     "data": {
      "text/plain": [
       "[<matplotlib.lines.Line2D at 0x7f6529deca50>]"
      ]
     },
     "execution_count": 9,
     "metadata": {},
     "output_type": "execute_result"
    },
    {
     "data": {
      "image/svg+xml": "<?xml version=\"1.0\" encoding=\"utf-8\" standalone=\"no\"?>\n<!DOCTYPE svg PUBLIC \"-//W3C//DTD SVG 1.1//EN\"\n  \"http://www.w3.org/Graphics/SVG/1.1/DTD/svg11.dtd\">\n<svg xmlns:xlink=\"http://www.w3.org/1999/xlink\" width=\"399.624687pt\" height=\"297.190125pt\" viewBox=\"0 0 399.624687 297.190125\" xmlns=\"http://www.w3.org/2000/svg\" version=\"1.1\">\n <metadata>\n  <rdf:RDF xmlns:dc=\"http://purl.org/dc/elements/1.1/\" xmlns:cc=\"http://creativecommons.org/ns#\" xmlns:rdf=\"http://www.w3.org/1999/02/22-rdf-syntax-ns#\">\n   <cc:Work>\n    <dc:type rdf:resource=\"http://purl.org/dc/dcmitype/StillImage\"/>\n    <dc:date>2023-02-24T16:42:31.618998</dc:date>\n    <dc:format>image/svg+xml</dc:format>\n    <dc:creator>\n     <cc:Agent>\n      <dc:title>Matplotlib v3.7.0, https://matplotlib.org/</dc:title>\n     </cc:Agent>\n    </dc:creator>\n   </cc:Work>\n  </rdf:RDF>\n </metadata>\n <defs>\n  <style type=\"text/css\">*{stroke-linejoin: round; stroke-linecap: butt}</style>\n </defs>\n <g id=\"figure_1\">\n  <g id=\"patch_1\">\n   <path d=\"M 0 297.190125 \nL 399.624687 297.190125 \nL 399.624687 0 \nL 0 0 \nz\n\" style=\"fill: #ffffff\"/>\n  </g>\n  <g id=\"axes_1\">\n   <g id=\"patch_2\">\n    <path d=\"M 35.304688 273.312 \nL 392.424688 273.312 \nL 392.424688 7.2 \nL 35.304688 7.2 \nz\n\" style=\"fill: #ffffff\"/>\n   </g>\n   <g id=\"matplotlib.axis_1\">\n    <g id=\"xtick_1\">\n     <g id=\"line2d_1\">\n      <defs>\n       <path id=\"m6d042f5db8\" d=\"M 0 0 \nL 0 3.5 \n\" style=\"stroke: #000000; stroke-width: 0.8\"/>\n      </defs>\n      <g>\n       <use xlink:href=\"#m6d042f5db8\" x=\"51.537415\" y=\"273.312\" style=\"stroke: #000000; stroke-width: 0.8\"/>\n      </g>\n     </g>\n     <g id=\"text_1\">\n      <!-- 0 -->\n      <g transform=\"translate(48.356165 287.910437) scale(0.1 -0.1)\">\n       <defs>\n        <path id=\"DejaVuSans-30\" d=\"M 2034 4250 \nQ 1547 4250 1301 3770 \nQ 1056 3291 1056 2328 \nQ 1056 1369 1301 889 \nQ 1547 409 2034 409 \nQ 2525 409 2770 889 \nQ 3016 1369 3016 2328 \nQ 3016 3291 2770 3770 \nQ 2525 4250 2034 4250 \nz\nM 2034 4750 \nQ 2819 4750 3233 4129 \nQ 3647 3509 3647 2328 \nQ 3647 1150 3233 529 \nQ 2819 -91 2034 -91 \nQ 1250 -91 836 529 \nQ 422 1150 422 2328 \nQ 422 3509 836 4129 \nQ 1250 4750 2034 4750 \nz\n\" transform=\"scale(0.015625)\"/>\n       </defs>\n       <use xlink:href=\"#DejaVuSans-30\"/>\n      </g>\n     </g>\n    </g>\n    <g id=\"xtick_2\">\n     <g id=\"line2d_2\">\n      <g>\n       <use xlink:href=\"#m6d042f5db8\" x=\"116.468324\" y=\"273.312\" style=\"stroke: #000000; stroke-width: 0.8\"/>\n      </g>\n     </g>\n     <g id=\"text_2\">\n      <!-- 2 -->\n      <g transform=\"translate(113.287074 287.910437) scale(0.1 -0.1)\">\n       <defs>\n        <path id=\"DejaVuSans-32\" d=\"M 1228 531 \nL 3431 531 \nL 3431 0 \nL 469 0 \nL 469 531 \nQ 828 903 1448 1529 \nQ 2069 2156 2228 2338 \nQ 2531 2678 2651 2914 \nQ 2772 3150 2772 3378 \nQ 2772 3750 2511 3984 \nQ 2250 4219 1831 4219 \nQ 1534 4219 1204 4116 \nQ 875 4013 500 3803 \nL 500 4441 \nQ 881 4594 1212 4672 \nQ 1544 4750 1819 4750 \nQ 2544 4750 2975 4387 \nQ 3406 4025 3406 3419 \nQ 3406 3131 3298 2873 \nQ 3191 2616 2906 2266 \nQ 2828 2175 2409 1742 \nQ 1991 1309 1228 531 \nz\n\" transform=\"scale(0.015625)\"/>\n       </defs>\n       <use xlink:href=\"#DejaVuSans-32\"/>\n      </g>\n     </g>\n    </g>\n    <g id=\"xtick_3\">\n     <g id=\"line2d_3\">\n      <g>\n       <use xlink:href=\"#m6d042f5db8\" x=\"181.399233\" y=\"273.312\" style=\"stroke: #000000; stroke-width: 0.8\"/>\n      </g>\n     </g>\n     <g id=\"text_3\">\n      <!-- 4 -->\n      <g transform=\"translate(178.217983 287.910437) scale(0.1 -0.1)\">\n       <defs>\n        <path id=\"DejaVuSans-34\" d=\"M 2419 4116 \nL 825 1625 \nL 2419 1625 \nL 2419 4116 \nz\nM 2253 4666 \nL 3047 4666 \nL 3047 1625 \nL 3713 1625 \nL 3713 1100 \nL 3047 1100 \nL 3047 0 \nL 2419 0 \nL 2419 1100 \nL 313 1100 \nL 313 1709 \nL 2253 4666 \nz\n\" transform=\"scale(0.015625)\"/>\n       </defs>\n       <use xlink:href=\"#DejaVuSans-34\"/>\n      </g>\n     </g>\n    </g>\n    <g id=\"xtick_4\">\n     <g id=\"line2d_4\">\n      <g>\n       <use xlink:href=\"#m6d042f5db8\" x=\"246.330142\" y=\"273.312\" style=\"stroke: #000000; stroke-width: 0.8\"/>\n      </g>\n     </g>\n     <g id=\"text_4\">\n      <!-- 6 -->\n      <g transform=\"translate(243.148892 287.910437) scale(0.1 -0.1)\">\n       <defs>\n        <path id=\"DejaVuSans-36\" d=\"M 2113 2584 \nQ 1688 2584 1439 2293 \nQ 1191 2003 1191 1497 \nQ 1191 994 1439 701 \nQ 1688 409 2113 409 \nQ 2538 409 2786 701 \nQ 3034 994 3034 1497 \nQ 3034 2003 2786 2293 \nQ 2538 2584 2113 2584 \nz\nM 3366 4563 \nL 3366 3988 \nQ 3128 4100 2886 4159 \nQ 2644 4219 2406 4219 \nQ 1781 4219 1451 3797 \nQ 1122 3375 1075 2522 \nQ 1259 2794 1537 2939 \nQ 1816 3084 2150 3084 \nQ 2853 3084 3261 2657 \nQ 3669 2231 3669 1497 \nQ 3669 778 3244 343 \nQ 2819 -91 2113 -91 \nQ 1303 -91 875 529 \nQ 447 1150 447 2328 \nQ 447 3434 972 4092 \nQ 1497 4750 2381 4750 \nQ 2619 4750 2861 4703 \nQ 3103 4656 3366 4563 \nz\n\" transform=\"scale(0.015625)\"/>\n       </defs>\n       <use xlink:href=\"#DejaVuSans-36\"/>\n      </g>\n     </g>\n    </g>\n    <g id=\"xtick_5\">\n     <g id=\"line2d_5\">\n      <g>\n       <use xlink:href=\"#m6d042f5db8\" x=\"311.261051\" y=\"273.312\" style=\"stroke: #000000; stroke-width: 0.8\"/>\n      </g>\n     </g>\n     <g id=\"text_5\">\n      <!-- 8 -->\n      <g transform=\"translate(308.079801 287.910437) scale(0.1 -0.1)\">\n       <defs>\n        <path id=\"DejaVuSans-38\" d=\"M 2034 2216 \nQ 1584 2216 1326 1975 \nQ 1069 1734 1069 1313 \nQ 1069 891 1326 650 \nQ 1584 409 2034 409 \nQ 2484 409 2743 651 \nQ 3003 894 3003 1313 \nQ 3003 1734 2745 1975 \nQ 2488 2216 2034 2216 \nz\nM 1403 2484 \nQ 997 2584 770 2862 \nQ 544 3141 544 3541 \nQ 544 4100 942 4425 \nQ 1341 4750 2034 4750 \nQ 2731 4750 3128 4425 \nQ 3525 4100 3525 3541 \nQ 3525 3141 3298 2862 \nQ 3072 2584 2669 2484 \nQ 3125 2378 3379 2068 \nQ 3634 1759 3634 1313 \nQ 3634 634 3220 271 \nQ 2806 -91 2034 -91 \nQ 1263 -91 848 271 \nQ 434 634 434 1313 \nQ 434 1759 690 2068 \nQ 947 2378 1403 2484 \nz\nM 1172 3481 \nQ 1172 3119 1398 2916 \nQ 1625 2713 2034 2713 \nQ 2441 2713 2670 2916 \nQ 2900 3119 2900 3481 \nQ 2900 3844 2670 4047 \nQ 2441 4250 2034 4250 \nQ 1625 4250 1398 4047 \nQ 1172 3844 1172 3481 \nz\n\" transform=\"scale(0.015625)\"/>\n       </defs>\n       <use xlink:href=\"#DejaVuSans-38\"/>\n      </g>\n     </g>\n    </g>\n    <g id=\"xtick_6\">\n     <g id=\"line2d_6\">\n      <g>\n       <use xlink:href=\"#m6d042f5db8\" x=\"376.19196\" y=\"273.312\" style=\"stroke: #000000; stroke-width: 0.8\"/>\n      </g>\n     </g>\n     <g id=\"text_6\">\n      <!-- 10 -->\n      <g transform=\"translate(369.82946 287.910437) scale(0.1 -0.1)\">\n       <defs>\n        <path id=\"DejaVuSans-31\" d=\"M 794 531 \nL 1825 531 \nL 1825 4091 \nL 703 3866 \nL 703 4441 \nL 1819 4666 \nL 2450 4666 \nL 2450 531 \nL 3481 531 \nL 3481 0 \nL 794 0 \nL 794 531 \nz\n\" transform=\"scale(0.015625)\"/>\n       </defs>\n       <use xlink:href=\"#DejaVuSans-31\"/>\n       <use xlink:href=\"#DejaVuSans-30\" x=\"63.623047\"/>\n      </g>\n     </g>\n    </g>\n   </g>\n   <g id=\"matplotlib.axis_2\">\n    <g id=\"ytick_1\">\n     <g id=\"line2d_7\">\n      <defs>\n       <path id=\"mb02ad02f95\" d=\"M 0 0 \nL -3.5 0 \n\" style=\"stroke: #000000; stroke-width: 0.8\"/>\n      </defs>\n      <g>\n       <use xlink:href=\"#mb02ad02f95\" x=\"35.304688\" y=\"272.78513\" style=\"stroke: #000000; stroke-width: 0.8\"/>\n      </g>\n     </g>\n     <g id=\"text_7\">\n      <!-- −60 -->\n      <g transform=\"translate(7.2 276.584349) scale(0.1 -0.1)\">\n       <defs>\n        <path id=\"DejaVuSans-2212\" d=\"M 678 2272 \nL 4684 2272 \nL 4684 1741 \nL 678 1741 \nL 678 2272 \nz\n\" transform=\"scale(0.015625)\"/>\n       </defs>\n       <use xlink:href=\"#DejaVuSans-2212\"/>\n       <use xlink:href=\"#DejaVuSans-36\" x=\"83.789062\"/>\n       <use xlink:href=\"#DejaVuSans-30\" x=\"147.412109\"/>\n      </g>\n     </g>\n    </g>\n    <g id=\"ytick_2\">\n     <g id=\"line2d_8\">\n      <g>\n       <use xlink:href=\"#mb02ad02f95\" x=\"35.304688\" y=\"231.451226\" style=\"stroke: #000000; stroke-width: 0.8\"/>\n      </g>\n     </g>\n     <g id=\"text_8\">\n      <!-- −40 -->\n      <g transform=\"translate(7.2 235.250445) scale(0.1 -0.1)\">\n       <use xlink:href=\"#DejaVuSans-2212\"/>\n       <use xlink:href=\"#DejaVuSans-34\" x=\"83.789062\"/>\n       <use xlink:href=\"#DejaVuSans-30\" x=\"147.412109\"/>\n      </g>\n     </g>\n    </g>\n    <g id=\"ytick_3\">\n     <g id=\"line2d_9\">\n      <g>\n       <use xlink:href=\"#mb02ad02f95\" x=\"35.304688\" y=\"190.117322\" style=\"stroke: #000000; stroke-width: 0.8\"/>\n      </g>\n     </g>\n     <g id=\"text_9\">\n      <!-- −20 -->\n      <g transform=\"translate(7.2 193.916541) scale(0.1 -0.1)\">\n       <use xlink:href=\"#DejaVuSans-2212\"/>\n       <use xlink:href=\"#DejaVuSans-32\" x=\"83.789062\"/>\n       <use xlink:href=\"#DejaVuSans-30\" x=\"147.412109\"/>\n      </g>\n     </g>\n    </g>\n    <g id=\"ytick_4\">\n     <g id=\"line2d_10\">\n      <g>\n       <use xlink:href=\"#mb02ad02f95\" x=\"35.304688\" y=\"148.783418\" style=\"stroke: #000000; stroke-width: 0.8\"/>\n      </g>\n     </g>\n     <g id=\"text_10\">\n      <!-- 0 -->\n      <g transform=\"translate(21.942187 152.582637) scale(0.1 -0.1)\">\n       <use xlink:href=\"#DejaVuSans-30\"/>\n      </g>\n     </g>\n    </g>\n    <g id=\"ytick_5\">\n     <g id=\"line2d_11\">\n      <g>\n       <use xlink:href=\"#mb02ad02f95\" x=\"35.304688\" y=\"107.449514\" style=\"stroke: #000000; stroke-width: 0.8\"/>\n      </g>\n     </g>\n     <g id=\"text_11\">\n      <!-- 20 -->\n      <g transform=\"translate(15.579687 111.248733) scale(0.1 -0.1)\">\n       <use xlink:href=\"#DejaVuSans-32\"/>\n       <use xlink:href=\"#DejaVuSans-30\" x=\"63.623047\"/>\n      </g>\n     </g>\n    </g>\n    <g id=\"ytick_6\">\n     <g id=\"line2d_12\">\n      <g>\n       <use xlink:href=\"#mb02ad02f95\" x=\"35.304688\" y=\"66.115611\" style=\"stroke: #000000; stroke-width: 0.8\"/>\n      </g>\n     </g>\n     <g id=\"text_12\">\n      <!-- 40 -->\n      <g transform=\"translate(15.579687 69.914829) scale(0.1 -0.1)\">\n       <use xlink:href=\"#DejaVuSans-34\"/>\n       <use xlink:href=\"#DejaVuSans-30\" x=\"63.623047\"/>\n      </g>\n     </g>\n    </g>\n    <g id=\"ytick_7\">\n     <g id=\"line2d_13\">\n      <g>\n       <use xlink:href=\"#mb02ad02f95\" x=\"35.304688\" y=\"24.781707\" style=\"stroke: #000000; stroke-width: 0.8\"/>\n      </g>\n     </g>\n     <g id=\"text_13\">\n      <!-- 60 -->\n      <g transform=\"translate(15.579687 28.580925) scale(0.1 -0.1)\">\n       <use xlink:href=\"#DejaVuSans-36\"/>\n       <use xlink:href=\"#DejaVuSans-30\" x=\"63.623047\"/>\n      </g>\n     </g>\n    </g>\n   </g>\n   <g id=\"line2d_14\">\n    <path d=\"M 51.537415 148.783418 \nL 54.816754 149.319081 \nL 58.096092 149.654853 \nL 61.375431 149.807795 \nL 64.65477 149.794968 \nL 67.934109 149.633434 \nL 71.213448 149.340254 \nL 74.492787 148.932489 \nL 77.772126 148.427201 \nL 81.051464 147.84145 \nL 84.330803 147.192298 \nL 87.610142 146.496806 \nL 90.889481 145.772035 \nL 94.16882 145.035048 \nL 97.448159 144.302904 \nL 100.727497 143.592665 \nL 104.006836 142.921392 \nL 107.286175 142.306147 \nL 110.565514 141.763991 \nL 113.844853 141.311985 \nL 117.124192 140.967191 \nL 120.40353 140.746669 \nL 123.682869 140.66748 \nL 126.962208 140.746053 \nL 130.241547 140.996274 \nL 133.520886 141.4314 \nL 136.800225 142.064684 \nL 140.079564 142.909381 \nL 143.358902 143.978746 \nL 146.638241 145.286032 \nL 149.91758 146.844494 \nL 153.196919 148.667388 \nL 156.476258 150.767966 \nL 159.755597 153.159484 \nL 163.034935 155.844446 \nL 166.314274 158.782354 \nL 169.593613 161.921962 \nL 172.872952 165.212022 \nL 176.152291 168.601286 \nL 179.43163 172.038508 \nL 182.710968 175.47244 \nL 185.990307 178.851835 \nL 189.269646 182.125446 \nL 192.548985 185.242024 \nL 195.828324 188.150323 \nL 199.107663 190.798697 \nL 202.387002 193.133907 \nL 205.66634 195.102315 \nL 208.945679 196.650283 \nL 212.225018 197.724173 \nL 215.504357 198.270349 \nL 218.783696 198.235171 \nL 222.063035 197.565002 \nL 225.342373 196.206205 \nL 228.621712 194.105142 \nL 231.901051 191.208175 \nL 235.18039 187.478905 \nL 238.459729 182.949889 \nL 241.739068 177.670922 \nL 245.018407 171.691801 \nL 248.297745 165.062321 \nL 251.577084 157.832278 \nL 254.856423 150.051467 \nL 258.135762 141.769684 \nL 261.415101 133.036725 \nL 264.69444 123.902385 \nL 267.973778 114.416461 \nL 271.253117 104.646039 \nL 274.532456 94.727376 \nL 277.811795 84.814019 \nL 281.091134 75.059517 \nL 284.370473 65.617418 \nL 287.649811 56.641268 \nL 290.92915 48.284616 \nL 294.208489 40.70101 \nL 297.487828 34.043997 \nL 300.767167 28.467126 \nL 304.046506 24.123945 \nL 307.325845 21.14074 \nL 310.605183 19.534763 \nL 313.884522 19.296 \nL 317.163861 20.414442 \nL 320.4432 22.880078 \nL 323.722539 26.682897 \nL 327.001878 31.812887 \nL 330.281216 38.260039 \nL 333.560555 46.014341 \nL 336.839894 55.065782 \nL 340.119233 65.404352 \nL 343.398572 77.02004 \nL 346.677911 89.902835 \nL 349.957249 104.042725 \nL 353.236588 119.429701 \nL 356.515927 136.053751 \nL 359.795266 153.904864 \nL 363.074605 172.973029 \nL 366.353944 193.248237 \nL 369.633283 214.720475 \nL 372.912621 237.379733 \nL 376.19196 261.216 \n\" clip-path=\"url(#pa087d46351)\" style=\"fill: none; stroke: #1f77b4; stroke-width: 1.5; stroke-linecap: square\"/>\n   </g>\n   <g id=\"patch_3\">\n    <path d=\"M 35.304688 273.312 \nL 35.304688 7.2 \n\" style=\"fill: none; stroke: #000000; stroke-width: 0.8; stroke-linejoin: miter; stroke-linecap: square\"/>\n   </g>\n   <g id=\"patch_4\">\n    <path d=\"M 392.424688 273.312 \nL 392.424688 7.2 \n\" style=\"fill: none; stroke: #000000; stroke-width: 0.8; stroke-linejoin: miter; stroke-linecap: square\"/>\n   </g>\n   <g id=\"patch_5\">\n    <path d=\"M 35.304688 273.312 \nL 392.424688 273.312 \n\" style=\"fill: none; stroke: #000000; stroke-width: 0.8; stroke-linejoin: miter; stroke-linecap: square\"/>\n   </g>\n   <g id=\"patch_6\">\n    <path d=\"M 35.304688 7.2 \nL 392.424688 7.2 \n\" style=\"fill: none; stroke: #000000; stroke-width: 0.8; stroke-linejoin: miter; stroke-linecap: square\"/>\n   </g>\n  </g>\n </g>\n <defs>\n  <clipPath id=\"pa087d46351\">\n   <rect x=\"35.304688\" y=\"7.2\" width=\"357.12\" height=\"266.112\"/>\n  </clipPath>\n </defs>\n</svg>\n",
      "text/plain": [
       "<Figure size 640x480 with 1 Axes>"
      ]
     },
     "metadata": {},
     "output_type": "display_data"
    }
   ],
   "source": [
    "plt.plot(x_dense, y_dense)"
   ]
  },
  {
   "attachments": {},
   "cell_type": "markdown",
   "metadata": {},
   "source": [
    "## Curve Fitting"
   ]
  },
  {
   "cell_type": "code",
   "execution_count": 10,
   "metadata": {},
   "outputs": [
    {
     "data": {
      "text/plain": [
       "<matplotlib.collections.PathCollection at 0x7f6529e5b110>"
      ]
     },
     "execution_count": 10,
     "metadata": {},
     "output_type": "execute_result"
    },
    {
     "data": {
      "image/svg+xml": "<?xml version=\"1.0\" encoding=\"utf-8\" standalone=\"no\"?>\n<!DOCTYPE svg PUBLIC \"-//W3C//DTD SVG 1.1//EN\"\n  \"http://www.w3.org/Graphics/SVG/1.1/DTD/svg11.dtd\">\n<svg xmlns:xlink=\"http://www.w3.org/1999/xlink\" width=\"397.6075pt\" height=\"297.190125pt\" viewBox=\"0 0 397.6075 297.190125\" xmlns=\"http://www.w3.org/2000/svg\" version=\"1.1\">\n <metadata>\n  <rdf:RDF xmlns:dc=\"http://purl.org/dc/elements/1.1/\" xmlns:cc=\"http://creativecommons.org/ns#\" xmlns:rdf=\"http://www.w3.org/1999/02/22-rdf-syntax-ns#\">\n   <cc:Work>\n    <dc:type rdf:resource=\"http://purl.org/dc/dcmitype/StillImage\"/>\n    <dc:date>2023-02-24T16:42:31.761227</dc:date>\n    <dc:format>image/svg+xml</dc:format>\n    <dc:creator>\n     <cc:Agent>\n      <dc:title>Matplotlib v3.7.0, https://matplotlib.org/</dc:title>\n     </cc:Agent>\n    </dc:creator>\n   </cc:Work>\n  </rdf:RDF>\n </metadata>\n <defs>\n  <style type=\"text/css\">*{stroke-linejoin: round; stroke-linecap: butt}</style>\n </defs>\n <g id=\"figure_1\">\n  <g id=\"patch_1\">\n   <path d=\"M 0 297.190125 \nL 397.6075 297.190125 \nL 397.6075 0 \nL 0 0 \nz\n\" style=\"fill: #ffffff\"/>\n  </g>\n  <g id=\"axes_1\">\n   <g id=\"patch_2\">\n    <path d=\"M 33.2875 273.312 \nL 390.4075 273.312 \nL 390.4075 7.2 \nL 33.2875 7.2 \nz\n\" style=\"fill: #ffffff\"/>\n   </g>\n   <g id=\"PathCollection_1\">\n    <defs>\n     <path id=\"m5c777e6f0e\" d=\"M 0 3 \nC 0.795609 3 1.55874 2.683901 2.12132 2.12132 \nC 2.683901 1.55874 3 0.795609 3 0 \nC 3 -0.795609 2.683901 -1.55874 2.12132 -2.12132 \nC 1.55874 -2.683901 0.795609 -3 0 -3 \nC -0.795609 -3 -1.55874 -2.683901 -2.12132 -2.12132 \nC -2.683901 -1.55874 -3 -0.795609 -3 0 \nC -3 0.795609 -2.683901 1.55874 -2.12132 2.12132 \nC -1.55874 2.683901 -0.795609 3 0 3 \nz\n\" style=\"stroke: #1f77b4\"/>\n    </defs>\n    <g clip-path=\"url(#p436ef7cc73)\">\n     <use xlink:href=\"#m5c777e6f0e\" x=\"49.520227\" y=\"261.216\" style=\"fill: #1f77b4; stroke: #1f77b4\"/>\n     <use xlink:href=\"#m5c777e6f0e\" x=\"85.592955\" y=\"258.229333\" style=\"fill: #1f77b4; stroke: #1f77b4\"/>\n     <use xlink:href=\"#m5c777e6f0e\" x=\"121.665682\" y=\"249.269333\" style=\"fill: #1f77b4; stroke: #1f77b4\"/>\n     <use xlink:href=\"#m5c777e6f0e\" x=\"157.738409\" y=\"234.336\" style=\"fill: #1f77b4; stroke: #1f77b4\"/>\n     <use xlink:href=\"#m5c777e6f0e\" x=\"193.811136\" y=\"213.429333\" style=\"fill: #1f77b4; stroke: #1f77b4\"/>\n     <use xlink:href=\"#m5c777e6f0e\" x=\"229.883864\" y=\"186.549333\" style=\"fill: #1f77b4; stroke: #1f77b4\"/>\n     <use xlink:href=\"#m5c777e6f0e\" x=\"265.956591\" y=\"153.696\" style=\"fill: #1f77b4; stroke: #1f77b4\"/>\n     <use xlink:href=\"#m5c777e6f0e\" x=\"302.029318\" y=\"114.869333\" style=\"fill: #1f77b4; stroke: #1f77b4\"/>\n     <use xlink:href=\"#m5c777e6f0e\" x=\"338.102045\" y=\"70.069333\" style=\"fill: #1f77b4; stroke: #1f77b4\"/>\n     <use xlink:href=\"#m5c777e6f0e\" x=\"374.174773\" y=\"19.296\" style=\"fill: #1f77b4; stroke: #1f77b4\"/>\n    </g>\n   </g>\n   <g id=\"matplotlib.axis_1\">\n    <g id=\"xtick_1\">\n     <g id=\"line2d_1\">\n      <defs>\n       <path id=\"madf470d80d\" d=\"M 0 0 \nL 0 3.5 \n\" style=\"stroke: #000000; stroke-width: 0.8\"/>\n      </defs>\n      <g>\n       <use xlink:href=\"#madf470d80d\" x=\"49.520227\" y=\"273.312\" style=\"stroke: #000000; stroke-width: 0.8\"/>\n      </g>\n     </g>\n     <g id=\"text_1\">\n      <!-- 0 -->\n      <g transform=\"translate(46.338977 287.910437) scale(0.1 -0.1)\">\n       <defs>\n        <path id=\"DejaVuSans-30\" d=\"M 2034 4250 \nQ 1547 4250 1301 3770 \nQ 1056 3291 1056 2328 \nQ 1056 1369 1301 889 \nQ 1547 409 2034 409 \nQ 2525 409 2770 889 \nQ 3016 1369 3016 2328 \nQ 3016 3291 2770 3770 \nQ 2525 4250 2034 4250 \nz\nM 2034 4750 \nQ 2819 4750 3233 4129 \nQ 3647 3509 3647 2328 \nQ 3647 1150 3233 529 \nQ 2819 -91 2034 -91 \nQ 1250 -91 836 529 \nQ 422 1150 422 2328 \nQ 422 3509 836 4129 \nQ 1250 4750 2034 4750 \nz\n\" transform=\"scale(0.015625)\"/>\n       </defs>\n       <use xlink:href=\"#DejaVuSans-30\"/>\n      </g>\n     </g>\n    </g>\n    <g id=\"xtick_2\">\n     <g id=\"line2d_2\">\n      <g>\n       <use xlink:href=\"#madf470d80d\" x=\"114.451136\" y=\"273.312\" style=\"stroke: #000000; stroke-width: 0.8\"/>\n      </g>\n     </g>\n     <g id=\"text_2\">\n      <!-- 2 -->\n      <g transform=\"translate(111.269886 287.910437) scale(0.1 -0.1)\">\n       <defs>\n        <path id=\"DejaVuSans-32\" d=\"M 1228 531 \nL 3431 531 \nL 3431 0 \nL 469 0 \nL 469 531 \nQ 828 903 1448 1529 \nQ 2069 2156 2228 2338 \nQ 2531 2678 2651 2914 \nQ 2772 3150 2772 3378 \nQ 2772 3750 2511 3984 \nQ 2250 4219 1831 4219 \nQ 1534 4219 1204 4116 \nQ 875 4013 500 3803 \nL 500 4441 \nQ 881 4594 1212 4672 \nQ 1544 4750 1819 4750 \nQ 2544 4750 2975 4387 \nQ 3406 4025 3406 3419 \nQ 3406 3131 3298 2873 \nQ 3191 2616 2906 2266 \nQ 2828 2175 2409 1742 \nQ 1991 1309 1228 531 \nz\n\" transform=\"scale(0.015625)\"/>\n       </defs>\n       <use xlink:href=\"#DejaVuSans-32\"/>\n      </g>\n     </g>\n    </g>\n    <g id=\"xtick_3\">\n     <g id=\"line2d_3\">\n      <g>\n       <use xlink:href=\"#madf470d80d\" x=\"179.382045\" y=\"273.312\" style=\"stroke: #000000; stroke-width: 0.8\"/>\n      </g>\n     </g>\n     <g id=\"text_3\">\n      <!-- 4 -->\n      <g transform=\"translate(176.200795 287.910437) scale(0.1 -0.1)\">\n       <defs>\n        <path id=\"DejaVuSans-34\" d=\"M 2419 4116 \nL 825 1625 \nL 2419 1625 \nL 2419 4116 \nz\nM 2253 4666 \nL 3047 4666 \nL 3047 1625 \nL 3713 1625 \nL 3713 1100 \nL 3047 1100 \nL 3047 0 \nL 2419 0 \nL 2419 1100 \nL 313 1100 \nL 313 1709 \nL 2253 4666 \nz\n\" transform=\"scale(0.015625)\"/>\n       </defs>\n       <use xlink:href=\"#DejaVuSans-34\"/>\n      </g>\n     </g>\n    </g>\n    <g id=\"xtick_4\">\n     <g id=\"line2d_4\">\n      <g>\n       <use xlink:href=\"#madf470d80d\" x=\"244.312955\" y=\"273.312\" style=\"stroke: #000000; stroke-width: 0.8\"/>\n      </g>\n     </g>\n     <g id=\"text_4\">\n      <!-- 6 -->\n      <g transform=\"translate(241.131705 287.910437) scale(0.1 -0.1)\">\n       <defs>\n        <path id=\"DejaVuSans-36\" d=\"M 2113 2584 \nQ 1688 2584 1439 2293 \nQ 1191 2003 1191 1497 \nQ 1191 994 1439 701 \nQ 1688 409 2113 409 \nQ 2538 409 2786 701 \nQ 3034 994 3034 1497 \nQ 3034 2003 2786 2293 \nQ 2538 2584 2113 2584 \nz\nM 3366 4563 \nL 3366 3988 \nQ 3128 4100 2886 4159 \nQ 2644 4219 2406 4219 \nQ 1781 4219 1451 3797 \nQ 1122 3375 1075 2522 \nQ 1259 2794 1537 2939 \nQ 1816 3084 2150 3084 \nQ 2853 3084 3261 2657 \nQ 3669 2231 3669 1497 \nQ 3669 778 3244 343 \nQ 2819 -91 2113 -91 \nQ 1303 -91 875 529 \nQ 447 1150 447 2328 \nQ 447 3434 972 4092 \nQ 1497 4750 2381 4750 \nQ 2619 4750 2861 4703 \nQ 3103 4656 3366 4563 \nz\n\" transform=\"scale(0.015625)\"/>\n       </defs>\n       <use xlink:href=\"#DejaVuSans-36\"/>\n      </g>\n     </g>\n    </g>\n    <g id=\"xtick_5\">\n     <g id=\"line2d_5\">\n      <g>\n       <use xlink:href=\"#madf470d80d\" x=\"309.243864\" y=\"273.312\" style=\"stroke: #000000; stroke-width: 0.8\"/>\n      </g>\n     </g>\n     <g id=\"text_5\">\n      <!-- 8 -->\n      <g transform=\"translate(306.062614 287.910437) scale(0.1 -0.1)\">\n       <defs>\n        <path id=\"DejaVuSans-38\" d=\"M 2034 2216 \nQ 1584 2216 1326 1975 \nQ 1069 1734 1069 1313 \nQ 1069 891 1326 650 \nQ 1584 409 2034 409 \nQ 2484 409 2743 651 \nQ 3003 894 3003 1313 \nQ 3003 1734 2745 1975 \nQ 2488 2216 2034 2216 \nz\nM 1403 2484 \nQ 997 2584 770 2862 \nQ 544 3141 544 3541 \nQ 544 4100 942 4425 \nQ 1341 4750 2034 4750 \nQ 2731 4750 3128 4425 \nQ 3525 4100 3525 3541 \nQ 3525 3141 3298 2862 \nQ 3072 2584 2669 2484 \nQ 3125 2378 3379 2068 \nQ 3634 1759 3634 1313 \nQ 3634 634 3220 271 \nQ 2806 -91 2034 -91 \nQ 1263 -91 848 271 \nQ 434 634 434 1313 \nQ 434 1759 690 2068 \nQ 947 2378 1403 2484 \nz\nM 1172 3481 \nQ 1172 3119 1398 2916 \nQ 1625 2713 2034 2713 \nQ 2441 2713 2670 2916 \nQ 2900 3119 2900 3481 \nQ 2900 3844 2670 4047 \nQ 2441 4250 2034 4250 \nQ 1625 4250 1398 4047 \nQ 1172 3844 1172 3481 \nz\n\" transform=\"scale(0.015625)\"/>\n       </defs>\n       <use xlink:href=\"#DejaVuSans-38\"/>\n      </g>\n     </g>\n    </g>\n    <g id=\"xtick_6\">\n     <g id=\"line2d_6\">\n      <g>\n       <use xlink:href=\"#madf470d80d\" x=\"374.174773\" y=\"273.312\" style=\"stroke: #000000; stroke-width: 0.8\"/>\n      </g>\n     </g>\n     <g id=\"text_6\">\n      <!-- 10 -->\n      <g transform=\"translate(367.812273 287.910437) scale(0.1 -0.1)\">\n       <defs>\n        <path id=\"DejaVuSans-31\" d=\"M 794 531 \nL 1825 531 \nL 1825 4091 \nL 703 3866 \nL 703 4441 \nL 1819 4666 \nL 2450 4666 \nL 2450 531 \nL 3481 531 \nL 3481 0 \nL 794 0 \nL 794 531 \nz\n\" transform=\"scale(0.015625)\"/>\n       </defs>\n       <use xlink:href=\"#DejaVuSans-31\"/>\n       <use xlink:href=\"#DejaVuSans-30\" x=\"63.623047\"/>\n      </g>\n     </g>\n    </g>\n   </g>\n   <g id=\"matplotlib.axis_2\">\n    <g id=\"ytick_1\">\n     <g id=\"line2d_7\">\n      <defs>\n       <path id=\"mefde91e7b2\" d=\"M 0 0 \nL -3.5 0 \n\" style=\"stroke: #000000; stroke-width: 0.8\"/>\n      </defs>\n      <g>\n       <use xlink:href=\"#mefde91e7b2\" x=\"33.2875\" y=\"262.8288\" style=\"stroke: #000000; stroke-width: 0.8\"/>\n      </g>\n     </g>\n     <g id=\"text_7\">\n      <!-- 0 -->\n      <g transform=\"translate(19.925 266.628019) scale(0.1 -0.1)\">\n       <use xlink:href=\"#DejaVuSans-30\"/>\n      </g>\n     </g>\n    </g>\n    <g id=\"ytick_2\">\n     <g id=\"line2d_8\">\n      <g>\n       <use xlink:href=\"#mefde91e7b2\" x=\"33.2875\" y=\"222.5088\" style=\"stroke: #000000; stroke-width: 0.8\"/>\n      </g>\n     </g>\n     <g id=\"text_8\">\n      <!-- 50 -->\n      <g transform=\"translate(13.5625 226.308019) scale(0.1 -0.1)\">\n       <defs>\n        <path id=\"DejaVuSans-35\" d=\"M 691 4666 \nL 3169 4666 \nL 3169 4134 \nL 1269 4134 \nL 1269 2991 \nQ 1406 3038 1543 3061 \nQ 1681 3084 1819 3084 \nQ 2600 3084 3056 2656 \nQ 3513 2228 3513 1497 \nQ 3513 744 3044 326 \nQ 2575 -91 1722 -91 \nQ 1428 -91 1123 -41 \nQ 819 9 494 109 \nL 494 744 \nQ 775 591 1075 516 \nQ 1375 441 1709 441 \nQ 2250 441 2565 725 \nQ 2881 1009 2881 1497 \nQ 2881 1984 2565 2268 \nQ 2250 2553 1709 2553 \nQ 1456 2553 1204 2497 \nQ 953 2441 691 2322 \nL 691 4666 \nz\n\" transform=\"scale(0.015625)\"/>\n       </defs>\n       <use xlink:href=\"#DejaVuSans-35\"/>\n       <use xlink:href=\"#DejaVuSans-30\" x=\"63.623047\"/>\n      </g>\n     </g>\n    </g>\n    <g id=\"ytick_3\">\n     <g id=\"line2d_9\">\n      <g>\n       <use xlink:href=\"#mefde91e7b2\" x=\"33.2875\" y=\"182.1888\" style=\"stroke: #000000; stroke-width: 0.8\"/>\n      </g>\n     </g>\n     <g id=\"text_9\">\n      <!-- 100 -->\n      <g transform=\"translate(7.2 185.988019) scale(0.1 -0.1)\">\n       <use xlink:href=\"#DejaVuSans-31\"/>\n       <use xlink:href=\"#DejaVuSans-30\" x=\"63.623047\"/>\n       <use xlink:href=\"#DejaVuSans-30\" x=\"127.246094\"/>\n      </g>\n     </g>\n    </g>\n    <g id=\"ytick_4\">\n     <g id=\"line2d_10\">\n      <g>\n       <use xlink:href=\"#mefde91e7b2\" x=\"33.2875\" y=\"141.8688\" style=\"stroke: #000000; stroke-width: 0.8\"/>\n      </g>\n     </g>\n     <g id=\"text_10\">\n      <!-- 150 -->\n      <g transform=\"translate(7.2 145.668019) scale(0.1 -0.1)\">\n       <use xlink:href=\"#DejaVuSans-31\"/>\n       <use xlink:href=\"#DejaVuSans-35\" x=\"63.623047\"/>\n       <use xlink:href=\"#DejaVuSans-30\" x=\"127.246094\"/>\n      </g>\n     </g>\n    </g>\n    <g id=\"ytick_5\">\n     <g id=\"line2d_11\">\n      <g>\n       <use xlink:href=\"#mefde91e7b2\" x=\"33.2875\" y=\"101.5488\" style=\"stroke: #000000; stroke-width: 0.8\"/>\n      </g>\n     </g>\n     <g id=\"text_11\">\n      <!-- 200 -->\n      <g transform=\"translate(7.2 105.348019) scale(0.1 -0.1)\">\n       <use xlink:href=\"#DejaVuSans-32\"/>\n       <use xlink:href=\"#DejaVuSans-30\" x=\"63.623047\"/>\n       <use xlink:href=\"#DejaVuSans-30\" x=\"127.246094\"/>\n      </g>\n     </g>\n    </g>\n    <g id=\"ytick_6\">\n     <g id=\"line2d_12\">\n      <g>\n       <use xlink:href=\"#mefde91e7b2\" x=\"33.2875\" y=\"61.2288\" style=\"stroke: #000000; stroke-width: 0.8\"/>\n      </g>\n     </g>\n     <g id=\"text_12\">\n      <!-- 250 -->\n      <g transform=\"translate(7.2 65.028019) scale(0.1 -0.1)\">\n       <use xlink:href=\"#DejaVuSans-32\"/>\n       <use xlink:href=\"#DejaVuSans-35\" x=\"63.623047\"/>\n       <use xlink:href=\"#DejaVuSans-30\" x=\"127.246094\"/>\n      </g>\n     </g>\n    </g>\n    <g id=\"ytick_7\">\n     <g id=\"line2d_13\">\n      <g>\n       <use xlink:href=\"#mefde91e7b2\" x=\"33.2875\" y=\"20.9088\" style=\"stroke: #000000; stroke-width: 0.8\"/>\n      </g>\n     </g>\n     <g id=\"text_13\">\n      <!-- 300 -->\n      <g transform=\"translate(7.2 24.708019) scale(0.1 -0.1)\">\n       <defs>\n        <path id=\"DejaVuSans-33\" d=\"M 2597 2516 \nQ 3050 2419 3304 2112 \nQ 3559 1806 3559 1356 \nQ 3559 666 3084 287 \nQ 2609 -91 1734 -91 \nQ 1441 -91 1130 -33 \nQ 819 25 488 141 \nL 488 750 \nQ 750 597 1062 519 \nQ 1375 441 1716 441 \nQ 2309 441 2620 675 \nQ 2931 909 2931 1356 \nQ 2931 1769 2642 2001 \nQ 2353 2234 1838 2234 \nL 1294 2234 \nL 1294 2753 \nL 1863 2753 \nQ 2328 2753 2575 2939 \nQ 2822 3125 2822 3475 \nQ 2822 3834 2567 4026 \nQ 2313 4219 1838 4219 \nQ 1578 4219 1281 4162 \nQ 984 4106 628 3988 \nL 628 4550 \nQ 988 4650 1302 4700 \nQ 1616 4750 1894 4750 \nQ 2613 4750 3031 4423 \nQ 3450 4097 3450 3541 \nQ 3450 3153 3228 2886 \nQ 3006 2619 2597 2516 \nz\n\" transform=\"scale(0.015625)\"/>\n       </defs>\n       <use xlink:href=\"#DejaVuSans-33\"/>\n       <use xlink:href=\"#DejaVuSans-30\" x=\"63.623047\"/>\n       <use xlink:href=\"#DejaVuSans-30\" x=\"127.246094\"/>\n      </g>\n     </g>\n    </g>\n   </g>\n   <g id=\"patch_3\">\n    <path d=\"M 33.2875 273.312 \nL 33.2875 7.2 \n\" style=\"fill: none; stroke: #000000; stroke-width: 0.8; stroke-linejoin: miter; stroke-linecap: square\"/>\n   </g>\n   <g id=\"patch_4\">\n    <path d=\"M 390.4075 273.312 \nL 390.4075 7.2 \n\" style=\"fill: none; stroke: #000000; stroke-width: 0.8; stroke-linejoin: miter; stroke-linecap: square\"/>\n   </g>\n   <g id=\"patch_5\">\n    <path d=\"M 33.2875 273.312 \nL 390.4075 273.312 \n\" style=\"fill: none; stroke: #000000; stroke-width: 0.8; stroke-linejoin: miter; stroke-linecap: square\"/>\n   </g>\n   <g id=\"patch_6\">\n    <path d=\"M 33.2875 7.2 \nL 390.4075 7.2 \n\" style=\"fill: none; stroke: #000000; stroke-width: 0.8; stroke-linejoin: miter; stroke-linecap: square\"/>\n   </g>\n  </g>\n </g>\n <defs>\n  <clipPath id=\"p436ef7cc73\">\n   <rect x=\"33.2875\" y=\"7.2\" width=\"357.12\" height=\"266.112\"/>\n  </clipPath>\n </defs>\n</svg>\n",
      "text/plain": [
       "<Figure size 640x480 with 1 Axes>"
      ]
     },
     "metadata": {},
     "output_type": "display_data"
    }
   ],
   "source": [
    "# Trivial example\n",
    "x_data = np.linspace(0, 10, 10)\n",
    "y_data = 3 * x_data**2 + 2\n",
    "plt.scatter(x_data, y_data)"
   ]
  },
  {
   "attachments": {},
   "cell_type": "markdown",
   "metadata": {},
   "source": [
    "Given the obvious shape of the dataset, we can assume it can be fit by the curve $y = ax^2 + b$, using the `curve_fit` function. This is a trivial example, but it illustrates the basic idea of curve fitting, which can be useful in more complicated situations."
   ]
  },
  {
   "cell_type": "code",
   "execution_count": 11,
   "metadata": {},
   "outputs": [
    {
     "name": "stdout",
     "output_type": "stream",
     "text": [
      "[3. 2.]\n",
      "[[ 4.13297331e-34 -1.45419433e-32]\n",
      " [-1.45419433e-32  9.65872308e-31]]\n"
     ]
    }
   ],
   "source": [
    "from scipy.optimize import curve_fit\n",
    "\n",
    "def f(x, a, b):\n",
    "    return a*x**2 + b\n",
    "\n",
    "p_optimal, p_covariance = curve_fit(f, x_data, y_data, p0=(1,1))\n",
    "\n",
    "print(p_optimal)       # returns the optimal a and b values for fitting\n",
    "print(p_covariance)    # returns the error in terms of covariance"
   ]
  },
  {
   "attachments": {},
   "cell_type": "markdown",
   "metadata": {},
   "source": [
    "Let's see a more physical example. The equation for spring motion is $y(t) = A \\cos(\\omega t + \\phi)$, where $A$ is the amplitude, $\\omega$ is the angular frequency, and $\\phi$ is the phase shift. \n",
    "\n",
    "Assume you've collected the following experimental data: "
   ]
  },
  {
   "cell_type": "code",
   "execution_count": 12,
   "metadata": {},
   "outputs": [],
   "source": [
    "t_data = np.array([0.00000000e+00, 3.44827586e-01, 6.89655172e-01, 1.03448276e+00,\n",
    "       1.37931034e+00, 1.72413793e+00, 2.06896552e+00, 2.41379310e+00,\n",
    "       2.75862069e+00, 3.10344828e+00, 3.44827586e+00, 3.79310345e+00,\n",
    "       4.13793103e+00, 4.48275862e+00, 4.82758621e+00, 5.17241379e+00,\n",
    "       5.51724138e+00, 5.86206897e+00, 6.20689655e+00, 6.55172414e+00,\n",
    "       6.89655172e+00, 7.24137931e+00, 7.58620690e+00, 7.93103448e+00,\n",
    "       8.27586207e+00, 8.62068966e+00, 8.96551724e+00, 9.31034483e+00,\n",
    "       9.65517241e+00, 1.00000000e+01])\n",
    "\n",
    "y_data = np.array([ 4.33039530e+00,  1.61137995e+00, -2.15418696e+00, -3.90137249e+00,\n",
    "       -1.67259042e+00,  2.16884383e+00,  3.86635998e+00,  1.85194506e+00,\n",
    "       -1.84892240e+00, -3.96560495e+00, -2.13385255e+00,  1.59425817e+00,\n",
    "        4.06145238e+00,  1.89300594e+00, -1.76870297e+00, -4.26791226e+00,\n",
    "       -2.46874133e+00,  1.37019912e+00,  4.24945607e+00,  2.27038039e+00,\n",
    "       -1.56299303e+00, -3.46774049e+00, -2.50845488e+00,  1.20022052e+00,\n",
    "        3.81633703e+00,  2.91511556e+00, -1.24569189e+00, -3.72716214e+00,\n",
    "       -2.54549857e+00,  8.72625481e-01])\n"
   ]
  },
  {
   "attachments": {},
   "cell_type": "markdown",
   "metadata": {},
   "source": [
    "A very common parameter that you might want to study is the **natural frequency** of oscillation. Given that the general equation for a harmonic oscillator is exactly the same as the equation for a spring, you can use the same curve fitting technique to find the frequency of oscillation."
   ]
  },
  {
   "cell_type": "code",
   "execution_count": 13,
   "metadata": {},
   "outputs": [
    {
     "data": {
      "text/plain": [
       "[<matplotlib.lines.Line2D at 0x7f6529ec6890>]"
      ]
     },
     "execution_count": 13,
     "metadata": {},
     "output_type": "execute_result"
    },
    {
     "data": {
      "image/svg+xml": "<?xml version=\"1.0\" encoding=\"utf-8\" standalone=\"no\"?>\n<!DOCTYPE svg PUBLIC \"-//W3C//DTD SVG 1.1//EN\"\n  \"http://www.w3.org/Graphics/SVG/1.1/DTD/svg11.dtd\">\n<svg xmlns:xlink=\"http://www.w3.org/1999/xlink\" width=\"393.262187pt\" height=\"297.190125pt\" viewBox=\"0 0 393.262187 297.190125\" xmlns=\"http://www.w3.org/2000/svg\" version=\"1.1\">\n <metadata>\n  <rdf:RDF xmlns:dc=\"http://purl.org/dc/elements/1.1/\" xmlns:cc=\"http://creativecommons.org/ns#\" xmlns:rdf=\"http://www.w3.org/1999/02/22-rdf-syntax-ns#\">\n   <cc:Work>\n    <dc:type rdf:resource=\"http://purl.org/dc/dcmitype/StillImage\"/>\n    <dc:date>2023-02-24T16:42:32.059481</dc:date>\n    <dc:format>image/svg+xml</dc:format>\n    <dc:creator>\n     <cc:Agent>\n      <dc:title>Matplotlib v3.7.0, https://matplotlib.org/</dc:title>\n     </cc:Agent>\n    </dc:creator>\n   </cc:Work>\n  </rdf:RDF>\n </metadata>\n <defs>\n  <style type=\"text/css\">*{stroke-linejoin: round; stroke-linecap: butt}</style>\n </defs>\n <g id=\"figure_1\">\n  <g id=\"patch_1\">\n   <path d=\"M 0 297.190125 \nL 393.262187 297.190125 \nL 393.262187 0 \nL 0 0 \nz\n\" style=\"fill: #ffffff\"/>\n  </g>\n  <g id=\"axes_1\">\n   <g id=\"patch_2\">\n    <path d=\"M 28.942188 273.312 \nL 386.062188 273.312 \nL 386.062188 7.2 \nL 28.942188 7.2 \nz\n\" style=\"fill: #ffffff\"/>\n   </g>\n   <g id=\"matplotlib.axis_1\">\n    <g id=\"xtick_1\">\n     <g id=\"line2d_1\">\n      <defs>\n       <path id=\"mad9ea134cf\" d=\"M 0 0 \nL 0 3.5 \n\" style=\"stroke: #000000; stroke-width: 0.8\"/>\n      </defs>\n      <g>\n       <use xlink:href=\"#mad9ea134cf\" x=\"45.174915\" y=\"273.312\" style=\"stroke: #000000; stroke-width: 0.8\"/>\n      </g>\n     </g>\n     <g id=\"text_1\">\n      <!-- 0 -->\n      <g transform=\"translate(41.993665 287.910437) scale(0.1 -0.1)\">\n       <defs>\n        <path id=\"DejaVuSans-30\" d=\"M 2034 4250 \nQ 1547 4250 1301 3770 \nQ 1056 3291 1056 2328 \nQ 1056 1369 1301 889 \nQ 1547 409 2034 409 \nQ 2525 409 2770 889 \nQ 3016 1369 3016 2328 \nQ 3016 3291 2770 3770 \nQ 2525 4250 2034 4250 \nz\nM 2034 4750 \nQ 2819 4750 3233 4129 \nQ 3647 3509 3647 2328 \nQ 3647 1150 3233 529 \nQ 2819 -91 2034 -91 \nQ 1250 -91 836 529 \nQ 422 1150 422 2328 \nQ 422 3509 836 4129 \nQ 1250 4750 2034 4750 \nz\n\" transform=\"scale(0.015625)\"/>\n       </defs>\n       <use xlink:href=\"#DejaVuSans-30\"/>\n      </g>\n     </g>\n    </g>\n    <g id=\"xtick_2\">\n     <g id=\"line2d_2\">\n      <g>\n       <use xlink:href=\"#mad9ea134cf\" x=\"110.105824\" y=\"273.312\" style=\"stroke: #000000; stroke-width: 0.8\"/>\n      </g>\n     </g>\n     <g id=\"text_2\">\n      <!-- 2 -->\n      <g transform=\"translate(106.924574 287.910437) scale(0.1 -0.1)\">\n       <defs>\n        <path id=\"DejaVuSans-32\" d=\"M 1228 531 \nL 3431 531 \nL 3431 0 \nL 469 0 \nL 469 531 \nQ 828 903 1448 1529 \nQ 2069 2156 2228 2338 \nQ 2531 2678 2651 2914 \nQ 2772 3150 2772 3378 \nQ 2772 3750 2511 3984 \nQ 2250 4219 1831 4219 \nQ 1534 4219 1204 4116 \nQ 875 4013 500 3803 \nL 500 4441 \nQ 881 4594 1212 4672 \nQ 1544 4750 1819 4750 \nQ 2544 4750 2975 4387 \nQ 3406 4025 3406 3419 \nQ 3406 3131 3298 2873 \nQ 3191 2616 2906 2266 \nQ 2828 2175 2409 1742 \nQ 1991 1309 1228 531 \nz\n\" transform=\"scale(0.015625)\"/>\n       </defs>\n       <use xlink:href=\"#DejaVuSans-32\"/>\n      </g>\n     </g>\n    </g>\n    <g id=\"xtick_3\">\n     <g id=\"line2d_3\">\n      <g>\n       <use xlink:href=\"#mad9ea134cf\" x=\"175.036733\" y=\"273.312\" style=\"stroke: #000000; stroke-width: 0.8\"/>\n      </g>\n     </g>\n     <g id=\"text_3\">\n      <!-- 4 -->\n      <g transform=\"translate(171.855483 287.910437) scale(0.1 -0.1)\">\n       <defs>\n        <path id=\"DejaVuSans-34\" d=\"M 2419 4116 \nL 825 1625 \nL 2419 1625 \nL 2419 4116 \nz\nM 2253 4666 \nL 3047 4666 \nL 3047 1625 \nL 3713 1625 \nL 3713 1100 \nL 3047 1100 \nL 3047 0 \nL 2419 0 \nL 2419 1100 \nL 313 1100 \nL 313 1709 \nL 2253 4666 \nz\n\" transform=\"scale(0.015625)\"/>\n       </defs>\n       <use xlink:href=\"#DejaVuSans-34\"/>\n      </g>\n     </g>\n    </g>\n    <g id=\"xtick_4\">\n     <g id=\"line2d_4\">\n      <g>\n       <use xlink:href=\"#mad9ea134cf\" x=\"239.967642\" y=\"273.312\" style=\"stroke: #000000; stroke-width: 0.8\"/>\n      </g>\n     </g>\n     <g id=\"text_4\">\n      <!-- 6 -->\n      <g transform=\"translate(236.786392 287.910437) scale(0.1 -0.1)\">\n       <defs>\n        <path id=\"DejaVuSans-36\" d=\"M 2113 2584 \nQ 1688 2584 1439 2293 \nQ 1191 2003 1191 1497 \nQ 1191 994 1439 701 \nQ 1688 409 2113 409 \nQ 2538 409 2786 701 \nQ 3034 994 3034 1497 \nQ 3034 2003 2786 2293 \nQ 2538 2584 2113 2584 \nz\nM 3366 4563 \nL 3366 3988 \nQ 3128 4100 2886 4159 \nQ 2644 4219 2406 4219 \nQ 1781 4219 1451 3797 \nQ 1122 3375 1075 2522 \nQ 1259 2794 1537 2939 \nQ 1816 3084 2150 3084 \nQ 2853 3084 3261 2657 \nQ 3669 2231 3669 1497 \nQ 3669 778 3244 343 \nQ 2819 -91 2113 -91 \nQ 1303 -91 875 529 \nQ 447 1150 447 2328 \nQ 447 3434 972 4092 \nQ 1497 4750 2381 4750 \nQ 2619 4750 2861 4703 \nQ 3103 4656 3366 4563 \nz\n\" transform=\"scale(0.015625)\"/>\n       </defs>\n       <use xlink:href=\"#DejaVuSans-36\"/>\n      </g>\n     </g>\n    </g>\n    <g id=\"xtick_5\">\n     <g id=\"line2d_5\">\n      <g>\n       <use xlink:href=\"#mad9ea134cf\" x=\"304.898551\" y=\"273.312\" style=\"stroke: #000000; stroke-width: 0.8\"/>\n      </g>\n     </g>\n     <g id=\"text_5\">\n      <!-- 8 -->\n      <g transform=\"translate(301.717301 287.910437) scale(0.1 -0.1)\">\n       <defs>\n        <path id=\"DejaVuSans-38\" d=\"M 2034 2216 \nQ 1584 2216 1326 1975 \nQ 1069 1734 1069 1313 \nQ 1069 891 1326 650 \nQ 1584 409 2034 409 \nQ 2484 409 2743 651 \nQ 3003 894 3003 1313 \nQ 3003 1734 2745 1975 \nQ 2488 2216 2034 2216 \nz\nM 1403 2484 \nQ 997 2584 770 2862 \nQ 544 3141 544 3541 \nQ 544 4100 942 4425 \nQ 1341 4750 2034 4750 \nQ 2731 4750 3128 4425 \nQ 3525 4100 3525 3541 \nQ 3525 3141 3298 2862 \nQ 3072 2584 2669 2484 \nQ 3125 2378 3379 2068 \nQ 3634 1759 3634 1313 \nQ 3634 634 3220 271 \nQ 2806 -91 2034 -91 \nQ 1263 -91 848 271 \nQ 434 634 434 1313 \nQ 434 1759 690 2068 \nQ 947 2378 1403 2484 \nz\nM 1172 3481 \nQ 1172 3119 1398 2916 \nQ 1625 2713 2034 2713 \nQ 2441 2713 2670 2916 \nQ 2900 3119 2900 3481 \nQ 2900 3844 2670 4047 \nQ 2441 4250 2034 4250 \nQ 1625 4250 1398 4047 \nQ 1172 3844 1172 3481 \nz\n\" transform=\"scale(0.015625)\"/>\n       </defs>\n       <use xlink:href=\"#DejaVuSans-38\"/>\n      </g>\n     </g>\n    </g>\n    <g id=\"xtick_6\">\n     <g id=\"line2d_6\">\n      <g>\n       <use xlink:href=\"#mad9ea134cf\" x=\"369.82946\" y=\"273.312\" style=\"stroke: #000000; stroke-width: 0.8\"/>\n      </g>\n     </g>\n     <g id=\"text_6\">\n      <!-- 10 -->\n      <g transform=\"translate(363.46696 287.910437) scale(0.1 -0.1)\">\n       <defs>\n        <path id=\"DejaVuSans-31\" d=\"M 794 531 \nL 1825 531 \nL 1825 4091 \nL 703 3866 \nL 703 4441 \nL 1819 4666 \nL 2450 4666 \nL 2450 531 \nL 3481 531 \nL 3481 0 \nL 794 0 \nL 794 531 \nz\n\" transform=\"scale(0.015625)\"/>\n       </defs>\n       <use xlink:href=\"#DejaVuSans-31\"/>\n       <use xlink:href=\"#DejaVuSans-30\" x=\"63.623047\"/>\n      </g>\n     </g>\n    </g>\n   </g>\n   <g id=\"matplotlib.axis_2\">\n    <g id=\"ytick_1\">\n     <g id=\"line2d_7\">\n      <defs>\n       <path id=\"m184651707e\" d=\"M 0 0 \nL -3.5 0 \n\" style=\"stroke: #000000; stroke-width: 0.8\"/>\n      </defs>\n      <g>\n       <use xlink:href=\"#m184651707e\" x=\"28.942188\" y=\"253.678082\" style=\"stroke: #000000; stroke-width: 0.8\"/>\n      </g>\n     </g>\n     <g id=\"text_7\">\n      <!-- −4 -->\n      <g transform=\"translate(7.2 257.477301) scale(0.1 -0.1)\">\n       <defs>\n        <path id=\"DejaVuSans-2212\" d=\"M 678 2272 \nL 4684 2272 \nL 4684 1741 \nL 678 1741 \nL 678 2272 \nz\n\" transform=\"scale(0.015625)\"/>\n       </defs>\n       <use xlink:href=\"#DejaVuSans-2212\"/>\n       <use xlink:href=\"#DejaVuSans-34\" x=\"83.789062\"/>\n      </g>\n     </g>\n    </g>\n    <g id=\"ytick_2\">\n     <g id=\"line2d_8\">\n      <g>\n       <use xlink:href=\"#m184651707e\" x=\"28.942188\" y=\"197.406543\" style=\"stroke: #000000; stroke-width: 0.8\"/>\n      </g>\n     </g>\n     <g id=\"text_8\">\n      <!-- −2 -->\n      <g transform=\"translate(7.2 201.205762) scale(0.1 -0.1)\">\n       <use xlink:href=\"#DejaVuSans-2212\"/>\n       <use xlink:href=\"#DejaVuSans-32\" x=\"83.789062\"/>\n      </g>\n     </g>\n    </g>\n    <g id=\"ytick_3\">\n     <g id=\"line2d_9\">\n      <g>\n       <use xlink:href=\"#m184651707e\" x=\"28.942188\" y=\"141.135004\" style=\"stroke: #000000; stroke-width: 0.8\"/>\n      </g>\n     </g>\n     <g id=\"text_9\">\n      <!-- 0 -->\n      <g transform=\"translate(15.579688 144.934223) scale(0.1 -0.1)\">\n       <use xlink:href=\"#DejaVuSans-30\"/>\n      </g>\n     </g>\n    </g>\n    <g id=\"ytick_4\">\n     <g id=\"line2d_10\">\n      <g>\n       <use xlink:href=\"#m184651707e\" x=\"28.942188\" y=\"84.863465\" style=\"stroke: #000000; stroke-width: 0.8\"/>\n      </g>\n     </g>\n     <g id=\"text_10\">\n      <!-- 2 -->\n      <g transform=\"translate(15.579688 88.662684) scale(0.1 -0.1)\">\n       <use xlink:href=\"#DejaVuSans-32\"/>\n      </g>\n     </g>\n    </g>\n    <g id=\"ytick_5\">\n     <g id=\"line2d_11\">\n      <g>\n       <use xlink:href=\"#m184651707e\" x=\"28.942188\" y=\"28.591926\" style=\"stroke: #000000; stroke-width: 0.8\"/>\n      </g>\n     </g>\n     <g id=\"text_11\">\n      <!-- 4 -->\n      <g transform=\"translate(15.579688 32.391145) scale(0.1 -0.1)\">\n       <use xlink:href=\"#DejaVuSans-34\"/>\n      </g>\n     </g>\n    </g>\n   </g>\n   <g id=\"line2d_12\">\n    <path d=\"M 45.174915 19.296 \nL 56.369899 95.797589 \nL 67.564883 201.744712 \nL 78.759868 250.903122 \nL 89.954852 188.194623 \nL 101.149836 80.112914 \nL 112.344821 32.351991 \nL 123.539805 89.029105 \nL 134.734789 193.155859 \nL 145.929774 252.710351 \nL 157.124758 201.172588 \nL 168.319742 96.279324 \nL 179.514727 26.862916 \nL 190.709711 87.873825 \nL 201.904695 190.898823 \nL 213.09968 261.216 \nL 224.294664 210.594941 \nL 235.489648 102.583398 \nL 246.684633 21.573288 \nL 257.879617 77.256105 \nL 269.074601 185.111016 \nL 280.269586 238.702551 \nL 291.46457 211.712313 \nL 302.659554 107.365876 \nL 313.854539 33.759425 \nL 325.049523 59.115985 \nL 336.244507 176.183504 \nL 347.439492 246.001579 \nL 358.634476 212.754565 \nL 369.82946 116.583015 \n\" clip-path=\"url(#pebb2ddc8f5)\" style=\"fill: none; stroke-dasharray: 5.55,2.4; stroke-dashoffset: 0; stroke: #1f77b4; stroke-width: 1.5\"/>\n    <defs>\n     <path id=\"m411cef5536\" d=\"M 0 3 \nC 0.795609 3 1.55874 2.683901 2.12132 2.12132 \nC 2.683901 1.55874 3 0.795609 3 0 \nC 3 -0.795609 2.683901 -1.55874 2.12132 -2.12132 \nC 1.55874 -2.683901 0.795609 -3 0 -3 \nC -0.795609 -3 -1.55874 -2.683901 -2.12132 -2.12132 \nC -2.683901 -1.55874 -3 -0.795609 -3 0 \nC -3 0.795609 -2.683901 1.55874 -2.12132 2.12132 \nC -1.55874 2.683901 -0.795609 3 0 3 \nz\n\" style=\"stroke: #1f77b4\"/>\n    </defs>\n    <g clip-path=\"url(#pebb2ddc8f5)\">\n     <use xlink:href=\"#m411cef5536\" x=\"45.174915\" y=\"19.296\" style=\"fill: #1f77b4; stroke: #1f77b4\"/>\n     <use xlink:href=\"#m411cef5536\" x=\"56.369899\" y=\"95.797589\" style=\"fill: #1f77b4; stroke: #1f77b4\"/>\n     <use xlink:href=\"#m411cef5536\" x=\"67.564883\" y=\"201.744712\" style=\"fill: #1f77b4; stroke: #1f77b4\"/>\n     <use xlink:href=\"#m411cef5536\" x=\"78.759868\" y=\"250.903122\" style=\"fill: #1f77b4; stroke: #1f77b4\"/>\n     <use xlink:href=\"#m411cef5536\" x=\"89.954852\" y=\"188.194623\" style=\"fill: #1f77b4; stroke: #1f77b4\"/>\n     <use xlink:href=\"#m411cef5536\" x=\"101.149836\" y=\"80.112914\" style=\"fill: #1f77b4; stroke: #1f77b4\"/>\n     <use xlink:href=\"#m411cef5536\" x=\"112.344821\" y=\"32.351991\" style=\"fill: #1f77b4; stroke: #1f77b4\"/>\n     <use xlink:href=\"#m411cef5536\" x=\"123.539805\" y=\"89.029105\" style=\"fill: #1f77b4; stroke: #1f77b4\"/>\n     <use xlink:href=\"#m411cef5536\" x=\"134.734789\" y=\"193.155859\" style=\"fill: #1f77b4; stroke: #1f77b4\"/>\n     <use xlink:href=\"#m411cef5536\" x=\"145.929774\" y=\"252.710351\" style=\"fill: #1f77b4; stroke: #1f77b4\"/>\n     <use xlink:href=\"#m411cef5536\" x=\"157.124758\" y=\"201.172588\" style=\"fill: #1f77b4; stroke: #1f77b4\"/>\n     <use xlink:href=\"#m411cef5536\" x=\"168.319742\" y=\"96.279324\" style=\"fill: #1f77b4; stroke: #1f77b4\"/>\n     <use xlink:href=\"#m411cef5536\" x=\"179.514727\" y=\"26.862916\" style=\"fill: #1f77b4; stroke: #1f77b4\"/>\n     <use xlink:href=\"#m411cef5536\" x=\"190.709711\" y=\"87.873825\" style=\"fill: #1f77b4; stroke: #1f77b4\"/>\n     <use xlink:href=\"#m411cef5536\" x=\"201.904695\" y=\"190.898823\" style=\"fill: #1f77b4; stroke: #1f77b4\"/>\n     <use xlink:href=\"#m411cef5536\" x=\"213.09968\" y=\"261.216\" style=\"fill: #1f77b4; stroke: #1f77b4\"/>\n     <use xlink:href=\"#m411cef5536\" x=\"224.294664\" y=\"210.594941\" style=\"fill: #1f77b4; stroke: #1f77b4\"/>\n     <use xlink:href=\"#m411cef5536\" x=\"235.489648\" y=\"102.583398\" style=\"fill: #1f77b4; stroke: #1f77b4\"/>\n     <use xlink:href=\"#m411cef5536\" x=\"246.684633\" y=\"21.573288\" style=\"fill: #1f77b4; stroke: #1f77b4\"/>\n     <use xlink:href=\"#m411cef5536\" x=\"257.879617\" y=\"77.256105\" style=\"fill: #1f77b4; stroke: #1f77b4\"/>\n     <use xlink:href=\"#m411cef5536\" x=\"269.074601\" y=\"185.111016\" style=\"fill: #1f77b4; stroke: #1f77b4\"/>\n     <use xlink:href=\"#m411cef5536\" x=\"280.269586\" y=\"238.702551\" style=\"fill: #1f77b4; stroke: #1f77b4\"/>\n     <use xlink:href=\"#m411cef5536\" x=\"291.46457\" y=\"211.712313\" style=\"fill: #1f77b4; stroke: #1f77b4\"/>\n     <use xlink:href=\"#m411cef5536\" x=\"302.659554\" y=\"107.365876\" style=\"fill: #1f77b4; stroke: #1f77b4\"/>\n     <use xlink:href=\"#m411cef5536\" x=\"313.854539\" y=\"33.759425\" style=\"fill: #1f77b4; stroke: #1f77b4\"/>\n     <use xlink:href=\"#m411cef5536\" x=\"325.049523\" y=\"59.115985\" style=\"fill: #1f77b4; stroke: #1f77b4\"/>\n     <use xlink:href=\"#m411cef5536\" x=\"336.244507\" y=\"176.183504\" style=\"fill: #1f77b4; stroke: #1f77b4\"/>\n     <use xlink:href=\"#m411cef5536\" x=\"347.439492\" y=\"246.001579\" style=\"fill: #1f77b4; stroke: #1f77b4\"/>\n     <use xlink:href=\"#m411cef5536\" x=\"358.634476\" y=\"212.754565\" style=\"fill: #1f77b4; stroke: #1f77b4\"/>\n     <use xlink:href=\"#m411cef5536\" x=\"369.82946\" y=\"116.583015\" style=\"fill: #1f77b4; stroke: #1f77b4\"/>\n    </g>\n   </g>\n   <g id=\"patch_3\">\n    <path d=\"M 28.942188 273.312 \nL 28.942188 7.2 \n\" style=\"fill: none; stroke: #000000; stroke-width: 0.8; stroke-linejoin: miter; stroke-linecap: square\"/>\n   </g>\n   <g id=\"patch_4\">\n    <path d=\"M 386.062188 273.312 \nL 386.062188 7.2 \n\" style=\"fill: none; stroke: #000000; stroke-width: 0.8; stroke-linejoin: miter; stroke-linecap: square\"/>\n   </g>\n   <g id=\"patch_5\">\n    <path d=\"M 28.942188 273.312 \nL 386.062188 273.312 \n\" style=\"fill: none; stroke: #000000; stroke-width: 0.8; stroke-linejoin: miter; stroke-linecap: square\"/>\n   </g>\n   <g id=\"patch_6\">\n    <path d=\"M 28.942188 7.2 \nL 386.062188 7.2 \n\" style=\"fill: none; stroke: #000000; stroke-width: 0.8; stroke-linejoin: miter; stroke-linecap: square\"/>\n   </g>\n  </g>\n </g>\n <defs>\n  <clipPath id=\"pebb2ddc8f5\">\n   <rect x=\"28.942188\" y=\"7.2\" width=\"357.12\" height=\"266.112\"/>\n  </clipPath>\n </defs>\n</svg>\n",
      "text/plain": [
       "<Figure size 640x480 with 1 Axes>"
      ]
     },
     "metadata": {},
     "output_type": "display_data"
    }
   ],
   "source": [
    "plt.plot(t_data, y_data, 'o--')"
   ]
  },
  {
   "attachments": {},
   "cell_type": "markdown",
   "metadata": {},
   "source": [
    "The angular frequency is $\\omega = 2 \\pi f$, so the frequency is $f = \\frac{\\omega}{2 \\pi}$. We also know that the frequency is the reciprocal of the period, so we can write $f = \\frac{1}{T}$. \n",
    "\n",
    "As evident from plotting the raw data, the period is roughly 2 seconds, so $T \\approx 2$ s, $f \\approx 0.5$ Hz and $\\omega \\approx \\pi$ rad/s\n",
    "\n",
    "The amplitude is the maximum displacement of the spring, which is $A \\approx 4$ m, whereas the phase shift is $\\phi \\approx 0$."
   ]
  },
  {
   "attachments": {},
   "cell_type": "markdown",
   "metadata": {},
   "source": [
    "All these values can be used as an initial guess for the curve fitting algorithm."
   ]
  },
  {
   "cell_type": "code",
   "execution_count": 14,
   "metadata": {},
   "outputs": [
    {
     "name": "stdout",
     "output_type": "stream",
     "text": [
      "[3.94980912 2.99917741 0.10412397]\n",
      "[[ 2.65327850e-03 -5.03106997e-06  3.52730942e-05]\n",
      " [-5.03106997e-06  1.87942942e-05 -9.72687363e-05]\n",
      " [ 3.52730942e-05 -9.72687363e-05  6.71660143e-04]]\n"
     ]
    }
   ],
   "source": [
    "def func(t, A, omega, phi):\n",
    "    return A * np.cos(omega*t + phi)\n",
    "A0 = 4\n",
    "omega0 = np.pi \n",
    "phi0 = 0\n",
    "p0 = (A0, omega0, phi0)\n",
    "p_opt, p_cov = curve_fit(func, t_data, y_data, p0)\n",
    "print(p_opt)\n",
    "print(p_cov)\n",
    "A, omega, phi = p_opt"
   ]
  },
  {
   "cell_type": "code",
   "execution_count": 15,
   "metadata": {},
   "outputs": [
    {
     "data": {
      "text/plain": [
       "<matplotlib.legend.Legend at 0x7f6529dfffd0>"
      ]
     },
     "execution_count": 15,
     "metadata": {},
     "output_type": "execute_result"
    },
    {
     "data": {
      "image/svg+xml": "<?xml version=\"1.0\" encoding=\"utf-8\" standalone=\"no\"?>\n<!DOCTYPE svg PUBLIC \"-//W3C//DTD SVG 1.1//EN\"\n  \"http://www.w3.org/Graphics/SVG/1.1/DTD/svg11.dtd\">\n<svg xmlns:xlink=\"http://www.w3.org/1999/xlink\" width=\"393.262187pt\" height=\"297.190125pt\" viewBox=\"0 0 393.262187 297.190125\" xmlns=\"http://www.w3.org/2000/svg\" version=\"1.1\">\n <metadata>\n  <rdf:RDF xmlns:dc=\"http://purl.org/dc/elements/1.1/\" xmlns:cc=\"http://creativecommons.org/ns#\" xmlns:rdf=\"http://www.w3.org/1999/02/22-rdf-syntax-ns#\">\n   <cc:Work>\n    <dc:type rdf:resource=\"http://purl.org/dc/dcmitype/StillImage\"/>\n    <dc:date>2023-02-24T16:42:32.224337</dc:date>\n    <dc:format>image/svg+xml</dc:format>\n    <dc:creator>\n     <cc:Agent>\n      <dc:title>Matplotlib v3.7.0, https://matplotlib.org/</dc:title>\n     </cc:Agent>\n    </dc:creator>\n   </cc:Work>\n  </rdf:RDF>\n </metadata>\n <defs>\n  <style type=\"text/css\">*{stroke-linejoin: round; stroke-linecap: butt}</style>\n </defs>\n <g id=\"figure_1\">\n  <g id=\"patch_1\">\n   <path d=\"M 0 297.190125 \nL 393.262187 297.190125 \nL 393.262187 0 \nL 0 0 \nz\n\" style=\"fill: #ffffff\"/>\n  </g>\n  <g id=\"axes_1\">\n   <g id=\"patch_2\">\n    <path d=\"M 28.942188 273.312 \nL 386.062188 273.312 \nL 386.062188 7.2 \nL 28.942188 7.2 \nz\n\" style=\"fill: #ffffff\"/>\n   </g>\n   <g id=\"PathCollection_1\">\n    <defs>\n     <path id=\"mf02067e4d4\" d=\"M 0 3 \nC 0.795609 3 1.55874 2.683901 2.12132 2.12132 \nC 2.683901 1.55874 3 0.795609 3 0 \nC 3 -0.795609 2.683901 -1.55874 2.12132 -2.12132 \nC 1.55874 -2.683901 0.795609 -3 0 -3 \nC -0.795609 -3 -1.55874 -2.683901 -2.12132 -2.12132 \nC -2.683901 -1.55874 -3 -0.795609 -3 0 \nC -3 0.795609 -2.683901 1.55874 -2.12132 2.12132 \nC -1.55874 2.683901 -0.795609 3 0 3 \nz\n\" style=\"stroke: #ff0000\"/>\n    </defs>\n    <g clip-path=\"url(#pc689d8d8a1)\">\n     <use xlink:href=\"#mf02067e4d4\" x=\"45.174915\" y=\"19.296\" style=\"fill: #ff0000; stroke: #ff0000\"/>\n     <use xlink:href=\"#mf02067e4d4\" x=\"56.369899\" y=\"95.797589\" style=\"fill: #ff0000; stroke: #ff0000\"/>\n     <use xlink:href=\"#mf02067e4d4\" x=\"67.564883\" y=\"201.744712\" style=\"fill: #ff0000; stroke: #ff0000\"/>\n     <use xlink:href=\"#mf02067e4d4\" x=\"78.759868\" y=\"250.903122\" style=\"fill: #ff0000; stroke: #ff0000\"/>\n     <use xlink:href=\"#mf02067e4d4\" x=\"89.954852\" y=\"188.194623\" style=\"fill: #ff0000; stroke: #ff0000\"/>\n     <use xlink:href=\"#mf02067e4d4\" x=\"101.149836\" y=\"80.112914\" style=\"fill: #ff0000; stroke: #ff0000\"/>\n     <use xlink:href=\"#mf02067e4d4\" x=\"112.344821\" y=\"32.351991\" style=\"fill: #ff0000; stroke: #ff0000\"/>\n     <use xlink:href=\"#mf02067e4d4\" x=\"123.539805\" y=\"89.029105\" style=\"fill: #ff0000; stroke: #ff0000\"/>\n     <use xlink:href=\"#mf02067e4d4\" x=\"134.734789\" y=\"193.155859\" style=\"fill: #ff0000; stroke: #ff0000\"/>\n     <use xlink:href=\"#mf02067e4d4\" x=\"145.929774\" y=\"252.710351\" style=\"fill: #ff0000; stroke: #ff0000\"/>\n     <use xlink:href=\"#mf02067e4d4\" x=\"157.124758\" y=\"201.172588\" style=\"fill: #ff0000; stroke: #ff0000\"/>\n     <use xlink:href=\"#mf02067e4d4\" x=\"168.319742\" y=\"96.279324\" style=\"fill: #ff0000; stroke: #ff0000\"/>\n     <use xlink:href=\"#mf02067e4d4\" x=\"179.514727\" y=\"26.862916\" style=\"fill: #ff0000; stroke: #ff0000\"/>\n     <use xlink:href=\"#mf02067e4d4\" x=\"190.709711\" y=\"87.873825\" style=\"fill: #ff0000; stroke: #ff0000\"/>\n     <use xlink:href=\"#mf02067e4d4\" x=\"201.904695\" y=\"190.898823\" style=\"fill: #ff0000; stroke: #ff0000\"/>\n     <use xlink:href=\"#mf02067e4d4\" x=\"213.09968\" y=\"261.216\" style=\"fill: #ff0000; stroke: #ff0000\"/>\n     <use xlink:href=\"#mf02067e4d4\" x=\"224.294664\" y=\"210.594941\" style=\"fill: #ff0000; stroke: #ff0000\"/>\n     <use xlink:href=\"#mf02067e4d4\" x=\"235.489648\" y=\"102.583398\" style=\"fill: #ff0000; stroke: #ff0000\"/>\n     <use xlink:href=\"#mf02067e4d4\" x=\"246.684633\" y=\"21.573288\" style=\"fill: #ff0000; stroke: #ff0000\"/>\n     <use xlink:href=\"#mf02067e4d4\" x=\"257.879617\" y=\"77.256105\" style=\"fill: #ff0000; stroke: #ff0000\"/>\n     <use xlink:href=\"#mf02067e4d4\" x=\"269.074601\" y=\"185.111016\" style=\"fill: #ff0000; stroke: #ff0000\"/>\n     <use xlink:href=\"#mf02067e4d4\" x=\"280.269586\" y=\"238.702551\" style=\"fill: #ff0000; stroke: #ff0000\"/>\n     <use xlink:href=\"#mf02067e4d4\" x=\"291.46457\" y=\"211.712313\" style=\"fill: #ff0000; stroke: #ff0000\"/>\n     <use xlink:href=\"#mf02067e4d4\" x=\"302.659554\" y=\"107.365876\" style=\"fill: #ff0000; stroke: #ff0000\"/>\n     <use xlink:href=\"#mf02067e4d4\" x=\"313.854539\" y=\"33.759425\" style=\"fill: #ff0000; stroke: #ff0000\"/>\n     <use xlink:href=\"#mf02067e4d4\" x=\"325.049523\" y=\"59.115985\" style=\"fill: #ff0000; stroke: #ff0000\"/>\n     <use xlink:href=\"#mf02067e4d4\" x=\"336.244507\" y=\"176.183504\" style=\"fill: #ff0000; stroke: #ff0000\"/>\n     <use xlink:href=\"#mf02067e4d4\" x=\"347.439492\" y=\"246.001579\" style=\"fill: #ff0000; stroke: #ff0000\"/>\n     <use xlink:href=\"#mf02067e4d4\" x=\"358.634476\" y=\"212.754565\" style=\"fill: #ff0000; stroke: #ff0000\"/>\n     <use xlink:href=\"#mf02067e4d4\" x=\"369.82946\" y=\"116.583015\" style=\"fill: #ff0000; stroke: #ff0000\"/>\n    </g>\n   </g>\n   <g id=\"matplotlib.axis_1\">\n    <g id=\"xtick_1\">\n     <g id=\"line2d_1\">\n      <defs>\n       <path id=\"m95fb6741bd\" d=\"M 0 0 \nL 0 3.5 \n\" style=\"stroke: #000000; stroke-width: 0.8\"/>\n      </defs>\n      <g>\n       <use xlink:href=\"#m95fb6741bd\" x=\"45.174915\" y=\"273.312\" style=\"stroke: #000000; stroke-width: 0.8\"/>\n      </g>\n     </g>\n     <g id=\"text_1\">\n      <!-- 0 -->\n      <g transform=\"translate(41.993665 287.910437) scale(0.1 -0.1)\">\n       <defs>\n        <path id=\"DejaVuSans-30\" d=\"M 2034 4250 \nQ 1547 4250 1301 3770 \nQ 1056 3291 1056 2328 \nQ 1056 1369 1301 889 \nQ 1547 409 2034 409 \nQ 2525 409 2770 889 \nQ 3016 1369 3016 2328 \nQ 3016 3291 2770 3770 \nQ 2525 4250 2034 4250 \nz\nM 2034 4750 \nQ 2819 4750 3233 4129 \nQ 3647 3509 3647 2328 \nQ 3647 1150 3233 529 \nQ 2819 -91 2034 -91 \nQ 1250 -91 836 529 \nQ 422 1150 422 2328 \nQ 422 3509 836 4129 \nQ 1250 4750 2034 4750 \nz\n\" transform=\"scale(0.015625)\"/>\n       </defs>\n       <use xlink:href=\"#DejaVuSans-30\"/>\n      </g>\n     </g>\n    </g>\n    <g id=\"xtick_2\">\n     <g id=\"line2d_2\">\n      <g>\n       <use xlink:href=\"#m95fb6741bd\" x=\"110.105824\" y=\"273.312\" style=\"stroke: #000000; stroke-width: 0.8\"/>\n      </g>\n     </g>\n     <g id=\"text_2\">\n      <!-- 2 -->\n      <g transform=\"translate(106.924574 287.910437) scale(0.1 -0.1)\">\n       <defs>\n        <path id=\"DejaVuSans-32\" d=\"M 1228 531 \nL 3431 531 \nL 3431 0 \nL 469 0 \nL 469 531 \nQ 828 903 1448 1529 \nQ 2069 2156 2228 2338 \nQ 2531 2678 2651 2914 \nQ 2772 3150 2772 3378 \nQ 2772 3750 2511 3984 \nQ 2250 4219 1831 4219 \nQ 1534 4219 1204 4116 \nQ 875 4013 500 3803 \nL 500 4441 \nQ 881 4594 1212 4672 \nQ 1544 4750 1819 4750 \nQ 2544 4750 2975 4387 \nQ 3406 4025 3406 3419 \nQ 3406 3131 3298 2873 \nQ 3191 2616 2906 2266 \nQ 2828 2175 2409 1742 \nQ 1991 1309 1228 531 \nz\n\" transform=\"scale(0.015625)\"/>\n       </defs>\n       <use xlink:href=\"#DejaVuSans-32\"/>\n      </g>\n     </g>\n    </g>\n    <g id=\"xtick_3\">\n     <g id=\"line2d_3\">\n      <g>\n       <use xlink:href=\"#m95fb6741bd\" x=\"175.036733\" y=\"273.312\" style=\"stroke: #000000; stroke-width: 0.8\"/>\n      </g>\n     </g>\n     <g id=\"text_3\">\n      <!-- 4 -->\n      <g transform=\"translate(171.855483 287.910437) scale(0.1 -0.1)\">\n       <defs>\n        <path id=\"DejaVuSans-34\" d=\"M 2419 4116 \nL 825 1625 \nL 2419 1625 \nL 2419 4116 \nz\nM 2253 4666 \nL 3047 4666 \nL 3047 1625 \nL 3713 1625 \nL 3713 1100 \nL 3047 1100 \nL 3047 0 \nL 2419 0 \nL 2419 1100 \nL 313 1100 \nL 313 1709 \nL 2253 4666 \nz\n\" transform=\"scale(0.015625)\"/>\n       </defs>\n       <use xlink:href=\"#DejaVuSans-34\"/>\n      </g>\n     </g>\n    </g>\n    <g id=\"xtick_4\">\n     <g id=\"line2d_4\">\n      <g>\n       <use xlink:href=\"#m95fb6741bd\" x=\"239.967642\" y=\"273.312\" style=\"stroke: #000000; stroke-width: 0.8\"/>\n      </g>\n     </g>\n     <g id=\"text_4\">\n      <!-- 6 -->\n      <g transform=\"translate(236.786392 287.910437) scale(0.1 -0.1)\">\n       <defs>\n        <path id=\"DejaVuSans-36\" d=\"M 2113 2584 \nQ 1688 2584 1439 2293 \nQ 1191 2003 1191 1497 \nQ 1191 994 1439 701 \nQ 1688 409 2113 409 \nQ 2538 409 2786 701 \nQ 3034 994 3034 1497 \nQ 3034 2003 2786 2293 \nQ 2538 2584 2113 2584 \nz\nM 3366 4563 \nL 3366 3988 \nQ 3128 4100 2886 4159 \nQ 2644 4219 2406 4219 \nQ 1781 4219 1451 3797 \nQ 1122 3375 1075 2522 \nQ 1259 2794 1537 2939 \nQ 1816 3084 2150 3084 \nQ 2853 3084 3261 2657 \nQ 3669 2231 3669 1497 \nQ 3669 778 3244 343 \nQ 2819 -91 2113 -91 \nQ 1303 -91 875 529 \nQ 447 1150 447 2328 \nQ 447 3434 972 4092 \nQ 1497 4750 2381 4750 \nQ 2619 4750 2861 4703 \nQ 3103 4656 3366 4563 \nz\n\" transform=\"scale(0.015625)\"/>\n       </defs>\n       <use xlink:href=\"#DejaVuSans-36\"/>\n      </g>\n     </g>\n    </g>\n    <g id=\"xtick_5\">\n     <g id=\"line2d_5\">\n      <g>\n       <use xlink:href=\"#m95fb6741bd\" x=\"304.898551\" y=\"273.312\" style=\"stroke: #000000; stroke-width: 0.8\"/>\n      </g>\n     </g>\n     <g id=\"text_5\">\n      <!-- 8 -->\n      <g transform=\"translate(301.717301 287.910437) scale(0.1 -0.1)\">\n       <defs>\n        <path id=\"DejaVuSans-38\" d=\"M 2034 2216 \nQ 1584 2216 1326 1975 \nQ 1069 1734 1069 1313 \nQ 1069 891 1326 650 \nQ 1584 409 2034 409 \nQ 2484 409 2743 651 \nQ 3003 894 3003 1313 \nQ 3003 1734 2745 1975 \nQ 2488 2216 2034 2216 \nz\nM 1403 2484 \nQ 997 2584 770 2862 \nQ 544 3141 544 3541 \nQ 544 4100 942 4425 \nQ 1341 4750 2034 4750 \nQ 2731 4750 3128 4425 \nQ 3525 4100 3525 3541 \nQ 3525 3141 3298 2862 \nQ 3072 2584 2669 2484 \nQ 3125 2378 3379 2068 \nQ 3634 1759 3634 1313 \nQ 3634 634 3220 271 \nQ 2806 -91 2034 -91 \nQ 1263 -91 848 271 \nQ 434 634 434 1313 \nQ 434 1759 690 2068 \nQ 947 2378 1403 2484 \nz\nM 1172 3481 \nQ 1172 3119 1398 2916 \nQ 1625 2713 2034 2713 \nQ 2441 2713 2670 2916 \nQ 2900 3119 2900 3481 \nQ 2900 3844 2670 4047 \nQ 2441 4250 2034 4250 \nQ 1625 4250 1398 4047 \nQ 1172 3844 1172 3481 \nz\n\" transform=\"scale(0.015625)\"/>\n       </defs>\n       <use xlink:href=\"#DejaVuSans-38\"/>\n      </g>\n     </g>\n    </g>\n    <g id=\"xtick_6\">\n     <g id=\"line2d_6\">\n      <g>\n       <use xlink:href=\"#m95fb6741bd\" x=\"369.82946\" y=\"273.312\" style=\"stroke: #000000; stroke-width: 0.8\"/>\n      </g>\n     </g>\n     <g id=\"text_6\">\n      <!-- 10 -->\n      <g transform=\"translate(363.46696 287.910437) scale(0.1 -0.1)\">\n       <defs>\n        <path id=\"DejaVuSans-31\" d=\"M 794 531 \nL 1825 531 \nL 1825 4091 \nL 703 3866 \nL 703 4441 \nL 1819 4666 \nL 2450 4666 \nL 2450 531 \nL 3481 531 \nL 3481 0 \nL 794 0 \nL 794 531 \nz\n\" transform=\"scale(0.015625)\"/>\n       </defs>\n       <use xlink:href=\"#DejaVuSans-31\"/>\n       <use xlink:href=\"#DejaVuSans-30\" x=\"63.623047\"/>\n      </g>\n     </g>\n    </g>\n   </g>\n   <g id=\"matplotlib.axis_2\">\n    <g id=\"ytick_1\">\n     <g id=\"line2d_7\">\n      <defs>\n       <path id=\"m0123504cf0\" d=\"M 0 0 \nL -3.5 0 \n\" style=\"stroke: #000000; stroke-width: 0.8\"/>\n      </defs>\n      <g>\n       <use xlink:href=\"#m0123504cf0\" x=\"28.942188\" y=\"253.678082\" style=\"stroke: #000000; stroke-width: 0.8\"/>\n      </g>\n     </g>\n     <g id=\"text_7\">\n      <!-- −4 -->\n      <g transform=\"translate(7.2 257.477301) scale(0.1 -0.1)\">\n       <defs>\n        <path id=\"DejaVuSans-2212\" d=\"M 678 2272 \nL 4684 2272 \nL 4684 1741 \nL 678 1741 \nL 678 2272 \nz\n\" transform=\"scale(0.015625)\"/>\n       </defs>\n       <use xlink:href=\"#DejaVuSans-2212\"/>\n       <use xlink:href=\"#DejaVuSans-34\" x=\"83.789062\"/>\n      </g>\n     </g>\n    </g>\n    <g id=\"ytick_2\">\n     <g id=\"line2d_8\">\n      <g>\n       <use xlink:href=\"#m0123504cf0\" x=\"28.942188\" y=\"197.406543\" style=\"stroke: #000000; stroke-width: 0.8\"/>\n      </g>\n     </g>\n     <g id=\"text_8\">\n      <!-- −2 -->\n      <g transform=\"translate(7.2 201.205762) scale(0.1 -0.1)\">\n       <use xlink:href=\"#DejaVuSans-2212\"/>\n       <use xlink:href=\"#DejaVuSans-32\" x=\"83.789062\"/>\n      </g>\n     </g>\n    </g>\n    <g id=\"ytick_3\">\n     <g id=\"line2d_9\">\n      <g>\n       <use xlink:href=\"#m0123504cf0\" x=\"28.942188\" y=\"141.135004\" style=\"stroke: #000000; stroke-width: 0.8\"/>\n      </g>\n     </g>\n     <g id=\"text_9\">\n      <!-- 0 -->\n      <g transform=\"translate(15.579688 144.934223) scale(0.1 -0.1)\">\n       <use xlink:href=\"#DejaVuSans-30\"/>\n      </g>\n     </g>\n    </g>\n    <g id=\"ytick_4\">\n     <g id=\"line2d_10\">\n      <g>\n       <use xlink:href=\"#m0123504cf0\" x=\"28.942188\" y=\"84.863465\" style=\"stroke: #000000; stroke-width: 0.8\"/>\n      </g>\n     </g>\n     <g id=\"text_10\">\n      <!-- 2 -->\n      <g transform=\"translate(15.579688 88.662684) scale(0.1 -0.1)\">\n       <use xlink:href=\"#DejaVuSans-32\"/>\n      </g>\n     </g>\n    </g>\n    <g id=\"ytick_5\">\n     <g id=\"line2d_11\">\n      <g>\n       <use xlink:href=\"#m0123504cf0\" x=\"28.942188\" y=\"28.591926\" style=\"stroke: #000000; stroke-width: 0.8\"/>\n      </g>\n     </g>\n     <g id=\"text_11\">\n      <!-- 4 -->\n      <g transform=\"translate(15.579688 32.391145) scale(0.1 -0.1)\">\n       <use xlink:href=\"#DejaVuSans-34\"/>\n      </g>\n     </g>\n    </g>\n   </g>\n   <g id=\"line2d_12\">\n    <path d=\"M 45.174915 28.591926 \nL 45.824874 28.814449 \nL 46.474833 29.481137 \nL 47.124792 30.589354 \nL 47.774751 32.134718 \nL 48.74969 35.25858 \nL 49.724628 39.324089 \nL 50.699567 44.295088 \nL 51.999485 52.254099 \nL 53.299403 61.61762 \nL 54.924301 75.06977 \nL 56.874178 93.331807 \nL 59.474014 120.19952 \nL 66.298584 192.433359 \nL 68.248461 210.31183 \nL 69.873359 223.359271 \nL 71.173277 232.350401 \nL 72.473195 239.900132 \nL 73.448133 244.543834 \nL 74.423072 248.267833 \nL 75.398011 251.039011 \nL 76.04797 252.344591 \nL 76.697929 253.210398 \nL 77.347888 253.63301 \nL 77.997847 253.610754 \nL 78.647806 253.143719 \nL 79.297765 252.233751 \nL 79.947724 250.88445 \nL 80.597683 249.10115 \nL 81.572622 245.628343 \nL 82.54756 241.226189 \nL 83.847478 233.979818 \nL 85.147396 225.2663 \nL 86.772294 212.523027 \nL 88.397192 198.018431 \nL 90.672048 175.441157 \nL 94.246823 137.065829 \nL 97.821598 99.172588 \nL 100.096454 77.382611 \nL 101.721352 63.646209 \nL 103.34625 51.821653 \nL 104.646168 43.936362 \nL 105.946086 37.587018 \nL 106.921025 33.894291 \nL 107.895963 31.155346 \nL 108.545922 29.871647 \nL 109.195881 29.027933 \nL 109.84584 28.62754 \nL 110.495799 28.672051 \nL 111.145758 29.161291 \nL 111.795717 30.093325 \nL 112.445676 31.464468 \nL 113.095635 33.269296 \nL 114.070574 36.773626 \nL 115.045513 41.206129 \nL 116.345431 48.490675 \nL 117.645349 57.2392 \nL 119.270246 70.020938 \nL 120.895144 84.557242 \nL 123.170001 107.166095 \nL 126.744776 145.557845 \nL 130.31955 183.425609 \nL 132.594407 205.178739 \nL 134.219305 218.880081 \nL 135.844202 230.663255 \nL 137.14412 238.511569 \nL 138.444038 244.821124 \nL 139.418977 248.48254 \nL 140.393916 251.189226 \nL 141.043875 252.451032 \nL 141.693834 253.272645 \nL 142.343793 253.650815 \nL 142.993752 253.584049 \nL 143.643711 253.072608 \nL 144.29367 252.118517 \nL 144.943629 250.725547 \nL 145.593588 248.899207 \nL 146.568527 245.363389 \nL 147.543465 240.900581 \nL 148.843383 233.577933 \nL 150.143301 224.794488 \nL 151.768199 211.97441 \nL 153.718076 194.314203 \nL 155.992933 171.372797 \nL 160.542646 122.289569 \nL 163.467462 92.054002 \nL 165.417339 73.928938 \nL 167.042237 60.622118 \nL 168.342155 51.392739 \nL 169.642073 43.58148 \nL 170.941991 37.311777 \nL 171.91693 33.681706 \nL 172.891868 31.007308 \nL 173.541827 29.767407 \nL 174.191786 28.967904 \nL 174.841745 28.611959 \nL 175.166725 28.60083 \nL 175.816684 28.912312 \nL 176.466643 29.667573 \nL 177.116602 30.863626 \nL 177.766561 32.495741 \nL 178.7415 35.746947 \nL 179.716438 39.935456 \nL 180.691377 45.024018 \nL 181.991295 53.129523 \nL 183.291213 62.625703 \nL 184.916111 76.221055 \nL 186.865988 94.617177 \nL 189.465824 121.592104 \nL 195.965414 190.534253 \nL 197.915292 208.624624 \nL 199.540189 221.894782 \nL 200.840107 231.090396 \nL 202.140025 238.864522 \nL 203.114964 243.687463 \nL 204.089902 247.59832 \nL 205.064841 250.562309 \nL 205.7148 251.998892 \nL 206.364759 252.99707 \nL 207.014718 253.552895 \nL 207.664677 253.66417 \nL 208.314636 253.330455 \nL 208.964595 252.553069 \nL 209.614554 251.335086 \nL 210.264513 249.681323 \nL 211.239452 246.398361 \nL 212.214391 242.179204 \nL 213.189329 237.061377 \nL 214.489247 228.919448 \nL 215.789165 219.390337 \nL 217.414063 205.75952 \nL 219.36394 187.330331 \nL 221.963776 160.329267 \nL 228.463367 91.417998 \nL 230.413244 73.362499 \nL 232.038142 60.129134 \nL 233.33806 50.967375 \nL 234.637978 43.230458 \nL 235.612916 38.437273 \nL 236.587855 34.557464 \nL 237.562794 31.625539 \nL 238.212753 30.210756 \nL 238.862712 29.234616 \nL 239.512671 28.70098 \nL 240.16263 28.611959 \nL 240.812589 28.967904 \nL 241.462548 29.767407 \nL 242.112507 31.007308 \nL 242.762466 32.682703 \nL 243.737405 35.997388 \nL 244.712343 40.247151 \nL 245.687282 45.394193 \nL 246.9872 53.572465 \nL 248.287118 63.134414 \nL 249.912016 76.800561 \nL 251.861893 95.262635 \nL 254.461729 122.289569 \nL 260.961319 191.169276 \nL 262.911197 209.189725 \nL 264.536094 222.386165 \nL 265.836012 231.513978 \nL 267.13593 239.21361 \nL 268.110869 243.976992 \nL 269.085807 247.825714 \nL 270.060746 250.725547 \nL 270.710705 252.118517 \nL 271.360664 253.072608 \nL 272.010623 253.584049 \nL 272.660582 253.650815 \nL 273.310541 253.272645 \nL 273.9605 252.451032 \nL 274.610459 251.189226 \nL 275.260418 249.492216 \nL 276.235357 246.145839 \nL 277.210296 241.865513 \nL 278.185234 236.689306 \nL 279.485152 228.474772 \nL 280.78507 218.880081 \nL 282.409968 205.178739 \nL 284.359845 186.683963 \nL 286.959681 159.631426 \nL 293.459272 90.783962 \nL 295.409149 72.79874 \nL 297.034047 59.639355 \nL 298.333965 50.545578 \nL 299.633883 42.883309 \nL 300.608821 38.149777 \nL 301.58376 34.332179 \nL 302.558699 31.464468 \nL 303.208658 30.093325 \nL 303.858617 29.161291 \nL 304.508576 28.672051 \nL 305.158535 28.62754 \nL 305.808494 29.027933 \nL 306.458453 29.871647 \nL 307.108412 31.155346 \nL 307.758371 32.873954 \nL 308.73331 36.251989 \nL 309.708248 40.562836 \nL 310.683187 45.768156 \nL 311.983105 54.018872 \nL 313.283023 63.646209 \nL 314.907921 77.382611 \nL 316.857798 95.909907 \nL 319.457634 122.98778 \nL 325.632245 188.61756 \nL 327.582122 206.91339 \nL 329.20702 220.401541 \nL 330.831917 231.933986 \nL 332.131835 239.558818 \nL 333.106774 244.262453 \nL 334.081712 248.048888 \nL 335.056651 250.88445 \nL 335.70661 252.233751 \nL 336.356569 253.143719 \nL 337.006528 253.610754 \nL 337.656487 253.63301 \nL 338.306446 253.210398 \nL 338.956405 252.344591 \nL 339.606364 251.039011 \nL 340.256323 249.298822 \nL 341.231262 245.889163 \nL 342.206201 241.547837 \nL 343.181139 236.313456 \nL 344.481057 228.02664 \nL 345.780975 218.366751 \nL 347.405873 204.595425 \nL 349.35575 186.035793 \nL 351.955586 158.932853 \nL 358.130197 93.331807 \nL 360.080074 75.06977 \nL 361.704972 61.61762 \nL 363.32987 50.127365 \nL 364.629788 42.540046 \nL 365.604726 37.866355 \nL 366.579665 34.111118 \nL 367.554604 31.307735 \nL 368.204563 29.980288 \nL 368.854522 29.092396 \nL 369.504481 28.64757 \nL 369.82946 28.591926 \nL 369.82946 28.591926 \n\" clip-path=\"url(#pc689d8d8a1)\" style=\"fill: none; stroke: #1f77b4; stroke-width: 1.5; stroke-linecap: square\"/>\n   </g>\n   <g id=\"line2d_13\">\n    <path d=\"M 45.174915 30.605971 \nL 45.824874 31.498269 \nL 46.474833 32.785714 \nL 47.449771 35.447248 \nL 48.42471 38.965517 \nL 49.399649 43.312002 \nL 50.699567 50.333821 \nL 51.999485 58.663504 \nL 53.624382 70.730359 \nL 55.57426 87.274248 \nL 57.849116 108.737391 \nL 61.748871 148.291241 \nL 65.323645 183.866163 \nL 67.598502 204.326659 \nL 69.2234 217.286952 \nL 70.848297 228.534554 \nL 72.148215 236.128063 \nL 73.448133 242.353329 \nL 74.423072 246.069651 \nL 75.398011 248.935341 \nL 76.04797 250.361467 \nL 76.697929 251.393925 \nL 77.347888 252.028992 \nL 77.997847 252.264382 \nL 78.647806 252.099244 \nL 79.297765 251.534175 \nL 79.947724 250.57121 \nL 80.597683 249.213821 \nL 81.572622 246.449278 \nL 82.54756 242.831026 \nL 83.522499 238.388397 \nL 84.822417 231.245698 \nL 86.122335 222.80508 \nL 87.747233 210.615961 \nL 89.69711 193.952987 \nL 91.971966 172.39377 \nL 95.871721 132.79302 \nL 99.446495 97.309047 \nL 101.721352 76.969204 \nL 103.34625 64.121723 \nL 104.971147 53.006304 \nL 106.271065 45.530504 \nL 107.570984 39.431755 \nL 108.545922 35.815008 \nL 109.520861 33.052016 \nL 110.17082 31.695681 \nL 110.820779 30.733781 \nL 111.470738 30.169784 \nL 112.120697 30.005723 \nL 112.770656 30.242188 \nL 113.420615 30.878327 \nL 114.070574 31.911848 \nL 114.720533 33.339025 \nL 115.695472 36.206262 \nL 116.67041 39.924082 \nL 117.645349 44.462347 \nL 118.945267 51.725109 \nL 120.245185 60.275697 \nL 121.870083 72.585685 \nL 123.81996 89.365837 \nL 126.094816 111.018662 \nL 130.31955 153.981058 \nL 133.569346 186.050747 \nL 135.844202 206.267609 \nL 137.4691 219.000809 \nL 139.093997 229.982773 \nL 140.393916 237.340008 \nL 141.693834 243.311543 \nL 142.668772 246.828302 \nL 143.643711 249.488279 \nL 144.29367 250.774668 \nL 144.943629 251.6659 \nL 145.593588 252.158761 \nL 146.243547 252.251477 \nL 146.893506 251.943711 \nL 147.543465 251.236575 \nL 148.193424 250.132616 \nL 148.843383 248.635814 \nL 149.818322 245.666211 \nL 150.79326 241.849248 \nL 151.768199 237.215866 \nL 153.068117 229.833872 \nL 154.368035 221.174293 \nL 155.992933 208.744844 \nL 157.94281 191.849433 \nL 160.217667 170.105478 \nL 165.092359 120.51894 \nL 168.017175 92.118691 \nL 169.967052 75.043046 \nL 171.59195 62.425584 \nL 173.216848 51.578331 \nL 174.516766 44.340503 \nL 175.816684 38.496865 \nL 176.791622 35.080497 \nL 177.766561 32.523839 \nL 178.41652 31.307543 \nL 179.066479 30.487081 \nL 179.716438 30.065411 \nL 180.366397 30.044053 \nL 181.016356 30.423083 \nL 181.666315 31.201136 \nL 182.316274 32.375406 \nL 182.966233 33.941663 \nL 183.941172 37.013291 \nL 184.916111 40.928961 \nL 185.891049 45.65693 \nL 187.190967 53.157312 \nL 188.490885 61.92489 \nL 190.115783 74.472378 \nL 192.06566 91.481116 \nL 194.665496 116.555872 \nL 202.789984 197.078196 \nL 204.739862 213.376383 \nL 206.364759 225.192687 \nL 207.664677 233.295946 \nL 208.964595 240.071755 \nL 209.939534 244.223002 \nL 210.914473 247.538588 \nL 211.889411 249.991635 \nL 212.53937 251.137699 \nL 213.189329 251.887297 \nL 213.839288 252.237726 \nL 214.489247 252.187725 \nL 215.139206 251.737474 \nL 215.789165 250.888594 \nL 216.439124 249.644146 \nL 217.089083 248.008615 \nL 218.064022 244.835312 \nL 219.038961 240.821384 \nL 220.338879 234.219029 \nL 221.638797 226.275928 \nL 223.263694 214.637632 \nL 224.888592 201.34623 \nL 226.838469 183.637566 \nL 229.763285 154.687556 \nL 235.612916 96.009354 \nL 237.887773 75.816512 \nL 239.512671 63.105555 \nL 241.137568 52.149514 \nL 242.437486 44.815277 \nL 243.737405 38.868393 \nL 244.712343 35.370994 \nL 245.687282 32.73095 \nL 246.337241 31.458088 \nL 246.9872 30.580519 \nL 247.637159 30.101404 \nL 248.287118 30.022471 \nL 248.937077 30.344004 \nL 249.587036 31.064845 \nL 250.236995 32.182395 \nL 250.886954 33.692626 \nL 251.861893 36.681962 \nL 252.836831 40.518025 \nL 253.81177 45.169719 \nL 255.111688 52.574646 \nL 256.411606 61.255163 \nL 258.036504 73.707522 \nL 259.986381 90.624975 \nL 262.261237 112.386245 \nL 271.360664 201.938996 \nL 273.310541 217.620729 \nL 274.935439 228.81742 \nL 276.235357 236.365559 \nL 277.535275 242.542035 \nL 278.510214 246.21994 \nL 279.485152 249.045995 \nL 280.135111 250.445179 \nL 280.78507 251.450393 \nL 281.435029 252.058014 \nL 282.084988 252.265852 \nL 282.734948 252.073157 \nL 283.384907 251.480625 \nL 284.034866 250.49039 \nL 284.684825 249.106023 \nL 285.659763 246.30177 \nL 286.634702 242.645005 \nL 287.60964 238.16537 \nL 288.909559 230.976192 \nL 290.209477 222.492976 \nL 291.834374 210.256999 \nL 293.784251 193.548531 \nL 296.059108 171.95286 \nL 300.283842 129.013796 \nL 303.533637 96.887454 \nL 305.808494 76.594844 \nL 307.433391 63.791337 \nL 309.058289 52.727323 \nL 310.358207 45.297225 \nL 311.658125 39.247537 \nL 312.633064 35.669368 \nL 313.608002 32.946135 \nL 314.257961 31.616802 \nL 314.907921 30.68219 \nL 315.55788 30.145666 \nL 316.207839 30.009164 \nL 316.857798 30.273176 \nL 317.507757 30.936751 \nL 318.157716 31.997497 \nL 318.807675 33.451591 \nL 319.782613 36.358412 \nL 320.757552 40.114583 \nL 321.732491 44.689655 \nL 323.032409 51.998576 \nL 324.332327 60.591384 \nL 325.957224 72.947689 \nL 327.907102 89.772595 \nL 330.181958 111.460918 \nL 334.731672 157.742924 \nL 337.656487 186.470369 \nL 339.931344 206.639104 \nL 341.556242 219.327765 \nL 343.181139 230.257837 \nL 344.481057 237.569043 \nL 345.780975 243.491252 \nL 346.755914 246.969275 \nL 347.730853 249.589375 \nL 348.380812 250.848704 \nL 349.030771 251.712608 \nL 349.68073 252.177974 \nL 350.330689 252.243124 \nL 350.980648 251.907824 \nL 351.630607 251.173283 \nL 352.280566 250.042146 \nL 352.930525 248.518492 \nL 353.905464 245.509436 \nL 354.880402 241.654289 \nL 355.855341 236.984304 \nL 357.155259 229.556475 \nL 358.455177 220.855057 \nL 360.080074 208.37984 \nL 362.029952 191.440419 \nL 364.304808 169.661926 \nL 369.82946 113.558101 \nL 369.82946 113.558101 \n\" clip-path=\"url(#pc689d8d8a1)\" style=\"fill: none; stroke: #008000; stroke-width: 1.5; stroke-linecap: square\"/>\n   </g>\n   <g id=\"patch_3\">\n    <path d=\"M 28.942188 273.312 \nL 28.942188 7.2 \n\" style=\"fill: none; stroke: #000000; stroke-width: 0.8; stroke-linejoin: miter; stroke-linecap: square\"/>\n   </g>\n   <g id=\"patch_4\">\n    <path d=\"M 386.062188 273.312 \nL 386.062188 7.2 \n\" style=\"fill: none; stroke: #000000; stroke-width: 0.8; stroke-linejoin: miter; stroke-linecap: square\"/>\n   </g>\n   <g id=\"patch_5\">\n    <path d=\"M 28.942188 273.312 \nL 386.062188 273.312 \n\" style=\"fill: none; stroke: #000000; stroke-width: 0.8; stroke-linejoin: miter; stroke-linecap: square\"/>\n   </g>\n   <g id=\"patch_6\">\n    <path d=\"M 28.942188 7.2 \nL 386.062188 7.2 \n\" style=\"fill: none; stroke: #000000; stroke-width: 0.8; stroke-linejoin: miter; stroke-linecap: square\"/>\n   </g>\n   <g id=\"legend_1\">\n    <g id=\"patch_7\">\n     <path d=\"M 35.942188 163.773187 \nL 154.832812 163.773187 \nQ 156.832812 163.773187 156.832812 161.773187 \nL 156.832812 118.738812 \nQ 156.832812 116.738812 154.832812 116.738812 \nL 35.942188 116.738812 \nQ 33.942188 116.738812 33.942188 118.738812 \nL 33.942188 161.773187 \nQ 33.942188 163.773187 35.942188 163.773187 \nz\n\" style=\"fill: #ffffff; opacity: 0.8; stroke: #cccccc; stroke-linejoin: miter\"/>\n    </g>\n    <g id=\"PathCollection_2\">\n     <g>\n      <use xlink:href=\"#mf02067e4d4\" x=\"47.942188\" y=\"125.71225\" style=\"fill: #ff0000; stroke: #ff0000\"/>\n     </g>\n    </g>\n    <g id=\"text_12\">\n     <!-- Scattered data -->\n     <g transform=\"translate(65.942188 128.33725) scale(0.1 -0.1)\">\n      <defs>\n       <path id=\"DejaVuSans-53\" d=\"M 3425 4513 \nL 3425 3897 \nQ 3066 4069 2747 4153 \nQ 2428 4238 2131 4238 \nQ 1616 4238 1336 4038 \nQ 1056 3838 1056 3469 \nQ 1056 3159 1242 3001 \nQ 1428 2844 1947 2747 \nL 2328 2669 \nQ 3034 2534 3370 2195 \nQ 3706 1856 3706 1288 \nQ 3706 609 3251 259 \nQ 2797 -91 1919 -91 \nQ 1588 -91 1214 -16 \nQ 841 59 441 206 \nL 441 856 \nQ 825 641 1194 531 \nQ 1563 422 1919 422 \nQ 2459 422 2753 634 \nQ 3047 847 3047 1241 \nQ 3047 1584 2836 1778 \nQ 2625 1972 2144 2069 \nL 1759 2144 \nQ 1053 2284 737 2584 \nQ 422 2884 422 3419 \nQ 422 4038 858 4394 \nQ 1294 4750 2059 4750 \nQ 2388 4750 2728 4690 \nQ 3069 4631 3425 4513 \nz\n\" transform=\"scale(0.015625)\"/>\n       <path id=\"DejaVuSans-63\" d=\"M 3122 3366 \nL 3122 2828 \nQ 2878 2963 2633 3030 \nQ 2388 3097 2138 3097 \nQ 1578 3097 1268 2742 \nQ 959 2388 959 1747 \nQ 959 1106 1268 751 \nQ 1578 397 2138 397 \nQ 2388 397 2633 464 \nQ 2878 531 3122 666 \nL 3122 134 \nQ 2881 22 2623 -34 \nQ 2366 -91 2075 -91 \nQ 1284 -91 818 406 \nQ 353 903 353 1747 \nQ 353 2603 823 3093 \nQ 1294 3584 2113 3584 \nQ 2378 3584 2631 3529 \nQ 2884 3475 3122 3366 \nz\n\" transform=\"scale(0.015625)\"/>\n       <path id=\"DejaVuSans-61\" d=\"M 2194 1759 \nQ 1497 1759 1228 1600 \nQ 959 1441 959 1056 \nQ 959 750 1161 570 \nQ 1363 391 1709 391 \nQ 2188 391 2477 730 \nQ 2766 1069 2766 1631 \nL 2766 1759 \nL 2194 1759 \nz\nM 3341 1997 \nL 3341 0 \nL 2766 0 \nL 2766 531 \nQ 2569 213 2275 61 \nQ 1981 -91 1556 -91 \nQ 1019 -91 701 211 \nQ 384 513 384 1019 \nQ 384 1609 779 1909 \nQ 1175 2209 1959 2209 \nL 2766 2209 \nL 2766 2266 \nQ 2766 2663 2505 2880 \nQ 2244 3097 1772 3097 \nQ 1472 3097 1187 3025 \nQ 903 2953 641 2809 \nL 641 3341 \nQ 956 3463 1253 3523 \nQ 1550 3584 1831 3584 \nQ 2591 3584 2966 3190 \nQ 3341 2797 3341 1997 \nz\n\" transform=\"scale(0.015625)\"/>\n       <path id=\"DejaVuSans-74\" d=\"M 1172 4494 \nL 1172 3500 \nL 2356 3500 \nL 2356 3053 \nL 1172 3053 \nL 1172 1153 \nQ 1172 725 1289 603 \nQ 1406 481 1766 481 \nL 2356 481 \nL 2356 0 \nL 1766 0 \nQ 1100 0 847 248 \nQ 594 497 594 1153 \nL 594 3053 \nL 172 3053 \nL 172 3500 \nL 594 3500 \nL 594 4494 \nL 1172 4494 \nz\n\" transform=\"scale(0.015625)\"/>\n       <path id=\"DejaVuSans-65\" d=\"M 3597 1894 \nL 3597 1613 \nL 953 1613 \nQ 991 1019 1311 708 \nQ 1631 397 2203 397 \nQ 2534 397 2845 478 \nQ 3156 559 3463 722 \nL 3463 178 \nQ 3153 47 2828 -22 \nQ 2503 -91 2169 -91 \nQ 1331 -91 842 396 \nQ 353 884 353 1716 \nQ 353 2575 817 3079 \nQ 1281 3584 2069 3584 \nQ 2775 3584 3186 3129 \nQ 3597 2675 3597 1894 \nz\nM 3022 2063 \nQ 3016 2534 2758 2815 \nQ 2500 3097 2075 3097 \nQ 1594 3097 1305 2825 \nQ 1016 2553 972 2059 \nL 3022 2063 \nz\n\" transform=\"scale(0.015625)\"/>\n       <path id=\"DejaVuSans-72\" d=\"M 2631 2963 \nQ 2534 3019 2420 3045 \nQ 2306 3072 2169 3072 \nQ 1681 3072 1420 2755 \nQ 1159 2438 1159 1844 \nL 1159 0 \nL 581 0 \nL 581 3500 \nL 1159 3500 \nL 1159 2956 \nQ 1341 3275 1631 3429 \nQ 1922 3584 2338 3584 \nQ 2397 3584 2469 3576 \nQ 2541 3569 2628 3553 \nL 2631 2963 \nz\n\" transform=\"scale(0.015625)\"/>\n       <path id=\"DejaVuSans-64\" d=\"M 2906 2969 \nL 2906 4863 \nL 3481 4863 \nL 3481 0 \nL 2906 0 \nL 2906 525 \nQ 2725 213 2448 61 \nQ 2172 -91 1784 -91 \nQ 1150 -91 751 415 \nQ 353 922 353 1747 \nQ 353 2572 751 3078 \nQ 1150 3584 1784 3584 \nQ 2172 3584 2448 3432 \nQ 2725 3281 2906 2969 \nz\nM 947 1747 \nQ 947 1113 1208 752 \nQ 1469 391 1925 391 \nQ 2381 391 2643 752 \nQ 2906 1113 2906 1747 \nQ 2906 2381 2643 2742 \nQ 2381 3103 1925 3103 \nQ 1469 3103 1208 2742 \nQ 947 2381 947 1747 \nz\n\" transform=\"scale(0.015625)\"/>\n       <path id=\"DejaVuSans-20\" transform=\"scale(0.015625)\"/>\n      </defs>\n      <use xlink:href=\"#DejaVuSans-53\"/>\n      <use xlink:href=\"#DejaVuSans-63\" x=\"63.476562\"/>\n      <use xlink:href=\"#DejaVuSans-61\" x=\"118.457031\"/>\n      <use xlink:href=\"#DejaVuSans-74\" x=\"179.736328\"/>\n      <use xlink:href=\"#DejaVuSans-74\" x=\"218.945312\"/>\n      <use xlink:href=\"#DejaVuSans-65\" x=\"258.154297\"/>\n      <use xlink:href=\"#DejaVuSans-72\" x=\"319.677734\"/>\n      <use xlink:href=\"#DejaVuSans-65\" x=\"358.541016\"/>\n      <use xlink:href=\"#DejaVuSans-64\" x=\"420.064453\"/>\n      <use xlink:href=\"#DejaVuSans-20\" x=\"483.541016\"/>\n      <use xlink:href=\"#DejaVuSans-64\" x=\"515.328125\"/>\n      <use xlink:href=\"#DejaVuSans-61\" x=\"578.804688\"/>\n      <use xlink:href=\"#DejaVuSans-74\" x=\"640.083984\"/>\n      <use xlink:href=\"#DejaVuSans-61\" x=\"679.292969\"/>\n     </g>\n    </g>\n    <g id=\"line2d_14\">\n     <path d=\"M 37.942188 139.515375 \nL 47.942188 139.515375 \nL 57.942188 139.515375 \n\" style=\"fill: none; stroke: #1f77b4; stroke-width: 1.5; stroke-linecap: square\"/>\n    </g>\n    <g id=\"text_13\">\n     <!-- Initial Guesses -->\n     <g transform=\"translate(65.942188 143.015375) scale(0.1 -0.1)\">\n      <defs>\n       <path id=\"DejaVuSans-49\" d=\"M 628 4666 \nL 1259 4666 \nL 1259 0 \nL 628 0 \nL 628 4666 \nz\n\" transform=\"scale(0.015625)\"/>\n       <path id=\"DejaVuSans-6e\" d=\"M 3513 2113 \nL 3513 0 \nL 2938 0 \nL 2938 2094 \nQ 2938 2591 2744 2837 \nQ 2550 3084 2163 3084 \nQ 1697 3084 1428 2787 \nQ 1159 2491 1159 1978 \nL 1159 0 \nL 581 0 \nL 581 3500 \nL 1159 3500 \nL 1159 2956 \nQ 1366 3272 1645 3428 \nQ 1925 3584 2291 3584 \nQ 2894 3584 3203 3211 \nQ 3513 2838 3513 2113 \nz\n\" transform=\"scale(0.015625)\"/>\n       <path id=\"DejaVuSans-69\" d=\"M 603 3500 \nL 1178 3500 \nL 1178 0 \nL 603 0 \nL 603 3500 \nz\nM 603 4863 \nL 1178 4863 \nL 1178 4134 \nL 603 4134 \nL 603 4863 \nz\n\" transform=\"scale(0.015625)\"/>\n       <path id=\"DejaVuSans-6c\" d=\"M 603 4863 \nL 1178 4863 \nL 1178 0 \nL 603 0 \nL 603 4863 \nz\n\" transform=\"scale(0.015625)\"/>\n       <path id=\"DejaVuSans-47\" d=\"M 3809 666 \nL 3809 1919 \nL 2778 1919 \nL 2778 2438 \nL 4434 2438 \nL 4434 434 \nQ 4069 175 3628 42 \nQ 3188 -91 2688 -91 \nQ 1594 -91 976 548 \nQ 359 1188 359 2328 \nQ 359 3472 976 4111 \nQ 1594 4750 2688 4750 \nQ 3144 4750 3555 4637 \nQ 3966 4525 4313 4306 \nL 4313 3634 \nQ 3963 3931 3569 4081 \nQ 3175 4231 2741 4231 \nQ 1884 4231 1454 3753 \nQ 1025 3275 1025 2328 \nQ 1025 1384 1454 906 \nQ 1884 428 2741 428 \nQ 3075 428 3337 486 \nQ 3600 544 3809 666 \nz\n\" transform=\"scale(0.015625)\"/>\n       <path id=\"DejaVuSans-75\" d=\"M 544 1381 \nL 544 3500 \nL 1119 3500 \nL 1119 1403 \nQ 1119 906 1312 657 \nQ 1506 409 1894 409 \nQ 2359 409 2629 706 \nQ 2900 1003 2900 1516 \nL 2900 3500 \nL 3475 3500 \nL 3475 0 \nL 2900 0 \nL 2900 538 \nQ 2691 219 2414 64 \nQ 2138 -91 1772 -91 \nQ 1169 -91 856 284 \nQ 544 659 544 1381 \nz\nM 1991 3584 \nL 1991 3584 \nz\n\" transform=\"scale(0.015625)\"/>\n       <path id=\"DejaVuSans-73\" d=\"M 2834 3397 \nL 2834 2853 \nQ 2591 2978 2328 3040 \nQ 2066 3103 1784 3103 \nQ 1356 3103 1142 2972 \nQ 928 2841 928 2578 \nQ 928 2378 1081 2264 \nQ 1234 2150 1697 2047 \nL 1894 2003 \nQ 2506 1872 2764 1633 \nQ 3022 1394 3022 966 \nQ 3022 478 2636 193 \nQ 2250 -91 1575 -91 \nQ 1294 -91 989 -36 \nQ 684 19 347 128 \nL 347 722 \nQ 666 556 975 473 \nQ 1284 391 1588 391 \nQ 1994 391 2212 530 \nQ 2431 669 2431 922 \nQ 2431 1156 2273 1281 \nQ 2116 1406 1581 1522 \nL 1381 1569 \nQ 847 1681 609 1914 \nQ 372 2147 372 2553 \nQ 372 3047 722 3315 \nQ 1072 3584 1716 3584 \nQ 2034 3584 2315 3537 \nQ 2597 3491 2834 3397 \nz\n\" transform=\"scale(0.015625)\"/>\n      </defs>\n      <use xlink:href=\"#DejaVuSans-49\"/>\n      <use xlink:href=\"#DejaVuSans-6e\" x=\"29.492188\"/>\n      <use xlink:href=\"#DejaVuSans-69\" x=\"92.871094\"/>\n      <use xlink:href=\"#DejaVuSans-74\" x=\"120.654297\"/>\n      <use xlink:href=\"#DejaVuSans-69\" x=\"159.863281\"/>\n      <use xlink:href=\"#DejaVuSans-61\" x=\"187.646484\"/>\n      <use xlink:href=\"#DejaVuSans-6c\" x=\"248.925781\"/>\n      <use xlink:href=\"#DejaVuSans-20\" x=\"276.708984\"/>\n      <use xlink:href=\"#DejaVuSans-47\" x=\"308.496094\"/>\n      <use xlink:href=\"#DejaVuSans-75\" x=\"385.986328\"/>\n      <use xlink:href=\"#DejaVuSans-65\" x=\"449.365234\"/>\n      <use xlink:href=\"#DejaVuSans-73\" x=\"510.888672\"/>\n      <use xlink:href=\"#DejaVuSans-73\" x=\"562.988281\"/>\n      <use xlink:href=\"#DejaVuSans-65\" x=\"615.087891\"/>\n      <use xlink:href=\"#DejaVuSans-73\" x=\"676.611328\"/>\n     </g>\n    </g>\n    <g id=\"line2d_15\">\n     <path d=\"M 37.942188 154.1935 \nL 47.942188 154.1935 \nL 57.942188 154.1935 \n\" style=\"fill: none; stroke: #008000; stroke-width: 1.5; stroke-linecap: square\"/>\n    </g>\n    <g id=\"text_14\">\n     <!-- Optimized values -->\n     <g transform=\"translate(65.942188 157.6935) scale(0.1 -0.1)\">\n      <defs>\n       <path id=\"DejaVuSans-4f\" d=\"M 2522 4238 \nQ 1834 4238 1429 3725 \nQ 1025 3213 1025 2328 \nQ 1025 1447 1429 934 \nQ 1834 422 2522 422 \nQ 3209 422 3611 934 \nQ 4013 1447 4013 2328 \nQ 4013 3213 3611 3725 \nQ 3209 4238 2522 4238 \nz\nM 2522 4750 \nQ 3503 4750 4090 4092 \nQ 4678 3434 4678 2328 \nQ 4678 1225 4090 567 \nQ 3503 -91 2522 -91 \nQ 1538 -91 948 565 \nQ 359 1222 359 2328 \nQ 359 3434 948 4092 \nQ 1538 4750 2522 4750 \nz\n\" transform=\"scale(0.015625)\"/>\n       <path id=\"DejaVuSans-70\" d=\"M 1159 525 \nL 1159 -1331 \nL 581 -1331 \nL 581 3500 \nL 1159 3500 \nL 1159 2969 \nQ 1341 3281 1617 3432 \nQ 1894 3584 2278 3584 \nQ 2916 3584 3314 3078 \nQ 3713 2572 3713 1747 \nQ 3713 922 3314 415 \nQ 2916 -91 2278 -91 \nQ 1894 -91 1617 61 \nQ 1341 213 1159 525 \nz\nM 3116 1747 \nQ 3116 2381 2855 2742 \nQ 2594 3103 2138 3103 \nQ 1681 3103 1420 2742 \nQ 1159 2381 1159 1747 \nQ 1159 1113 1420 752 \nQ 1681 391 2138 391 \nQ 2594 391 2855 752 \nQ 3116 1113 3116 1747 \nz\n\" transform=\"scale(0.015625)\"/>\n       <path id=\"DejaVuSans-6d\" d=\"M 3328 2828 \nQ 3544 3216 3844 3400 \nQ 4144 3584 4550 3584 \nQ 5097 3584 5394 3201 \nQ 5691 2819 5691 2113 \nL 5691 0 \nL 5113 0 \nL 5113 2094 \nQ 5113 2597 4934 2840 \nQ 4756 3084 4391 3084 \nQ 3944 3084 3684 2787 \nQ 3425 2491 3425 1978 \nL 3425 0 \nL 2847 0 \nL 2847 2094 \nQ 2847 2600 2669 2842 \nQ 2491 3084 2119 3084 \nQ 1678 3084 1418 2786 \nQ 1159 2488 1159 1978 \nL 1159 0 \nL 581 0 \nL 581 3500 \nL 1159 3500 \nL 1159 2956 \nQ 1356 3278 1631 3431 \nQ 1906 3584 2284 3584 \nQ 2666 3584 2933 3390 \nQ 3200 3197 3328 2828 \nz\n\" transform=\"scale(0.015625)\"/>\n       <path id=\"DejaVuSans-7a\" d=\"M 353 3500 \nL 3084 3500 \nL 3084 2975 \nL 922 459 \nL 3084 459 \nL 3084 0 \nL 275 0 \nL 275 525 \nL 2438 3041 \nL 353 3041 \nL 353 3500 \nz\n\" transform=\"scale(0.015625)\"/>\n       <path id=\"DejaVuSans-76\" d=\"M 191 3500 \nL 800 3500 \nL 1894 563 \nL 2988 3500 \nL 3597 3500 \nL 2284 0 \nL 1503 0 \nL 191 3500 \nz\n\" transform=\"scale(0.015625)\"/>\n      </defs>\n      <use xlink:href=\"#DejaVuSans-4f\"/>\n      <use xlink:href=\"#DejaVuSans-70\" x=\"78.710938\"/>\n      <use xlink:href=\"#DejaVuSans-74\" x=\"142.1875\"/>\n      <use xlink:href=\"#DejaVuSans-69\" x=\"181.396484\"/>\n      <use xlink:href=\"#DejaVuSans-6d\" x=\"209.179688\"/>\n      <use xlink:href=\"#DejaVuSans-69\" x=\"306.591797\"/>\n      <use xlink:href=\"#DejaVuSans-7a\" x=\"334.375\"/>\n      <use xlink:href=\"#DejaVuSans-65\" x=\"386.865234\"/>\n      <use xlink:href=\"#DejaVuSans-64\" x=\"448.388672\"/>\n      <use xlink:href=\"#DejaVuSans-20\" x=\"511.865234\"/>\n      <use xlink:href=\"#DejaVuSans-76\" x=\"543.652344\"/>\n      <use xlink:href=\"#DejaVuSans-61\" x=\"602.832031\"/>\n      <use xlink:href=\"#DejaVuSans-6c\" x=\"664.111328\"/>\n      <use xlink:href=\"#DejaVuSans-75\" x=\"691.894531\"/>\n      <use xlink:href=\"#DejaVuSans-65\" x=\"755.273438\"/>\n      <use xlink:href=\"#DejaVuSans-73\" x=\"816.796875\"/>\n     </g>\n    </g>\n   </g>\n  </g>\n </g>\n <defs>\n  <clipPath id=\"pc689d8d8a1\">\n   <rect x=\"28.942188\" y=\"7.2\" width=\"357.12\" height=\"266.112\"/>\n  </clipPath>\n </defs>\n</svg>\n",
      "text/plain": [
       "<Figure size 640x480 with 1 Axes>"
      ]
     },
     "metadata": {},
     "output_type": "display_data"
    }
   ],
   "source": [
    "t_dense = np.linspace(0, 10, 1000)\n",
    "y_dense = func(t_dense, A0, omega0, phi0) # using the initial guesses over a denser t span\n",
    "Y_dense = func(t_dense, A, omega, phi)    # using the optimized values found by curve fit\n",
    "plt.scatter(t_data, y_data, color='red')\n",
    "plt.plot(t_dense, y_dense)\n",
    "plt.plot(t_dense, Y_dense, color='green')\n",
    "plt.legend(['Scattered data','Initial Guesses', 'Optimized values'])"
   ]
  },
  {
   "cell_type": "code",
   "execution_count": 16,
   "metadata": {},
   "outputs": [
    {
     "data": {
      "text/plain": [
       "array([0.05150998, 0.00433524, 0.02591641])"
      ]
     },
     "execution_count": 16,
     "metadata": {},
     "output_type": "execute_result"
    }
   ],
   "source": [
    "# p_cov is the covariance matrix and its diagonal (the variance) is the squared error on the given arguments (A, omega, phi)\n",
    "\n",
    "err = np.sqrt(np.diag(p_cov))\n",
    "err # error, or actually standard deviation"
   ]
  },
  {
   "attachments": {},
   "cell_type": "markdown",
   "metadata": {},
   "source": [
    "This example is a testament to how important it is to visualize your data before you start fitting it and to feed the algorithm a good initial guess.\n",
    "\n",
    "Try the same example by using 1 as the initial guess for omega."
   ]
  },
  {
   "attachments": {},
   "cell_type": "markdown",
   "metadata": {},
   "source": [
    "## Special Functions\n",
    "\n",
    "Legendre polynomials are orthogonal polynomials of degree $n$ on the interval $[-1,1]$. They satisfy the following recurrence relation:\n",
    "\n",
    "$P_l(x): (1-x^2)y'' - 2xy' + l(l+1)y = 0$"
   ]
  },
  {
   "attachments": {},
   "cell_type": "markdown",
   "metadata": {},
   "source": [
    "They are used in many applications, as an example you can find the angular component of the spherical Schrödinger equation which permits non-infinite solutions to the Schrödinger equation for the hydrogen atom."
   ]
  },
  {
   "cell_type": "code",
   "execution_count": 17,
   "metadata": {},
   "outputs": [
    {
     "data": {
      "text/plain": [
       "[<matplotlib.lines.Line2D at 0x7f6529b48910>]"
      ]
     },
     "execution_count": 17,
     "metadata": {},
     "output_type": "execute_result"
    },
    {
     "data": {
      "image/svg+xml": "<?xml version=\"1.0\" encoding=\"utf-8\" standalone=\"no\"?>\n<!DOCTYPE svg PUBLIC \"-//W3C//DTD SVG 1.1//EN\"\n  \"http://www.w3.org/Graphics/SVG/1.1/DTD/svg11.dtd\">\n<svg xmlns:xlink=\"http://www.w3.org/1999/xlink\" width=\"402.802812pt\" height=\"297.190125pt\" viewBox=\"0 0 402.802812 297.190125\" xmlns=\"http://www.w3.org/2000/svg\" version=\"1.1\">\n <metadata>\n  <rdf:RDF xmlns:dc=\"http://purl.org/dc/elements/1.1/\" xmlns:cc=\"http://creativecommons.org/ns#\" xmlns:rdf=\"http://www.w3.org/1999/02/22-rdf-syntax-ns#\">\n   <cc:Work>\n    <dc:type rdf:resource=\"http://purl.org/dc/dcmitype/StillImage\"/>\n    <dc:date>2023-02-24T16:42:32.513318</dc:date>\n    <dc:format>image/svg+xml</dc:format>\n    <dc:creator>\n     <cc:Agent>\n      <dc:title>Matplotlib v3.7.0, https://matplotlib.org/</dc:title>\n     </cc:Agent>\n    </dc:creator>\n   </cc:Work>\n  </rdf:RDF>\n </metadata>\n <defs>\n  <style type=\"text/css\">*{stroke-linejoin: round; stroke-linecap: butt}</style>\n </defs>\n <g id=\"figure_1\">\n  <g id=\"patch_1\">\n   <path d=\"M 0 297.190125 \nL 402.802812 297.190125 \nL 402.802812 0 \nL 0 0 \nz\n\" style=\"fill: #ffffff\"/>\n  </g>\n  <g id=\"axes_1\">\n   <g id=\"patch_2\">\n    <path d=\"M 38.482813 273.312 \nL 395.602813 273.312 \nL 395.602813 7.2 \nL 38.482813 7.2 \nz\n\" style=\"fill: #ffffff\"/>\n   </g>\n   <g id=\"matplotlib.axis_1\">\n    <g id=\"xtick_1\">\n     <g id=\"line2d_1\">\n      <defs>\n       <path id=\"m524cecd58c\" d=\"M 0 0 \nL 0 3.5 \n\" style=\"stroke: #000000; stroke-width: 0.8\"/>\n      </defs>\n      <g>\n       <use xlink:href=\"#m524cecd58c\" x=\"54.71554\" y=\"273.312\" style=\"stroke: #000000; stroke-width: 0.8\"/>\n      </g>\n     </g>\n     <g id=\"text_1\">\n      <!-- 0.0 -->\n      <g transform=\"translate(46.763977 287.910437) scale(0.1 -0.1)\">\n       <defs>\n        <path id=\"DejaVuSans-30\" d=\"M 2034 4250 \nQ 1547 4250 1301 3770 \nQ 1056 3291 1056 2328 \nQ 1056 1369 1301 889 \nQ 1547 409 2034 409 \nQ 2525 409 2770 889 \nQ 3016 1369 3016 2328 \nQ 3016 3291 2770 3770 \nQ 2525 4250 2034 4250 \nz\nM 2034 4750 \nQ 2819 4750 3233 4129 \nQ 3647 3509 3647 2328 \nQ 3647 1150 3233 529 \nQ 2819 -91 2034 -91 \nQ 1250 -91 836 529 \nQ 422 1150 422 2328 \nQ 422 3509 836 4129 \nQ 1250 4750 2034 4750 \nz\n\" transform=\"scale(0.015625)\"/>\n        <path id=\"DejaVuSans-2e\" d=\"M 684 794 \nL 1344 794 \nL 1344 0 \nL 684 0 \nL 684 794 \nz\n\" transform=\"scale(0.015625)\"/>\n       </defs>\n       <use xlink:href=\"#DejaVuSans-30\"/>\n       <use xlink:href=\"#DejaVuSans-2e\" x=\"63.623047\"/>\n       <use xlink:href=\"#DejaVuSans-30\" x=\"95.410156\"/>\n      </g>\n     </g>\n    </g>\n    <g id=\"xtick_2\">\n     <g id=\"line2d_2\">\n      <g>\n       <use xlink:href=\"#m524cecd58c\" x=\"119.646449\" y=\"273.312\" style=\"stroke: #000000; stroke-width: 0.8\"/>\n      </g>\n     </g>\n     <g id=\"text_2\">\n      <!-- 0.2 -->\n      <g transform=\"translate(111.694886 287.910437) scale(0.1 -0.1)\">\n       <defs>\n        <path id=\"DejaVuSans-32\" d=\"M 1228 531 \nL 3431 531 \nL 3431 0 \nL 469 0 \nL 469 531 \nQ 828 903 1448 1529 \nQ 2069 2156 2228 2338 \nQ 2531 2678 2651 2914 \nQ 2772 3150 2772 3378 \nQ 2772 3750 2511 3984 \nQ 2250 4219 1831 4219 \nQ 1534 4219 1204 4116 \nQ 875 4013 500 3803 \nL 500 4441 \nQ 881 4594 1212 4672 \nQ 1544 4750 1819 4750 \nQ 2544 4750 2975 4387 \nQ 3406 4025 3406 3419 \nQ 3406 3131 3298 2873 \nQ 3191 2616 2906 2266 \nQ 2828 2175 2409 1742 \nQ 1991 1309 1228 531 \nz\n\" transform=\"scale(0.015625)\"/>\n       </defs>\n       <use xlink:href=\"#DejaVuSans-30\"/>\n       <use xlink:href=\"#DejaVuSans-2e\" x=\"63.623047\"/>\n       <use xlink:href=\"#DejaVuSans-32\" x=\"95.410156\"/>\n      </g>\n     </g>\n    </g>\n    <g id=\"xtick_3\">\n     <g id=\"line2d_3\">\n      <g>\n       <use xlink:href=\"#m524cecd58c\" x=\"184.577358\" y=\"273.312\" style=\"stroke: #000000; stroke-width: 0.8\"/>\n      </g>\n     </g>\n     <g id=\"text_3\">\n      <!-- 0.4 -->\n      <g transform=\"translate(176.625795 287.910437) scale(0.1 -0.1)\">\n       <defs>\n        <path id=\"DejaVuSans-34\" d=\"M 2419 4116 \nL 825 1625 \nL 2419 1625 \nL 2419 4116 \nz\nM 2253 4666 \nL 3047 4666 \nL 3047 1625 \nL 3713 1625 \nL 3713 1100 \nL 3047 1100 \nL 3047 0 \nL 2419 0 \nL 2419 1100 \nL 313 1100 \nL 313 1709 \nL 2253 4666 \nz\n\" transform=\"scale(0.015625)\"/>\n       </defs>\n       <use xlink:href=\"#DejaVuSans-30\"/>\n       <use xlink:href=\"#DejaVuSans-2e\" x=\"63.623047\"/>\n       <use xlink:href=\"#DejaVuSans-34\" x=\"95.410156\"/>\n      </g>\n     </g>\n    </g>\n    <g id=\"xtick_4\">\n     <g id=\"line2d_4\">\n      <g>\n       <use xlink:href=\"#m524cecd58c\" x=\"249.508267\" y=\"273.312\" style=\"stroke: #000000; stroke-width: 0.8\"/>\n      </g>\n     </g>\n     <g id=\"text_4\">\n      <!-- 0.6 -->\n      <g transform=\"translate(241.556705 287.910437) scale(0.1 -0.1)\">\n       <defs>\n        <path id=\"DejaVuSans-36\" d=\"M 2113 2584 \nQ 1688 2584 1439 2293 \nQ 1191 2003 1191 1497 \nQ 1191 994 1439 701 \nQ 1688 409 2113 409 \nQ 2538 409 2786 701 \nQ 3034 994 3034 1497 \nQ 3034 2003 2786 2293 \nQ 2538 2584 2113 2584 \nz\nM 3366 4563 \nL 3366 3988 \nQ 3128 4100 2886 4159 \nQ 2644 4219 2406 4219 \nQ 1781 4219 1451 3797 \nQ 1122 3375 1075 2522 \nQ 1259 2794 1537 2939 \nQ 1816 3084 2150 3084 \nQ 2853 3084 3261 2657 \nQ 3669 2231 3669 1497 \nQ 3669 778 3244 343 \nQ 2819 -91 2113 -91 \nQ 1303 -91 875 529 \nQ 447 1150 447 2328 \nQ 447 3434 972 4092 \nQ 1497 4750 2381 4750 \nQ 2619 4750 2861 4703 \nQ 3103 4656 3366 4563 \nz\n\" transform=\"scale(0.015625)\"/>\n       </defs>\n       <use xlink:href=\"#DejaVuSans-30\"/>\n       <use xlink:href=\"#DejaVuSans-2e\" x=\"63.623047\"/>\n       <use xlink:href=\"#DejaVuSans-36\" x=\"95.410156\"/>\n      </g>\n     </g>\n    </g>\n    <g id=\"xtick_5\">\n     <g id=\"line2d_5\">\n      <g>\n       <use xlink:href=\"#m524cecd58c\" x=\"314.439176\" y=\"273.312\" style=\"stroke: #000000; stroke-width: 0.8\"/>\n      </g>\n     </g>\n     <g id=\"text_5\">\n      <!-- 0.8 -->\n      <g transform=\"translate(306.487614 287.910437) scale(0.1 -0.1)\">\n       <defs>\n        <path id=\"DejaVuSans-38\" d=\"M 2034 2216 \nQ 1584 2216 1326 1975 \nQ 1069 1734 1069 1313 \nQ 1069 891 1326 650 \nQ 1584 409 2034 409 \nQ 2484 409 2743 651 \nQ 3003 894 3003 1313 \nQ 3003 1734 2745 1975 \nQ 2488 2216 2034 2216 \nz\nM 1403 2484 \nQ 997 2584 770 2862 \nQ 544 3141 544 3541 \nQ 544 4100 942 4425 \nQ 1341 4750 2034 4750 \nQ 2731 4750 3128 4425 \nQ 3525 4100 3525 3541 \nQ 3525 3141 3298 2862 \nQ 3072 2584 2669 2484 \nQ 3125 2378 3379 2068 \nQ 3634 1759 3634 1313 \nQ 3634 634 3220 271 \nQ 2806 -91 2034 -91 \nQ 1263 -91 848 271 \nQ 434 634 434 1313 \nQ 434 1759 690 2068 \nQ 947 2378 1403 2484 \nz\nM 1172 3481 \nQ 1172 3119 1398 2916 \nQ 1625 2713 2034 2713 \nQ 2441 2713 2670 2916 \nQ 2900 3119 2900 3481 \nQ 2900 3844 2670 4047 \nQ 2441 4250 2034 4250 \nQ 1625 4250 1398 4047 \nQ 1172 3844 1172 3481 \nz\n\" transform=\"scale(0.015625)\"/>\n       </defs>\n       <use xlink:href=\"#DejaVuSans-30\"/>\n       <use xlink:href=\"#DejaVuSans-2e\" x=\"63.623047\"/>\n       <use xlink:href=\"#DejaVuSans-38\" x=\"95.410156\"/>\n      </g>\n     </g>\n    </g>\n    <g id=\"xtick_6\">\n     <g id=\"line2d_6\">\n      <g>\n       <use xlink:href=\"#m524cecd58c\" x=\"379.370085\" y=\"273.312\" style=\"stroke: #000000; stroke-width: 0.8\"/>\n      </g>\n     </g>\n     <g id=\"text_6\">\n      <!-- 1.0 -->\n      <g transform=\"translate(371.418523 287.910437) scale(0.1 -0.1)\">\n       <defs>\n        <path id=\"DejaVuSans-31\" d=\"M 794 531 \nL 1825 531 \nL 1825 4091 \nL 703 3866 \nL 703 4441 \nL 1819 4666 \nL 2450 4666 \nL 2450 531 \nL 3481 531 \nL 3481 0 \nL 794 0 \nL 794 531 \nz\n\" transform=\"scale(0.015625)\"/>\n       </defs>\n       <use xlink:href=\"#DejaVuSans-31\"/>\n       <use xlink:href=\"#DejaVuSans-2e\" x=\"63.623047\"/>\n       <use xlink:href=\"#DejaVuSans-30\" x=\"95.410156\"/>\n      </g>\n     </g>\n    </g>\n   </g>\n   <g id=\"matplotlib.axis_2\">\n    <g id=\"ytick_1\">\n     <g id=\"line2d_7\">\n      <defs>\n       <path id=\"m0d7fa869ae\" d=\"M 0 0 \nL -3.5 0 \n\" style=\"stroke: #000000; stroke-width: 0.8\"/>\n      </defs>\n      <g>\n       <use xlink:href=\"#m0d7fa869ae\" x=\"38.482813\" y=\"258.711445\" style=\"stroke: #000000; stroke-width: 0.8\"/>\n      </g>\n     </g>\n     <g id=\"text_7\">\n      <!-- −0.4 -->\n      <g transform=\"translate(7.2 262.510663) scale(0.1 -0.1)\">\n       <defs>\n        <path id=\"DejaVuSans-2212\" d=\"M 678 2272 \nL 4684 2272 \nL 4684 1741 \nL 678 1741 \nL 678 2272 \nz\n\" transform=\"scale(0.015625)\"/>\n       </defs>\n       <use xlink:href=\"#DejaVuSans-2212\"/>\n       <use xlink:href=\"#DejaVuSans-30\" x=\"83.789062\"/>\n       <use xlink:href=\"#DejaVuSans-2e\" x=\"147.412109\"/>\n       <use xlink:href=\"#DejaVuSans-34\" x=\"179.199219\"/>\n      </g>\n     </g>\n    </g>\n    <g id=\"ytick_2\">\n     <g id=\"line2d_8\">\n      <g>\n       <use xlink:href=\"#m0d7fa869ae\" x=\"38.482813\" y=\"224.509238\" style=\"stroke: #000000; stroke-width: 0.8\"/>\n      </g>\n     </g>\n     <g id=\"text_8\">\n      <!-- −0.2 -->\n      <g transform=\"translate(7.2 228.308457) scale(0.1 -0.1)\">\n       <use xlink:href=\"#DejaVuSans-2212\"/>\n       <use xlink:href=\"#DejaVuSans-30\" x=\"83.789062\"/>\n       <use xlink:href=\"#DejaVuSans-2e\" x=\"147.412109\"/>\n       <use xlink:href=\"#DejaVuSans-32\" x=\"179.199219\"/>\n      </g>\n     </g>\n    </g>\n    <g id=\"ytick_3\">\n     <g id=\"line2d_9\">\n      <g>\n       <use xlink:href=\"#m0d7fa869ae\" x=\"38.482813\" y=\"190.307032\" style=\"stroke: #000000; stroke-width: 0.8\"/>\n      </g>\n     </g>\n     <g id=\"text_9\">\n      <!-- 0.0 -->\n      <g transform=\"translate(15.579688 194.106251) scale(0.1 -0.1)\">\n       <use xlink:href=\"#DejaVuSans-30\"/>\n       <use xlink:href=\"#DejaVuSans-2e\" x=\"63.623047\"/>\n       <use xlink:href=\"#DejaVuSans-30\" x=\"95.410156\"/>\n      </g>\n     </g>\n    </g>\n    <g id=\"ytick_4\">\n     <g id=\"line2d_10\">\n      <g>\n       <use xlink:href=\"#m0d7fa869ae\" x=\"38.482813\" y=\"156.104825\" style=\"stroke: #000000; stroke-width: 0.8\"/>\n      </g>\n     </g>\n     <g id=\"text_10\">\n      <!-- 0.2 -->\n      <g transform=\"translate(15.579688 159.904044) scale(0.1 -0.1)\">\n       <use xlink:href=\"#DejaVuSans-30\"/>\n       <use xlink:href=\"#DejaVuSans-2e\" x=\"63.623047\"/>\n       <use xlink:href=\"#DejaVuSans-32\" x=\"95.410156\"/>\n      </g>\n     </g>\n    </g>\n    <g id=\"ytick_5\">\n     <g id=\"line2d_11\">\n      <g>\n       <use xlink:href=\"#m0d7fa869ae\" x=\"38.482813\" y=\"121.902619\" style=\"stroke: #000000; stroke-width: 0.8\"/>\n      </g>\n     </g>\n     <g id=\"text_11\">\n      <!-- 0.4 -->\n      <g transform=\"translate(15.579688 125.701838) scale(0.1 -0.1)\">\n       <use xlink:href=\"#DejaVuSans-30\"/>\n       <use xlink:href=\"#DejaVuSans-2e\" x=\"63.623047\"/>\n       <use xlink:href=\"#DejaVuSans-34\" x=\"95.410156\"/>\n      </g>\n     </g>\n    </g>\n    <g id=\"ytick_6\">\n     <g id=\"line2d_12\">\n      <g>\n       <use xlink:href=\"#m0d7fa869ae\" x=\"38.482813\" y=\"87.700413\" style=\"stroke: #000000; stroke-width: 0.8\"/>\n      </g>\n     </g>\n     <g id=\"text_12\">\n      <!-- 0.6 -->\n      <g transform=\"translate(15.579688 91.499631) scale(0.1 -0.1)\">\n       <use xlink:href=\"#DejaVuSans-30\"/>\n       <use xlink:href=\"#DejaVuSans-2e\" x=\"63.623047\"/>\n       <use xlink:href=\"#DejaVuSans-36\" x=\"95.410156\"/>\n      </g>\n     </g>\n    </g>\n    <g id=\"ytick_7\">\n     <g id=\"line2d_13\">\n      <g>\n       <use xlink:href=\"#m0d7fa869ae\" x=\"38.482813\" y=\"53.498206\" style=\"stroke: #000000; stroke-width: 0.8\"/>\n      </g>\n     </g>\n     <g id=\"text_13\">\n      <!-- 0.8 -->\n      <g transform=\"translate(15.579688 57.297425) scale(0.1 -0.1)\">\n       <use xlink:href=\"#DejaVuSans-30\"/>\n       <use xlink:href=\"#DejaVuSans-2e\" x=\"63.623047\"/>\n       <use xlink:href=\"#DejaVuSans-38\" x=\"95.410156\"/>\n      </g>\n     </g>\n    </g>\n    <g id=\"ytick_8\">\n     <g id=\"line2d_14\">\n      <g>\n       <use xlink:href=\"#m0d7fa869ae\" x=\"38.482813\" y=\"19.296\" style=\"stroke: #000000; stroke-width: 0.8\"/>\n      </g>\n     </g>\n     <g id=\"text_14\">\n      <!-- 1.0 -->\n      <g transform=\"translate(15.579688 23.095219) scale(0.1 -0.1)\">\n       <use xlink:href=\"#DejaVuSans-31\"/>\n       <use xlink:href=\"#DejaVuSans-2e\" x=\"63.623047\"/>\n       <use xlink:href=\"#DejaVuSans-30\" x=\"95.410156\"/>\n      </g>\n     </g>\n    </g>\n   </g>\n   <g id=\"line2d_15\">\n    <path d=\"M 54.71554 243.747979 \nL 57.994879 243.63351 \nL 61.274217 243.290521 \nL 64.553556 242.720275 \nL 67.832895 241.924867 \nL 71.112234 240.907228 \nL 74.391573 239.671113 \nL 77.670912 238.221096 \nL 80.950251 236.562555 \nL 84.229589 234.701666 \nL 87.508928 232.645382 \nL 90.788267 230.401423 \nL 94.067606 227.978255 \nL 97.346945 225.385069 \nL 100.626284 222.631763 \nL 103.905622 219.728915 \nL 107.184961 216.687759 \nL 110.4643 213.520157 \nL 113.743639 210.238573 \nL 117.022978 206.856035 \nL 120.302317 203.386109 \nL 123.581655 199.842858 \nL 126.860994 196.240812 \nL 130.140333 192.594923 \nL 133.419672 188.920527 \nL 136.699011 185.233303 \nL 139.97835 181.549225 \nL 143.257689 177.884519 \nL 146.537027 174.255615 \nL 149.816366 170.679092 \nL 153.095705 167.171633 \nL 156.375044 163.749966 \nL 159.654383 160.430812 \nL 162.933722 157.230824 \nL 166.21306 154.16653 \nL 169.492399 151.254269 \nL 172.771738 148.510133 \nL 176.051077 145.949894 \nL 179.330416 143.588946 \nL 182.609755 141.442227 \nL 185.889093 139.524155 \nL 189.168432 137.848554 \nL 192.447771 136.428576 \nL 195.72711 135.276627 \nL 199.006449 134.40429 \nL 202.285788 133.822242 \nL 205.565127 133.540175 \nL 208.844465 133.566707 \nL 212.123804 133.909302 \nL 215.403143 134.574178 \nL 218.682482 135.566219 \nL 221.961821 136.888883 \nL 225.24116 138.544109 \nL 228.520498 140.532221 \nL 231.799837 142.851832 \nL 235.079176 145.499742 \nL 238.358515 148.47084 \nL 241.637854 151.758002 \nL 244.917193 155.35198 \nL 248.196532 159.241303 \nL 251.47587 163.412164 \nL 254.755209 167.848311 \nL 258.034548 172.530932 \nL 261.313887 177.438545 \nL 264.593226 182.54688 \nL 267.872565 187.82876 \nL 271.151903 193.253981 \nL 274.431242 198.789194 \nL 277.710581 204.397775 \nL 280.98992 210.039706 \nL 284.269259 215.671443 \nL 287.548598 221.245786 \nL 290.827936 226.711755 \nL 294.107275 232.014446 \nL 297.386614 237.094907 \nL 300.665953 241.889991 \nL 303.945292 246.332227 \nL 307.224631 250.34967 \nL 310.50397 253.865765 \nL 313.783308 256.799201 \nL 317.062647 259.063763 \nL 320.341986 260.568185 \nL 323.621325 261.216 \nL 326.900664 260.905388 \nL 330.180003 259.529021 \nL 333.459341 256.97391 \nL 336.73868 253.121242 \nL 340.018019 247.846228 \nL 343.297358 241.017935 \nL 346.576697 232.499125 \nL 349.856036 222.146091 \nL 353.135374 209.808489 \nL 356.414713 195.329167 \nL 359.694052 178.543999 \nL 362.973391 159.281705 \nL 366.25273 137.363685 \nL 369.532069 112.603835 \nL 372.811408 84.808373 \nL 376.090746 53.775656 \nL 379.370085 19.296 \n\" clip-path=\"url(#pc65c6706e5)\" style=\"fill: none; stroke: #1f77b4; stroke-width: 1.5; stroke-linecap: square\"/>\n   </g>\n   <g id=\"patch_3\">\n    <path d=\"M 38.482813 273.312 \nL 38.482813 7.2 \n\" style=\"fill: none; stroke: #000000; stroke-width: 0.8; stroke-linejoin: miter; stroke-linecap: square\"/>\n   </g>\n   <g id=\"patch_4\">\n    <path d=\"M 395.602813 273.312 \nL 395.602813 7.2 \n\" style=\"fill: none; stroke: #000000; stroke-width: 0.8; stroke-linejoin: miter; stroke-linecap: square\"/>\n   </g>\n   <g id=\"patch_5\">\n    <path d=\"M 38.482813 273.312 \nL 395.602813 273.312 \n\" style=\"fill: none; stroke: #000000; stroke-width: 0.8; stroke-linejoin: miter; stroke-linecap: square\"/>\n   </g>\n   <g id=\"patch_6\">\n    <path d=\"M 38.482813 7.2 \nL 395.602813 7.2 \n\" style=\"fill: none; stroke: #000000; stroke-width: 0.8; stroke-linejoin: miter; stroke-linecap: square\"/>\n   </g>\n  </g>\n </g>\n <defs>\n  <clipPath id=\"pc65c6706e5\">\n   <rect x=\"38.482813\" y=\"7.2\" width=\"357.12\" height=\"266.112\"/>\n  </clipPath>\n </defs>\n</svg>\n",
      "text/plain": [
       "<Figure size 640x480 with 1 Axes>"
      ]
     },
     "metadata": {},
     "output_type": "display_data"
    }
   ],
   "source": [
    "from scipy.special import legendre\n",
    "x = np.linspace(0, 1, 100)\n",
    "plt.plot(x, legendre(6)(x))"
   ]
  },
  {
   "attachments": {},
   "cell_type": "markdown",
   "metadata": {},
   "source": [
    "Bessel functions: $J_\\alpha(x)$: $x^2y'' + xy' + (x^2 - \\alpha^2)y = 0$"
   ]
  },
  {
   "attachments": {},
   "cell_type": "markdown",
   "metadata": {},
   "source": [
    "Bessel functions are a family of solutions to the Bessel differential equation. They are used in many applications, as an example you can evaluate Laplace's equation in Polar Coordinates."
   ]
  },
  {
   "cell_type": "code",
   "execution_count": 18,
   "metadata": {},
   "outputs": [
    {
     "data": {
      "text/plain": [
       "[<matplotlib.lines.Line2D at 0x7f652964f250>]"
      ]
     },
     "execution_count": 18,
     "metadata": {},
     "output_type": "execute_result"
    },
    {
     "data": {
      "image/svg+xml": "<?xml version=\"1.0\" encoding=\"utf-8\" standalone=\"no\"?>\n<!DOCTYPE svg PUBLIC \"-//W3C//DTD SVG 1.1//EN\"\n  \"http://www.w3.org/Graphics/SVG/1.1/DTD/svg11.dtd\">\n<svg xmlns:xlink=\"http://www.w3.org/1999/xlink\" width=\"402.802812pt\" height=\"297.190125pt\" viewBox=\"0 0 402.802812 297.190125\" xmlns=\"http://www.w3.org/2000/svg\" version=\"1.1\">\n <metadata>\n  <rdf:RDF xmlns:dc=\"http://purl.org/dc/elements/1.1/\" xmlns:cc=\"http://creativecommons.org/ns#\" xmlns:rdf=\"http://www.w3.org/1999/02/22-rdf-syntax-ns#\">\n   <cc:Work>\n    <dc:type rdf:resource=\"http://purl.org/dc/dcmitype/StillImage\"/>\n    <dc:date>2023-02-24T17:02:50.230960</dc:date>\n    <dc:format>image/svg+xml</dc:format>\n    <dc:creator>\n     <cc:Agent>\n      <dc:title>Matplotlib v3.7.0, https://matplotlib.org/</dc:title>\n     </cc:Agent>\n    </dc:creator>\n   </cc:Work>\n  </rdf:RDF>\n </metadata>\n <defs>\n  <style type=\"text/css\">*{stroke-linejoin: round; stroke-linecap: butt}</style>\n </defs>\n <g id=\"figure_1\">\n  <g id=\"patch_1\">\n   <path d=\"M 0 297.190125 \nL 402.802812 297.190125 \nL 402.802812 0 \nL 0 0 \nz\n\" style=\"fill: #ffffff\"/>\n  </g>\n  <g id=\"axes_1\">\n   <g id=\"patch_2\">\n    <path d=\"M 38.482813 273.312 \nL 395.602813 273.312 \nL 395.602813 7.2 \nL 38.482813 7.2 \nz\n\" style=\"fill: #ffffff\"/>\n   </g>\n   <g id=\"matplotlib.axis_1\">\n    <g id=\"xtick_1\">\n     <g id=\"line2d_1\">\n      <defs>\n       <path id=\"m16c6b16f3c\" d=\"M 0 0 \nL 0 3.5 \n\" style=\"stroke: #000000; stroke-width: 0.8\"/>\n      </defs>\n      <g>\n       <use xlink:href=\"#m16c6b16f3c\" x=\"54.71554\" y=\"273.312\" style=\"stroke: #000000; stroke-width: 0.8\"/>\n      </g>\n     </g>\n     <g id=\"text_1\">\n      <!-- 0 -->\n      <g transform=\"translate(51.53429 287.910437) scale(0.1 -0.1)\">\n       <defs>\n        <path id=\"DejaVuSans-30\" d=\"M 2034 4250 \nQ 1547 4250 1301 3770 \nQ 1056 3291 1056 2328 \nQ 1056 1369 1301 889 \nQ 1547 409 2034 409 \nQ 2525 409 2770 889 \nQ 3016 1369 3016 2328 \nQ 3016 3291 2770 3770 \nQ 2525 4250 2034 4250 \nz\nM 2034 4750 \nQ 2819 4750 3233 4129 \nQ 3647 3509 3647 2328 \nQ 3647 1150 3233 529 \nQ 2819 -91 2034 -91 \nQ 1250 -91 836 529 \nQ 422 1150 422 2328 \nQ 422 3509 836 4129 \nQ 1250 4750 2034 4750 \nz\n\" transform=\"scale(0.015625)\"/>\n       </defs>\n       <use xlink:href=\"#DejaVuSans-30\"/>\n      </g>\n     </g>\n    </g>\n    <g id=\"xtick_2\">\n     <g id=\"line2d_2\">\n      <g>\n       <use xlink:href=\"#m16c6b16f3c\" x=\"119.646449\" y=\"273.312\" style=\"stroke: #000000; stroke-width: 0.8\"/>\n      </g>\n     </g>\n     <g id=\"text_2\">\n      <!-- 2 -->\n      <g transform=\"translate(116.465199 287.910437) scale(0.1 -0.1)\">\n       <defs>\n        <path id=\"DejaVuSans-32\" d=\"M 1228 531 \nL 3431 531 \nL 3431 0 \nL 469 0 \nL 469 531 \nQ 828 903 1448 1529 \nQ 2069 2156 2228 2338 \nQ 2531 2678 2651 2914 \nQ 2772 3150 2772 3378 \nQ 2772 3750 2511 3984 \nQ 2250 4219 1831 4219 \nQ 1534 4219 1204 4116 \nQ 875 4013 500 3803 \nL 500 4441 \nQ 881 4594 1212 4672 \nQ 1544 4750 1819 4750 \nQ 2544 4750 2975 4387 \nQ 3406 4025 3406 3419 \nQ 3406 3131 3298 2873 \nQ 3191 2616 2906 2266 \nQ 2828 2175 2409 1742 \nQ 1991 1309 1228 531 \nz\n\" transform=\"scale(0.015625)\"/>\n       </defs>\n       <use xlink:href=\"#DejaVuSans-32\"/>\n      </g>\n     </g>\n    </g>\n    <g id=\"xtick_3\">\n     <g id=\"line2d_3\">\n      <g>\n       <use xlink:href=\"#m16c6b16f3c\" x=\"184.577358\" y=\"273.312\" style=\"stroke: #000000; stroke-width: 0.8\"/>\n      </g>\n     </g>\n     <g id=\"text_3\">\n      <!-- 4 -->\n      <g transform=\"translate(181.396108 287.910437) scale(0.1 -0.1)\">\n       <defs>\n        <path id=\"DejaVuSans-34\" d=\"M 2419 4116 \nL 825 1625 \nL 2419 1625 \nL 2419 4116 \nz\nM 2253 4666 \nL 3047 4666 \nL 3047 1625 \nL 3713 1625 \nL 3713 1100 \nL 3047 1100 \nL 3047 0 \nL 2419 0 \nL 2419 1100 \nL 313 1100 \nL 313 1709 \nL 2253 4666 \nz\n\" transform=\"scale(0.015625)\"/>\n       </defs>\n       <use xlink:href=\"#DejaVuSans-34\"/>\n      </g>\n     </g>\n    </g>\n    <g id=\"xtick_4\">\n     <g id=\"line2d_4\">\n      <g>\n       <use xlink:href=\"#m16c6b16f3c\" x=\"249.508267\" y=\"273.312\" style=\"stroke: #000000; stroke-width: 0.8\"/>\n      </g>\n     </g>\n     <g id=\"text_4\">\n      <!-- 6 -->\n      <g transform=\"translate(246.327017 287.910437) scale(0.1 -0.1)\">\n       <defs>\n        <path id=\"DejaVuSans-36\" d=\"M 2113 2584 \nQ 1688 2584 1439 2293 \nQ 1191 2003 1191 1497 \nQ 1191 994 1439 701 \nQ 1688 409 2113 409 \nQ 2538 409 2786 701 \nQ 3034 994 3034 1497 \nQ 3034 2003 2786 2293 \nQ 2538 2584 2113 2584 \nz\nM 3366 4563 \nL 3366 3988 \nQ 3128 4100 2886 4159 \nQ 2644 4219 2406 4219 \nQ 1781 4219 1451 3797 \nQ 1122 3375 1075 2522 \nQ 1259 2794 1537 2939 \nQ 1816 3084 2150 3084 \nQ 2853 3084 3261 2657 \nQ 3669 2231 3669 1497 \nQ 3669 778 3244 343 \nQ 2819 -91 2113 -91 \nQ 1303 -91 875 529 \nQ 447 1150 447 2328 \nQ 447 3434 972 4092 \nQ 1497 4750 2381 4750 \nQ 2619 4750 2861 4703 \nQ 3103 4656 3366 4563 \nz\n\" transform=\"scale(0.015625)\"/>\n       </defs>\n       <use xlink:href=\"#DejaVuSans-36\"/>\n      </g>\n     </g>\n    </g>\n    <g id=\"xtick_5\">\n     <g id=\"line2d_5\">\n      <g>\n       <use xlink:href=\"#m16c6b16f3c\" x=\"314.439176\" y=\"273.312\" style=\"stroke: #000000; stroke-width: 0.8\"/>\n      </g>\n     </g>\n     <g id=\"text_5\">\n      <!-- 8 -->\n      <g transform=\"translate(311.257926 287.910437) scale(0.1 -0.1)\">\n       <defs>\n        <path id=\"DejaVuSans-38\" d=\"M 2034 2216 \nQ 1584 2216 1326 1975 \nQ 1069 1734 1069 1313 \nQ 1069 891 1326 650 \nQ 1584 409 2034 409 \nQ 2484 409 2743 651 \nQ 3003 894 3003 1313 \nQ 3003 1734 2745 1975 \nQ 2488 2216 2034 2216 \nz\nM 1403 2484 \nQ 997 2584 770 2862 \nQ 544 3141 544 3541 \nQ 544 4100 942 4425 \nQ 1341 4750 2034 4750 \nQ 2731 4750 3128 4425 \nQ 3525 4100 3525 3541 \nQ 3525 3141 3298 2862 \nQ 3072 2584 2669 2484 \nQ 3125 2378 3379 2068 \nQ 3634 1759 3634 1313 \nQ 3634 634 3220 271 \nQ 2806 -91 2034 -91 \nQ 1263 -91 848 271 \nQ 434 634 434 1313 \nQ 434 1759 690 2068 \nQ 947 2378 1403 2484 \nz\nM 1172 3481 \nQ 1172 3119 1398 2916 \nQ 1625 2713 2034 2713 \nQ 2441 2713 2670 2916 \nQ 2900 3119 2900 3481 \nQ 2900 3844 2670 4047 \nQ 2441 4250 2034 4250 \nQ 1625 4250 1398 4047 \nQ 1172 3844 1172 3481 \nz\n\" transform=\"scale(0.015625)\"/>\n       </defs>\n       <use xlink:href=\"#DejaVuSans-38\"/>\n      </g>\n     </g>\n    </g>\n    <g id=\"xtick_6\">\n     <g id=\"line2d_6\">\n      <g>\n       <use xlink:href=\"#m16c6b16f3c\" x=\"379.370085\" y=\"273.312\" style=\"stroke: #000000; stroke-width: 0.8\"/>\n      </g>\n     </g>\n     <g id=\"text_6\">\n      <!-- 10 -->\n      <g transform=\"translate(373.007585 287.910437) scale(0.1 -0.1)\">\n       <defs>\n        <path id=\"DejaVuSans-31\" d=\"M 794 531 \nL 1825 531 \nL 1825 4091 \nL 703 3866 \nL 703 4441 \nL 1819 4666 \nL 2450 4666 \nL 2450 531 \nL 3481 531 \nL 3481 0 \nL 794 0 \nL 794 531 \nz\n\" transform=\"scale(0.015625)\"/>\n       </defs>\n       <use xlink:href=\"#DejaVuSans-31\"/>\n       <use xlink:href=\"#DejaVuSans-30\" x=\"63.623047\"/>\n      </g>\n     </g>\n    </g>\n   </g>\n   <g id=\"matplotlib.axis_2\">\n    <g id=\"ytick_1\">\n     <g id=\"line2d_7\">\n      <defs>\n       <path id=\"m7eac9b14ab\" d=\"M 0 0 \nL -3.5 0 \n\" style=\"stroke: #000000; stroke-width: 0.8\"/>\n      </defs>\n      <g>\n       <use xlink:href=\"#m7eac9b14ab\" x=\"38.482813\" y=\"264.21694\" style=\"stroke: #000000; stroke-width: 0.8\"/>\n      </g>\n     </g>\n     <g id=\"text_7\">\n      <!-- −0.3 -->\n      <g transform=\"translate(7.2 268.016159) scale(0.1 -0.1)\">\n       <defs>\n        <path id=\"DejaVuSans-2212\" d=\"M 678 2272 \nL 4684 2272 \nL 4684 1741 \nL 678 1741 \nL 678 2272 \nz\n\" transform=\"scale(0.015625)\"/>\n        <path id=\"DejaVuSans-2e\" d=\"M 684 794 \nL 1344 794 \nL 1344 0 \nL 684 0 \nL 684 794 \nz\n\" transform=\"scale(0.015625)\"/>\n        <path id=\"DejaVuSans-33\" d=\"M 2597 2516 \nQ 3050 2419 3304 2112 \nQ 3559 1806 3559 1356 \nQ 3559 666 3084 287 \nQ 2609 -91 1734 -91 \nQ 1441 -91 1130 -33 \nQ 819 25 488 141 \nL 488 750 \nQ 750 597 1062 519 \nQ 1375 441 1716 441 \nQ 2309 441 2620 675 \nQ 2931 909 2931 1356 \nQ 2931 1769 2642 2001 \nQ 2353 2234 1838 2234 \nL 1294 2234 \nL 1294 2753 \nL 1863 2753 \nQ 2328 2753 2575 2939 \nQ 2822 3125 2822 3475 \nQ 2822 3834 2567 4026 \nQ 2313 4219 1838 4219 \nQ 1578 4219 1281 4162 \nQ 984 4106 628 3988 \nL 628 4550 \nQ 988 4650 1302 4700 \nQ 1616 4750 1894 4750 \nQ 2613 4750 3031 4423 \nQ 3450 4097 3450 3541 \nQ 3450 3153 3228 2886 \nQ 3006 2619 2597 2516 \nz\n\" transform=\"scale(0.015625)\"/>\n       </defs>\n       <use xlink:href=\"#DejaVuSans-2212\"/>\n       <use xlink:href=\"#DejaVuSans-30\" x=\"83.789062\"/>\n       <use xlink:href=\"#DejaVuSans-2e\" x=\"147.412109\"/>\n       <use xlink:href=\"#DejaVuSans-33\" x=\"179.199219\"/>\n      </g>\n     </g>\n    </g>\n    <g id=\"ytick_2\">\n     <g id=\"line2d_8\">\n      <g>\n       <use xlink:href=\"#m7eac9b14ab\" x=\"38.482813\" y=\"230.858637\" style=\"stroke: #000000; stroke-width: 0.8\"/>\n      </g>\n     </g>\n     <g id=\"text_8\">\n      <!-- −0.2 -->\n      <g transform=\"translate(7.2 234.657855) scale(0.1 -0.1)\">\n       <use xlink:href=\"#DejaVuSans-2212\"/>\n       <use xlink:href=\"#DejaVuSans-30\" x=\"83.789062\"/>\n       <use xlink:href=\"#DejaVuSans-2e\" x=\"147.412109\"/>\n       <use xlink:href=\"#DejaVuSans-32\" x=\"179.199219\"/>\n      </g>\n     </g>\n    </g>\n    <g id=\"ytick_3\">\n     <g id=\"line2d_9\">\n      <g>\n       <use xlink:href=\"#m7eac9b14ab\" x=\"38.482813\" y=\"197.500333\" style=\"stroke: #000000; stroke-width: 0.8\"/>\n      </g>\n     </g>\n     <g id=\"text_9\">\n      <!-- −0.1 -->\n      <g transform=\"translate(7.2 201.299552) scale(0.1 -0.1)\">\n       <use xlink:href=\"#DejaVuSans-2212\"/>\n       <use xlink:href=\"#DejaVuSans-30\" x=\"83.789062\"/>\n       <use xlink:href=\"#DejaVuSans-2e\" x=\"147.412109\"/>\n       <use xlink:href=\"#DejaVuSans-31\" x=\"179.199219\"/>\n      </g>\n     </g>\n    </g>\n    <g id=\"ytick_4\">\n     <g id=\"line2d_10\">\n      <g>\n       <use xlink:href=\"#m7eac9b14ab\" x=\"38.482813\" y=\"164.142029\" style=\"stroke: #000000; stroke-width: 0.8\"/>\n      </g>\n     </g>\n     <g id=\"text_10\">\n      <!-- 0.0 -->\n      <g transform=\"translate(15.579688 167.941248) scale(0.1 -0.1)\">\n       <use xlink:href=\"#DejaVuSans-30\"/>\n       <use xlink:href=\"#DejaVuSans-2e\" x=\"63.623047\"/>\n       <use xlink:href=\"#DejaVuSans-30\" x=\"95.410156\"/>\n      </g>\n     </g>\n    </g>\n    <g id=\"ytick_5\">\n     <g id=\"line2d_11\">\n      <g>\n       <use xlink:href=\"#m7eac9b14ab\" x=\"38.482813\" y=\"130.783725\" style=\"stroke: #000000; stroke-width: 0.8\"/>\n      </g>\n     </g>\n     <g id=\"text_11\">\n      <!-- 0.1 -->\n      <g transform=\"translate(15.579688 134.582944) scale(0.1 -0.1)\">\n       <use xlink:href=\"#DejaVuSans-30\"/>\n       <use xlink:href=\"#DejaVuSans-2e\" x=\"63.623047\"/>\n       <use xlink:href=\"#DejaVuSans-31\" x=\"95.410156\"/>\n      </g>\n     </g>\n    </g>\n    <g id=\"ytick_6\">\n     <g id=\"line2d_12\">\n      <g>\n       <use xlink:href=\"#m7eac9b14ab\" x=\"38.482813\" y=\"97.425422\" style=\"stroke: #000000; stroke-width: 0.8\"/>\n      </g>\n     </g>\n     <g id=\"text_12\">\n      <!-- 0.2 -->\n      <g transform=\"translate(15.579688 101.22464) scale(0.1 -0.1)\">\n       <use xlink:href=\"#DejaVuSans-30\"/>\n       <use xlink:href=\"#DejaVuSans-2e\" x=\"63.623047\"/>\n       <use xlink:href=\"#DejaVuSans-32\" x=\"95.410156\"/>\n      </g>\n     </g>\n    </g>\n    <g id=\"ytick_7\">\n     <g id=\"line2d_13\">\n      <g>\n       <use xlink:href=\"#m7eac9b14ab\" x=\"38.482813\" y=\"64.067118\" style=\"stroke: #000000; stroke-width: 0.8\"/>\n      </g>\n     </g>\n     <g id=\"text_13\">\n      <!-- 0.3 -->\n      <g transform=\"translate(15.579688 67.866337) scale(0.1 -0.1)\">\n       <use xlink:href=\"#DejaVuSans-30\"/>\n       <use xlink:href=\"#DejaVuSans-2e\" x=\"63.623047\"/>\n       <use xlink:href=\"#DejaVuSans-33\" x=\"95.410156\"/>\n      </g>\n     </g>\n    </g>\n    <g id=\"ytick_8\">\n     <g id=\"line2d_14\">\n      <g>\n       <use xlink:href=\"#m7eac9b14ab\" x=\"38.482813\" y=\"30.708814\" style=\"stroke: #000000; stroke-width: 0.8\"/>\n      </g>\n     </g>\n     <g id=\"text_14\">\n      <!-- 0.4 -->\n      <g transform=\"translate(15.579688 34.508033) scale(0.1 -0.1)\">\n       <use xlink:href=\"#DejaVuSans-30\"/>\n       <use xlink:href=\"#DejaVuSans-2e\" x=\"63.623047\"/>\n       <use xlink:href=\"#DejaVuSans-34\" x=\"95.410156\"/>\n      </g>\n     </g>\n    </g>\n   </g>\n   <g id=\"line2d_15\">\n    <path d=\"M 54.71554 164.142029 \nL 57.994879 164.134871 \nL 61.274217 164.084876 \nL 64.553556 163.949752 \nL 67.832895 163.688295 \nL 71.112234 163.260914 \nL 74.391573 162.630147 \nL 77.670912 161.761145 \nL 80.950251 160.622135 \nL 84.229589 159.184847 \nL 87.508928 157.424904 \nL 90.788267 155.322169 \nL 94.067606 152.861048 \nL 97.346945 150.030743 \nL 100.626284 146.825454 \nL 103.905622 143.244523 \nL 107.184961 139.292526 \nL 110.4643 134.979311 \nL 113.743639 130.319965 \nL 117.022978 125.334741 \nL 120.302317 120.048911 \nL 123.581655 114.492576 \nL 126.860994 108.700415 \nL 130.140333 102.71138 \nL 133.419672 96.568349 \nL 136.699011 90.31773 \nL 139.97835 84.009017 \nL 143.257689 77.694319 \nL 146.537027 71.427851 \nL 149.816366 65.265394 \nL 153.095705 59.263737 \nL 156.375044 53.480101 \nL 159.654383 47.971552 \nL 162.933722 42.794408 \nL 166.21306 38.003648 \nL 169.492399 33.652326 \nL 172.771738 29.790998 \nL 176.051077 26.467174 \nL 179.330416 23.724782 \nL 182.609755 21.603677 \nL 185.889093 20.139169 \nL 189.168432 19.361609 \nL 192.447771 19.296 \nL 195.72711 19.961676 \nL 199.006449 21.372018 \nL 202.285788 23.534233 \nL 205.565127 26.449193 \nL 208.844465 30.111326 \nL 212.123804 34.508574 \nL 215.403143 39.622414 \nL 218.682482 45.427941 \nL 221.961821 51.894008 \nL 225.24116 58.983435 \nL 228.520498 66.653273 \nL 231.799837 74.855123 \nL 235.079176 83.535517 \nL 238.358515 92.636343 \nL 241.637854 102.095323 \nL 244.917193 111.846527 \nL 248.196532 121.820934 \nL 251.47587 131.94702 \nL 254.755209 142.151375 \nL 258.034548 152.359344 \nL 261.313887 162.495682 \nL 264.593226 172.485219 \nL 267.872565 182.253529 \nL 271.151903 191.727597 \nL 274.431242 200.836473 \nL 277.710581 209.511916 \nL 280.98992 217.689011 \nL 284.269259 225.306764 \nL 287.548598 232.308655 \nL 290.827936 238.643165 \nL 294.107275 244.264247 \nL 297.386614 249.131754 \nL 300.665953 253.211815 \nL 303.945292 256.477155 \nL 307.224631 258.90735 \nL 310.50397 260.489029 \nL 313.783308 261.216 \nL 317.062647 261.089325 \nL 320.341986 260.117317 \nL 323.621325 258.315472 \nL 326.900664 255.706344 \nL 330.180003 252.319341 \nL 333.459341 248.190471 \nL 336.73868 243.36202 \nL 340.018019 237.882171 \nL 343.297358 231.804576 \nL 346.576697 225.187868 \nL 349.856036 218.095134 \nL 353.135374 210.593343 \nL 356.414713 202.752742 \nL 359.694052 194.646219 \nL 362.973391 186.348641 \nL 366.25273 177.936177 \nL 369.532069 169.485607 \nL 372.811408 161.073629 \nL 376.090746 152.77616 \nL 379.370085 144.667658 \n\" clip-path=\"url(#p0debdd4b42)\" style=\"fill: none; stroke: #1f77b4; stroke-width: 1.5; stroke-linecap: square\"/>\n   </g>\n   <g id=\"patch_3\">\n    <path d=\"M 38.482813 273.312 \nL 38.482813 7.2 \n\" style=\"fill: none; stroke: #000000; stroke-width: 0.8; stroke-linejoin: miter; stroke-linecap: square\"/>\n   </g>\n   <g id=\"patch_4\">\n    <path d=\"M 395.602813 273.312 \nL 395.602813 7.2 \n\" style=\"fill: none; stroke: #000000; stroke-width: 0.8; stroke-linejoin: miter; stroke-linecap: square\"/>\n   </g>\n   <g id=\"patch_5\">\n    <path d=\"M 38.482813 273.312 \nL 395.602813 273.312 \n\" style=\"fill: none; stroke: #000000; stroke-width: 0.8; stroke-linejoin: miter; stroke-linecap: square\"/>\n   </g>\n   <g id=\"patch_6\">\n    <path d=\"M 38.482813 7.2 \nL 395.602813 7.2 \n\" style=\"fill: none; stroke: #000000; stroke-width: 0.8; stroke-linejoin: miter; stroke-linecap: square\"/>\n   </g>\n  </g>\n </g>\n <defs>\n  <clipPath id=\"p0debdd4b42\">\n   <rect x=\"38.482813\" y=\"7.2\" width=\"357.12\" height=\"266.112\"/>\n  </clipPath>\n </defs>\n</svg>\n",
      "text/plain": [
       "<Figure size 640x480 with 1 Axes>"
      ]
     },
     "metadata": {},
     "output_type": "display_data"
    }
   ],
   "source": [
    "from scipy.special import jv \n",
    "x = np.linspace(0, 10, 100)\n",
    "plt.plot(x, jv(3, x))"
   ]
  },
  {
   "attachments": {},
   "cell_type": "markdown",
   "metadata": {},
   "source": [
    "## Calculus"
   ]
  },
  {
   "attachments": {},
   "cell_type": "markdown",
   "metadata": {},
   "source": [
    "### Differentiation\n",
    "\n",
    "A very interesting consideration about derivation in **SciPy** is that it uses a different approach to differentiation compared to **NumPy**, where the most common function is `np.gradient`, which computes derivatives using finite differences.\n",
    "\n",
    "On the other hand, **SciPy** provides more advanced differentiation methods, such as the central difference formula, which provides a more accurate estimate of the derivative. In addition to this, the optimized routines in **SciPy** generally lead to better results and fsster convergence."
   ]
  },
  {
   "cell_type": "code",
   "execution_count": 19,
   "metadata": {},
   "outputs": [],
   "source": [
    "from scipy.misc import derivative"
   ]
  },
  {
   "cell_type": "code",
   "execution_count": 20,
   "metadata": {},
   "outputs": [],
   "source": [
    "def f(x):\n",
    "    return x**2 * np.sin(2*x) * np.exp(-x)\n",
    "\n",
    "x = np.linspace(0, 1, 100)"
   ]
  },
  {
   "attachments": {},
   "cell_type": "markdown",
   "metadata": {},
   "source": [
    "The **SciPy** approach is more useful when working with explicitly defined functions, as it allows you to compute derivatives of functions that are not defined at a point, whereas the **NumPy** approach is more useful when working with data points stored in arrays."
   ]
  },
  {
   "cell_type": "code",
   "execution_count": 32,
   "metadata": {},
   "outputs": [
    {
     "data": {
      "text/plain": [
       "<matplotlib.legend.Legend at 0x7f6522c66a50>"
      ]
     },
     "execution_count": 32,
     "metadata": {},
     "output_type": "execute_result"
    },
    {
     "data": {
      "image/svg+xml": "<?xml version=\"1.0\" encoding=\"utf-8\" standalone=\"no\"?>\n<!DOCTYPE svg PUBLIC \"-//W3C//DTD SVG 1.1//EN\"\n  \"http://www.w3.org/Graphics/SVG/1.1/DTD/svg11.dtd\">\n<svg xmlns:xlink=\"http://www.w3.org/1999/xlink\" width=\"402.802812pt\" height=\"310.86825pt\" viewBox=\"0 0 402.802812 310.86825\" xmlns=\"http://www.w3.org/2000/svg\" version=\"1.1\">\n <metadata>\n  <rdf:RDF xmlns:dc=\"http://purl.org/dc/elements/1.1/\" xmlns:cc=\"http://creativecommons.org/ns#\" xmlns:rdf=\"http://www.w3.org/1999/02/22-rdf-syntax-ns#\">\n   <cc:Work>\n    <dc:type rdf:resource=\"http://purl.org/dc/dcmitype/StillImage\"/>\n    <dc:date>2023-02-24T17:34:19.136139</dc:date>\n    <dc:format>image/svg+xml</dc:format>\n    <dc:creator>\n     <cc:Agent>\n      <dc:title>Matplotlib v3.7.0, https://matplotlib.org/</dc:title>\n     </cc:Agent>\n    </dc:creator>\n   </cc:Work>\n  </rdf:RDF>\n </metadata>\n <defs>\n  <style type=\"text/css\">*{stroke-linejoin: round; stroke-linecap: butt}</style>\n </defs>\n <g id=\"figure_1\">\n  <g id=\"patch_1\">\n   <path d=\"M 0 310.86825 \nL 402.802812 310.86825 \nL 402.802812 0 \nL 0 0 \nz\n\" style=\"fill: #ffffff\"/>\n  </g>\n  <g id=\"axes_1\">\n   <g id=\"patch_2\">\n    <path d=\"M 38.482813 273.312 \nL 395.602813 273.312 \nL 395.602813 7.2 \nL 38.482813 7.2 \nz\n\" style=\"fill: #ffffff\"/>\n   </g>\n   <g id=\"matplotlib.axis_1\">\n    <g id=\"xtick_1\">\n     <g id=\"line2d_1\">\n      <defs>\n       <path id=\"m4c869fbd1f\" d=\"M 0 0 \nL 0 3.5 \n\" style=\"stroke: #000000; stroke-width: 0.8\"/>\n      </defs>\n      <g>\n       <use xlink:href=\"#m4c869fbd1f\" x=\"54.71554\" y=\"273.312\" style=\"stroke: #000000; stroke-width: 0.8\"/>\n      </g>\n     </g>\n     <g id=\"text_1\">\n      <!-- 0.0 -->\n      <g transform=\"translate(46.763977 287.910437) scale(0.1 -0.1)\">\n       <defs>\n        <path id=\"DejaVuSans-30\" d=\"M 2034 4250 \nQ 1547 4250 1301 3770 \nQ 1056 3291 1056 2328 \nQ 1056 1369 1301 889 \nQ 1547 409 2034 409 \nQ 2525 409 2770 889 \nQ 3016 1369 3016 2328 \nQ 3016 3291 2770 3770 \nQ 2525 4250 2034 4250 \nz\nM 2034 4750 \nQ 2819 4750 3233 4129 \nQ 3647 3509 3647 2328 \nQ 3647 1150 3233 529 \nQ 2819 -91 2034 -91 \nQ 1250 -91 836 529 \nQ 422 1150 422 2328 \nQ 422 3509 836 4129 \nQ 1250 4750 2034 4750 \nz\n\" transform=\"scale(0.015625)\"/>\n        <path id=\"DejaVuSans-2e\" d=\"M 684 794 \nL 1344 794 \nL 1344 0 \nL 684 0 \nL 684 794 \nz\n\" transform=\"scale(0.015625)\"/>\n       </defs>\n       <use xlink:href=\"#DejaVuSans-30\"/>\n       <use xlink:href=\"#DejaVuSans-2e\" x=\"63.623047\"/>\n       <use xlink:href=\"#DejaVuSans-30\" x=\"95.410156\"/>\n      </g>\n     </g>\n    </g>\n    <g id=\"xtick_2\">\n     <g id=\"line2d_2\">\n      <g>\n       <use xlink:href=\"#m4c869fbd1f\" x=\"119.646449\" y=\"273.312\" style=\"stroke: #000000; stroke-width: 0.8\"/>\n      </g>\n     </g>\n     <g id=\"text_2\">\n      <!-- 0.2 -->\n      <g transform=\"translate(111.694886 287.910437) scale(0.1 -0.1)\">\n       <defs>\n        <path id=\"DejaVuSans-32\" d=\"M 1228 531 \nL 3431 531 \nL 3431 0 \nL 469 0 \nL 469 531 \nQ 828 903 1448 1529 \nQ 2069 2156 2228 2338 \nQ 2531 2678 2651 2914 \nQ 2772 3150 2772 3378 \nQ 2772 3750 2511 3984 \nQ 2250 4219 1831 4219 \nQ 1534 4219 1204 4116 \nQ 875 4013 500 3803 \nL 500 4441 \nQ 881 4594 1212 4672 \nQ 1544 4750 1819 4750 \nQ 2544 4750 2975 4387 \nQ 3406 4025 3406 3419 \nQ 3406 3131 3298 2873 \nQ 3191 2616 2906 2266 \nQ 2828 2175 2409 1742 \nQ 1991 1309 1228 531 \nz\n\" transform=\"scale(0.015625)\"/>\n       </defs>\n       <use xlink:href=\"#DejaVuSans-30\"/>\n       <use xlink:href=\"#DejaVuSans-2e\" x=\"63.623047\"/>\n       <use xlink:href=\"#DejaVuSans-32\" x=\"95.410156\"/>\n      </g>\n     </g>\n    </g>\n    <g id=\"xtick_3\">\n     <g id=\"line2d_3\">\n      <g>\n       <use xlink:href=\"#m4c869fbd1f\" x=\"184.577358\" y=\"273.312\" style=\"stroke: #000000; stroke-width: 0.8\"/>\n      </g>\n     </g>\n     <g id=\"text_3\">\n      <!-- 0.4 -->\n      <g transform=\"translate(176.625795 287.910437) scale(0.1 -0.1)\">\n       <defs>\n        <path id=\"DejaVuSans-34\" d=\"M 2419 4116 \nL 825 1625 \nL 2419 1625 \nL 2419 4116 \nz\nM 2253 4666 \nL 3047 4666 \nL 3047 1625 \nL 3713 1625 \nL 3713 1100 \nL 3047 1100 \nL 3047 0 \nL 2419 0 \nL 2419 1100 \nL 313 1100 \nL 313 1709 \nL 2253 4666 \nz\n\" transform=\"scale(0.015625)\"/>\n       </defs>\n       <use xlink:href=\"#DejaVuSans-30\"/>\n       <use xlink:href=\"#DejaVuSans-2e\" x=\"63.623047\"/>\n       <use xlink:href=\"#DejaVuSans-34\" x=\"95.410156\"/>\n      </g>\n     </g>\n    </g>\n    <g id=\"xtick_4\">\n     <g id=\"line2d_4\">\n      <g>\n       <use xlink:href=\"#m4c869fbd1f\" x=\"249.508267\" y=\"273.312\" style=\"stroke: #000000; stroke-width: 0.8\"/>\n      </g>\n     </g>\n     <g id=\"text_4\">\n      <!-- 0.6 -->\n      <g transform=\"translate(241.556705 287.910437) scale(0.1 -0.1)\">\n       <defs>\n        <path id=\"DejaVuSans-36\" d=\"M 2113 2584 \nQ 1688 2584 1439 2293 \nQ 1191 2003 1191 1497 \nQ 1191 994 1439 701 \nQ 1688 409 2113 409 \nQ 2538 409 2786 701 \nQ 3034 994 3034 1497 \nQ 3034 2003 2786 2293 \nQ 2538 2584 2113 2584 \nz\nM 3366 4563 \nL 3366 3988 \nQ 3128 4100 2886 4159 \nQ 2644 4219 2406 4219 \nQ 1781 4219 1451 3797 \nQ 1122 3375 1075 2522 \nQ 1259 2794 1537 2939 \nQ 1816 3084 2150 3084 \nQ 2853 3084 3261 2657 \nQ 3669 2231 3669 1497 \nQ 3669 778 3244 343 \nQ 2819 -91 2113 -91 \nQ 1303 -91 875 529 \nQ 447 1150 447 2328 \nQ 447 3434 972 4092 \nQ 1497 4750 2381 4750 \nQ 2619 4750 2861 4703 \nQ 3103 4656 3366 4563 \nz\n\" transform=\"scale(0.015625)\"/>\n       </defs>\n       <use xlink:href=\"#DejaVuSans-30\"/>\n       <use xlink:href=\"#DejaVuSans-2e\" x=\"63.623047\"/>\n       <use xlink:href=\"#DejaVuSans-36\" x=\"95.410156\"/>\n      </g>\n     </g>\n    </g>\n    <g id=\"xtick_5\">\n     <g id=\"line2d_5\">\n      <g>\n       <use xlink:href=\"#m4c869fbd1f\" x=\"314.439176\" y=\"273.312\" style=\"stroke: #000000; stroke-width: 0.8\"/>\n      </g>\n     </g>\n     <g id=\"text_5\">\n      <!-- 0.8 -->\n      <g transform=\"translate(306.487614 287.910437) scale(0.1 -0.1)\">\n       <defs>\n        <path id=\"DejaVuSans-38\" d=\"M 2034 2216 \nQ 1584 2216 1326 1975 \nQ 1069 1734 1069 1313 \nQ 1069 891 1326 650 \nQ 1584 409 2034 409 \nQ 2484 409 2743 651 \nQ 3003 894 3003 1313 \nQ 3003 1734 2745 1975 \nQ 2488 2216 2034 2216 \nz\nM 1403 2484 \nQ 997 2584 770 2862 \nQ 544 3141 544 3541 \nQ 544 4100 942 4425 \nQ 1341 4750 2034 4750 \nQ 2731 4750 3128 4425 \nQ 3525 4100 3525 3541 \nQ 3525 3141 3298 2862 \nQ 3072 2584 2669 2484 \nQ 3125 2378 3379 2068 \nQ 3634 1759 3634 1313 \nQ 3634 634 3220 271 \nQ 2806 -91 2034 -91 \nQ 1263 -91 848 271 \nQ 434 634 434 1313 \nQ 434 1759 690 2068 \nQ 947 2378 1403 2484 \nz\nM 1172 3481 \nQ 1172 3119 1398 2916 \nQ 1625 2713 2034 2713 \nQ 2441 2713 2670 2916 \nQ 2900 3119 2900 3481 \nQ 2900 3844 2670 4047 \nQ 2441 4250 2034 4250 \nQ 1625 4250 1398 4047 \nQ 1172 3844 1172 3481 \nz\n\" transform=\"scale(0.015625)\"/>\n       </defs>\n       <use xlink:href=\"#DejaVuSans-30\"/>\n       <use xlink:href=\"#DejaVuSans-2e\" x=\"63.623047\"/>\n       <use xlink:href=\"#DejaVuSans-38\" x=\"95.410156\"/>\n      </g>\n     </g>\n    </g>\n    <g id=\"xtick_6\">\n     <g id=\"line2d_6\">\n      <g>\n       <use xlink:href=\"#m4c869fbd1f\" x=\"379.370085\" y=\"273.312\" style=\"stroke: #000000; stroke-width: 0.8\"/>\n      </g>\n     </g>\n     <g id=\"text_6\">\n      <!-- 1.0 -->\n      <g transform=\"translate(371.418523 287.910437) scale(0.1 -0.1)\">\n       <defs>\n        <path id=\"DejaVuSans-31\" d=\"M 794 531 \nL 1825 531 \nL 1825 4091 \nL 703 3866 \nL 703 4441 \nL 1819 4666 \nL 2450 4666 \nL 2450 531 \nL 3481 531 \nL 3481 0 \nL 794 0 \nL 794 531 \nz\n\" transform=\"scale(0.015625)\"/>\n       </defs>\n       <use xlink:href=\"#DejaVuSans-31\"/>\n       <use xlink:href=\"#DejaVuSans-2e\" x=\"63.623047\"/>\n       <use xlink:href=\"#DejaVuSans-30\" x=\"95.410156\"/>\n      </g>\n     </g>\n    </g>\n    <g id=\"text_7\">\n     <!-- $x$ -->\n     <g transform=\"translate(214.042813 301.588562) scale(0.1 -0.1)\">\n      <defs>\n       <path id=\"DejaVuSans-Oblique-78\" d=\"M 3841 3500 \nL 2234 1784 \nL 3219 0 \nL 2559 0 \nL 1819 1388 \nL 531 0 \nL -166 0 \nL 1556 1844 \nL 641 3500 \nL 1300 3500 \nL 1972 2234 \nL 3144 3500 \nL 3841 3500 \nz\n\" transform=\"scale(0.015625)\"/>\n      </defs>\n      <use xlink:href=\"#DejaVuSans-Oblique-78\" transform=\"translate(0 0.3125)\"/>\n     </g>\n    </g>\n   </g>\n   <g id=\"matplotlib.axis_2\">\n    <g id=\"ytick_1\">\n     <g id=\"line2d_7\">\n      <defs>\n       <path id=\"m766f72a50a\" d=\"M 0 0 \nL -3.5 0 \n\" style=\"stroke: #000000; stroke-width: 0.8\"/>\n      </defs>\n      <g>\n       <use xlink:href=\"#m766f72a50a\" x=\"38.482813\" y=\"243.009759\" style=\"stroke: #000000; stroke-width: 0.8\"/>\n      </g>\n     </g>\n     <g id=\"text_8\">\n      <!-- −2.0 -->\n      <g transform=\"translate(7.2 246.808978) scale(0.1 -0.1)\">\n       <defs>\n        <path id=\"DejaVuSans-2212\" d=\"M 678 2272 \nL 4684 2272 \nL 4684 1741 \nL 678 1741 \nL 678 2272 \nz\n\" transform=\"scale(0.015625)\"/>\n       </defs>\n       <use xlink:href=\"#DejaVuSans-2212\"/>\n       <use xlink:href=\"#DejaVuSans-32\" x=\"83.789062\"/>\n       <use xlink:href=\"#DejaVuSans-2e\" x=\"147.412109\"/>\n       <use xlink:href=\"#DejaVuSans-30\" x=\"179.199219\"/>\n      </g>\n     </g>\n    </g>\n    <g id=\"ytick_2\">\n     <g id=\"line2d_8\">\n      <g>\n       <use xlink:href=\"#m766f72a50a\" x=\"38.482813\" y=\"211.057158\" style=\"stroke: #000000; stroke-width: 0.8\"/>\n      </g>\n     </g>\n     <g id=\"text_9\">\n      <!-- −1.5 -->\n      <g transform=\"translate(7.2 214.856377) scale(0.1 -0.1)\">\n       <defs>\n        <path id=\"DejaVuSans-35\" d=\"M 691 4666 \nL 3169 4666 \nL 3169 4134 \nL 1269 4134 \nL 1269 2991 \nQ 1406 3038 1543 3061 \nQ 1681 3084 1819 3084 \nQ 2600 3084 3056 2656 \nQ 3513 2228 3513 1497 \nQ 3513 744 3044 326 \nQ 2575 -91 1722 -91 \nQ 1428 -91 1123 -41 \nQ 819 9 494 109 \nL 494 744 \nQ 775 591 1075 516 \nQ 1375 441 1709 441 \nQ 2250 441 2565 725 \nQ 2881 1009 2881 1497 \nQ 2881 1984 2565 2268 \nQ 2250 2553 1709 2553 \nQ 1456 2553 1204 2497 \nQ 953 2441 691 2322 \nL 691 4666 \nz\n\" transform=\"scale(0.015625)\"/>\n       </defs>\n       <use xlink:href=\"#DejaVuSans-2212\"/>\n       <use xlink:href=\"#DejaVuSans-31\" x=\"83.789062\"/>\n       <use xlink:href=\"#DejaVuSans-2e\" x=\"147.412109\"/>\n       <use xlink:href=\"#DejaVuSans-35\" x=\"179.199219\"/>\n      </g>\n     </g>\n    </g>\n    <g id=\"ytick_3\">\n     <g id=\"line2d_9\">\n      <g>\n       <use xlink:href=\"#m766f72a50a\" x=\"38.482813\" y=\"179.104556\" style=\"stroke: #000000; stroke-width: 0.8\"/>\n      </g>\n     </g>\n     <g id=\"text_10\">\n      <!-- −1.0 -->\n      <g transform=\"translate(7.2 182.903775) scale(0.1 -0.1)\">\n       <use xlink:href=\"#DejaVuSans-2212\"/>\n       <use xlink:href=\"#DejaVuSans-31\" x=\"83.789062\"/>\n       <use xlink:href=\"#DejaVuSans-2e\" x=\"147.412109\"/>\n       <use xlink:href=\"#DejaVuSans-30\" x=\"179.199219\"/>\n      </g>\n     </g>\n    </g>\n    <g id=\"ytick_4\">\n     <g id=\"line2d_10\">\n      <g>\n       <use xlink:href=\"#m766f72a50a\" x=\"38.482813\" y=\"147.151955\" style=\"stroke: #000000; stroke-width: 0.8\"/>\n      </g>\n     </g>\n     <g id=\"text_11\">\n      <!-- −0.5 -->\n      <g transform=\"translate(7.2 150.951173) scale(0.1 -0.1)\">\n       <use xlink:href=\"#DejaVuSans-2212\"/>\n       <use xlink:href=\"#DejaVuSans-30\" x=\"83.789062\"/>\n       <use xlink:href=\"#DejaVuSans-2e\" x=\"147.412109\"/>\n       <use xlink:href=\"#DejaVuSans-35\" x=\"179.199219\"/>\n      </g>\n     </g>\n    </g>\n    <g id=\"ytick_5\">\n     <g id=\"line2d_11\">\n      <g>\n       <use xlink:href=\"#m766f72a50a\" x=\"38.482813\" y=\"115.199353\" style=\"stroke: #000000; stroke-width: 0.8\"/>\n      </g>\n     </g>\n     <g id=\"text_12\">\n      <!-- 0.0 -->\n      <g transform=\"translate(15.579688 118.998572) scale(0.1 -0.1)\">\n       <use xlink:href=\"#DejaVuSans-30\"/>\n       <use xlink:href=\"#DejaVuSans-2e\" x=\"63.623047\"/>\n       <use xlink:href=\"#DejaVuSans-30\" x=\"95.410156\"/>\n      </g>\n     </g>\n    </g>\n    <g id=\"ytick_6\">\n     <g id=\"line2d_12\">\n      <g>\n       <use xlink:href=\"#m766f72a50a\" x=\"38.482813\" y=\"83.246751\" style=\"stroke: #000000; stroke-width: 0.8\"/>\n      </g>\n     </g>\n     <g id=\"text_13\">\n      <!-- 0.5 -->\n      <g transform=\"translate(15.579688 87.04597) scale(0.1 -0.1)\">\n       <use xlink:href=\"#DejaVuSans-30\"/>\n       <use xlink:href=\"#DejaVuSans-2e\" x=\"63.623047\"/>\n       <use xlink:href=\"#DejaVuSans-35\" x=\"95.410156\"/>\n      </g>\n     </g>\n    </g>\n    <g id=\"ytick_7\">\n     <g id=\"line2d_13\">\n      <g>\n       <use xlink:href=\"#m766f72a50a\" x=\"38.482813\" y=\"51.29415\" style=\"stroke: #000000; stroke-width: 0.8\"/>\n      </g>\n     </g>\n     <g id=\"text_14\">\n      <!-- 1.0 -->\n      <g transform=\"translate(15.579688 55.093369) scale(0.1 -0.1)\">\n       <use xlink:href=\"#DejaVuSans-31\"/>\n       <use xlink:href=\"#DejaVuSans-2e\" x=\"63.623047\"/>\n       <use xlink:href=\"#DejaVuSans-30\" x=\"95.410156\"/>\n      </g>\n     </g>\n    </g>\n    <g id=\"ytick_8\">\n     <g id=\"line2d_14\">\n      <g>\n       <use xlink:href=\"#m766f72a50a\" x=\"38.482813\" y=\"19.341548\" style=\"stroke: #000000; stroke-width: 0.8\"/>\n      </g>\n     </g>\n     <g id=\"text_15\">\n      <!-- 1.5 -->\n      <g transform=\"translate(15.579688 23.140767) scale(0.1 -0.1)\">\n       <use xlink:href=\"#DejaVuSans-31\"/>\n       <use xlink:href=\"#DejaVuSans-2e\" x=\"63.623047\"/>\n       <use xlink:href=\"#DejaVuSans-35\" x=\"95.410156\"/>\n      </g>\n     </g>\n    </g>\n   </g>\n   <g id=\"line2d_15\">\n    <path d=\"M 54.71554 115.199353 \nL 57.994879 115.199223 \nL 61.274217 115.198321 \nL 64.553556 115.195905 \nL 67.832895 115.191265 \nL 71.112234 115.183725 \nL 74.391573 115.17264 \nL 77.670912 115.157397 \nL 80.950251 115.137417 \nL 84.229589 115.112154 \nL 87.508928 115.081094 \nL 90.788267 115.043755 \nL 94.067606 114.999689 \nL 97.346945 114.948478 \nL 100.626284 114.889737 \nL 103.905622 114.823113 \nL 107.184961 114.748284 \nL 110.4643 114.66496 \nL 113.743639 114.572881 \nL 117.022978 114.471816 \nL 120.302317 114.361567 \nL 123.581655 114.241963 \nL 126.860994 114.112863 \nL 130.140333 113.974155 \nL 133.419672 113.825754 \nL 136.699011 113.667604 \nL 139.97835 113.499674 \nL 143.257689 113.321961 \nL 146.537027 113.134487 \nL 149.816366 112.937301 \nL 153.095705 112.730473 \nL 156.375044 112.514101 \nL 159.654383 112.288302 \nL 162.933722 112.053219 \nL 166.21306 111.809016 \nL 169.492399 111.555878 \nL 172.771738 111.294009 \nL 176.051077 111.023634 \nL 179.330416 110.744998 \nL 182.609755 110.458364 \nL 185.889093 110.16401 \nL 189.168432 109.862233 \nL 192.447771 109.553346 \nL 195.72711 109.237678 \nL 199.006449 108.915569 \nL 202.285788 108.587377 \nL 205.565127 108.253471 \nL 208.844465 107.914231 \nL 212.123804 107.57005 \nL 215.403143 107.221333 \nL 218.682482 106.868491 \nL 221.961821 106.511949 \nL 225.24116 106.152135 \nL 228.520498 105.78949 \nL 231.799837 105.424459 \nL 235.079176 105.057492 \nL 238.358515 104.689047 \nL 241.637854 104.319587 \nL 244.917193 103.949576 \nL 248.196532 103.579483 \nL 251.47587 103.209781 \nL 254.755209 102.840943 \nL 258.034548 102.473443 \nL 261.313887 102.107757 \nL 264.593226 101.74436 \nL 267.872565 101.383725 \nL 271.151903 101.026328 \nL 274.431242 100.672637 \nL 277.710581 100.323122 \nL 280.98992 99.978247 \nL 284.269259 99.638475 \nL 287.548598 99.304261 \nL 290.827936 98.976058 \nL 294.107275 98.654312 \nL 297.386614 98.339464 \nL 300.665953 98.031947 \nL 303.945292 97.732189 \nL 307.224631 97.440609 \nL 310.50397 97.157619 \nL 313.783308 96.883621 \nL 317.062647 96.61901 \nL 320.341986 96.364171 \nL 323.621325 96.119479 \nL 326.900664 95.8853 \nL 330.180003 95.661988 \nL 333.459341 95.449888 \nL 336.73868 95.249333 \nL 340.018019 95.060644 \nL 343.297358 94.884131 \nL 346.576697 94.720093 \nL 349.856036 94.568815 \nL 353.135374 94.43057 \nL 356.414713 94.305619 \nL 359.694052 94.194209 \nL 362.973391 94.096575 \nL 366.25273 94.012939 \nL 369.532069 93.943506 \nL 372.811408 93.888472 \nL 376.090746 93.848017 \nL 379.370085 93.822307 \n\" clip-path=\"url(#p78513adeb2)\" style=\"fill: none; stroke: #1f77b4; stroke-width: 1.5; stroke-linecap: square\"/>\n   </g>\n   <g id=\"line2d_16\">\n    <path d=\"M 54.71554 115.199353 \nL 57.994879 115.160759 \nL 61.274217 115.047098 \nL 64.553556 114.861564 \nL 67.832895 114.607371 \nL 71.112234 114.287743 \nL 74.391573 113.905913 \nL 77.670912 113.465119 \nL 80.950251 112.968596 \nL 84.229589 112.419579 \nL 87.508928 111.821289 \nL 90.788267 111.176939 \nL 94.067606 110.489723 \nL 97.346945 109.762817 \nL 100.626284 108.999373 \nL 103.905622 108.202517 \nL 107.184961 107.375344 \nL 110.4643 106.520918 \nL 113.743639 105.642263 \nL 117.022978 104.742369 \nL 120.302317 103.824179 \nL 123.581655 102.890596 \nL 126.860994 101.944473 \nL 130.140333 100.988615 \nL 133.419672 100.025774 \nL 136.699011 99.058648 \nL 139.97835 98.089881 \nL 143.257689 97.122055 \nL 146.537027 96.157697 \nL 149.816366 95.199267 \nL 153.095705 94.249164 \nL 156.375044 93.309724 \nL 159.654383 92.383213 \nL 162.933722 91.471832 \nL 166.21306 90.577711 \nL 169.492399 89.702912 \nL 172.771738 88.849425 \nL 176.051077 88.019168 \nL 179.330416 87.213986 \nL 182.609755 86.435651 \nL 185.889093 85.685861 \nL 189.168432 84.96624 \nL 192.447771 84.278335 \nL 195.72711 83.623621 \nL 199.006449 83.003494 \nL 202.285788 82.419277 \nL 205.565127 81.872215 \nL 208.844465 81.363479 \nL 212.123804 80.894164 \nL 215.403143 80.465289 \nL 218.682482 80.077797 \nL 221.961821 79.732558 \nL 225.24116 79.430367 \nL 228.520498 79.171945 \nL 231.799837 78.957938 \nL 235.079176 78.78892 \nL 238.358515 78.665395 \nL 241.637854 78.587792 \nL 244.917193 78.556472 \nL 248.196532 78.571725 \nL 251.47587 78.633773 \nL 254.755209 78.742768 \nL 258.034548 78.898799 \nL 261.313887 79.101885 \nL 264.593226 79.351983 \nL 267.872565 79.648986 \nL 271.151903 79.992724 \nL 274.431242 80.382966 \nL 277.710581 80.819422 \nL 280.98992 81.301743 \nL 284.269259 81.829522 \nL 287.548598 82.402299 \nL 290.827936 83.019558 \nL 294.107275 83.680729 \nL 297.386614 84.385193 \nL 300.665953 85.132279 \nL 303.945292 85.92127 \nL 307.224631 86.7514 \nL 310.50397 87.621859 \nL 313.783308 88.531795 \nL 317.062647 89.48031 \nL 320.341986 90.466469 \nL 323.621325 91.489298 \nL 326.900664 92.547783 \nL 330.180003 93.640879 \nL 333.459341 94.767503 \nL 336.73868 95.926542 \nL 340.018019 97.116853 \nL 343.297358 98.337263 \nL 346.576697 99.586572 \nL 349.856036 100.863555 \nL 353.135374 102.166963 \nL 356.414713 103.495523 \nL 359.694052 104.847945 \nL 362.973391 106.222918 \nL 366.25273 107.619113 \nL 369.532069 109.035186 \nL 372.811408 110.469781 \nL 376.090746 111.921526 \nL 379.370085 113.38904 \n\" clip-path=\"url(#p78513adeb2)\" style=\"fill: none; stroke: #ff7f0e; stroke-width: 1.5; stroke-linecap: square\"/>\n   </g>\n   <g id=\"line2d_17\">\n    <path d=\"M 54.71554 115.199353 \nL 57.994879 107.610174 \nL 61.274217 100.336325 \nL 64.553556 93.379738 \nL 67.832895 86.741883 \nL 71.112234 80.423791 \nL 74.391573 74.426045 \nL 77.670912 68.748824 \nL 80.950251 63.39186 \nL 84.229589 58.354521 \nL 87.508928 53.635801 \nL 90.788267 49.234245 \nL 94.067606 45.148163 \nL 97.346945 41.375282 \nL 100.626284 37.913247 \nL 103.905622 34.759174 \nL 107.184961 31.910017 \nL 110.4643 29.362337 \nL 113.743639 27.112033 \nL 117.022978 25.155946 \nL 120.302317 23.489309 \nL 123.581655 22.107688 \nL 126.860994 21.005428 \nL 130.140333 20.17865 \nL 133.419672 19.622366 \nL 136.699011 19.329701 \nL 139.97835 19.296 \nL 143.257689 19.51572 \nL 146.537027 19.98221 \nL 149.816366 20.688596 \nL 153.095705 21.630445 \nL 156.375044 22.797556 \nL 159.654383 24.189044 \nL 162.933722 25.792936 \nL 166.21306 27.604796 \nL 169.492399 29.615758 \nL 172.771738 31.823159 \nL 176.051077 34.213698 \nL 179.330416 36.786487 \nL 182.609755 39.528667 \nL 185.889093 42.438464 \nL 189.168432 45.501689 \nL 192.447771 48.719227 \nL 195.72711 52.073342 \nL 199.006449 55.564921 \nL 202.285788 59.180661 \nL 205.565127 62.919675 \nL 208.844465 66.76866 \nL 212.123804 70.724955 \nL 215.403143 74.770823 \nL 218.682482 78.91602 \nL 221.961821 83.135714 \nL 225.24116 87.440546 \nL 228.520498 91.79859 \nL 231.799837 96.232904 \nL 235.079176 100.708014 \nL 238.358515 105.239883 \nL 241.637854 109.801906 \nL 244.917193 114.397629 \nL 248.196532 119.028827 \nL 251.47587 123.660025 \nL 254.755209 128.314281 \nL 258.034548 132.975632 \nL 261.313887 137.638757 \nL 264.593226 142.280597 \nL 267.872565 146.922437 \nL 271.151903 151.537671 \nL 274.431242 156.128074 \nL 277.710581 160.686549 \nL 280.98992 165.209549 \nL 284.269259 169.686433 \nL 287.548598 174.108331 \nL 290.827936 178.489433 \nL 294.107275 182.813777 \nL 297.386614 187.063623 \nL 300.665953 191.249616 \nL 303.945292 195.357565 \nL 307.224631 199.394565 \nL 310.50397 203.346425 \nL 313.783308 207.206052 \nL 317.062647 210.984088 \nL 320.341986 214.6557 \nL 323.621325 218.238626 \nL 326.900664 221.722224 \nL 330.180003 225.088755 \nL 333.459341 228.355958 \nL 336.73868 231.520284 \nL 340.018019 234.542713 \nL 343.297358 237.462265 \nL 346.576697 240.275394 \nL 349.856036 242.946625 \nL 353.135374 245.497243 \nL 356.414713 247.937889 \nL 359.694052 250.222448 \nL 362.973391 252.393488 \nL 366.25273 254.422631 \nL 369.532069 256.334707 \nL 372.811408 258.101338 \nL 376.090746 259.722523 \nL 379.370085 261.216 \n\" clip-path=\"url(#p78513adeb2)\" style=\"fill: none; stroke: #2ca02c; stroke-width: 1.5; stroke-linecap: square\"/>\n   </g>\n   <g id=\"patch_3\">\n    <path d=\"M 38.482813 273.312 \nL 38.482813 7.2 \n\" style=\"fill: none; stroke: #000000; stroke-width: 0.8; stroke-linejoin: miter; stroke-linecap: square\"/>\n   </g>\n   <g id=\"patch_4\">\n    <path d=\"M 395.602813 273.312 \nL 395.602813 7.2 \n\" style=\"fill: none; stroke: #000000; stroke-width: 0.8; stroke-linejoin: miter; stroke-linecap: square\"/>\n   </g>\n   <g id=\"patch_5\">\n    <path d=\"M 38.482813 273.312 \nL 395.602813 273.312 \n\" style=\"fill: none; stroke: #000000; stroke-width: 0.8; stroke-linejoin: miter; stroke-linecap: square\"/>\n   </g>\n   <g id=\"patch_6\">\n    <path d=\"M 38.482813 7.2 \nL 395.602813 7.2 \n\" style=\"fill: none; stroke: #000000; stroke-width: 0.8; stroke-linejoin: miter; stroke-linecap: square\"/>\n   </g>\n   <g id=\"legend_1\">\n    <g id=\"patch_7\">\n     <path d=\"M 350.602813 61.598437 \nL 388.602813 61.598437 \nQ 390.602813 61.598437 390.602813 59.598437 \nL 390.602813 14.2 \nQ 390.602813 12.2 388.602813 12.2 \nL 350.602813 12.2 \nQ 348.602813 12.2 348.602813 14.2 \nL 348.602813 59.598437 \nQ 348.602813 61.598437 350.602813 61.598437 \nz\n\" style=\"fill: #ffffff; opacity: 0.8; stroke: #cccccc; stroke-linejoin: miter\"/>\n    </g>\n    <g id=\"line2d_18\">\n     <path d=\"M 352.602813 20.298437 \nL 362.602813 20.298437 \nL 372.602813 20.298437 \n\" style=\"fill: none; stroke: #1f77b4; stroke-width: 1.5; stroke-linecap: square\"/>\n    </g>\n    <g id=\"text_16\">\n     <!-- $y$ -->\n     <g transform=\"translate(380.602813 23.798437) scale(0.1 -0.1)\">\n      <defs>\n       <path id=\"DejaVuSans-Oblique-79\" d=\"M 1588 -325 \nQ 1188 -997 936 -1164 \nQ 684 -1331 294 -1331 \nL -159 -1331 \nL -63 -850 \nL 269 -850 \nQ 509 -850 678 -719 \nQ 847 -588 1056 -206 \nL 1234 128 \nL 459 3500 \nL 1069 3500 \nL 1650 819 \nL 3256 3500 \nL 3859 3500 \nL 1588 -325 \nz\n\" transform=\"scale(0.015625)\"/>\n      </defs>\n      <use xlink:href=\"#DejaVuSans-Oblique-79\" transform=\"translate(0 0.3125)\"/>\n     </g>\n    </g>\n    <g id=\"line2d_19\">\n     <path d=\"M 352.602813 36.198437 \nL 362.602813 36.198437 \nL 372.602813 36.198437 \n\" style=\"fill: none; stroke: #ff7f0e; stroke-width: 1.5; stroke-linecap: square\"/>\n    </g>\n    <g id=\"text_17\">\n     <!-- $\\dot{y}$ -->\n     <g transform=\"translate(380.602813 39.698437) scale(0.1 -0.1)\">\n      <defs>\n       <path id=\"DejaVuSans-307\" d=\"M -1894 4863 \nL -1319 4863 \nL -1319 4134 \nL -1894 4134 \nL -1894 4863 \nz\nM -1600 3584 \nL -1600 3584 \nz\n\" transform=\"scale(0.015625)\"/>\n      </defs>\n      <use xlink:href=\"#DejaVuSans-307\" transform=\"translate(62.388672 12.015625)\"/>\n      <use xlink:href=\"#DejaVuSans-Oblique-79\" transform=\"translate(0 0.828125)\"/>\n     </g>\n    </g>\n    <g id=\"line2d_20\">\n     <path d=\"M 352.602813 51.998437 \nL 362.602813 51.998437 \nL 372.602813 51.998437 \n\" style=\"fill: none; stroke: #2ca02c; stroke-width: 1.5; stroke-linecap: square\"/>\n    </g>\n    <g id=\"text_18\">\n     <!-- $ \\ddot{y}$ -->\n     <g transform=\"translate(380.602813 55.498437) scale(0.1 -0.1)\">\n      <defs>\n       <path id=\"DejaVuSans-308\" d=\"M -1306 4850 \nL -672 4850 \nL -672 4219 \nL -1306 4219 \nL -1306 4850 \nz\nM -2528 4850 \nL -1894 4850 \nL -1894 4219 \nL -2528 4219 \nL -2528 4850 \nz\nM -1600 3584 \nL -1600 3584 \nz\n\" transform=\"scale(0.015625)\"/>\n      </defs>\n      <use xlink:href=\"#DejaVuSans-308\" transform=\"translate(62.294922 11.21875)\"/>\n      <use xlink:href=\"#DejaVuSans-Oblique-79\" transform=\"translate(0 0.03125)\"/>\n     </g>\n    </g>\n   </g>\n  </g>\n </g>\n <defs>\n  <clipPath id=\"p78513adeb2\">\n   <rect x=\"38.482813\" y=\"7.2\" width=\"357.12\" height=\"266.112\"/>\n  </clipPath>\n </defs>\n</svg>\n",
      "text/plain": [
       "<Figure size 640x480 with 1 Axes>"
      ]
     },
     "metadata": {},
     "output_type": "display_data"
    }
   ],
   "source": [
    "y = f(x)\n",
    "dx = 1e-6\n",
    "ydot = derivative(f, x, dx)\n",
    "yddot = derivative(f, x, dx, n = 2)\n",
    "plt.plot(x, y)\n",
    "plt.plot(x, ydot)\n",
    "plt.plot(x, yddot)\n",
    "plt.xlabel(\"$x$\")\n",
    "plt.legend(['$y$', '$\\dot{y}$', '$ \\ddot{y}$'])"
   ]
  },
  {
   "attachments": {},
   "cell_type": "markdown",
   "metadata": {},
   "source": [
    "## Integration\n",
    "\n",
    "Integration in **SciPy** is similar to differentiation, in that it provides more advanced integration methods compared to **NumPy**.\n",
    "For instance in **NumPy** you can use the `np.trapz` function to compute the integral of a function using the trapezoidal rule, or the cumulative sum of an array using the `np.cumsum` function, multiplying the result by the step size. \n",
    "\n",
    "The `np.trapz` in particular uses the trapezoidal rule with an even number of points, and the Simpson's rule with an odd number of points. \n",
    "Both numpy routines are very fast and striaghtforward, but their limitation is that they only work with evenly spaced data points. \n",
    "\n",
    "In contrast, **SciPy**'s integration module provides a more comprehensive set of integration functions, including `quad`, `quadrature`, \n",
    "`romberg`, `cumulative_trapezoid`, `trapz`, and more. \n",
    "\n",
    "These function support a wider range of integration techinques, including adaptive quadrature, Romberg integration and Gaussian quadrature.\n",
    "\n",
    "They also offer more flexibility in terms of the types of data they can handle, as they can work with unevenly spaced data points, not well-behaved functions, and functions that are not defined at a point. "
   ]
  },
  {
   "attachments": {},
   "cell_type": "markdown",
   "metadata": {},
   "source": [
    "Single integrals:  $\\displaystyle\\int_0^1 x^2 sin(2x) e^{-x} dx$"
   ]
  },
  {
   "cell_type": "code",
   "execution_count": 37,
   "metadata": {},
   "outputs": [
    {
     "name": "stdout",
     "output_type": "stream",
     "text": [
      "0.14558175869954834\n",
      "1.6162822047366225e-15\n"
     ]
    }
   ],
   "source": [
    "from scipy.integrate import quad\n",
    "integrand = lambda x: x**2 * np.sin(2*x) * np.exp(-x)\n",
    "bnds = (0, 1)\n",
    "integral, integral_error = quad(integrand, bnds[0], bnds[1])\n",
    "print(integral)\n",
    "print(integral_error)"
   ]
  },
  {
   "attachments": {},
   "cell_type": "markdown",
   "metadata": {},
   "source": [
    "Double integrals: $\\displaystyle\\int_0^1 \\int_{-x}^{x^2} \\sin(x + y^2)dydx$"
   ]
  },
  {
   "cell_type": "code",
   "execution_count": 41,
   "metadata": {},
   "outputs": [
    {
     "name": "stdout",
     "output_type": "stream",
     "text": [
      "0.4113285456776755\n",
      "1.5656549454840436e-14\n"
     ]
    }
   ],
   "source": [
    "from scipy.integrate import dblquad\n",
    "integrand = lambda x, y: np.sin(x + y**2)\n",
    "bnds_y = ((lambda x: -x), (lambda x: x))\n",
    "bnds_x = (0, 1)\n",
    "integral, integral_error = dblquad(integrand, bnds_x[0], bnds_x[1], bnds_y[0], bnds_y[1])\n",
    "print(integral)\n",
    "print(integral_error)"
   ]
  },
  {
   "attachments": {},
   "cell_type": "markdown",
   "metadata": {},
   "source": [
    "You can integrate up to an arbitrary number of dimensions, using the `nquad` routine."
   ]
  },
  {
   "cell_type": "code",
   "execution_count": 44,
   "metadata": {},
   "outputs": [],
   "source": [
    "from scipy.integrate import nquad\n",
    "#nquad?"
   ]
  },
  {
   "attachments": {},
   "cell_type": "markdown",
   "metadata": {},
   "source": [
    "## Differential Equations\n",
    "\n",
    "### **First Order ODEs**"
   ]
  },
  {
   "attachments": {},
   "cell_type": "markdown",
   "metadata": {},
   "source": [
    "Let's see an example of a first order ODE with the equation of free falling motion under air friction:\n",
    "$\\dot{v} - \\alpha v^2 + \\beta = 0$\n",
    "\n",
    "with the initial condition $v(0) = 0$."
   ]
  },
  {
   "cell_type": "code",
   "execution_count": 45,
   "metadata": {},
   "outputs": [],
   "source": [
    "from scipy.integrate import odeint"
   ]
  },
  {
   "cell_type": "code",
   "execution_count": 46,
   "metadata": {},
   "outputs": [],
   "source": [
    "# Let's set alpha and beta arbitrarily for this example\n",
    "alpha = 3\n",
    "beta = 5\n",
    "\n",
    "def vdot(v, t): \n",
    "    return alpha * v**2 - 5\n",
    "\n",
    "v0 = 0 \n"
   ]
  },
  {
   "cell_type": "code",
   "execution_count": 47,
   "metadata": {},
   "outputs": [
    {
     "name": "stdout",
     "output_type": "stream",
     "text": [
      "[[ 0.        ]\n",
      " [-0.05047933]\n",
      " [-0.10080451]\n",
      " [-0.15082334]\n",
      " [-0.20038726]\n",
      " [-0.24935318]\n",
      " [-0.29758502]\n",
      " [-0.34495519]\n",
      " [-0.39134576]\n",
      " [-0.43664948]\n",
      " [-0.48077056]\n",
      " [-0.52362515]\n",
      " [-0.56514164]\n",
      " [-0.60526086]\n",
      " [-0.6439356 ]\n",
      " [-0.68113064]\n",
      " [-0.71682205]\n",
      " [-0.75099661]\n",
      " [-0.78365109]\n",
      " [-0.8147914 ]\n",
      " [-0.84443176]\n",
      " [-0.87259378]\n",
      " [-0.89930556]\n",
      " [-0.92460079]\n",
      " [-0.94851787]\n",
      " [-0.97109913]\n",
      " [-0.99239002]\n",
      " [-1.01243837]\n",
      " [-1.03129376]\n",
      " [-1.04900692]\n",
      " [-1.06562918]\n",
      " [-1.081212  ]\n",
      " [-1.0958066 ]\n",
      " [-1.10946355]\n",
      " [-1.12223249]\n",
      " [-1.13416195]\n",
      " [-1.14529906]\n",
      " [-1.15568941]\n",
      " [-1.16537698]\n",
      " [-1.17440397]\n",
      " [-1.18281086]\n",
      " [-1.19063623]\n",
      " [-1.19791686]\n",
      " [-1.20468768]\n",
      " [-1.21098179]\n",
      " [-1.21683053]\n",
      " [-1.22226349]\n",
      " [-1.22730856]\n",
      " [-1.23199199]\n",
      " [-1.23633849]\n",
      " [-1.24037122]\n",
      " [-1.24411192]\n",
      " [-1.24758094]\n",
      " [-1.25079735]\n",
      " [-1.25377896]\n",
      " [-1.25654241]\n",
      " [-1.25910322]\n",
      " [-1.2614759 ]\n",
      " [-1.26367394]\n",
      " [-1.26570992]\n",
      " [-1.26759557]\n",
      " [-1.26934179]\n",
      " [-1.27095869]\n",
      " [-1.27245574]\n",
      " [-1.27384168]\n",
      " [-1.27512464]\n",
      " [-1.2763122 ]\n",
      " [-1.27741137]\n",
      " [-1.27842865]\n",
      " [-1.27937009]\n",
      " [-1.28024128]\n",
      " [-1.28104744]\n",
      " [-1.28179338]\n",
      " [-1.28248356]\n",
      " [-1.28312213]\n",
      " [-1.28371292]\n",
      " [-1.2842595 ]\n",
      " [-1.28476514]\n",
      " [-1.2852329 ]\n",
      " [-1.28566562]\n",
      " [-1.2860659 ]\n",
      " [-1.28643616]\n",
      " [-1.28677865]\n",
      " [-1.28709545]\n",
      " [-1.28738847]\n",
      " [-1.28765951]\n",
      " [-1.28791021]\n",
      " [-1.28814208]\n",
      " [-1.28835653]\n",
      " [-1.28855487]\n",
      " [-1.28873831]\n",
      " [-1.28890797]\n",
      " [-1.28906488]\n",
      " [-1.28920999]\n",
      " [-1.2893442 ]\n",
      " [-1.28946833]\n",
      " [-1.28958312]\n",
      " [-1.28968929]\n",
      " [-1.28978746]\n",
      " [-1.28987826]]\n"
     ]
    }
   ],
   "source": [
    "t = np.linspace(0, 1, 100) # time span for which the equation is solved\n",
    "sol = odeint(vdot, v0, t)\n",
    "print(sol)"
   ]
  },
  {
   "cell_type": "code",
   "execution_count": 48,
   "metadata": {},
   "outputs": [
    {
     "data": {
      "text/plain": [
       "array([ 0.        , -0.05047933, -0.10080451, -0.15082334, -0.20038726,\n",
       "       -0.24935318, -0.29758502, -0.34495519, -0.39134576, -0.43664948,\n",
       "       -0.48077056, -0.52362515, -0.56514164, -0.60526086, -0.6439356 ,\n",
       "       -0.68113064, -0.71682205, -0.75099661, -0.78365109, -0.8147914 ,\n",
       "       -0.84443176, -0.87259378, -0.89930556, -0.92460079, -0.94851787,\n",
       "       -0.97109913, -0.99239002, -1.01243837, -1.03129376, -1.04900692,\n",
       "       -1.06562918, -1.081212  , -1.0958066 , -1.10946355, -1.12223249,\n",
       "       -1.13416195, -1.14529906, -1.15568941, -1.16537698, -1.17440397,\n",
       "       -1.18281086, -1.19063623, -1.19791686, -1.20468768, -1.21098179,\n",
       "       -1.21683053, -1.22226349, -1.22730856, -1.23199199, -1.23633849,\n",
       "       -1.24037122, -1.24411192, -1.24758094, -1.25079735, -1.25377896,\n",
       "       -1.25654241, -1.25910322, -1.2614759 , -1.26367394, -1.26570992,\n",
       "       -1.26759557, -1.26934179, -1.27095869, -1.27245574, -1.27384168,\n",
       "       -1.27512464, -1.2763122 , -1.27741137, -1.27842865, -1.27937009,\n",
       "       -1.28024128, -1.28104744, -1.28179338, -1.28248356, -1.28312213,\n",
       "       -1.28371292, -1.2842595 , -1.28476514, -1.2852329 , -1.28566562,\n",
       "       -1.2860659 , -1.28643616, -1.28677865, -1.28709545, -1.28738847,\n",
       "       -1.28765951, -1.28791021, -1.28814208, -1.28835653, -1.28855487,\n",
       "       -1.28873831, -1.28890797, -1.28906488, -1.28920999, -1.2893442 ,\n",
       "       -1.28946833, -1.28958312, -1.28968929, -1.28978746, -1.28987826])"
      ]
     },
     "execution_count": 48,
     "metadata": {},
     "output_type": "execute_result"
    }
   ],
   "source": [
    "# The form might look weird but it makes sense for more variables, let's get the result in a more readable structure\n",
    "sol.T[0]"
   ]
  },
  {
   "cell_type": "code",
   "execution_count": 49,
   "metadata": {},
   "outputs": [
    {
     "data": {
      "text/plain": [
       "[<matplotlib.lines.Line2D at 0x7f65227f5950>]"
      ]
     },
     "execution_count": 49,
     "metadata": {},
     "output_type": "execute_result"
    },
    {
     "data": {
      "image/svg+xml": "<?xml version=\"1.0\" encoding=\"utf-8\" standalone=\"no\"?>\n<!DOCTYPE svg PUBLIC \"-//W3C//DTD SVG 1.1//EN\"\n  \"http://www.w3.org/Graphics/SVG/1.1/DTD/svg11.dtd\">\n<svg xmlns:xlink=\"http://www.w3.org/1999/xlink\" width=\"402.802812pt\" height=\"297.190125pt\" viewBox=\"0 0 402.802812 297.190125\" xmlns=\"http://www.w3.org/2000/svg\" version=\"1.1\">\n <metadata>\n  <rdf:RDF xmlns:dc=\"http://purl.org/dc/elements/1.1/\" xmlns:cc=\"http://creativecommons.org/ns#\" xmlns:rdf=\"http://www.w3.org/1999/02/22-rdf-syntax-ns#\">\n   <cc:Work>\n    <dc:type rdf:resource=\"http://purl.org/dc/dcmitype/StillImage\"/>\n    <dc:date>2023-02-24T19:59:56.153172</dc:date>\n    <dc:format>image/svg+xml</dc:format>\n    <dc:creator>\n     <cc:Agent>\n      <dc:title>Matplotlib v3.7.0, https://matplotlib.org/</dc:title>\n     </cc:Agent>\n    </dc:creator>\n   </cc:Work>\n  </rdf:RDF>\n </metadata>\n <defs>\n  <style type=\"text/css\">*{stroke-linejoin: round; stroke-linecap: butt}</style>\n </defs>\n <g id=\"figure_1\">\n  <g id=\"patch_1\">\n   <path d=\"M 0 297.190125 \nL 402.802812 297.190125 \nL 402.802812 0 \nL 0 0 \nz\n\" style=\"fill: #ffffff\"/>\n  </g>\n  <g id=\"axes_1\">\n   <g id=\"patch_2\">\n    <path d=\"M 38.482813 273.312 \nL 395.602813 273.312 \nL 395.602813 7.2 \nL 38.482813 7.2 \nz\n\" style=\"fill: #ffffff\"/>\n   </g>\n   <g id=\"matplotlib.axis_1\">\n    <g id=\"xtick_1\">\n     <g id=\"line2d_1\">\n      <defs>\n       <path id=\"md63ea8508c\" d=\"M 0 0 \nL 0 3.5 \n\" style=\"stroke: #000000; stroke-width: 0.8\"/>\n      </defs>\n      <g>\n       <use xlink:href=\"#md63ea8508c\" x=\"54.71554\" y=\"273.312\" style=\"stroke: #000000; stroke-width: 0.8\"/>\n      </g>\n     </g>\n     <g id=\"text_1\">\n      <!-- 0.0 -->\n      <g transform=\"translate(46.763977 287.910437) scale(0.1 -0.1)\">\n       <defs>\n        <path id=\"DejaVuSans-30\" d=\"M 2034 4250 \nQ 1547 4250 1301 3770 \nQ 1056 3291 1056 2328 \nQ 1056 1369 1301 889 \nQ 1547 409 2034 409 \nQ 2525 409 2770 889 \nQ 3016 1369 3016 2328 \nQ 3016 3291 2770 3770 \nQ 2525 4250 2034 4250 \nz\nM 2034 4750 \nQ 2819 4750 3233 4129 \nQ 3647 3509 3647 2328 \nQ 3647 1150 3233 529 \nQ 2819 -91 2034 -91 \nQ 1250 -91 836 529 \nQ 422 1150 422 2328 \nQ 422 3509 836 4129 \nQ 1250 4750 2034 4750 \nz\n\" transform=\"scale(0.015625)\"/>\n        <path id=\"DejaVuSans-2e\" d=\"M 684 794 \nL 1344 794 \nL 1344 0 \nL 684 0 \nL 684 794 \nz\n\" transform=\"scale(0.015625)\"/>\n       </defs>\n       <use xlink:href=\"#DejaVuSans-30\"/>\n       <use xlink:href=\"#DejaVuSans-2e\" x=\"63.623047\"/>\n       <use xlink:href=\"#DejaVuSans-30\" x=\"95.410156\"/>\n      </g>\n     </g>\n    </g>\n    <g id=\"xtick_2\">\n     <g id=\"line2d_2\">\n      <g>\n       <use xlink:href=\"#md63ea8508c\" x=\"119.646449\" y=\"273.312\" style=\"stroke: #000000; stroke-width: 0.8\"/>\n      </g>\n     </g>\n     <g id=\"text_2\">\n      <!-- 0.2 -->\n      <g transform=\"translate(111.694886 287.910437) scale(0.1 -0.1)\">\n       <defs>\n        <path id=\"DejaVuSans-32\" d=\"M 1228 531 \nL 3431 531 \nL 3431 0 \nL 469 0 \nL 469 531 \nQ 828 903 1448 1529 \nQ 2069 2156 2228 2338 \nQ 2531 2678 2651 2914 \nQ 2772 3150 2772 3378 \nQ 2772 3750 2511 3984 \nQ 2250 4219 1831 4219 \nQ 1534 4219 1204 4116 \nQ 875 4013 500 3803 \nL 500 4441 \nQ 881 4594 1212 4672 \nQ 1544 4750 1819 4750 \nQ 2544 4750 2975 4387 \nQ 3406 4025 3406 3419 \nQ 3406 3131 3298 2873 \nQ 3191 2616 2906 2266 \nQ 2828 2175 2409 1742 \nQ 1991 1309 1228 531 \nz\n\" transform=\"scale(0.015625)\"/>\n       </defs>\n       <use xlink:href=\"#DejaVuSans-30\"/>\n       <use xlink:href=\"#DejaVuSans-2e\" x=\"63.623047\"/>\n       <use xlink:href=\"#DejaVuSans-32\" x=\"95.410156\"/>\n      </g>\n     </g>\n    </g>\n    <g id=\"xtick_3\">\n     <g id=\"line2d_3\">\n      <g>\n       <use xlink:href=\"#md63ea8508c\" x=\"184.577358\" y=\"273.312\" style=\"stroke: #000000; stroke-width: 0.8\"/>\n      </g>\n     </g>\n     <g id=\"text_3\">\n      <!-- 0.4 -->\n      <g transform=\"translate(176.625795 287.910437) scale(0.1 -0.1)\">\n       <defs>\n        <path id=\"DejaVuSans-34\" d=\"M 2419 4116 \nL 825 1625 \nL 2419 1625 \nL 2419 4116 \nz\nM 2253 4666 \nL 3047 4666 \nL 3047 1625 \nL 3713 1625 \nL 3713 1100 \nL 3047 1100 \nL 3047 0 \nL 2419 0 \nL 2419 1100 \nL 313 1100 \nL 313 1709 \nL 2253 4666 \nz\n\" transform=\"scale(0.015625)\"/>\n       </defs>\n       <use xlink:href=\"#DejaVuSans-30\"/>\n       <use xlink:href=\"#DejaVuSans-2e\" x=\"63.623047\"/>\n       <use xlink:href=\"#DejaVuSans-34\" x=\"95.410156\"/>\n      </g>\n     </g>\n    </g>\n    <g id=\"xtick_4\">\n     <g id=\"line2d_4\">\n      <g>\n       <use xlink:href=\"#md63ea8508c\" x=\"249.508267\" y=\"273.312\" style=\"stroke: #000000; stroke-width: 0.8\"/>\n      </g>\n     </g>\n     <g id=\"text_4\">\n      <!-- 0.6 -->\n      <g transform=\"translate(241.556705 287.910437) scale(0.1 -0.1)\">\n       <defs>\n        <path id=\"DejaVuSans-36\" d=\"M 2113 2584 \nQ 1688 2584 1439 2293 \nQ 1191 2003 1191 1497 \nQ 1191 994 1439 701 \nQ 1688 409 2113 409 \nQ 2538 409 2786 701 \nQ 3034 994 3034 1497 \nQ 3034 2003 2786 2293 \nQ 2538 2584 2113 2584 \nz\nM 3366 4563 \nL 3366 3988 \nQ 3128 4100 2886 4159 \nQ 2644 4219 2406 4219 \nQ 1781 4219 1451 3797 \nQ 1122 3375 1075 2522 \nQ 1259 2794 1537 2939 \nQ 1816 3084 2150 3084 \nQ 2853 3084 3261 2657 \nQ 3669 2231 3669 1497 \nQ 3669 778 3244 343 \nQ 2819 -91 2113 -91 \nQ 1303 -91 875 529 \nQ 447 1150 447 2328 \nQ 447 3434 972 4092 \nQ 1497 4750 2381 4750 \nQ 2619 4750 2861 4703 \nQ 3103 4656 3366 4563 \nz\n\" transform=\"scale(0.015625)\"/>\n       </defs>\n       <use xlink:href=\"#DejaVuSans-30\"/>\n       <use xlink:href=\"#DejaVuSans-2e\" x=\"63.623047\"/>\n       <use xlink:href=\"#DejaVuSans-36\" x=\"95.410156\"/>\n      </g>\n     </g>\n    </g>\n    <g id=\"xtick_5\">\n     <g id=\"line2d_5\">\n      <g>\n       <use xlink:href=\"#md63ea8508c\" x=\"314.439176\" y=\"273.312\" style=\"stroke: #000000; stroke-width: 0.8\"/>\n      </g>\n     </g>\n     <g id=\"text_5\">\n      <!-- 0.8 -->\n      <g transform=\"translate(306.487614 287.910437) scale(0.1 -0.1)\">\n       <defs>\n        <path id=\"DejaVuSans-38\" d=\"M 2034 2216 \nQ 1584 2216 1326 1975 \nQ 1069 1734 1069 1313 \nQ 1069 891 1326 650 \nQ 1584 409 2034 409 \nQ 2484 409 2743 651 \nQ 3003 894 3003 1313 \nQ 3003 1734 2745 1975 \nQ 2488 2216 2034 2216 \nz\nM 1403 2484 \nQ 997 2584 770 2862 \nQ 544 3141 544 3541 \nQ 544 4100 942 4425 \nQ 1341 4750 2034 4750 \nQ 2731 4750 3128 4425 \nQ 3525 4100 3525 3541 \nQ 3525 3141 3298 2862 \nQ 3072 2584 2669 2484 \nQ 3125 2378 3379 2068 \nQ 3634 1759 3634 1313 \nQ 3634 634 3220 271 \nQ 2806 -91 2034 -91 \nQ 1263 -91 848 271 \nQ 434 634 434 1313 \nQ 434 1759 690 2068 \nQ 947 2378 1403 2484 \nz\nM 1172 3481 \nQ 1172 3119 1398 2916 \nQ 1625 2713 2034 2713 \nQ 2441 2713 2670 2916 \nQ 2900 3119 2900 3481 \nQ 2900 3844 2670 4047 \nQ 2441 4250 2034 4250 \nQ 1625 4250 1398 4047 \nQ 1172 3844 1172 3481 \nz\n\" transform=\"scale(0.015625)\"/>\n       </defs>\n       <use xlink:href=\"#DejaVuSans-30\"/>\n       <use xlink:href=\"#DejaVuSans-2e\" x=\"63.623047\"/>\n       <use xlink:href=\"#DejaVuSans-38\" x=\"95.410156\"/>\n      </g>\n     </g>\n    </g>\n    <g id=\"xtick_6\">\n     <g id=\"line2d_6\">\n      <g>\n       <use xlink:href=\"#md63ea8508c\" x=\"379.370085\" y=\"273.312\" style=\"stroke: #000000; stroke-width: 0.8\"/>\n      </g>\n     </g>\n     <g id=\"text_6\">\n      <!-- 1.0 -->\n      <g transform=\"translate(371.418523 287.910437) scale(0.1 -0.1)\">\n       <defs>\n        <path id=\"DejaVuSans-31\" d=\"M 794 531 \nL 1825 531 \nL 1825 4091 \nL 703 3866 \nL 703 4441 \nL 1819 4666 \nL 2450 4666 \nL 2450 531 \nL 3481 531 \nL 3481 0 \nL 794 0 \nL 794 531 \nz\n\" transform=\"scale(0.015625)\"/>\n       </defs>\n       <use xlink:href=\"#DejaVuSans-31\"/>\n       <use xlink:href=\"#DejaVuSans-2e\" x=\"63.623047\"/>\n       <use xlink:href=\"#DejaVuSans-30\" x=\"95.410156\"/>\n      </g>\n     </g>\n    </g>\n   </g>\n   <g id=\"matplotlib.axis_2\">\n    <g id=\"ytick_1\">\n     <g id=\"line2d_7\">\n      <defs>\n       <path id=\"m39ea3f0658\" d=\"M 0 0 \nL -3.5 0 \n\" style=\"stroke: #000000; stroke-width: 0.8\"/>\n      </defs>\n      <g>\n       <use xlink:href=\"#m39ea3f0658\" x=\"38.482813\" y=\"244.3591\" style=\"stroke: #000000; stroke-width: 0.8\"/>\n      </g>\n     </g>\n     <g id=\"text_7\">\n      <!-- −1.2 -->\n      <g transform=\"translate(7.2 248.158319) scale(0.1 -0.1)\">\n       <defs>\n        <path id=\"DejaVuSans-2212\" d=\"M 678 2272 \nL 4684 2272 \nL 4684 1741 \nL 678 1741 \nL 678 2272 \nz\n\" transform=\"scale(0.015625)\"/>\n       </defs>\n       <use xlink:href=\"#DejaVuSans-2212\"/>\n       <use xlink:href=\"#DejaVuSans-31\" x=\"83.789062\"/>\n       <use xlink:href=\"#DejaVuSans-2e\" x=\"147.412109\"/>\n       <use xlink:href=\"#DejaVuSans-32\" x=\"179.199219\"/>\n      </g>\n     </g>\n    </g>\n    <g id=\"ytick_2\">\n     <g id=\"line2d_8\">\n      <g>\n       <use xlink:href=\"#m39ea3f0658\" x=\"38.482813\" y=\"206.848583\" style=\"stroke: #000000; stroke-width: 0.8\"/>\n      </g>\n     </g>\n     <g id=\"text_8\">\n      <!-- −1.0 -->\n      <g transform=\"translate(7.2 210.647802) scale(0.1 -0.1)\">\n       <use xlink:href=\"#DejaVuSans-2212\"/>\n       <use xlink:href=\"#DejaVuSans-31\" x=\"83.789062\"/>\n       <use xlink:href=\"#DejaVuSans-2e\" x=\"147.412109\"/>\n       <use xlink:href=\"#DejaVuSans-30\" x=\"179.199219\"/>\n      </g>\n     </g>\n    </g>\n    <g id=\"ytick_3\">\n     <g id=\"line2d_9\">\n      <g>\n       <use xlink:href=\"#m39ea3f0658\" x=\"38.482813\" y=\"169.338067\" style=\"stroke: #000000; stroke-width: 0.8\"/>\n      </g>\n     </g>\n     <g id=\"text_9\">\n      <!-- −0.8 -->\n      <g transform=\"translate(7.2 173.137285) scale(0.1 -0.1)\">\n       <use xlink:href=\"#DejaVuSans-2212\"/>\n       <use xlink:href=\"#DejaVuSans-30\" x=\"83.789062\"/>\n       <use xlink:href=\"#DejaVuSans-2e\" x=\"147.412109\"/>\n       <use xlink:href=\"#DejaVuSans-38\" x=\"179.199219\"/>\n      </g>\n     </g>\n    </g>\n    <g id=\"ytick_4\">\n     <g id=\"line2d_10\">\n      <g>\n       <use xlink:href=\"#m39ea3f0658\" x=\"38.482813\" y=\"131.82755\" style=\"stroke: #000000; stroke-width: 0.8\"/>\n      </g>\n     </g>\n     <g id=\"text_10\">\n      <!-- −0.6 -->\n      <g transform=\"translate(7.2 135.626769) scale(0.1 -0.1)\">\n       <use xlink:href=\"#DejaVuSans-2212\"/>\n       <use xlink:href=\"#DejaVuSans-30\" x=\"83.789062\"/>\n       <use xlink:href=\"#DejaVuSans-2e\" x=\"147.412109\"/>\n       <use xlink:href=\"#DejaVuSans-36\" x=\"179.199219\"/>\n      </g>\n     </g>\n    </g>\n    <g id=\"ytick_5\">\n     <g id=\"line2d_11\">\n      <g>\n       <use xlink:href=\"#m39ea3f0658\" x=\"38.482813\" y=\"94.317033\" style=\"stroke: #000000; stroke-width: 0.8\"/>\n      </g>\n     </g>\n     <g id=\"text_11\">\n      <!-- −0.4 -->\n      <g transform=\"translate(7.2 98.116252) scale(0.1 -0.1)\">\n       <use xlink:href=\"#DejaVuSans-2212\"/>\n       <use xlink:href=\"#DejaVuSans-30\" x=\"83.789062\"/>\n       <use xlink:href=\"#DejaVuSans-2e\" x=\"147.412109\"/>\n       <use xlink:href=\"#DejaVuSans-34\" x=\"179.199219\"/>\n      </g>\n     </g>\n    </g>\n    <g id=\"ytick_6\">\n     <g id=\"line2d_12\">\n      <g>\n       <use xlink:href=\"#m39ea3f0658\" x=\"38.482813\" y=\"56.806517\" style=\"stroke: #000000; stroke-width: 0.8\"/>\n      </g>\n     </g>\n     <g id=\"text_12\">\n      <!-- −0.2 -->\n      <g transform=\"translate(7.2 60.605735) scale(0.1 -0.1)\">\n       <use xlink:href=\"#DejaVuSans-2212\"/>\n       <use xlink:href=\"#DejaVuSans-30\" x=\"83.789062\"/>\n       <use xlink:href=\"#DejaVuSans-2e\" x=\"147.412109\"/>\n       <use xlink:href=\"#DejaVuSans-32\" x=\"179.199219\"/>\n      </g>\n     </g>\n    </g>\n    <g id=\"ytick_7\">\n     <g id=\"line2d_13\">\n      <g>\n       <use xlink:href=\"#m39ea3f0658\" x=\"38.482813\" y=\"19.296\" style=\"stroke: #000000; stroke-width: 0.8\"/>\n      </g>\n     </g>\n     <g id=\"text_13\">\n      <!-- 0.0 -->\n      <g transform=\"translate(15.579688 23.095219) scale(0.1 -0.1)\">\n       <use xlink:href=\"#DejaVuSans-30\"/>\n       <use xlink:href=\"#DejaVuSans-2e\" x=\"63.623047\"/>\n       <use xlink:href=\"#DejaVuSans-30\" x=\"95.410156\"/>\n      </g>\n     </g>\n    </g>\n   </g>\n   <g id=\"line2d_14\">\n    <path d=\"M 54.71554 19.296 \nL 57.994879 28.763528 \nL 61.274217 38.202147 \nL 64.553556 47.583306 \nL 67.832895 56.879148 \nL 71.112234 66.062833 \nL 74.391573 75.10884 \nL 77.670912 83.993236 \nL 80.950251 92.693908 \nL 84.229589 101.190739 \nL 87.508928 109.465761 \nL 90.788267 117.503249 \nL 94.067606 125.289775 \nL 97.346945 132.814238 \nL 100.626284 140.067786 \nL 103.905622 147.043811 \nL 107.184961 153.737827 \nL 110.4643 160.147354 \nL 113.743639 166.271785 \nL 117.022978 172.112232 \nL 120.302317 177.671358 \nL 123.581655 182.953218 \nL 126.860994 187.963081 \nL 130.140333 192.707266 \nL 133.419672 197.192977 \nL 136.699011 201.428151 \nL 139.97835 205.421312 \nL 143.257689 209.181432 \nL 146.537027 212.717809 \nL 149.816366 216.039958 \nL 153.095705 219.157505 \nL 156.375044 222.080104 \nL 159.654383 224.817359 \nL 162.933722 227.378754 \nL 166.21306 229.773602 \nL 169.492399 232.011003 \nL 172.771738 234.099797 \nL 176.051077 236.048535 \nL 179.330416 237.865462 \nL 182.609755 239.558499 \nL 185.889093 241.135233 \nL 189.168432 242.602901 \nL 192.447771 243.968402 \nL 195.72711 245.238286 \nL 199.006449 246.418763 \nL 202.285788 247.51571 \nL 205.565127 248.534675 \nL 208.844465 249.48089 \nL 212.123804 250.359281 \nL 215.403143 251.174477 \nL 218.682482 251.930826 \nL 221.961821 252.632404 \nL 225.24116 253.283029 \nL 228.520498 253.886275 \nL 231.799837 254.445483 \nL 235.079176 254.963774 \nL 238.358515 255.444062 \nL 241.637854 255.889064 \nL 244.917193 256.301312 \nL 248.196532 256.683165 \nL 251.47587 257.036824 \nL 254.755209 257.364331 \nL 258.034548 257.667586 \nL 261.313887 257.948362 \nL 264.593226 258.208298 \nL 267.872565 258.448921 \nL 271.151903 258.67165 \nL 274.431242 258.877802 \nL 277.710581 259.068596 \nL 280.98992 259.245165 \nL 284.269259 259.40856 \nL 287.548598 259.559756 \nL 290.827936 259.699659 \nL 294.107275 259.829104 \nL 297.386614 259.94887 \nL 300.665953 260.059675 \nL 303.945292 260.162186 \nL 307.224631 260.257021 \nL 310.50397 260.344751 \nL 313.783308 260.425908 \nL 317.062647 260.500981 \nL 320.341986 260.570425 \nL 323.621325 260.634661 \nL 326.900664 260.694077 \nL 330.180003 260.749034 \nL 333.459341 260.799868 \nL 336.73868 260.846886 \nL 340.018019 260.890375 \nL 343.297358 260.930595 \nL 346.576697 260.967795 \nL 349.856036 261.0022 \nL 353.135374 261.034019 \nL 356.414713 261.063448 \nL 359.694052 261.090665 \nL 362.973391 261.115836 \nL 366.25273 261.139116 \nL 369.532069 261.160646 \nL 372.811408 261.180557 \nL 376.090746 261.198971 \nL 379.370085 261.216 \n\" clip-path=\"url(#p3db5f0df71)\" style=\"fill: none; stroke: #1f77b4; stroke-width: 1.5; stroke-linecap: square\"/>\n   </g>\n   <g id=\"patch_3\">\n    <path d=\"M 38.482813 273.312 \nL 38.482813 7.2 \n\" style=\"fill: none; stroke: #000000; stroke-width: 0.8; stroke-linejoin: miter; stroke-linecap: square\"/>\n   </g>\n   <g id=\"patch_4\">\n    <path d=\"M 395.602813 273.312 \nL 395.602813 7.2 \n\" style=\"fill: none; stroke: #000000; stroke-width: 0.8; stroke-linejoin: miter; stroke-linecap: square\"/>\n   </g>\n   <g id=\"patch_5\">\n    <path d=\"M 38.482813 273.312 \nL 395.602813 273.312 \n\" style=\"fill: none; stroke: #000000; stroke-width: 0.8; stroke-linejoin: miter; stroke-linecap: square\"/>\n   </g>\n   <g id=\"patch_6\">\n    <path d=\"M 38.482813 7.2 \nL 395.602813 7.2 \n\" style=\"fill: none; stroke: #000000; stroke-width: 0.8; stroke-linejoin: miter; stroke-linecap: square\"/>\n   </g>\n  </g>\n </g>\n <defs>\n  <clipPath id=\"p3db5f0df71\">\n   <rect x=\"38.482813\" y=\"7.2\" width=\"357.12\" height=\"266.112\"/>\n  </clipPath>\n </defs>\n</svg>\n",
      "text/plain": [
       "<Figure size 640x480 with 1 Axes>"
      ]
     },
     "metadata": {},
     "output_type": "display_data"
    }
   ],
   "source": [
    "plt.plot(t, sol.T[0])"
   ]
  },
  {
   "attachments": {},
   "cell_type": "markdown",
   "metadata": {},
   "source": [
    "### **Coupled First Order ODEs**\n",
    "\n",
    "$y_1' = y_1 + y_2^2 + 3x \\ \\ \\ \\ \\ \\ \\ \\ \\ \\ \\ \\ \\ \\ y_1(0) = 0$\n",
    "\n",
    "$y_2' = 3y_1 + y_2^3 - \\cos(x) \\ \\ \\ \\ \\ \\ y_2(0) = 0$\n",
    "\n",
    "Letting $S = (y_1, y_2)$, we need a function that returns $dS/dx = (dy_1/dx, dy_2/dx)$."
   ]
  },
  {
   "cell_type": "code",
   "execution_count": 52,
   "metadata": {},
   "outputs": [],
   "source": [
    "def Sdot(S, x):\n",
    "    y1, y2 = S \n",
    "    return [y1 + y2**2 + 3*x, \n",
    "           3*y1 + y2**3 - np.cos(x)]\n",
    "\n",
    "y1_0 = 0\n",
    "y2_0 = 0\n",
    "\n",
    "S_0 = (y1_0, y2_0)"
   ]
  },
  {
   "cell_type": "code",
   "execution_count": 55,
   "metadata": {},
   "outputs": [],
   "source": [
    "x = np.linspace(0, 1, 100)\n",
    "sol = odeint(Sdot, S_0, x)\n",
    "y1 = sol.T[0]\n",
    "y2 = sol.T[1]"
   ]
  },
  {
   "cell_type": "code",
   "execution_count": 56,
   "metadata": {},
   "outputs": [
    {
     "data": {
      "text/plain": [
       "<matplotlib.legend.Legend at 0x7f65228405d0>"
      ]
     },
     "execution_count": 56,
     "metadata": {},
     "output_type": "execute_result"
    },
    {
     "data": {
      "image/svg+xml": "<?xml version=\"1.0\" encoding=\"utf-8\" standalone=\"no\"?>\n<!DOCTYPE svg PUBLIC \"-//W3C//DTD SVG 1.1//EN\"\n  \"http://www.w3.org/Graphics/SVG/1.1/DTD/svg11.dtd\">\n<svg xmlns:xlink=\"http://www.w3.org/1999/xlink\" width=\"394.423125pt\" height=\"297.190125pt\" viewBox=\"0 0 394.423125 297.190125\" xmlns=\"http://www.w3.org/2000/svg\" version=\"1.1\">\n <metadata>\n  <rdf:RDF xmlns:dc=\"http://purl.org/dc/elements/1.1/\" xmlns:cc=\"http://creativecommons.org/ns#\" xmlns:rdf=\"http://www.w3.org/1999/02/22-rdf-syntax-ns#\">\n   <cc:Work>\n    <dc:type rdf:resource=\"http://purl.org/dc/dcmitype/StillImage\"/>\n    <dc:date>2023-02-24T20:51:36.980724</dc:date>\n    <dc:format>image/svg+xml</dc:format>\n    <dc:creator>\n     <cc:Agent>\n      <dc:title>Matplotlib v3.7.0, https://matplotlib.org/</dc:title>\n     </cc:Agent>\n    </dc:creator>\n   </cc:Work>\n  </rdf:RDF>\n </metadata>\n <defs>\n  <style type=\"text/css\">*{stroke-linejoin: round; stroke-linecap: butt}</style>\n </defs>\n <g id=\"figure_1\">\n  <g id=\"patch_1\">\n   <path d=\"M 0 297.190125 \nL 394.423125 297.190125 \nL 394.423125 0 \nL 0 0 \nz\n\" style=\"fill: #ffffff\"/>\n  </g>\n  <g id=\"axes_1\">\n   <g id=\"patch_2\">\n    <path d=\"M 30.103125 273.312 \nL 387.223125 273.312 \nL 387.223125 7.2 \nL 30.103125 7.2 \nz\n\" style=\"fill: #ffffff\"/>\n   </g>\n   <g id=\"matplotlib.axis_1\">\n    <g id=\"xtick_1\">\n     <g id=\"line2d_1\">\n      <defs>\n       <path id=\"m960587fa8d\" d=\"M 0 0 \nL 0 3.5 \n\" style=\"stroke: #000000; stroke-width: 0.8\"/>\n      </defs>\n      <g>\n       <use xlink:href=\"#m960587fa8d\" x=\"46.335852\" y=\"273.312\" style=\"stroke: #000000; stroke-width: 0.8\"/>\n      </g>\n     </g>\n     <g id=\"text_1\">\n      <!-- 0.0 -->\n      <g transform=\"translate(38.38429 287.910437) scale(0.1 -0.1)\">\n       <defs>\n        <path id=\"DejaVuSans-30\" d=\"M 2034 4250 \nQ 1547 4250 1301 3770 \nQ 1056 3291 1056 2328 \nQ 1056 1369 1301 889 \nQ 1547 409 2034 409 \nQ 2525 409 2770 889 \nQ 3016 1369 3016 2328 \nQ 3016 3291 2770 3770 \nQ 2525 4250 2034 4250 \nz\nM 2034 4750 \nQ 2819 4750 3233 4129 \nQ 3647 3509 3647 2328 \nQ 3647 1150 3233 529 \nQ 2819 -91 2034 -91 \nQ 1250 -91 836 529 \nQ 422 1150 422 2328 \nQ 422 3509 836 4129 \nQ 1250 4750 2034 4750 \nz\n\" transform=\"scale(0.015625)\"/>\n        <path id=\"DejaVuSans-2e\" d=\"M 684 794 \nL 1344 794 \nL 1344 0 \nL 684 0 \nL 684 794 \nz\n\" transform=\"scale(0.015625)\"/>\n       </defs>\n       <use xlink:href=\"#DejaVuSans-30\"/>\n       <use xlink:href=\"#DejaVuSans-2e\" x=\"63.623047\"/>\n       <use xlink:href=\"#DejaVuSans-30\" x=\"95.410156\"/>\n      </g>\n     </g>\n    </g>\n    <g id=\"xtick_2\">\n     <g id=\"line2d_2\">\n      <g>\n       <use xlink:href=\"#m960587fa8d\" x=\"111.266761\" y=\"273.312\" style=\"stroke: #000000; stroke-width: 0.8\"/>\n      </g>\n     </g>\n     <g id=\"text_2\">\n      <!-- 0.2 -->\n      <g transform=\"translate(103.315199 287.910437) scale(0.1 -0.1)\">\n       <defs>\n        <path id=\"DejaVuSans-32\" d=\"M 1228 531 \nL 3431 531 \nL 3431 0 \nL 469 0 \nL 469 531 \nQ 828 903 1448 1529 \nQ 2069 2156 2228 2338 \nQ 2531 2678 2651 2914 \nQ 2772 3150 2772 3378 \nQ 2772 3750 2511 3984 \nQ 2250 4219 1831 4219 \nQ 1534 4219 1204 4116 \nQ 875 4013 500 3803 \nL 500 4441 \nQ 881 4594 1212 4672 \nQ 1544 4750 1819 4750 \nQ 2544 4750 2975 4387 \nQ 3406 4025 3406 3419 \nQ 3406 3131 3298 2873 \nQ 3191 2616 2906 2266 \nQ 2828 2175 2409 1742 \nQ 1991 1309 1228 531 \nz\n\" transform=\"scale(0.015625)\"/>\n       </defs>\n       <use xlink:href=\"#DejaVuSans-30\"/>\n       <use xlink:href=\"#DejaVuSans-2e\" x=\"63.623047\"/>\n       <use xlink:href=\"#DejaVuSans-32\" x=\"95.410156\"/>\n      </g>\n     </g>\n    </g>\n    <g id=\"xtick_3\">\n     <g id=\"line2d_3\">\n      <g>\n       <use xlink:href=\"#m960587fa8d\" x=\"176.19767\" y=\"273.312\" style=\"stroke: #000000; stroke-width: 0.8\"/>\n      </g>\n     </g>\n     <g id=\"text_3\">\n      <!-- 0.4 -->\n      <g transform=\"translate(168.246108 287.910437) scale(0.1 -0.1)\">\n       <defs>\n        <path id=\"DejaVuSans-34\" d=\"M 2419 4116 \nL 825 1625 \nL 2419 1625 \nL 2419 4116 \nz\nM 2253 4666 \nL 3047 4666 \nL 3047 1625 \nL 3713 1625 \nL 3713 1100 \nL 3047 1100 \nL 3047 0 \nL 2419 0 \nL 2419 1100 \nL 313 1100 \nL 313 1709 \nL 2253 4666 \nz\n\" transform=\"scale(0.015625)\"/>\n       </defs>\n       <use xlink:href=\"#DejaVuSans-30\"/>\n       <use xlink:href=\"#DejaVuSans-2e\" x=\"63.623047\"/>\n       <use xlink:href=\"#DejaVuSans-34\" x=\"95.410156\"/>\n      </g>\n     </g>\n    </g>\n    <g id=\"xtick_4\">\n     <g id=\"line2d_4\">\n      <g>\n       <use xlink:href=\"#m960587fa8d\" x=\"241.12858\" y=\"273.312\" style=\"stroke: #000000; stroke-width: 0.8\"/>\n      </g>\n     </g>\n     <g id=\"text_4\">\n      <!-- 0.6 -->\n      <g transform=\"translate(233.177017 287.910437) scale(0.1 -0.1)\">\n       <defs>\n        <path id=\"DejaVuSans-36\" d=\"M 2113 2584 \nQ 1688 2584 1439 2293 \nQ 1191 2003 1191 1497 \nQ 1191 994 1439 701 \nQ 1688 409 2113 409 \nQ 2538 409 2786 701 \nQ 3034 994 3034 1497 \nQ 3034 2003 2786 2293 \nQ 2538 2584 2113 2584 \nz\nM 3366 4563 \nL 3366 3988 \nQ 3128 4100 2886 4159 \nQ 2644 4219 2406 4219 \nQ 1781 4219 1451 3797 \nQ 1122 3375 1075 2522 \nQ 1259 2794 1537 2939 \nQ 1816 3084 2150 3084 \nQ 2853 3084 3261 2657 \nQ 3669 2231 3669 1497 \nQ 3669 778 3244 343 \nQ 2819 -91 2113 -91 \nQ 1303 -91 875 529 \nQ 447 1150 447 2328 \nQ 447 3434 972 4092 \nQ 1497 4750 2381 4750 \nQ 2619 4750 2861 4703 \nQ 3103 4656 3366 4563 \nz\n\" transform=\"scale(0.015625)\"/>\n       </defs>\n       <use xlink:href=\"#DejaVuSans-30\"/>\n       <use xlink:href=\"#DejaVuSans-2e\" x=\"63.623047\"/>\n       <use xlink:href=\"#DejaVuSans-36\" x=\"95.410156\"/>\n      </g>\n     </g>\n    </g>\n    <g id=\"xtick_5\">\n     <g id=\"line2d_5\">\n      <g>\n       <use xlink:href=\"#m960587fa8d\" x=\"306.059489\" y=\"273.312\" style=\"stroke: #000000; stroke-width: 0.8\"/>\n      </g>\n     </g>\n     <g id=\"text_5\">\n      <!-- 0.8 -->\n      <g transform=\"translate(298.107926 287.910437) scale(0.1 -0.1)\">\n       <defs>\n        <path id=\"DejaVuSans-38\" d=\"M 2034 2216 \nQ 1584 2216 1326 1975 \nQ 1069 1734 1069 1313 \nQ 1069 891 1326 650 \nQ 1584 409 2034 409 \nQ 2484 409 2743 651 \nQ 3003 894 3003 1313 \nQ 3003 1734 2745 1975 \nQ 2488 2216 2034 2216 \nz\nM 1403 2484 \nQ 997 2584 770 2862 \nQ 544 3141 544 3541 \nQ 544 4100 942 4425 \nQ 1341 4750 2034 4750 \nQ 2731 4750 3128 4425 \nQ 3525 4100 3525 3541 \nQ 3525 3141 3298 2862 \nQ 3072 2584 2669 2484 \nQ 3125 2378 3379 2068 \nQ 3634 1759 3634 1313 \nQ 3634 634 3220 271 \nQ 2806 -91 2034 -91 \nQ 1263 -91 848 271 \nQ 434 634 434 1313 \nQ 434 1759 690 2068 \nQ 947 2378 1403 2484 \nz\nM 1172 3481 \nQ 1172 3119 1398 2916 \nQ 1625 2713 2034 2713 \nQ 2441 2713 2670 2916 \nQ 2900 3119 2900 3481 \nQ 2900 3844 2670 4047 \nQ 2441 4250 2034 4250 \nQ 1625 4250 1398 4047 \nQ 1172 3844 1172 3481 \nz\n\" transform=\"scale(0.015625)\"/>\n       </defs>\n       <use xlink:href=\"#DejaVuSans-30\"/>\n       <use xlink:href=\"#DejaVuSans-2e\" x=\"63.623047\"/>\n       <use xlink:href=\"#DejaVuSans-38\" x=\"95.410156\"/>\n      </g>\n     </g>\n    </g>\n    <g id=\"xtick_6\">\n     <g id=\"line2d_6\">\n      <g>\n       <use xlink:href=\"#m960587fa8d\" x=\"370.990398\" y=\"273.312\" style=\"stroke: #000000; stroke-width: 0.8\"/>\n      </g>\n     </g>\n     <g id=\"text_6\">\n      <!-- 1.0 -->\n      <g transform=\"translate(363.038835 287.910437) scale(0.1 -0.1)\">\n       <defs>\n        <path id=\"DejaVuSans-31\" d=\"M 794 531 \nL 1825 531 \nL 1825 4091 \nL 703 3866 \nL 703 4441 \nL 1819 4666 \nL 2450 4666 \nL 2450 531 \nL 3481 531 \nL 3481 0 \nL 794 0 \nL 794 531 \nz\n\" transform=\"scale(0.015625)\"/>\n       </defs>\n       <use xlink:href=\"#DejaVuSans-31\"/>\n       <use xlink:href=\"#DejaVuSans-2e\" x=\"63.623047\"/>\n       <use xlink:href=\"#DejaVuSans-30\" x=\"95.410156\"/>\n      </g>\n     </g>\n    </g>\n   </g>\n   <g id=\"matplotlib.axis_2\">\n    <g id=\"ytick_1\">\n     <g id=\"line2d_7\">\n      <defs>\n       <path id=\"md919c08d08\" d=\"M 0 0 \nL -3.5 0 \n\" style=\"stroke: #000000; stroke-width: 0.8\"/>\n      </defs>\n      <g>\n       <use xlink:href=\"#md919c08d08\" x=\"30.103125\" y=\"235.224895\" style=\"stroke: #000000; stroke-width: 0.8\"/>\n      </g>\n     </g>\n     <g id=\"text_7\">\n      <!-- 0.0 -->\n      <g transform=\"translate(7.2 239.024113) scale(0.1 -0.1)\">\n       <use xlink:href=\"#DejaVuSans-30\"/>\n       <use xlink:href=\"#DejaVuSans-2e\" x=\"63.623047\"/>\n       <use xlink:href=\"#DejaVuSans-30\" x=\"95.410156\"/>\n      </g>\n     </g>\n    </g>\n    <g id=\"ytick_2\">\n     <g id=\"line2d_8\">\n      <g>\n       <use xlink:href=\"#md919c08d08\" x=\"30.103125\" y=\"189.033579\" style=\"stroke: #000000; stroke-width: 0.8\"/>\n      </g>\n     </g>\n     <g id=\"text_8\">\n      <!-- 0.5 -->\n      <g transform=\"translate(7.2 192.832798) scale(0.1 -0.1)\">\n       <defs>\n        <path id=\"DejaVuSans-35\" d=\"M 691 4666 \nL 3169 4666 \nL 3169 4134 \nL 1269 4134 \nL 1269 2991 \nQ 1406 3038 1543 3061 \nQ 1681 3084 1819 3084 \nQ 2600 3084 3056 2656 \nQ 3513 2228 3513 1497 \nQ 3513 744 3044 326 \nQ 2575 -91 1722 -91 \nQ 1428 -91 1123 -41 \nQ 819 9 494 109 \nL 494 744 \nQ 775 591 1075 516 \nQ 1375 441 1709 441 \nQ 2250 441 2565 725 \nQ 2881 1009 2881 1497 \nQ 2881 1984 2565 2268 \nQ 2250 2553 1709 2553 \nQ 1456 2553 1204 2497 \nQ 953 2441 691 2322 \nL 691 4666 \nz\n\" transform=\"scale(0.015625)\"/>\n       </defs>\n       <use xlink:href=\"#DejaVuSans-30\"/>\n       <use xlink:href=\"#DejaVuSans-2e\" x=\"63.623047\"/>\n       <use xlink:href=\"#DejaVuSans-35\" x=\"95.410156\"/>\n      </g>\n     </g>\n    </g>\n    <g id=\"ytick_3\">\n     <g id=\"line2d_9\">\n      <g>\n       <use xlink:href=\"#md919c08d08\" x=\"30.103125\" y=\"142.842263\" style=\"stroke: #000000; stroke-width: 0.8\"/>\n      </g>\n     </g>\n     <g id=\"text_9\">\n      <!-- 1.0 -->\n      <g transform=\"translate(7.2 146.641482) scale(0.1 -0.1)\">\n       <use xlink:href=\"#DejaVuSans-31\"/>\n       <use xlink:href=\"#DejaVuSans-2e\" x=\"63.623047\"/>\n       <use xlink:href=\"#DejaVuSans-30\" x=\"95.410156\"/>\n      </g>\n     </g>\n    </g>\n    <g id=\"ytick_4\">\n     <g id=\"line2d_10\">\n      <g>\n       <use xlink:href=\"#md919c08d08\" x=\"30.103125\" y=\"96.650948\" style=\"stroke: #000000; stroke-width: 0.8\"/>\n      </g>\n     </g>\n     <g id=\"text_10\">\n      <!-- 1.5 -->\n      <g transform=\"translate(7.2 100.450167) scale(0.1 -0.1)\">\n       <use xlink:href=\"#DejaVuSans-31\"/>\n       <use xlink:href=\"#DejaVuSans-2e\" x=\"63.623047\"/>\n       <use xlink:href=\"#DejaVuSans-35\" x=\"95.410156\"/>\n      </g>\n     </g>\n    </g>\n    <g id=\"ytick_5\">\n     <g id=\"line2d_11\">\n      <g>\n       <use xlink:href=\"#md919c08d08\" x=\"30.103125\" y=\"50.459632\" style=\"stroke: #000000; stroke-width: 0.8\"/>\n      </g>\n     </g>\n     <g id=\"text_11\">\n      <!-- 2.0 -->\n      <g transform=\"translate(7.2 54.258851) scale(0.1 -0.1)\">\n       <use xlink:href=\"#DejaVuSans-32\"/>\n       <use xlink:href=\"#DejaVuSans-2e\" x=\"63.623047\"/>\n       <use xlink:href=\"#DejaVuSans-30\" x=\"95.410156\"/>\n      </g>\n     </g>\n    </g>\n   </g>\n   <g id=\"line2d_12\">\n    <path d=\"M 46.335852 235.224895 \nL 49.615191 235.210676 \nL 52.89453 235.167701 \nL 56.173869 235.095488 \nL 59.453208 234.993551 \nL 62.732546 234.861402 \nL 66.011885 234.69855 \nL 69.291224 234.504505 \nL 72.570563 234.278775 \nL 75.849902 234.020869 \nL 79.129241 233.7303 \nL 82.40858 233.406579 \nL 85.687918 233.049223 \nL 88.967257 232.657751 \nL 92.246596 232.231687 \nL 95.525935 231.770561 \nL 98.805274 231.27391 \nL 102.084613 230.741275 \nL 105.363951 230.172209 \nL 108.64329 229.566269 \nL 111.922629 228.923023 \nL 115.201968 228.242049 \nL 118.481307 227.522935 \nL 121.760646 226.765282 \nL 125.039985 225.968698 \nL 128.319323 225.132808 \nL 131.598662 224.257247 \nL 134.878001 223.341664 \nL 138.15734 222.385721 \nL 141.436679 221.389094 \nL 144.716018 220.351474 \nL 147.995356 219.272564 \nL 151.274695 218.152082 \nL 154.554034 216.989763 \nL 157.833373 215.785351 \nL 161.112712 214.538608 \nL 164.392051 213.249309 \nL 167.671389 211.917239 \nL 170.950728 210.542198 \nL 174.230067 209.123998 \nL 177.509406 207.66246 \nL 180.788745 206.157416 \nL 184.068084 204.608705 \nL 187.347423 203.016173 \nL 190.626761 201.379673 \nL 193.9061 199.69906 \nL 197.185439 197.974191 \nL 200.464778 196.20492 \nL 203.744117 194.391102 \nL 207.023456 192.532581 \nL 210.302794 190.629195 \nL 213.582133 188.680769 \nL 216.861472 186.687113 \nL 220.140811 184.648015 \nL 223.42015 182.563243 \nL 226.699489 180.432536 \nL 229.978827 178.255599 \nL 233.258166 176.032104 \nL 236.537505 173.761677 \nL 239.816844 171.443901 \nL 243.096183 169.078303 \nL 246.375522 166.664352 \nL 249.654861 164.201455 \nL 252.934199 161.688943 \nL 256.213538 159.126075 \nL 259.492877 156.512019 \nL 262.772216 153.845856 \nL 266.051555 151.126563 \nL 269.330894 148.35301 \nL 272.610232 145.52395 \nL 275.889571 142.63801 \nL 279.16891 139.69368 \nL 282.448249 136.689304 \nL 285.727588 133.623067 \nL 289.006927 130.492986 \nL 292.286265 127.296893 \nL 295.565604 124.032424 \nL 298.844943 120.696998 \nL 302.124282 117.287807 \nL 305.403621 113.801789 \nL 308.68296 110.235607 \nL 311.962299 106.58563 \nL 315.241637 102.847894 \nL 318.520976 99.01808 \nL 321.800315 95.091465 \nL 325.079654 91.062889 \nL 328.358993 86.926694 \nL 331.638332 82.676668 \nL 334.91767 78.305971 \nL 338.197009 73.807052 \nL 341.476348 69.171543 \nL 344.755687 64.390135 \nL 348.035026 59.452427 \nL 351.314365 54.346738 \nL 354.593704 49.059874 \nL 357.873042 43.576839 \nL 361.152381 37.880466 \nL 364.43172 31.950935 \nL 367.711059 25.765168 \nL 370.990398 19.296 \n\" clip-path=\"url(#p272d93d76d)\" style=\"fill: none; stroke: #1f77b4; stroke-width: 1.5; stroke-linecap: square\"/>\n   </g>\n   <g id=\"line2d_13\">\n    <path d=\"M 46.335852 235.224895 \nL 49.615191 236.157892 \nL 52.89453 237.089934 \nL 56.173869 238.020053 \nL 59.453208 238.947275 \nL 62.732546 239.870617 \nL 66.011885 240.789086 \nL 69.291224 241.701679 \nL 72.570563 242.607382 \nL 75.849902 243.505173 \nL 79.129241 244.394017 \nL 82.40858 245.272868 \nL 85.687918 246.14067 \nL 88.967257 246.996351 \nL 92.246596 247.838831 \nL 95.525935 248.667014 \nL 98.805274 249.47979 \nL 102.084613 250.276035 \nL 105.363951 251.054612 \nL 108.64329 251.814366 \nL 111.922629 252.55413 \nL 115.201968 253.272716 \nL 118.481307 253.968924 \nL 121.760646 254.641533 \nL 125.039985 255.289308 \nL 128.319323 255.910994 \nL 131.598662 256.505317 \nL 134.878001 257.070989 \nL 138.15734 257.606699 \nL 141.436679 258.111119 \nL 144.716018 258.582904 \nL 147.995356 259.020689 \nL 151.274695 259.423091 \nL 154.554034 259.78871 \nL 157.833373 260.116129 \nL 161.112712 260.403912 \nL 164.392051 260.650608 \nL 167.671389 260.854752 \nL 170.950728 261.014863 \nL 174.230067 261.129447 \nL 177.509406 261.196998 \nL 180.788745 261.216 \nL 184.068084 261.184926 \nL 187.347423 261.102242 \nL 190.626761 260.966408 \nL 193.9061 260.775879 \nL 197.185439 260.529108 \nL 200.464778 260.224547 \nL 203.744117 259.860647 \nL 207.023456 259.435864 \nL 210.302794 258.948659 \nL 213.582133 258.397496 \nL 216.861472 257.78085 \nL 220.140811 257.097203 \nL 223.42015 256.345048 \nL 226.699489 255.522888 \nL 229.978827 254.629237 \nL 233.258166 253.662619 \nL 236.537505 252.621571 \nL 239.816844 251.504638 \nL 243.096183 250.310369 \nL 246.375522 249.03732 \nL 249.654861 247.684045 \nL 252.934199 246.249094 \nL 256.213538 244.731008 \nL 259.492877 243.128308 \nL 262.772216 241.439487 \nL 266.051555 239.663004 \nL 269.330894 237.797266 \nL 272.610232 235.840618 \nL 275.889571 233.791326 \nL 279.16891 231.647555 \nL 282.448249 229.407355 \nL 285.727588 227.068629 \nL 289.006927 224.629111 \nL 292.286265 222.086334 \nL 295.565604 219.43759 \nL 298.844943 216.679897 \nL 302.124282 213.809948 \nL 305.403621 210.824058 \nL 308.68296 207.718105 \nL 311.962299 204.487463 \nL 315.241637 201.126917 \nL 318.520976 197.630576 \nL 321.800315 193.991755 \nL 325.079654 190.202856 \nL 328.358993 186.255212 \nL 331.638332 182.138903 \nL 334.91767 177.842544 \nL 338.197009 173.353015 \nL 341.476348 168.655149 \nL 344.755687 163.731322 \nL 348.035026 158.560974 \nL 351.314365 153.119973 \nL 354.593704 147.379837 \nL 357.873042 141.306714 \nL 361.152381 134.860064 \nL 364.43172 127.990902 \nL 367.711059 120.639464 \nL 370.990398 112.731993 \n\" clip-path=\"url(#p272d93d76d)\" style=\"fill: none; stroke: #ff7f0e; stroke-width: 1.5; stroke-linecap: square\"/>\n   </g>\n   <g id=\"patch_3\">\n    <path d=\"M 30.103125 273.312 \nL 30.103125 7.2 \n\" style=\"fill: none; stroke: #000000; stroke-width: 0.8; stroke-linejoin: miter; stroke-linecap: square\"/>\n   </g>\n   <g id=\"patch_4\">\n    <path d=\"M 387.223125 273.312 \nL 387.223125 7.2 \n\" style=\"fill: none; stroke: #000000; stroke-width: 0.8; stroke-linejoin: miter; stroke-linecap: square\"/>\n   </g>\n   <g id=\"patch_5\">\n    <path d=\"M 30.103125 273.312 \nL 387.223125 273.312 \n\" style=\"fill: none; stroke: #000000; stroke-width: 0.8; stroke-linejoin: miter; stroke-linecap: square\"/>\n   </g>\n   <g id=\"patch_6\">\n    <path d=\"M 30.103125 7.2 \nL 387.223125 7.2 \n\" style=\"fill: none; stroke: #000000; stroke-width: 0.8; stroke-linejoin: miter; stroke-linecap: square\"/>\n   </g>\n   <g id=\"legend_1\">\n    <g id=\"patch_7\">\n     <path d=\"M 37.103125 44.596875 \nL 79.803125 44.596875 \nQ 81.803125 44.596875 81.803125 42.596875 \nL 81.803125 14.2 \nQ 81.803125 12.2 79.803125 12.2 \nL 37.103125 12.2 \nQ 35.103125 12.2 35.103125 14.2 \nL 35.103125 42.596875 \nQ 35.103125 44.596875 37.103125 44.596875 \nz\n\" style=\"fill: #ffffff; opacity: 0.8; stroke: #cccccc; stroke-linejoin: miter\"/>\n    </g>\n    <g id=\"line2d_14\">\n     <path d=\"M 39.103125 20.298437 \nL 49.103125 20.298437 \nL 59.103125 20.298437 \n\" style=\"fill: none; stroke: #1f77b4; stroke-width: 1.5; stroke-linecap: square\"/>\n    </g>\n    <g id=\"text_12\">\n     <!-- $y_1$ -->\n     <g transform=\"translate(67.103125 23.798437) scale(0.1 -0.1)\">\n      <defs>\n       <path id=\"DejaVuSans-Oblique-79\" d=\"M 1588 -325 \nQ 1188 -997 936 -1164 \nQ 684 -1331 294 -1331 \nL -159 -1331 \nL -63 -850 \nL 269 -850 \nQ 509 -850 678 -719 \nQ 847 -588 1056 -206 \nL 1234 128 \nL 459 3500 \nL 1069 3500 \nL 1650 819 \nL 3256 3500 \nL 3859 3500 \nL 1588 -325 \nz\n\" transform=\"scale(0.015625)\"/>\n      </defs>\n      <use xlink:href=\"#DejaVuSans-Oblique-79\" transform=\"translate(0 0.3125)\"/>\n      <use xlink:href=\"#DejaVuSans-31\" transform=\"translate(59.179688 -16.09375) scale(0.7)\"/>\n     </g>\n    </g>\n    <g id=\"line2d_15\">\n     <path d=\"M 39.103125 34.996875 \nL 49.103125 34.996875 \nL 59.103125 34.996875 \n\" style=\"fill: none; stroke: #ff7f0e; stroke-width: 1.5; stroke-linecap: square\"/>\n    </g>\n    <g id=\"text_13\">\n     <!-- $y_2$ -->\n     <g transform=\"translate(67.103125 38.496875) scale(0.1 -0.1)\">\n      <use xlink:href=\"#DejaVuSans-Oblique-79\" transform=\"translate(0 0.3125)\"/>\n      <use xlink:href=\"#DejaVuSans-32\" transform=\"translate(59.179688 -16.09375) scale(0.7)\"/>\n     </g>\n    </g>\n   </g>\n  </g>\n </g>\n <defs>\n  <clipPath id=\"p272d93d76d\">\n   <rect x=\"30.103125\" y=\"7.2\" width=\"357.12\" height=\"266.112\"/>\n  </clipPath>\n </defs>\n</svg>\n",
      "text/plain": [
       "<Figure size 640x480 with 1 Axes>"
      ]
     },
     "metadata": {},
     "output_type": "display_data"
    }
   ],
   "source": [
    "plt.plot(x, y1)\n",
    "plt.plot(x, y2)\n",
    "plt.legend(['$y_1$', '$y_2$'])"
   ]
  },
  {
   "attachments": {},
   "cell_type": "markdown",
   "metadata": {},
   "source": [
    "Remember that any N order ODE can be converted into a system of N first order coupled ODEs, so this approach is extremely useful!"
   ]
  }
 ],
 "metadata": {
  "kernelspec": {
   "display_name": "Python 3",
   "language": "python",
   "name": "python3"
  },
  "language_info": {
   "codemirror_mode": {
    "name": "ipython",
    "version": 3
   },
   "file_extension": ".py",
   "mimetype": "text/x-python",
   "name": "python",
   "nbconvert_exporter": "python",
   "pygments_lexer": "ipython3",
   "version": "3.11.1"
  },
  "orig_nbformat": 4,
  "vscode": {
   "interpreter": {
    "hash": "e7370f93d1d0cde622a1f8e1c04877d8463912d04d973331ad4851f04de6915a"
   }
  }
 },
 "nbformat": 4,
 "nbformat_minor": 2
}
