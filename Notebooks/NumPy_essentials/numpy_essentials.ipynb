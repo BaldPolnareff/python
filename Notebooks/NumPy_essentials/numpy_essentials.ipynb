{
 "cells": [
  {
   "attachments": {},
   "cell_type": "markdown",
   "metadata": {},
   "source": [
    "# Playing with NumPy"
   ]
  },
  {
   "cell_type": "code",
   "execution_count": 21,
   "metadata": {},
   "outputs": [],
   "source": [
    "import numpy as np\n",
    "import matplotlib.pyplot as plt\n",
    "import mplcyberpunk\n",
    "%config InlineBackend.figure_format = 'svg'"
   ]
  },
  {
   "attachments": {},
   "cell_type": "markdown",
   "metadata": {},
   "source": [
    "## Creating Arrays"
   ]
  },
  {
   "cell_type": "code",
   "execution_count": 2,
   "metadata": {},
   "outputs": [],
   "source": [
    "a1 = np.array([3, 5, 7, 3])\n",
    "a2 = np.zeros(10)\n",
    "a3 = np.ones(10)\n",
    "a4 = np.random.random(10) # uniformly random numbers\n",
    "a5 = np.random.randn(10)  # gaussian random numbers (rand-n as in normally distributed)\n",
    "a6 = np.linspace(0, 10, 100) # create a linspace of equally distributed points over a range, specifying the extremes and N points\n",
    "a7 = np.arange(0, 10, 0.02) # analogous to linspace but you specify the spacing, rather than the number of points"
   ]
  },
  {
   "attachments": {},
   "cell_type": "markdown",
   "metadata": {},
   "source": [
    "## Array Operations"
   ]
  },
  {
   "cell_type": "code",
   "execution_count": 3,
   "metadata": {},
   "outputs": [
    {
     "data": {
      "text/plain": [
       "array([5, 7])"
      ]
     },
     "execution_count": 3,
     "metadata": {},
     "output_type": "execute_result"
    }
   ],
   "source": [
    "2 * a1 # scaling\n",
    "1/a1   # notice how it performs the operation elementwise\n",
    "1/a1 + a1 + 2 # numpy knows that this is equivalent to summing a vector of 2s of the same size\n",
    "a1 > 4 # booleans work too\n",
    "a1[a1 > 4] # they can be very useful as you can see"
   ]
  },
  {
   "attachments": {},
   "cell_type": "markdown",
   "metadata": {},
   "source": [
    "This is extremely useful and intuitive if you think about arrays as vectors and matrices. Remember that these are numpy arrays, not core python lists. If you're used to working with arrays as vectors (from Octave, Matlab, R, etc.) then this will be very familiar, but it is a specific feature of numpy and not arrays in general."
   ]
  },
  {
   "cell_type": "code",
   "execution_count": 25,
   "metadata": {},
   "outputs": [
    {
     "data": {
      "text/plain": [
       "(array([2., 0., 0., 0., 1., 2., 0., 1., 1., 3.]),\n",
       " array([0.0056463 , 0.0923034 , 0.1789605 , 0.2656176 , 0.35227471,\n",
       "        0.43893181, 0.52558891, 0.61224601, 0.69890311, 0.78556022,\n",
       "        0.87221732]),\n",
       " <BarContainer object of 10 artists>)"
      ]
     },
     "execution_count": 25,
     "metadata": {},
     "output_type": "execute_result"
    },
    {
     "data": {
      "image/svg+xml": "<?xml version=\"1.0\" encoding=\"utf-8\" standalone=\"no\"?>\n<!DOCTYPE svg PUBLIC \"-//W3C//DTD SVG 1.1//EN\"\n  \"http://www.w3.org/Graphics/SVG/1.1/DTD/svg11.dtd\">\n<svg xmlns:xlink=\"http://www.w3.org/1999/xlink\" width=\"438.256pt\" height=\"310.886625pt\" viewBox=\"0 0 438.256 310.886625\" xmlns=\"http://www.w3.org/2000/svg\" version=\"1.1\">\n <metadata>\n  <rdf:RDF xmlns:dc=\"http://purl.org/dc/elements/1.1/\" xmlns:cc=\"http://creativecommons.org/ns#\" xmlns:rdf=\"http://www.w3.org/1999/02/22-rdf-syntax-ns#\">\n   <cc:Work>\n    <dc:type rdf:resource=\"http://purl.org/dc/dcmitype/StillImage\"/>\n    <dc:date>2023-02-20T16:57:11.081874</dc:date>\n    <dc:format>image/svg+xml</dc:format>\n    <dc:creator>\n     <cc:Agent>\n      <dc:title>Matplotlib v3.7.0, https://matplotlib.org/</dc:title>\n     </cc:Agent>\n    </dc:creator>\n   </cc:Work>\n  </rdf:RDF>\n </metadata>\n <defs>\n  <style type=\"text/css\">*{stroke-linejoin: round; stroke-linecap: butt}</style>\n </defs>\n <g id=\"figure_1\">\n  <g id=\"patch_1\">\n   <path d=\"M 0 310.886625 \nL 438.256 310.886625 \nL 438.256 0 \nL 0 0 \nz\n\" style=\"fill: #212946\"/>\n  </g>\n  <g id=\"axes_1\">\n   <g id=\"patch_2\">\n    <path d=\"M 30.16 287.136 \nL 431.056 287.136 \nL 431.056 7.2 \nL 30.16 7.2 \nz\n\" style=\"fill: #212946\"/>\n   </g>\n   <g id=\"matplotlib.axis_1\">\n    <g id=\"xtick_1\">\n     <g id=\"line2d_1\">\n      <path d=\"M 48.382545 287.136 \nL 48.382545 7.2 \n\" clip-path=\"url(#pec11bb9a54)\" style=\"fill: none; stroke: #2a3459; stroke-linecap: round\"/>\n     </g>\n     <g id=\"line2d_2\"/>\n     <g id=\"text_1\">\n      <!-- 0.0 -->\n      <g style=\"fill: #e6e6e6\" transform=\"translate(38.652545 300.781625) scale(0.14 -0.14)\">\n       <defs>\n        <path id=\"LiberationSans-30\" d=\"M 3309 2203 \nQ 3309 1100 2920 518 \nQ 2531 -63 1772 -63 \nQ 1013 -63 631 515 \nQ 250 1094 250 2203 \nQ 250 3338 620 3903 \nQ 991 4469 1791 4469 \nQ 2569 4469 2939 3897 \nQ 3309 3325 3309 2203 \nz\nM 2738 2203 \nQ 2738 3156 2517 3584 \nQ 2297 4013 1791 4013 \nQ 1272 4013 1045 3591 \nQ 819 3169 819 2203 \nQ 819 1266 1048 831 \nQ 1278 397 1778 397 \nQ 2275 397 2506 840 \nQ 2738 1284 2738 2203 \nz\n\" transform=\"scale(0.015625)\"/>\n        <path id=\"LiberationSans-2e\" d=\"M 584 0 \nL 584 684 \nL 1194 684 \nL 1194 0 \nL 584 0 \nz\n\" transform=\"scale(0.015625)\"/>\n       </defs>\n       <use xlink:href=\"#LiberationSans-30\"/>\n       <use xlink:href=\"#LiberationSans-2e\" x=\"55.615234\"/>\n       <use xlink:href=\"#LiberationSans-30\" x=\"83.398438\"/>\n      </g>\n     </g>\n    </g>\n    <g id=\"xtick_2\">\n     <g id=\"line2d_3\">\n      <path d=\"M 121.272727 287.136 \nL 121.272727 7.2 \n\" clip-path=\"url(#pec11bb9a54)\" style=\"fill: none; stroke: #2a3459; stroke-linecap: round\"/>\n     </g>\n     <g id=\"line2d_4\"/>\n     <g id=\"text_2\">\n      <!-- 0.2 -->\n      <g style=\"fill: #e6e6e6\" transform=\"translate(111.542727 300.781625) scale(0.14 -0.14)\">\n       <defs>\n        <path id=\"LiberationSans-32\" d=\"M 322 0 \nL 322 397 \nQ 481 763 711 1042 \nQ 941 1322 1194 1548 \nQ 1447 1775 1695 1969 \nQ 1944 2163 2144 2356 \nQ 2344 2550 2467 2762 \nQ 2591 2975 2591 3244 \nQ 2591 3606 2378 3806 \nQ 2166 4006 1788 4006 \nQ 1428 4006 1195 3811 \nQ 963 3616 922 3263 \nL 347 3316 \nQ 409 3844 795 4156 \nQ 1181 4469 1788 4469 \nQ 2453 4469 2811 4155 \nQ 3169 3841 3169 3263 \nQ 3169 3006 3051 2753 \nQ 2934 2500 2703 2247 \nQ 2472 1994 1819 1463 \nQ 1459 1169 1246 933 \nQ 1034 697 941 478 \nL 3238 478 \nL 3238 0 \nL 322 0 \nz\n\" transform=\"scale(0.015625)\"/>\n       </defs>\n       <use xlink:href=\"#LiberationSans-30\"/>\n       <use xlink:href=\"#LiberationSans-2e\" x=\"55.615234\"/>\n       <use xlink:href=\"#LiberationSans-32\" x=\"83.398438\"/>\n      </g>\n     </g>\n    </g>\n    <g id=\"xtick_3\">\n     <g id=\"line2d_5\">\n      <path d=\"M 194.162909 287.136 \nL 194.162909 7.2 \n\" clip-path=\"url(#pec11bb9a54)\" style=\"fill: none; stroke: #2a3459; stroke-linecap: round\"/>\n     </g>\n     <g id=\"line2d_6\"/>\n     <g id=\"text_3\">\n      <!-- 0.4 -->\n      <g style=\"fill: #e6e6e6\" transform=\"translate(184.432909 300.781625) scale(0.14 -0.14)\">\n       <defs>\n        <path id=\"LiberationSans-34\" d=\"M 2753 997 \nL 2753 0 \nL 2222 0 \nL 2222 997 \nL 147 997 \nL 147 1434 \nL 2163 4403 \nL 2753 4403 \nL 2753 1441 \nL 3372 1441 \nL 3372 997 \nL 2753 997 \nz\nM 2222 3769 \nQ 2216 3750 2134 3603 \nQ 2053 3456 2013 3397 \nL 884 1734 \nL 716 1503 \nL 666 1441 \nL 2222 1441 \nL 2222 3769 \nz\n\" transform=\"scale(0.015625)\"/>\n       </defs>\n       <use xlink:href=\"#LiberationSans-30\"/>\n       <use xlink:href=\"#LiberationSans-2e\" x=\"55.615234\"/>\n       <use xlink:href=\"#LiberationSans-34\" x=\"83.398438\"/>\n      </g>\n     </g>\n    </g>\n    <g id=\"xtick_4\">\n     <g id=\"line2d_7\">\n      <path d=\"M 267.053091 287.136 \nL 267.053091 7.2 \n\" clip-path=\"url(#pec11bb9a54)\" style=\"fill: none; stroke: #2a3459; stroke-linecap: round\"/>\n     </g>\n     <g id=\"line2d_8\"/>\n     <g id=\"text_4\">\n      <!-- 0.6 -->\n      <g style=\"fill: #e6e6e6\" transform=\"translate(257.323091 300.781625) scale(0.14 -0.14)\">\n       <defs>\n        <path id=\"LiberationSans-36\" d=\"M 3278 1441 \nQ 3278 744 2900 340 \nQ 2522 -63 1856 -63 \nQ 1113 -63 719 490 \nQ 325 1044 325 2100 \nQ 325 3244 734 3856 \nQ 1144 4469 1900 4469 \nQ 2897 4469 3156 3572 \nL 2619 3475 \nQ 2453 4013 1894 4013 \nQ 1413 4013 1148 3564 \nQ 884 3116 884 2266 \nQ 1038 2550 1316 2698 \nQ 1594 2847 1953 2847 \nQ 2563 2847 2920 2465 \nQ 3278 2084 3278 1441 \nz\nM 2706 1416 \nQ 2706 1894 2472 2153 \nQ 2238 2413 1819 2413 \nQ 1425 2413 1183 2183 \nQ 941 1953 941 1550 \nQ 941 1041 1192 716 \nQ 1444 391 1838 391 \nQ 2244 391 2475 664 \nQ 2706 938 2706 1416 \nz\n\" transform=\"scale(0.015625)\"/>\n       </defs>\n       <use xlink:href=\"#LiberationSans-30\"/>\n       <use xlink:href=\"#LiberationSans-2e\" x=\"55.615234\"/>\n       <use xlink:href=\"#LiberationSans-36\" x=\"83.398438\"/>\n      </g>\n     </g>\n    </g>\n    <g id=\"xtick_5\">\n     <g id=\"line2d_9\">\n      <path d=\"M 339.943273 287.136 \nL 339.943273 7.2 \n\" clip-path=\"url(#pec11bb9a54)\" style=\"fill: none; stroke: #2a3459; stroke-linecap: round\"/>\n     </g>\n     <g id=\"line2d_10\"/>\n     <g id=\"text_5\">\n      <!-- 0.8 -->\n      <g style=\"fill: #e6e6e6\" transform=\"translate(330.213273 300.781625) scale(0.14 -0.14)\">\n       <defs>\n        <path id=\"LiberationSans-38\" d=\"M 3281 1228 \nQ 3281 619 2893 278 \nQ 2506 -63 1781 -63 \nQ 1075 -63 676 271 \nQ 278 606 278 1222 \nQ 278 1653 525 1947 \nQ 772 2241 1156 2303 \nL 1156 2316 \nQ 797 2400 589 2681 \nQ 381 2963 381 3341 \nQ 381 3844 757 4156 \nQ 1134 4469 1769 4469 \nQ 2419 4469 2795 4162 \nQ 3172 3856 3172 3334 \nQ 3172 2956 2962 2675 \nQ 2753 2394 2391 2322 \nL 2391 2309 \nQ 2813 2241 3047 1952 \nQ 3281 1663 3281 1228 \nz\nM 2588 3303 \nQ 2588 4050 1769 4050 \nQ 1372 4050 1164 3862 \nQ 956 3675 956 3303 \nQ 956 2925 1170 2726 \nQ 1384 2528 1775 2528 \nQ 2172 2528 2380 2711 \nQ 2588 2894 2588 3303 \nz\nM 2697 1281 \nQ 2697 1691 2453 1898 \nQ 2209 2106 1769 2106 \nQ 1341 2106 1100 1882 \nQ 859 1659 859 1269 \nQ 859 359 1788 359 \nQ 2247 359 2472 579 \nQ 2697 800 2697 1281 \nz\n\" transform=\"scale(0.015625)\"/>\n       </defs>\n       <use xlink:href=\"#LiberationSans-30\"/>\n       <use xlink:href=\"#LiberationSans-2e\" x=\"55.615234\"/>\n       <use xlink:href=\"#LiberationSans-38\" x=\"83.398438\"/>\n      </g>\n     </g>\n    </g>\n    <g id=\"xtick_6\">\n     <g id=\"line2d_11\">\n      <path d=\"M 412.833455 287.136 \nL 412.833455 7.2 \n\" clip-path=\"url(#pec11bb9a54)\" style=\"fill: none; stroke: #2a3459; stroke-linecap: round\"/>\n     </g>\n     <g id=\"line2d_12\"/>\n     <g id=\"text_6\">\n      <!-- 1.0 -->\n      <g style=\"fill: #e6e6e6\" transform=\"translate(403.103455 300.781625) scale(0.14 -0.14)\">\n       <defs>\n        <path id=\"LiberationSans-31\" d=\"M 488 0 \nL 488 478 \nL 1609 478 \nL 1609 3866 \nL 616 3156 \nL 616 3688 \nL 1656 4403 \nL 2175 4403 \nL 2175 478 \nL 3247 478 \nL 3247 0 \nL 488 0 \nz\n\" transform=\"scale(0.015625)\"/>\n       </defs>\n       <use xlink:href=\"#LiberationSans-31\"/>\n       <use xlink:href=\"#LiberationSans-2e\" x=\"55.615234\"/>\n       <use xlink:href=\"#LiberationSans-30\" x=\"83.398438\"/>\n      </g>\n     </g>\n    </g>\n   </g>\n   <g id=\"matplotlib.axis_2\">\n    <g id=\"ytick_1\">\n     <g id=\"line2d_13\">\n      <path d=\"M 30.16 287.136 \nL 431.056 287.136 \n\" clip-path=\"url(#pec11bb9a54)\" style=\"fill: none; stroke: #2a3459; stroke-linecap: round\"/>\n     </g>\n     <g id=\"line2d_14\"/>\n     <g id=\"text_7\">\n      <!-- 0.0 -->\n      <g style=\"fill: #e6e6e6\" transform=\"translate(7.2 292.208812) scale(0.14 -0.14)\">\n       <use xlink:href=\"#LiberationSans-30\"/>\n       <use xlink:href=\"#LiberationSans-2e\" x=\"55.615234\"/>\n       <use xlink:href=\"#LiberationSans-30\" x=\"83.398438\"/>\n      </g>\n     </g>\n    </g>\n    <g id=\"ytick_2\">\n     <g id=\"line2d_15\">\n      <path d=\"M 30.16 242.701714 \nL 431.056 242.701714 \n\" clip-path=\"url(#pec11bb9a54)\" style=\"fill: none; stroke: #2a3459; stroke-linecap: round\"/>\n     </g>\n     <g id=\"line2d_16\"/>\n     <g id=\"text_8\">\n      <!-- 0.5 -->\n      <g style=\"fill: #e6e6e6\" transform=\"translate(7.2 247.774527) scale(0.14 -0.14)\">\n       <defs>\n        <path id=\"LiberationSans-35\" d=\"M 3291 1434 \nQ 3291 738 2877 337 \nQ 2463 -63 1728 -63 \nQ 1113 -63 734 206 \nQ 356 475 256 984 \nL 825 1050 \nQ 1003 397 1741 397 \nQ 2194 397 2450 670 \nQ 2706 944 2706 1422 \nQ 2706 1838 2448 2094 \nQ 2191 2350 1753 2350 \nQ 1525 2350 1328 2278 \nQ 1131 2206 934 2034 \nL 384 2034 \nL 531 4403 \nL 3034 4403 \nL 3034 3925 \nL 1044 3925 \nL 959 2528 \nQ 1325 2809 1869 2809 \nQ 2519 2809 2905 2428 \nQ 3291 2047 3291 1434 \nz\n\" transform=\"scale(0.015625)\"/>\n       </defs>\n       <use xlink:href=\"#LiberationSans-30\"/>\n       <use xlink:href=\"#LiberationSans-2e\" x=\"55.615234\"/>\n       <use xlink:href=\"#LiberationSans-35\" x=\"83.398438\"/>\n      </g>\n     </g>\n    </g>\n    <g id=\"ytick_3\">\n     <g id=\"line2d_17\">\n      <path d=\"M 30.16 198.267429 \nL 431.056 198.267429 \n\" clip-path=\"url(#pec11bb9a54)\" style=\"fill: none; stroke: #2a3459; stroke-linecap: round\"/>\n     </g>\n     <g id=\"line2d_18\"/>\n     <g id=\"text_9\">\n      <!-- 1.0 -->\n      <g style=\"fill: #e6e6e6\" transform=\"translate(7.2 203.340241) scale(0.14 -0.14)\">\n       <use xlink:href=\"#LiberationSans-31\"/>\n       <use xlink:href=\"#LiberationSans-2e\" x=\"55.615234\"/>\n       <use xlink:href=\"#LiberationSans-30\" x=\"83.398438\"/>\n      </g>\n     </g>\n    </g>\n    <g id=\"ytick_4\">\n     <g id=\"line2d_19\">\n      <path d=\"M 30.16 153.833143 \nL 431.056 153.833143 \n\" clip-path=\"url(#pec11bb9a54)\" style=\"fill: none; stroke: #2a3459; stroke-linecap: round\"/>\n     </g>\n     <g id=\"line2d_20\"/>\n     <g id=\"text_10\">\n      <!-- 1.5 -->\n      <g style=\"fill: #e6e6e6\" transform=\"translate(7.2 158.905955) scale(0.14 -0.14)\">\n       <use xlink:href=\"#LiberationSans-31\"/>\n       <use xlink:href=\"#LiberationSans-2e\" x=\"55.615234\"/>\n       <use xlink:href=\"#LiberationSans-35\" x=\"83.398438\"/>\n      </g>\n     </g>\n    </g>\n    <g id=\"ytick_5\">\n     <g id=\"line2d_21\">\n      <path d=\"M 30.16 109.398857 \nL 431.056 109.398857 \n\" clip-path=\"url(#pec11bb9a54)\" style=\"fill: none; stroke: #2a3459; stroke-linecap: round\"/>\n     </g>\n     <g id=\"line2d_22\"/>\n     <g id=\"text_11\">\n      <!-- 2.0 -->\n      <g style=\"fill: #e6e6e6\" transform=\"translate(7.2 114.47167) scale(0.14 -0.14)\">\n       <use xlink:href=\"#LiberationSans-32\"/>\n       <use xlink:href=\"#LiberationSans-2e\" x=\"55.615234\"/>\n       <use xlink:href=\"#LiberationSans-30\" x=\"83.398438\"/>\n      </g>\n     </g>\n    </g>\n    <g id=\"ytick_6\">\n     <g id=\"line2d_23\">\n      <path d=\"M 30.16 64.964571 \nL 431.056 64.964571 \n\" clip-path=\"url(#pec11bb9a54)\" style=\"fill: none; stroke: #2a3459; stroke-linecap: round\"/>\n     </g>\n     <g id=\"line2d_24\"/>\n     <g id=\"text_12\">\n      <!-- 2.5 -->\n      <g style=\"fill: #e6e6e6\" transform=\"translate(7.2 70.037384) scale(0.14 -0.14)\">\n       <use xlink:href=\"#LiberationSans-32\"/>\n       <use xlink:href=\"#LiberationSans-2e\" x=\"55.615234\"/>\n       <use xlink:href=\"#LiberationSans-35\" x=\"83.398438\"/>\n      </g>\n     </g>\n    </g>\n    <g id=\"ytick_7\">\n     <g id=\"line2d_25\">\n      <path d=\"M 30.16 20.530286 \nL 431.056 20.530286 \n\" clip-path=\"url(#pec11bb9a54)\" style=\"fill: none; stroke: #2a3459; stroke-linecap: round\"/>\n     </g>\n     <g id=\"line2d_26\"/>\n     <g id=\"text_13\">\n      <!-- 3.0 -->\n      <g style=\"fill: #e6e6e6\" transform=\"translate(7.2 25.603098) scale(0.14 -0.14)\">\n       <defs>\n        <path id=\"LiberationSans-33\" d=\"M 3278 1216 \nQ 3278 606 2890 271 \nQ 2503 -63 1784 -63 \nQ 1116 -63 717 239 \nQ 319 541 244 1131 \nL 825 1184 \nQ 938 403 1784 403 \nQ 2209 403 2451 612 \nQ 2694 822 2694 1234 \nQ 2694 1594 2417 1795 \nQ 2141 1997 1619 1997 \nL 1300 1997 \nL 1300 2484 \nL 1606 2484 \nQ 2069 2484 2323 2686 \nQ 2578 2888 2578 3244 \nQ 2578 3597 2370 3801 \nQ 2163 4006 1753 4006 \nQ 1381 4006 1151 3815 \nQ 922 3625 884 3278 \nL 319 3322 \nQ 381 3863 767 4166 \nQ 1153 4469 1759 4469 \nQ 2422 4469 2789 4161 \nQ 3156 3853 3156 3303 \nQ 3156 2881 2920 2617 \nQ 2684 2353 2234 2259 \nL 2234 2247 \nQ 2728 2194 3003 1916 \nQ 3278 1638 3278 1216 \nz\n\" transform=\"scale(0.015625)\"/>\n       </defs>\n       <use xlink:href=\"#LiberationSans-33\"/>\n       <use xlink:href=\"#LiberationSans-2e\" x=\"55.615234\"/>\n       <use xlink:href=\"#LiberationSans-30\" x=\"83.398438\"/>\n      </g>\n     </g>\n    </g>\n   </g>\n   <g id=\"patch_3\">\n    <path d=\"M 50.440344 287.136 \nL 82.022604 287.136 \nL 82.022604 109.398857 \nL 50.440344 109.398857 \nz\n\" clip-path=\"url(#pec11bb9a54)\" style=\"fill: #fe53bb\"/>\n   </g>\n   <g id=\"patch_4\">\n    <path d=\"M 82.022604 287.136 \nL 113.604863 287.136 \nL 113.604863 287.136 \nL 82.022604 287.136 \nz\n\" clip-path=\"url(#pec11bb9a54)\" style=\"fill: #fe53bb\"/>\n   </g>\n   <g id=\"patch_5\">\n    <path d=\"M 113.604863 287.136 \nL 145.187123 287.136 \nL 145.187123 287.136 \nL 113.604863 287.136 \nz\n\" clip-path=\"url(#pec11bb9a54)\" style=\"fill: #fe53bb\"/>\n   </g>\n   <g id=\"patch_6\">\n    <path d=\"M 145.187123 287.136 \nL 176.769382 287.136 \nL 176.769382 287.136 \nL 145.187123 287.136 \nz\n\" clip-path=\"url(#pec11bb9a54)\" style=\"fill: #fe53bb\"/>\n   </g>\n   <g id=\"patch_7\">\n    <path d=\"M 176.769382 287.136 \nL 208.351642 287.136 \nL 208.351642 198.267429 \nL 176.769382 198.267429 \nz\n\" clip-path=\"url(#pec11bb9a54)\" style=\"fill: #fe53bb\"/>\n   </g>\n   <g id=\"patch_8\">\n    <path d=\"M 208.351642 287.136 \nL 239.933902 287.136 \nL 239.933902 109.398857 \nL 208.351642 109.398857 \nz\n\" clip-path=\"url(#pec11bb9a54)\" style=\"fill: #fe53bb\"/>\n   </g>\n   <g id=\"patch_9\">\n    <path d=\"M 239.933902 287.136 \nL 271.516161 287.136 \nL 271.516161 287.136 \nL 239.933902 287.136 \nz\n\" clip-path=\"url(#pec11bb9a54)\" style=\"fill: #fe53bb\"/>\n   </g>\n   <g id=\"patch_10\">\n    <path d=\"M 271.516161 287.136 \nL 303.098421 287.136 \nL 303.098421 198.267429 \nL 271.516161 198.267429 \nz\n\" clip-path=\"url(#pec11bb9a54)\" style=\"fill: #fe53bb\"/>\n   </g>\n   <g id=\"patch_11\">\n    <path d=\"M 303.098421 287.136 \nL 334.68068 287.136 \nL 334.68068 198.267429 \nL 303.098421 198.267429 \nz\n\" clip-path=\"url(#pec11bb9a54)\" style=\"fill: #fe53bb\"/>\n   </g>\n   <g id=\"patch_12\">\n    <path d=\"M 334.68068 287.136 \nL 366.26294 287.136 \nL 366.26294 20.530286 \nL 334.68068 20.530286 \nz\n\" clip-path=\"url(#pec11bb9a54)\" style=\"fill: #fe53bb\"/>\n   </g>\n   <g id=\"line2d_27\">\n    <path d=\"M 48.382545 287.136 \nL 52.063868 287.126933 \nL 55.74519 287.099731 \nL 59.426512 287.054394 \nL 63.107835 286.990923 \nL 66.789157 286.909318 \nL 70.470479 286.809577 \nL 74.151802 286.691702 \nL 77.833124 286.555693 \nL 81.514446 286.401549 \nL 85.195769 286.22927 \nL 88.877091 286.038857 \nL 92.558413 285.830309 \nL 96.239736 285.603627 \nL 99.921058 285.35881 \nL 103.60238 285.095858 \nL 107.283702 284.814772 \nL 110.965025 284.515551 \nL 114.646347 284.198196 \nL 118.327669 283.862706 \nL 122.008992 283.509081 \nL 125.690314 283.137322 \nL 129.371636 282.747429 \nL 133.052959 282.3394 \nL 136.734281 281.913237 \nL 140.415603 281.46894 \nL 144.096926 281.006508 \nL 147.778248 280.525941 \nL 151.45957 280.02724 \nL 155.140893 279.510404 \nL 158.822215 278.975433 \nL 162.503537 278.422328 \nL 166.18486 277.851089 \nL 169.866182 277.261714 \nL 173.547504 276.654205 \nL 177.228826 276.028562 \nL 180.910149 275.384784 \nL 184.591471 274.722871 \nL 188.272793 274.042824 \nL 191.954116 273.344642 \nL 195.635438 272.628326 \nL 199.31676 271.893875 \nL 202.998083 271.141289 \nL 206.679405 270.370569 \nL 210.360727 269.581714 \nL 214.04205 268.774725 \nL 217.723372 267.949601 \nL 221.404694 267.106342 \nL 225.086017 266.244949 \nL 228.767339 265.365421 \nL 232.448661 264.467759 \nL 236.129983 263.551962 \nL 239.811306 262.618031 \nL 243.492628 261.665965 \nL 247.17395 260.695764 \nL 250.855273 259.707429 \nL 254.536595 258.700959 \nL 258.217917 257.676354 \nL 261.89924 256.633615 \nL 265.580562 255.572741 \nL 269.261884 254.493733 \nL 272.943207 253.39659 \nL 276.624529 252.281313 \nL 280.305851 251.147901 \nL 283.987174 249.996354 \nL 287.668496 248.826673 \nL 291.349818 247.638857 \nL 295.03114 246.432907 \nL 298.712463 245.208822 \nL 302.393785 243.966602 \nL 306.075107 242.706248 \nL 309.75643 241.427759 \nL 313.437752 240.131136 \nL 317.119074 238.816378 \nL 320.800397 237.483485 \nL 324.481719 236.132458 \nL 328.163041 234.763296 \nL 331.844364 233.376 \nL 335.525686 231.970569 \nL 339.207008 230.547004 \nL 342.888331 229.105303 \nL 346.569653 227.645469 \nL 350.250975 226.167499 \nL 353.932298 224.671396 \nL 357.61362 223.157157 \nL 361.294942 221.624784 \nL 364.976264 220.074276 \nL 368.657587 218.505634 \nL 372.338909 216.918857 \nL 376.020231 215.313946 \nL 379.701554 213.6909 \nL 383.382876 212.049719 \nL 387.064198 210.390404 \nL 390.745521 208.712954 \nL 394.426843 207.01737 \nL 398.108165 205.303651 \nL 401.789488 203.571797 \nL 405.47081 201.821809 \nL 409.152132 200.053686 \nL 412.833455 198.267429 \n\" clip-path=\"url(#pec11bb9a54)\" style=\"fill: none; stroke: #08f7fe; stroke-width: 4; stroke-linecap: round\"/>\n   </g>\n   <g id=\"patch_13\">\n    <path d=\"M 30.16 287.136 \nL 30.16 7.2 \n\" style=\"fill: none\"/>\n   </g>\n   <g id=\"patch_14\">\n    <path d=\"M 431.056 287.136 \nL 431.056 7.2 \n\" style=\"fill: none\"/>\n   </g>\n   <g id=\"patch_15\">\n    <path d=\"M 30.16 287.136 \nL 431.056 287.136 \n\" style=\"fill: none\"/>\n   </g>\n   <g id=\"patch_16\">\n    <path d=\"M 30.16 7.2 \nL 431.056 7.2 \n\" style=\"fill: none\"/>\n   </g>\n  </g>\n </g>\n <defs>\n  <clipPath id=\"pec11bb9a54\">\n   <rect x=\"30.16\" y=\"7.2\" width=\"400.896\" height=\"279.936\"/>\n  </clipPath>\n </defs>\n</svg>\n",
      "text/plain": [
       "<Figure size 640x480 with 1 Axes>"
      ]
     },
     "metadata": {},
     "output_type": "display_data"
    }
   ],
   "source": [
    "# Let's plot something basic using matplotlib\n",
    "x = np.linspace(0, 1, 100)\n",
    "plt.style.use('cyberpunk')\n",
    "#mplcyberpunk.add_gradient_fill()\n",
    "plt.plot(x, x**2)\n",
    "\n",
    "plt.hist(a4)"
   ]
  },
  {
   "attachments": {},
   "cell_type": "markdown",
   "metadata": {},
   "source": [
    "Functions can be **chained** together, as you would normally expect, so you can do things like:"
   ]
  },
  {
   "cell_type": "code",
   "execution_count": 27,
   "metadata": {},
   "outputs": [
    {
     "data": {
      "text/plain": [
       "[<matplotlib.lines.Line2D at 0x7fe8f211a150>]"
      ]
     },
     "execution_count": 27,
     "metadata": {},
     "output_type": "execute_result"
    },
    {
     "data": {
      "image/svg+xml": "<?xml version=\"1.0\" encoding=\"utf-8\" standalone=\"no\"?>\n<!DOCTYPE svg PUBLIC \"-//W3C//DTD SVG 1.1//EN\"\n  \"http://www.w3.org/Graphics/SVG/1.1/DTD/svg11.dtd\">\n<svg xmlns:xlink=\"http://www.w3.org/1999/xlink\" width=\"446.432875pt\" height=\"324.03225pt\" viewBox=\"0 0 446.432875 324.03225\" xmlns=\"http://www.w3.org/2000/svg\" version=\"1.1\">\n <metadata>\n  <rdf:RDF xmlns:dc=\"http://purl.org/dc/elements/1.1/\" xmlns:cc=\"http://creativecommons.org/ns#\" xmlns:rdf=\"http://www.w3.org/1999/02/22-rdf-syntax-ns#\">\n   <cc:Work>\n    <dc:type rdf:resource=\"http://purl.org/dc/dcmitype/StillImage\"/>\n    <dc:date>2023-02-20T16:59:49.352247</dc:date>\n    <dc:format>image/svg+xml</dc:format>\n    <dc:creator>\n     <cc:Agent>\n      <dc:title>Matplotlib v3.7.0, https://matplotlib.org/</dc:title>\n     </cc:Agent>\n    </dc:creator>\n   </cc:Work>\n  </rdf:RDF>\n </metadata>\n <defs>\n  <style type=\"text/css\">*{stroke-linejoin: round; stroke-linecap: butt}</style>\n </defs>\n <g id=\"figure_1\">\n  <g id=\"patch_1\">\n   <path d=\"M 0 324.03225 \nL 446.432875 324.03225 \nL 446.432875 0 \nL 0 0 \nz\n\" style=\"fill: #212946\"/>\n  </g>\n  <g id=\"axes_1\">\n   <g id=\"patch_2\">\n    <path d=\"M 38.336875 300.281625 \nL 439.232875 300.281625 \nL 439.232875 20.345625 \nL 38.336875 20.345625 \nz\n\" style=\"fill: #212946\"/>\n   </g>\n   <g id=\"matplotlib.axis_1\">\n    <g id=\"xtick_1\">\n     <g id=\"line2d_1\">\n      <path d=\"M 56.55942 300.281625 \nL 56.55942 20.345625 \n\" clip-path=\"url(#p4a1e4e0672)\" style=\"fill: none; stroke: #2a3459; stroke-linecap: round\"/>\n     </g>\n     <g id=\"line2d_2\"/>\n     <g id=\"text_1\">\n      <!-- 0 -->\n      <g style=\"fill: #e6e6e6\" transform=\"translate(52.666764 313.92725) scale(0.14 -0.14)\">\n       <defs>\n        <path id=\"LiberationSans-30\" d=\"M 3309 2203 \nQ 3309 1100 2920 518 \nQ 2531 -63 1772 -63 \nQ 1013 -63 631 515 \nQ 250 1094 250 2203 \nQ 250 3338 620 3903 \nQ 991 4469 1791 4469 \nQ 2569 4469 2939 3897 \nQ 3309 3325 3309 2203 \nz\nM 2738 2203 \nQ 2738 3156 2517 3584 \nQ 2297 4013 1791 4013 \nQ 1272 4013 1045 3591 \nQ 819 3169 819 2203 \nQ 819 1266 1048 831 \nQ 1278 397 1778 397 \nQ 2275 397 2506 840 \nQ 2738 1284 2738 2203 \nz\n\" transform=\"scale(0.015625)\"/>\n       </defs>\n       <use xlink:href=\"#LiberationSans-30\"/>\n      </g>\n     </g>\n    </g>\n    <g id=\"xtick_2\">\n     <g id=\"line2d_3\">\n      <path d=\"M 129.449602 300.281625 \nL 129.449602 20.345625 \n\" clip-path=\"url(#p4a1e4e0672)\" style=\"fill: none; stroke: #2a3459; stroke-linecap: round\"/>\n     </g>\n     <g id=\"line2d_4\"/>\n     <g id=\"text_2\">\n      <!-- 2 -->\n      <g style=\"fill: #e6e6e6\" transform=\"translate(125.556946 313.92725) scale(0.14 -0.14)\">\n       <defs>\n        <path id=\"LiberationSans-32\" d=\"M 322 0 \nL 322 397 \nQ 481 763 711 1042 \nQ 941 1322 1194 1548 \nQ 1447 1775 1695 1969 \nQ 1944 2163 2144 2356 \nQ 2344 2550 2467 2762 \nQ 2591 2975 2591 3244 \nQ 2591 3606 2378 3806 \nQ 2166 4006 1788 4006 \nQ 1428 4006 1195 3811 \nQ 963 3616 922 3263 \nL 347 3316 \nQ 409 3844 795 4156 \nQ 1181 4469 1788 4469 \nQ 2453 4469 2811 4155 \nQ 3169 3841 3169 3263 \nQ 3169 3006 3051 2753 \nQ 2934 2500 2703 2247 \nQ 2472 1994 1819 1463 \nQ 1459 1169 1246 933 \nQ 1034 697 941 478 \nL 3238 478 \nL 3238 0 \nL 322 0 \nz\n\" transform=\"scale(0.015625)\"/>\n       </defs>\n       <use xlink:href=\"#LiberationSans-32\"/>\n      </g>\n     </g>\n    </g>\n    <g id=\"xtick_3\">\n     <g id=\"line2d_5\">\n      <path d=\"M 202.339784 300.281625 \nL 202.339784 20.345625 \n\" clip-path=\"url(#p4a1e4e0672)\" style=\"fill: none; stroke: #2a3459; stroke-linecap: round\"/>\n     </g>\n     <g id=\"line2d_6\"/>\n     <g id=\"text_3\">\n      <!-- 4 -->\n      <g style=\"fill: #e6e6e6\" transform=\"translate(198.447128 313.92725) scale(0.14 -0.14)\">\n       <defs>\n        <path id=\"LiberationSans-34\" d=\"M 2753 997 \nL 2753 0 \nL 2222 0 \nL 2222 997 \nL 147 997 \nL 147 1434 \nL 2163 4403 \nL 2753 4403 \nL 2753 1441 \nL 3372 1441 \nL 3372 997 \nL 2753 997 \nz\nM 2222 3769 \nQ 2216 3750 2134 3603 \nQ 2053 3456 2013 3397 \nL 884 1734 \nL 716 1503 \nL 666 1441 \nL 2222 1441 \nL 2222 3769 \nz\n\" transform=\"scale(0.015625)\"/>\n       </defs>\n       <use xlink:href=\"#LiberationSans-34\"/>\n      </g>\n     </g>\n    </g>\n    <g id=\"xtick_4\">\n     <g id=\"line2d_7\">\n      <path d=\"M 275.229966 300.281625 \nL 275.229966 20.345625 \n\" clip-path=\"url(#p4a1e4e0672)\" style=\"fill: none; stroke: #2a3459; stroke-linecap: round\"/>\n     </g>\n     <g id=\"line2d_8\"/>\n     <g id=\"text_4\">\n      <!-- 6 -->\n      <g style=\"fill: #e6e6e6\" transform=\"translate(271.33731 313.92725) scale(0.14 -0.14)\">\n       <defs>\n        <path id=\"LiberationSans-36\" d=\"M 3278 1441 \nQ 3278 744 2900 340 \nQ 2522 -63 1856 -63 \nQ 1113 -63 719 490 \nQ 325 1044 325 2100 \nQ 325 3244 734 3856 \nQ 1144 4469 1900 4469 \nQ 2897 4469 3156 3572 \nL 2619 3475 \nQ 2453 4013 1894 4013 \nQ 1413 4013 1148 3564 \nQ 884 3116 884 2266 \nQ 1038 2550 1316 2698 \nQ 1594 2847 1953 2847 \nQ 2563 2847 2920 2465 \nQ 3278 2084 3278 1441 \nz\nM 2706 1416 \nQ 2706 1894 2472 2153 \nQ 2238 2413 1819 2413 \nQ 1425 2413 1183 2183 \nQ 941 1953 941 1550 \nQ 941 1041 1192 716 \nQ 1444 391 1838 391 \nQ 2244 391 2475 664 \nQ 2706 938 2706 1416 \nz\n\" transform=\"scale(0.015625)\"/>\n       </defs>\n       <use xlink:href=\"#LiberationSans-36\"/>\n      </g>\n     </g>\n    </g>\n    <g id=\"xtick_5\">\n     <g id=\"line2d_9\">\n      <path d=\"M 348.120148 300.281625 \nL 348.120148 20.345625 \n\" clip-path=\"url(#p4a1e4e0672)\" style=\"fill: none; stroke: #2a3459; stroke-linecap: round\"/>\n     </g>\n     <g id=\"line2d_10\"/>\n     <g id=\"text_5\">\n      <!-- 8 -->\n      <g style=\"fill: #e6e6e6\" transform=\"translate(344.227491 313.92725) scale(0.14 -0.14)\">\n       <defs>\n        <path id=\"LiberationSans-38\" d=\"M 3281 1228 \nQ 3281 619 2893 278 \nQ 2506 -63 1781 -63 \nQ 1075 -63 676 271 \nQ 278 606 278 1222 \nQ 278 1653 525 1947 \nQ 772 2241 1156 2303 \nL 1156 2316 \nQ 797 2400 589 2681 \nQ 381 2963 381 3341 \nQ 381 3844 757 4156 \nQ 1134 4469 1769 4469 \nQ 2419 4469 2795 4162 \nQ 3172 3856 3172 3334 \nQ 3172 2956 2962 2675 \nQ 2753 2394 2391 2322 \nL 2391 2309 \nQ 2813 2241 3047 1952 \nQ 3281 1663 3281 1228 \nz\nM 2588 3303 \nQ 2588 4050 1769 4050 \nQ 1372 4050 1164 3862 \nQ 956 3675 956 3303 \nQ 956 2925 1170 2726 \nQ 1384 2528 1775 2528 \nQ 2172 2528 2380 2711 \nQ 2588 2894 2588 3303 \nz\nM 2697 1281 \nQ 2697 1691 2453 1898 \nQ 2209 2106 1769 2106 \nQ 1341 2106 1100 1882 \nQ 859 1659 859 1269 \nQ 859 359 1788 359 \nQ 2247 359 2472 579 \nQ 2697 800 2697 1281 \nz\n\" transform=\"scale(0.015625)\"/>\n       </defs>\n       <use xlink:href=\"#LiberationSans-38\"/>\n      </g>\n     </g>\n    </g>\n    <g id=\"xtick_6\">\n     <g id=\"line2d_11\">\n      <path d=\"M 421.01033 300.281625 \nL 421.01033 20.345625 \n\" clip-path=\"url(#p4a1e4e0672)\" style=\"fill: none; stroke: #2a3459; stroke-linecap: round\"/>\n     </g>\n     <g id=\"line2d_12\"/>\n     <g id=\"text_6\">\n      <!-- 10 -->\n      <g style=\"fill: #e6e6e6\" transform=\"translate(413.225017 313.92725) scale(0.14 -0.14)\">\n       <defs>\n        <path id=\"LiberationSans-31\" d=\"M 488 0 \nL 488 478 \nL 1609 478 \nL 1609 3866 \nL 616 3156 \nL 616 3688 \nL 1656 4403 \nL 2175 4403 \nL 2175 478 \nL 3247 478 \nL 3247 0 \nL 488 0 \nz\n\" transform=\"scale(0.015625)\"/>\n       </defs>\n       <use xlink:href=\"#LiberationSans-31\"/>\n       <use xlink:href=\"#LiberationSans-30\" x=\"55.615234\"/>\n      </g>\n     </g>\n    </g>\n   </g>\n   <g id=\"matplotlib.axis_2\">\n    <g id=\"ytick_1\">\n     <g id=\"line2d_13\">\n      <path d=\"M 38.336875 287.848149 \nL 439.232875 287.848149 \n\" clip-path=\"url(#p4a1e4e0672)\" style=\"fill: none; stroke: #2a3459; stroke-linecap: round\"/>\n     </g>\n     <g id=\"line2d_14\"/>\n     <g id=\"text_7\">\n      <!-- −1.2 -->\n      <g style=\"fill: #e6e6e6\" transform=\"translate(7.2 292.920962) scale(0.14 -0.14)\">\n       <defs>\n        <path id=\"LiberationSans-2212\" d=\"M 316 1900 \nL 316 2356 \nL 3425 2356 \nL 3425 1900 \nL 316 1900 \nz\n\" transform=\"scale(0.015625)\"/>\n        <path id=\"LiberationSans-2e\" d=\"M 584 0 \nL 584 684 \nL 1194 684 \nL 1194 0 \nL 584 0 \nz\n\" transform=\"scale(0.015625)\"/>\n       </defs>\n       <use xlink:href=\"#LiberationSans-2212\"/>\n       <use xlink:href=\"#LiberationSans-31\" x=\"58.398438\"/>\n       <use xlink:href=\"#LiberationSans-2e\" x=\"114.013672\"/>\n       <use xlink:href=\"#LiberationSans-32\" x=\"141.796875\"/>\n      </g>\n     </g>\n    </g>\n    <g id=\"ytick_2\">\n     <g id=\"line2d_15\">\n      <path d=\"M 38.336875 253.900842 \nL 439.232875 253.900842 \n\" clip-path=\"url(#p4a1e4e0672)\" style=\"fill: none; stroke: #2a3459; stroke-linecap: round\"/>\n     </g>\n     <g id=\"line2d_16\"/>\n     <g id=\"text_8\">\n      <!-- −1.0 -->\n      <g style=\"fill: #e6e6e6\" transform=\"translate(7.2 258.973655) scale(0.14 -0.14)\">\n       <use xlink:href=\"#LiberationSans-2212\"/>\n       <use xlink:href=\"#LiberationSans-31\" x=\"58.398438\"/>\n       <use xlink:href=\"#LiberationSans-2e\" x=\"114.013672\"/>\n       <use xlink:href=\"#LiberationSans-30\" x=\"141.796875\"/>\n      </g>\n     </g>\n    </g>\n    <g id=\"ytick_3\">\n     <g id=\"line2d_17\">\n      <path d=\"M 38.336875 219.953535 \nL 439.232875 219.953535 \n\" clip-path=\"url(#p4a1e4e0672)\" style=\"fill: none; stroke: #2a3459; stroke-linecap: round\"/>\n     </g>\n     <g id=\"line2d_18\"/>\n     <g id=\"text_9\">\n      <!-- −0.8 -->\n      <g style=\"fill: #e6e6e6\" transform=\"translate(7.2 225.026348) scale(0.14 -0.14)\">\n       <use xlink:href=\"#LiberationSans-2212\"/>\n       <use xlink:href=\"#LiberationSans-30\" x=\"58.398438\"/>\n       <use xlink:href=\"#LiberationSans-2e\" x=\"114.013672\"/>\n       <use xlink:href=\"#LiberationSans-38\" x=\"141.796875\"/>\n      </g>\n     </g>\n    </g>\n    <g id=\"ytick_4\">\n     <g id=\"line2d_19\">\n      <path d=\"M 38.336875 186.006228 \nL 439.232875 186.006228 \n\" clip-path=\"url(#p4a1e4e0672)\" style=\"fill: none; stroke: #2a3459; stroke-linecap: round\"/>\n     </g>\n     <g id=\"line2d_20\"/>\n     <g id=\"text_10\">\n      <!-- −0.6 -->\n      <g style=\"fill: #e6e6e6\" transform=\"translate(7.2 191.07904) scale(0.14 -0.14)\">\n       <use xlink:href=\"#LiberationSans-2212\"/>\n       <use xlink:href=\"#LiberationSans-30\" x=\"58.398438\"/>\n       <use xlink:href=\"#LiberationSans-2e\" x=\"114.013672\"/>\n       <use xlink:href=\"#LiberationSans-36\" x=\"141.796875\"/>\n      </g>\n     </g>\n    </g>\n    <g id=\"ytick_5\">\n     <g id=\"line2d_21\">\n      <path d=\"M 38.336875 152.058921 \nL 439.232875 152.058921 \n\" clip-path=\"url(#p4a1e4e0672)\" style=\"fill: none; stroke: #2a3459; stroke-linecap: round\"/>\n     </g>\n     <g id=\"line2d_22\"/>\n     <g id=\"text_11\">\n      <!-- −0.4 -->\n      <g style=\"fill: #e6e6e6\" transform=\"translate(7.2 157.131733) scale(0.14 -0.14)\">\n       <use xlink:href=\"#LiberationSans-2212\"/>\n       <use xlink:href=\"#LiberationSans-30\" x=\"58.398438\"/>\n       <use xlink:href=\"#LiberationSans-2e\" x=\"114.013672\"/>\n       <use xlink:href=\"#LiberationSans-34\" x=\"141.796875\"/>\n      </g>\n     </g>\n    </g>\n    <g id=\"ytick_6\">\n     <g id=\"line2d_23\">\n      <path d=\"M 38.336875 118.111614 \nL 439.232875 118.111614 \n\" clip-path=\"url(#p4a1e4e0672)\" style=\"fill: none; stroke: #2a3459; stroke-linecap: round\"/>\n     </g>\n     <g id=\"line2d_24\"/>\n     <g id=\"text_12\">\n      <!-- −0.2 -->\n      <g style=\"fill: #e6e6e6\" transform=\"translate(7.2 123.184426) scale(0.14 -0.14)\">\n       <use xlink:href=\"#LiberationSans-2212\"/>\n       <use xlink:href=\"#LiberationSans-30\" x=\"58.398438\"/>\n       <use xlink:href=\"#LiberationSans-2e\" x=\"114.013672\"/>\n       <use xlink:href=\"#LiberationSans-32\" x=\"141.796875\"/>\n      </g>\n     </g>\n    </g>\n    <g id=\"ytick_7\">\n     <g id=\"line2d_25\">\n      <path d=\"M 38.336875 84.164307 \nL 439.232875 84.164307 \n\" clip-path=\"url(#p4a1e4e0672)\" style=\"fill: none; stroke: #2a3459; stroke-linecap: round\"/>\n     </g>\n     <g id=\"line2d_26\"/>\n     <g id=\"text_13\">\n      <!-- 0.0 -->\n      <g style=\"fill: #e6e6e6\" transform=\"translate(15.376875 89.237119) scale(0.14 -0.14)\">\n       <use xlink:href=\"#LiberationSans-30\"/>\n       <use xlink:href=\"#LiberationSans-2e\" x=\"55.615234\"/>\n       <use xlink:href=\"#LiberationSans-30\" x=\"83.398438\"/>\n      </g>\n     </g>\n    </g>\n    <g id=\"ytick_8\">\n     <g id=\"line2d_27\">\n      <path d=\"M 38.336875 50.217 \nL 439.232875 50.217 \n\" clip-path=\"url(#p4a1e4e0672)\" style=\"fill: none; stroke: #2a3459; stroke-linecap: round\"/>\n     </g>\n     <g id=\"line2d_28\"/>\n     <g id=\"text_14\">\n      <!-- 0.2 -->\n      <g style=\"fill: #e6e6e6\" transform=\"translate(15.376875 55.289812) scale(0.14 -0.14)\">\n       <use xlink:href=\"#LiberationSans-30\"/>\n       <use xlink:href=\"#LiberationSans-2e\" x=\"55.615234\"/>\n       <use xlink:href=\"#LiberationSans-32\" x=\"83.398438\"/>\n      </g>\n     </g>\n    </g>\n    <g id=\"text_15\">\n     <!-- 1e6 -->\n     <g style=\"fill: #e6e6e6\" transform=\"translate(38.336875 17.345625) scale(0.14 -0.14)\">\n      <defs>\n       <path id=\"LiberationSans-65\" d=\"M 863 1572 \nQ 863 991 1103 675 \nQ 1344 359 1806 359 \nQ 2172 359 2392 506 \nQ 2613 653 2691 878 \nL 3184 738 \nQ 2881 -63 1806 -63 \nQ 1056 -63 664 384 \nQ 272 831 272 1713 \nQ 272 2550 664 2997 \nQ 1056 3444 1784 3444 \nQ 3275 3444 3275 1647 \nL 3275 1572 \nL 863 1572 \nz\nM 2694 2003 \nQ 2647 2538 2422 2783 \nQ 2197 3028 1775 3028 \nQ 1366 3028 1127 2754 \nQ 888 2481 869 2003 \nL 2694 2003 \nz\n\" transform=\"scale(0.015625)\"/>\n      </defs>\n      <use xlink:href=\"#LiberationSans-31\"/>\n      <use xlink:href=\"#LiberationSans-65\" x=\"55.615234\"/>\n      <use xlink:href=\"#LiberationSans-36\" x=\"111.230469\"/>\n     </g>\n    </g>\n   </g>\n   <g id=\"line2d_29\">\n    <path d=\"M 56.55942 84.164307 \nL 60.240743 84.164306 \nL 63.922065 84.164305 \nL 67.603387 84.1643 \nL 71.28471 84.16429 \nL 74.966032 84.164272 \nL 78.647354 84.164242 \nL 82.328677 84.164195 \nL 86.009999 84.164127 \nL 89.691321 84.164032 \nL 93.372644 84.163904 \nL 97.053966 84.163736 \nL 100.735288 84.163522 \nL 104.416611 84.163254 \nL 108.097933 84.162928 \nL 111.779255 84.162536 \nL 115.460577 84.162077 \nL 119.1419 84.161549 \nL 122.823222 84.160955 \nL 126.504544 84.160302 \nL 130.185867 84.159602 \nL 133.867189 84.158877 \nL 137.548511 84.158156 \nL 141.229834 84.157479 \nL 144.911156 84.156901 \nL 148.592478 84.156489 \nL 152.273801 84.156332 \nL 155.955123 84.156535 \nL 159.636445 84.157228 \nL 163.317768 84.158563 \nL 166.99909 84.160723 \nL 170.680412 84.163915 \nL 174.361735 84.168378 \nL 178.043057 84.174381 \nL 181.724379 84.182223 \nL 185.405701 84.192231 \nL 189.087024 84.204755 \nL 192.768346 84.220168 \nL 196.449668 84.238854 \nL 200.130991 84.261201 \nL 203.812313 84.287584 \nL 207.493635 84.318354 \nL 211.174958 84.353815 \nL 214.85628 84.394194 \nL 218.537602 84.43962 \nL 222.218925 84.490081 \nL 225.900247 84.545381 \nL 229.581569 84.6051 \nL 233.262892 84.66853 \nL 236.944214 84.734617 \nL 240.625536 84.801893 \nL 244.306858 84.868396 \nL 247.988181 84.931595 \nL 251.669503 84.988298 \nL 255.350825 85.034562 \nL 259.032148 85.065598 \nL 262.71347 85.075683 \nL 266.394792 85.058059 \nL 270.076115 85.004856 \nL 273.757437 84.907013 \nL 277.438759 84.75422 \nL 281.120082 84.53488 \nL 284.801404 84.2361 \nL 288.482726 83.843723 \nL 292.164049 83.342399 \nL 295.845371 82.715723 \nL 299.526693 81.946434 \nL 303.208015 81.016704 \nL 306.889338 79.908517 \nL 310.57066 78.604167 \nL 314.251982 77.08688 \nL 317.933305 75.341582 \nL 321.614627 73.355832 \nL 325.295949 71.120931 \nL 328.977272 68.63323 \nL 332.658594 65.895648 \nL 336.339916 62.919415 \nL 340.021239 59.726053 \nL 343.702561 56.349592 \nL 347.383883 52.839034 \nL 351.065206 49.261057 \nL 354.746528 45.702938 \nL 358.42785 42.275677 \nL 362.109173 39.117292 \nL 365.790495 36.396225 \nL 369.471817 34.314801 \nL 373.153139 33.112649 \nL 376.834462 33.069989 \nL 380.515784 34.51064 \nL 384.197106 37.804608 \nL 387.878429 43.370052 \nL 391.559751 51.674421 \nL 395.241073 63.2345 \nL 398.922396 78.615083 \nL 402.603718 98.425942 \nL 406.28504 123.316718 \nL 409.966363 153.969346 \nL 413.647685 191.087551 \nL 417.329007 235.382953 \nL 421.01033 287.557261 \n\" clip-path=\"url(#p4a1e4e0672)\" style=\"fill: none; stroke: #08f7fe; stroke-width: 4; stroke-linecap: round\"/>\n   </g>\n   <g id=\"patch_3\">\n    <path d=\"M 38.336875 300.281625 \nL 38.336875 20.345625 \n\" style=\"fill: none\"/>\n   </g>\n   <g id=\"patch_4\">\n    <path d=\"M 439.232875 300.281625 \nL 439.232875 20.345625 \n\" style=\"fill: none\"/>\n   </g>\n   <g id=\"patch_5\">\n    <path d=\"M 38.336875 300.281625 \nL 439.232875 300.281625 \n\" style=\"fill: none\"/>\n   </g>\n   <g id=\"patch_6\">\n    <path d=\"M 38.336875 20.345625 \nL 439.232875 20.345625 \n\" style=\"fill: none\"/>\n   </g>\n  </g>\n </g>\n <defs>\n  <clipPath id=\"p4a1e4e0672\">\n   <rect x=\"38.336875\" y=\"20.345625\" width=\"400.896\" height=\"279.936\"/>\n  </clipPath>\n </defs>\n</svg>\n",
      "text/plain": [
       "<Figure size 640x480 with 1 Axes>"
      ]
     },
     "metadata": {},
     "output_type": "display_data"
    }
   ],
   "source": [
    "def f(x):\n",
    "    return x**2 * np.sin(x) / np.exp(-x)\n",
    "\n",
    "x = np.linspace(0, 10, 100)\n",
    "y = f(x)\n",
    "plt.plot(x, y)"
   ]
  },
  {
   "attachments": {},
   "cell_type": "markdown",
   "metadata": {},
   "source": [
    "## Array Indexing and Slicing\n",
    "\n",
    "If you're coming from Octave or Matlab, things are very similar, but remember that indexing in python starts at 0, not 1. So the first element of an array is `a[0]`, not `a[1]`. Which is arguably better, but it's a difference you should be aware of."
   ]
  },
  {
   "cell_type": "code",
   "execution_count": 33,
   "metadata": {},
   "outputs": [
    {
     "data": {
      "text/plain": [
       "array([2, 4, 6])"
      ]
     },
     "execution_count": 33,
     "metadata": {},
     "output_type": "execute_result"
    }
   ],
   "source": [
    "a1 = np.array([2, 4, 6, 10, 17])\n",
    "a1[0] # first element\n",
    "a1[-1] # you can start indexing from the end using negative indices, which can be very useful\n",
    "a1[2:] # the colon notation works similarly to octave or matlab and can be used to access specific ranges of indices\n",
    "a1[:-2] # very useful notation as you can see\n",
    "a1[a1 < 9] # booleans are useful as mentioned earlier"
   ]
  },
  {
   "attachments": {},
   "cell_type": "markdown",
   "metadata": {},
   "source": [
    "**NumPy** arrays don't necessarily deal with numerical data only. You can have arrays of strings, or arrays of booleans, or arrays of arrays, or arrays of dictionaries, or arrays of functions, or arrays of classes, or arrays of modules, or arrays of anything. The only restriction is that all the elements of an array must be of the same type."
   ]
  },
  {
   "cell_type": "code",
   "execution_count": 41,
   "metadata": {},
   "outputs": [
    {
     "data": {
      "text/plain": [
       "array(['Hank', 'Huel', 'Hector'], dtype='<U7')"
      ]
     },
     "execution_count": 41,
     "metadata": {},
     "output_type": "execute_result"
    }
   ],
   "source": [
    "names = np.array(['Walter', 'Jesse', 'Saul', 'Hank', 'Huel', 'Hector', 'Gustavo'])\n",
    "# Let's say I want to extract only the names that start with H\n",
    "start_with_h = np.vectorize(lambda L: L[0])(names) == 'H' \n",
    "# Notice how lambda is just declaring a function that takes an array and returns its first element. The vectorize function from\n",
    "# numpy easily iterates any operation over any vector. Using the == 'H' will have start_with_h return an array of booleans. \n",
    "\n",
    "names[start_with_h] # Then the original array can be filtered using this set of boolean values."
   ]
  },
  {
   "attachments": {},
   "cell_type": "markdown",
   "metadata": {},
   "source": [
    "Let's see another example of using booleans this way, as a tribute to stuff I learnt from *SICP*"
   ]
  },
  {
   "cell_type": "code",
   "execution_count": 45,
   "metadata": {},
   "outputs": [
    {
     "data": {
      "text/plain": [
       "array([2, 4, 8])"
      ]
     },
     "execution_count": 45,
     "metadata": {},
     "output_type": "execute_result"
    }
   ],
   "source": [
    "a1 = np.array([2, 3, 4, 13, 8])\n",
    "def even_predicate(arr):\n",
    "    return arr%2 == 0\n",
    "\n",
    "even_predicate(a1)\n",
    "\n",
    "# And again we can use this array of booleans to filter the original array\n",
    "a1[even_predicate(a1)]"
   ]
  },
  {
   "attachments": {},
   "cell_type": "markdown",
   "metadata": {},
   "source": [
    "# Calculus and Statistics\n",
    "\n",
    "We've covered the basics of **NumPy**, but its capabilities go far beyond that. NumPy is a very powerful library for doing numerical calculations, and it is the foundation of many other libraries that are used for *scientific computing*. In this section we'll look at some of the more advanced features of NumPy, and see how we can use it to do some basic calculus and statistics."
   ]
  },
  {
   "cell_type": "code",
   "execution_count": 48,
   "metadata": {},
   "outputs": [],
   "source": [
    "a1 = 2 * np.random.randn(10000) + 10"
   ]
  },
  {
   "attachments": {},
   "cell_type": "markdown",
   "metadata": {},
   "source": [
    "Let's see how we can calculate the *mean*, the *standard deviation* and the *percentiles* of any array of numbers."
   ]
  },
  {
   "cell_type": "code",
   "execution_count": 49,
   "metadata": {},
   "outputs": [
    {
     "data": {
      "text/plain": [
       "9.999311297078672"
      ]
     },
     "execution_count": 49,
     "metadata": {},
     "output_type": "execute_result"
    }
   ],
   "source": [
    "np.mean(a1)"
   ]
  },
  {
   "cell_type": "code",
   "execution_count": 50,
   "metadata": {},
   "outputs": [
    {
     "data": {
      "text/plain": [
       "2.009060817890729"
      ]
     },
     "execution_count": 50,
     "metadata": {},
     "output_type": "execute_result"
    }
   ],
   "source": [
    "np.std(a1)"
   ]
  },
  {
   "cell_type": "code",
   "execution_count": 51,
   "metadata": {},
   "outputs": [
    {
     "data": {
      "text/plain": [
       "11.052726250885385"
      ]
     },
     "execution_count": 51,
     "metadata": {},
     "output_type": "execute_result"
    }
   ],
   "source": [
    "np.percentile(a1, 70) "
   ]
  },
  {
   "attachments": {},
   "cell_type": "markdown",
   "metadata": {},
   "source": [
    "## Integrals and Derivatives"
   ]
  },
  {
   "cell_type": "code",
   "execution_count": 58,
   "metadata": {},
   "outputs": [],
   "source": [
    "x = np.linspace(1, 10, 10000)\n",
    "y = 1 / x**2 * np.cos(x)\n",
    "ydot = np.gradient(y, x)\n",
    "Y = np.cumsum(y) * (x[1] - x[0]) # integrating using the cumulative sum method and multiplying by an appropriate dx"
   ]
  },
  {
   "cell_type": "code",
   "execution_count": 63,
   "metadata": {},
   "outputs": [
    {
     "data": {
      "text/plain": [
       "array([ 1,  3,  6, 10, 15])"
      ]
     },
     "execution_count": 63,
     "metadata": {},
     "output_type": "execute_result"
    }
   ],
   "source": [
    "# To better visualize what a cumulative sum is, it's easy to see it's effect on a small discrete dataset\n",
    "np.cumsum(np.array([1, 2, 3, 4, 5]))"
   ]
  },
  {
   "cell_type": "code",
   "execution_count": 64,
   "metadata": {},
   "outputs": [
    {
     "data": {
      "text/plain": [
       "[<matplotlib.lines.Line2D at 0x7fe8ebf5ef10>]"
      ]
     },
     "execution_count": 64,
     "metadata": {},
     "output_type": "execute_result"
    },
    {
     "data": {
      "image/svg+xml": "<?xml version=\"1.0\" encoding=\"utf-8\" standalone=\"no\"?>\n<!DOCTYPE svg PUBLIC \"-//W3C//DTD SVG 1.1//EN\"\n  \"http://www.w3.org/Graphics/SVG/1.1/DTD/svg11.dtd\">\n<svg xmlns:xlink=\"http://www.w3.org/1999/xlink\" width=\"446.432875pt\" height=\"310.886625pt\" viewBox=\"0 0 446.432875 310.886625\" xmlns=\"http://www.w3.org/2000/svg\" version=\"1.1\">\n <metadata>\n  <rdf:RDF xmlns:dc=\"http://purl.org/dc/elements/1.1/\" xmlns:cc=\"http://creativecommons.org/ns#\" xmlns:rdf=\"http://www.w3.org/1999/02/22-rdf-syntax-ns#\">\n   <cc:Work>\n    <dc:type rdf:resource=\"http://purl.org/dc/dcmitype/StillImage\"/>\n    <dc:date>2023-02-20T18:59:51.971204</dc:date>\n    <dc:format>image/svg+xml</dc:format>\n    <dc:creator>\n     <cc:Agent>\n      <dc:title>Matplotlib v3.7.0, https://matplotlib.org/</dc:title>\n     </cc:Agent>\n    </dc:creator>\n   </cc:Work>\n  </rdf:RDF>\n </metadata>\n <defs>\n  <style type=\"text/css\">*{stroke-linejoin: round; stroke-linecap: butt}</style>\n </defs>\n <g id=\"figure_1\">\n  <g id=\"patch_1\">\n   <path d=\"M 0 310.886625 \nL 446.432875 310.886625 \nL 446.432875 0 \nL 0 0 \nz\n\" style=\"fill: #212946\"/>\n  </g>\n  <g id=\"axes_1\">\n   <g id=\"patch_2\">\n    <path d=\"M 38.336875 287.136 \nL 439.232875 287.136 \nL 439.232875 7.2 \nL 38.336875 7.2 \nz\n\" style=\"fill: #212946\"/>\n   </g>\n   <g id=\"matplotlib.axis_1\">\n    <g id=\"xtick_1\">\n     <g id=\"line2d_1\">\n      <path d=\"M 97.053966 287.136 \nL 97.053966 7.2 \n\" clip-path=\"url(#pf91c7890c1)\" style=\"fill: none; stroke: #2a3459; stroke-linecap: round\"/>\n     </g>\n     <g id=\"line2d_2\"/>\n     <g id=\"text_1\">\n      <!-- 2 -->\n      <g style=\"fill: #e6e6e6\" transform=\"translate(93.16131 300.781625) scale(0.14 -0.14)\">\n       <defs>\n        <path id=\"LiberationSans-32\" d=\"M 322 0 \nL 322 397 \nQ 481 763 711 1042 \nQ 941 1322 1194 1548 \nQ 1447 1775 1695 1969 \nQ 1944 2163 2144 2356 \nQ 2344 2550 2467 2762 \nQ 2591 2975 2591 3244 \nQ 2591 3606 2378 3806 \nQ 2166 4006 1788 4006 \nQ 1428 4006 1195 3811 \nQ 963 3616 922 3263 \nL 347 3316 \nQ 409 3844 795 4156 \nQ 1181 4469 1788 4469 \nQ 2453 4469 2811 4155 \nQ 3169 3841 3169 3263 \nQ 3169 3006 3051 2753 \nQ 2934 2500 2703 2247 \nQ 2472 1994 1819 1463 \nQ 1459 1169 1246 933 \nQ 1034 697 941 478 \nL 3238 478 \nL 3238 0 \nL 322 0 \nz\n\" transform=\"scale(0.015625)\"/>\n       </defs>\n       <use xlink:href=\"#LiberationSans-32\"/>\n      </g>\n     </g>\n    </g>\n    <g id=\"xtick_2\">\n     <g id=\"line2d_3\">\n      <path d=\"M 178.043057 287.136 \nL 178.043057 7.2 \n\" clip-path=\"url(#pf91c7890c1)\" style=\"fill: none; stroke: #2a3459; stroke-linecap: round\"/>\n     </g>\n     <g id=\"line2d_4\"/>\n     <g id=\"text_2\">\n      <!-- 4 -->\n      <g style=\"fill: #e6e6e6\" transform=\"translate(174.150401 300.781625) scale(0.14 -0.14)\">\n       <defs>\n        <path id=\"LiberationSans-34\" d=\"M 2753 997 \nL 2753 0 \nL 2222 0 \nL 2222 997 \nL 147 997 \nL 147 1434 \nL 2163 4403 \nL 2753 4403 \nL 2753 1441 \nL 3372 1441 \nL 3372 997 \nL 2753 997 \nz\nM 2222 3769 \nQ 2216 3750 2134 3603 \nQ 2053 3456 2013 3397 \nL 884 1734 \nL 716 1503 \nL 666 1441 \nL 2222 1441 \nL 2222 3769 \nz\n\" transform=\"scale(0.015625)\"/>\n       </defs>\n       <use xlink:href=\"#LiberationSans-34\"/>\n      </g>\n     </g>\n    </g>\n    <g id=\"xtick_3\">\n     <g id=\"line2d_5\">\n      <path d=\"M 259.032148 287.136 \nL 259.032148 7.2 \n\" clip-path=\"url(#pf91c7890c1)\" style=\"fill: none; stroke: #2a3459; stroke-linecap: round\"/>\n     </g>\n     <g id=\"line2d_6\"/>\n     <g id=\"text_3\">\n      <!-- 6 -->\n      <g style=\"fill: #e6e6e6\" transform=\"translate(255.139491 300.781625) scale(0.14 -0.14)\">\n       <defs>\n        <path id=\"LiberationSans-36\" d=\"M 3278 1441 \nQ 3278 744 2900 340 \nQ 2522 -63 1856 -63 \nQ 1113 -63 719 490 \nQ 325 1044 325 2100 \nQ 325 3244 734 3856 \nQ 1144 4469 1900 4469 \nQ 2897 4469 3156 3572 \nL 2619 3475 \nQ 2453 4013 1894 4013 \nQ 1413 4013 1148 3564 \nQ 884 3116 884 2266 \nQ 1038 2550 1316 2698 \nQ 1594 2847 1953 2847 \nQ 2563 2847 2920 2465 \nQ 3278 2084 3278 1441 \nz\nM 2706 1416 \nQ 2706 1894 2472 2153 \nQ 2238 2413 1819 2413 \nQ 1425 2413 1183 2183 \nQ 941 1953 941 1550 \nQ 941 1041 1192 716 \nQ 1444 391 1838 391 \nQ 2244 391 2475 664 \nQ 2706 938 2706 1416 \nz\n\" transform=\"scale(0.015625)\"/>\n       </defs>\n       <use xlink:href=\"#LiberationSans-36\"/>\n      </g>\n     </g>\n    </g>\n    <g id=\"xtick_4\">\n     <g id=\"line2d_7\">\n      <path d=\"M 340.021239 287.136 \nL 340.021239 7.2 \n\" clip-path=\"url(#pf91c7890c1)\" style=\"fill: none; stroke: #2a3459; stroke-linecap: round\"/>\n     </g>\n     <g id=\"line2d_8\"/>\n     <g id=\"text_4\">\n      <!-- 8 -->\n      <g style=\"fill: #e6e6e6\" transform=\"translate(336.128582 300.781625) scale(0.14 -0.14)\">\n       <defs>\n        <path id=\"LiberationSans-38\" d=\"M 3281 1228 \nQ 3281 619 2893 278 \nQ 2506 -63 1781 -63 \nQ 1075 -63 676 271 \nQ 278 606 278 1222 \nQ 278 1653 525 1947 \nQ 772 2241 1156 2303 \nL 1156 2316 \nQ 797 2400 589 2681 \nQ 381 2963 381 3341 \nQ 381 3844 757 4156 \nQ 1134 4469 1769 4469 \nQ 2419 4469 2795 4162 \nQ 3172 3856 3172 3334 \nQ 3172 2956 2962 2675 \nQ 2753 2394 2391 2322 \nL 2391 2309 \nQ 2813 2241 3047 1952 \nQ 3281 1663 3281 1228 \nz\nM 2588 3303 \nQ 2588 4050 1769 4050 \nQ 1372 4050 1164 3862 \nQ 956 3675 956 3303 \nQ 956 2925 1170 2726 \nQ 1384 2528 1775 2528 \nQ 2172 2528 2380 2711 \nQ 2588 2894 2588 3303 \nz\nM 2697 1281 \nQ 2697 1691 2453 1898 \nQ 2209 2106 1769 2106 \nQ 1341 2106 1100 1882 \nQ 859 1659 859 1269 \nQ 859 359 1788 359 \nQ 2247 359 2472 579 \nQ 2697 800 2697 1281 \nz\n\" transform=\"scale(0.015625)\"/>\n       </defs>\n       <use xlink:href=\"#LiberationSans-38\"/>\n      </g>\n     </g>\n    </g>\n    <g id=\"xtick_5\">\n     <g id=\"line2d_9\">\n      <path d=\"M 421.01033 287.136 \nL 421.01033 7.2 \n\" clip-path=\"url(#pf91c7890c1)\" style=\"fill: none; stroke: #2a3459; stroke-linecap: round\"/>\n     </g>\n     <g id=\"line2d_10\"/>\n     <g id=\"text_5\">\n      <!-- 10 -->\n      <g style=\"fill: #e6e6e6\" transform=\"translate(413.225017 300.781625) scale(0.14 -0.14)\">\n       <defs>\n        <path id=\"LiberationSans-31\" d=\"M 488 0 \nL 488 478 \nL 1609 478 \nL 1609 3866 \nL 616 3156 \nL 616 3688 \nL 1656 4403 \nL 2175 4403 \nL 2175 478 \nL 3247 478 \nL 3247 0 \nL 488 0 \nz\n\" transform=\"scale(0.015625)\"/>\n        <path id=\"LiberationSans-30\" d=\"M 3309 2203 \nQ 3309 1100 2920 518 \nQ 2531 -63 1772 -63 \nQ 1013 -63 631 515 \nQ 250 1094 250 2203 \nQ 250 3338 620 3903 \nQ 991 4469 1791 4469 \nQ 2569 4469 2939 3897 \nQ 3309 3325 3309 2203 \nz\nM 2738 2203 \nQ 2738 3156 2517 3584 \nQ 2297 4013 1791 4013 \nQ 1272 4013 1045 3591 \nQ 819 3169 819 2203 \nQ 819 1266 1048 831 \nQ 1278 397 1778 397 \nQ 2275 397 2506 840 \nQ 2738 1284 2738 2203 \nz\n\" transform=\"scale(0.015625)\"/>\n       </defs>\n       <use xlink:href=\"#LiberationSans-31\"/>\n       <use xlink:href=\"#LiberationSans-30\" x=\"55.615234\"/>\n      </g>\n     </g>\n    </g>\n   </g>\n   <g id=\"matplotlib.axis_2\">\n    <g id=\"ytick_1\">\n     <g id=\"line2d_11\">\n      <path d=\"M 38.336875 282.756256 \nL 439.232875 282.756256 \n\" clip-path=\"url(#pf91c7890c1)\" style=\"fill: none; stroke: #2a3459; stroke-linecap: round\"/>\n     </g>\n     <g id=\"line2d_12\"/>\n     <g id=\"text_6\">\n      <!-- −2.0 -->\n      <g style=\"fill: #e6e6e6\" transform=\"translate(7.2 287.829068) scale(0.14 -0.14)\">\n       <defs>\n        <path id=\"LiberationSans-2212\" d=\"M 316 1900 \nL 316 2356 \nL 3425 2356 \nL 3425 1900 \nL 316 1900 \nz\n\" transform=\"scale(0.015625)\"/>\n        <path id=\"LiberationSans-2e\" d=\"M 584 0 \nL 584 684 \nL 1194 684 \nL 1194 0 \nL 584 0 \nz\n\" transform=\"scale(0.015625)\"/>\n       </defs>\n       <use xlink:href=\"#LiberationSans-2212\"/>\n       <use xlink:href=\"#LiberationSans-32\" x=\"58.398438\"/>\n       <use xlink:href=\"#LiberationSans-2e\" x=\"114.013672\"/>\n       <use xlink:href=\"#LiberationSans-30\" x=\"141.796875\"/>\n      </g>\n     </g>\n    </g>\n    <g id=\"ytick_2\">\n     <g id=\"line2d_13\">\n      <path d=\"M 38.336875 231.023851 \nL 439.232875 231.023851 \n\" clip-path=\"url(#pf91c7890c1)\" style=\"fill: none; stroke: #2a3459; stroke-linecap: round\"/>\n     </g>\n     <g id=\"line2d_14\"/>\n     <g id=\"text_7\">\n      <!-- −1.5 -->\n      <g style=\"fill: #e6e6e6\" transform=\"translate(7.2 236.096664) scale(0.14 -0.14)\">\n       <defs>\n        <path id=\"LiberationSans-35\" d=\"M 3291 1434 \nQ 3291 738 2877 337 \nQ 2463 -63 1728 -63 \nQ 1113 -63 734 206 \nQ 356 475 256 984 \nL 825 1050 \nQ 1003 397 1741 397 \nQ 2194 397 2450 670 \nQ 2706 944 2706 1422 \nQ 2706 1838 2448 2094 \nQ 2191 2350 1753 2350 \nQ 1525 2350 1328 2278 \nQ 1131 2206 934 2034 \nL 384 2034 \nL 531 4403 \nL 3034 4403 \nL 3034 3925 \nL 1044 3925 \nL 959 2528 \nQ 1325 2809 1869 2809 \nQ 2519 2809 2905 2428 \nQ 3291 2047 3291 1434 \nz\n\" transform=\"scale(0.015625)\"/>\n       </defs>\n       <use xlink:href=\"#LiberationSans-2212\"/>\n       <use xlink:href=\"#LiberationSans-31\" x=\"58.398438\"/>\n       <use xlink:href=\"#LiberationSans-2e\" x=\"114.013672\"/>\n       <use xlink:href=\"#LiberationSans-35\" x=\"141.796875\"/>\n      </g>\n     </g>\n    </g>\n    <g id=\"ytick_3\">\n     <g id=\"line2d_15\">\n      <path d=\"M 38.336875 179.291447 \nL 439.232875 179.291447 \n\" clip-path=\"url(#pf91c7890c1)\" style=\"fill: none; stroke: #2a3459; stroke-linecap: round\"/>\n     </g>\n     <g id=\"line2d_16\"/>\n     <g id=\"text_8\">\n      <!-- −1.0 -->\n      <g style=\"fill: #e6e6e6\" transform=\"translate(7.2 184.364259) scale(0.14 -0.14)\">\n       <use xlink:href=\"#LiberationSans-2212\"/>\n       <use xlink:href=\"#LiberationSans-31\" x=\"58.398438\"/>\n       <use xlink:href=\"#LiberationSans-2e\" x=\"114.013672\"/>\n       <use xlink:href=\"#LiberationSans-30\" x=\"141.796875\"/>\n      </g>\n     </g>\n    </g>\n    <g id=\"ytick_4\">\n     <g id=\"line2d_17\">\n      <path d=\"M 38.336875 127.559043 \nL 439.232875 127.559043 \n\" clip-path=\"url(#pf91c7890c1)\" style=\"fill: none; stroke: #2a3459; stroke-linecap: round\"/>\n     </g>\n     <g id=\"line2d_18\"/>\n     <g id=\"text_9\">\n      <!-- −0.5 -->\n      <g style=\"fill: #e6e6e6\" transform=\"translate(7.2 132.631855) scale(0.14 -0.14)\">\n       <use xlink:href=\"#LiberationSans-2212\"/>\n       <use xlink:href=\"#LiberationSans-30\" x=\"58.398438\"/>\n       <use xlink:href=\"#LiberationSans-2e\" x=\"114.013672\"/>\n       <use xlink:href=\"#LiberationSans-35\" x=\"141.796875\"/>\n      </g>\n     </g>\n    </g>\n    <g id=\"ytick_5\">\n     <g id=\"line2d_19\">\n      <path d=\"M 38.336875 75.826638 \nL 439.232875 75.826638 \n\" clip-path=\"url(#pf91c7890c1)\" style=\"fill: none; stroke: #2a3459; stroke-linecap: round\"/>\n     </g>\n     <g id=\"line2d_20\"/>\n     <g id=\"text_10\">\n      <!-- 0.0 -->\n      <g style=\"fill: #e6e6e6\" transform=\"translate(15.376875 80.899451) scale(0.14 -0.14)\">\n       <use xlink:href=\"#LiberationSans-30\"/>\n       <use xlink:href=\"#LiberationSans-2e\" x=\"55.615234\"/>\n       <use xlink:href=\"#LiberationSans-30\" x=\"83.398438\"/>\n      </g>\n     </g>\n    </g>\n    <g id=\"ytick_6\">\n     <g id=\"line2d_21\">\n      <path d=\"M 38.336875 24.094234 \nL 439.232875 24.094234 \n\" clip-path=\"url(#pf91c7890c1)\" style=\"fill: none; stroke: #2a3459; stroke-linecap: round\"/>\n     </g>\n     <g id=\"line2d_22\"/>\n     <g id=\"text_11\">\n      <!-- 0.5 -->\n      <g style=\"fill: #e6e6e6\" transform=\"translate(15.376875 29.167047) scale(0.14 -0.14)\">\n       <use xlink:href=\"#LiberationSans-30\"/>\n       <use xlink:href=\"#LiberationSans-2e\" x=\"55.615234\"/>\n       <use xlink:href=\"#LiberationSans-35\" x=\"83.398438\"/>\n      </g>\n     </g>\n    </g>\n   </g>\n   <g id=\"line2d_23\">\n    <path d=\"M 56.55942 19.924364 \nL 62.136077 42.281056 \nL 68.004323 57.953144 \nL 74.237057 69.115865 \nL 80.870727 77.020772 \nL 88.124026 82.595801 \nL 96.288542 86.34213 \nL 105.911009 88.511579 \nL 117.902643 89.07684 \nL 134.049433 87.699294 \nL 161.823369 82.989872 \nL 204.213249 76.143325 \nL 232.934853 73.663259 \nL 263.478893 73.096548 \nL 305.941671 74.532756 \nL 378.948488 76.979115 \nL 421.01033 76.694782 \nL 421.01033 76.694782 \n\" clip-path=\"url(#pf91c7890c1)\" style=\"fill: none; stroke: #08f7fe; stroke-width: 4; stroke-linecap: round\"/>\n   </g>\n   <g id=\"line2d_24\">\n    <path d=\"M 56.55942 274.411636 \nL 57.689331 258.102548 \nL 62.719257 202.053147 \nL 68.040772 163.783404 \nL 73.690326 136.933761 \nL 79.667919 117.774254 \nL 86.046448 103.758185 \nL 92.971708 93.236167 \nL 100.589493 85.239076 \nL 109.227844 79.065042 \nL 119.324143 74.342152 \nL 131.461572 70.929531 \nL 146.442003 68.867236 \nL 165.54114 68.351482 \nL 191.820679 69.789854 \nL 298.870616 77.658637 \nL 341.479188 77.330172 \nL 421.01033 75.090405 \nL 421.01033 75.090405 \n\" clip-path=\"url(#pf91c7890c1)\" style=\"fill: none; stroke: #fe53bb; stroke-width: 4; stroke-linecap: round\"/>\n   </g>\n   <g id=\"line2d_25\">\n    <path d=\"M 56.55942 75.776321 \nL 62.245423 69.643184 \nL 68.332362 65.948413 \nL 75.257622 64.110244 \nL 83.67728 64.028928 \nL 94.976388 66.058378 \nL 114.257769 71.879484 \nL 147.827055 81.82733 \nL 169.222463 85.929975 \nL 190.873012 88.019739 \nL 215.585255 88.321658 \nL 250.867631 86.528737 \nL 315.709932 83.170417 \nL 359.484864 83.274826 \nL 421.01033 84.912457 \nL 421.01033 84.912457 \n\" clip-path=\"url(#pf91c7890c1)\" style=\"fill: none; stroke: #f5d300; stroke-width: 4; stroke-linecap: round\"/>\n   </g>\n   <g id=\"patch_3\">\n    <path d=\"M 38.336875 287.136 \nL 38.336875 7.2 \n\" style=\"fill: none\"/>\n   </g>\n   <g id=\"patch_4\">\n    <path d=\"M 439.232875 287.136 \nL 439.232875 7.2 \n\" style=\"fill: none\"/>\n   </g>\n   <g id=\"patch_5\">\n    <path d=\"M 38.336875 287.136 \nL 439.232875 287.136 \n\" style=\"fill: none\"/>\n   </g>\n   <g id=\"patch_6\">\n    <path d=\"M 38.336875 7.2 \nL 439.232875 7.2 \n\" style=\"fill: none\"/>\n   </g>\n  </g>\n </g>\n <defs>\n  <clipPath id=\"pf91c7890c1\">\n   <rect x=\"38.336875\" y=\"7.2\" width=\"400.896\" height=\"279.936\"/>\n  </clipPath>\n </defs>\n</svg>\n",
      "text/plain": [
       "<Figure size 640x480 with 1 Axes>"
      ]
     },
     "metadata": {},
     "output_type": "display_data"
    }
   ],
   "source": [
    "plt.plot(x, y)\n",
    "plt.plot(x, ydot)\n",
    "plt.plot(x, Y)"
   ]
  },
  {
   "attachments": {},
   "cell_type": "markdown",
   "metadata": {},
   "source": [
    "## Exercises"
   ]
  },
  {
   "attachments": {},
   "cell_type": "markdown",
   "metadata": {},
   "source": [
    "### Question 1: \n",
    "\n",
    "Let $y = e^{-x/10} sin(x)$. Consider 10000 x intervals in the range $[0, 10]$\n",
    "\n",
    "1. Plot $y$ as a function of $x$ in that range.\n",
    "2. Compute the mean and standard deviation of $y$ for values in $[4, 7]$.\n",
    "3. For values in $[4, 7]$, find the value $y_m$ such that 80% of the values are less than $y_m$.\n",
    "4. Plot $\\dot{y}$ as a function of $x$.\n",
    "5. Find the locations where $\\dot{y}$ is zero.\n",
    "\n"
   ]
  },
  {
   "cell_type": "code",
   "execution_count": 109,
   "metadata": {},
   "outputs": [
    {
     "data": {
      "text/plain": [
       "[<matplotlib.lines.Line2D at 0x7fe8e9ee2b10>]"
      ]
     },
     "execution_count": 109,
     "metadata": {},
     "output_type": "execute_result"
    },
    {
     "data": {
      "image/svg+xml": "<?xml version=\"1.0\" encoding=\"utf-8\" standalone=\"no\"?>\n<!DOCTYPE svg PUBLIC \"-//W3C//DTD SVG 1.1//EN\"\n  \"http://www.w3.org/Graphics/SVG/1.1/DTD/svg11.dtd\">\n<svg xmlns:xlink=\"http://www.w3.org/1999/xlink\" width=\"446.432875pt\" height=\"310.886625pt\" viewBox=\"0 0 446.432875 310.886625\" xmlns=\"http://www.w3.org/2000/svg\" version=\"1.1\">\n <metadata>\n  <rdf:RDF xmlns:dc=\"http://purl.org/dc/elements/1.1/\" xmlns:cc=\"http://creativecommons.org/ns#\" xmlns:rdf=\"http://www.w3.org/1999/02/22-rdf-syntax-ns#\">\n   <cc:Work>\n    <dc:type rdf:resource=\"http://purl.org/dc/dcmitype/StillImage\"/>\n    <dc:date>2023-02-20T20:37:48.625348</dc:date>\n    <dc:format>image/svg+xml</dc:format>\n    <dc:creator>\n     <cc:Agent>\n      <dc:title>Matplotlib v3.7.0, https://matplotlib.org/</dc:title>\n     </cc:Agent>\n    </dc:creator>\n   </cc:Work>\n  </rdf:RDF>\n </metadata>\n <defs>\n  <style type=\"text/css\">*{stroke-linejoin: round; stroke-linecap: butt}</style>\n </defs>\n <g id=\"figure_1\">\n  <g id=\"patch_1\">\n   <path d=\"M 0 310.886625 \nL 446.432875 310.886625 \nL 446.432875 0 \nL 0 0 \nz\n\" style=\"fill: #212946\"/>\n  </g>\n  <g id=\"axes_1\">\n   <g id=\"patch_2\">\n    <path d=\"M 38.336875 287.136 \nL 439.232875 287.136 \nL 439.232875 7.2 \nL 38.336875 7.2 \nz\n\" style=\"fill: #212946\"/>\n   </g>\n   <g id=\"matplotlib.axis_1\">\n    <g id=\"xtick_1\">\n     <g id=\"line2d_1\">\n      <path d=\"M 56.55942 287.136 \nL 56.55942 7.2 \n\" clip-path=\"url(#p6481e1c0a5)\" style=\"fill: none; stroke: #2a3459; stroke-linecap: round\"/>\n     </g>\n     <g id=\"line2d_2\"/>\n     <g id=\"text_1\">\n      <!-- 0 -->\n      <g style=\"fill: #e6e6e6\" transform=\"translate(52.666764 300.781625) scale(0.14 -0.14)\">\n       <defs>\n        <path id=\"LiberationSans-30\" d=\"M 3309 2203 \nQ 3309 1100 2920 518 \nQ 2531 -63 1772 -63 \nQ 1013 -63 631 515 \nQ 250 1094 250 2203 \nQ 250 3338 620 3903 \nQ 991 4469 1791 4469 \nQ 2569 4469 2939 3897 \nQ 3309 3325 3309 2203 \nz\nM 2738 2203 \nQ 2738 3156 2517 3584 \nQ 2297 4013 1791 4013 \nQ 1272 4013 1045 3591 \nQ 819 3169 819 2203 \nQ 819 1266 1048 831 \nQ 1278 397 1778 397 \nQ 2275 397 2506 840 \nQ 2738 1284 2738 2203 \nz\n\" transform=\"scale(0.015625)\"/>\n       </defs>\n       <use xlink:href=\"#LiberationSans-30\"/>\n      </g>\n     </g>\n    </g>\n    <g id=\"xtick_2\">\n     <g id=\"line2d_3\">\n      <path d=\"M 129.449602 287.136 \nL 129.449602 7.2 \n\" clip-path=\"url(#p6481e1c0a5)\" style=\"fill: none; stroke: #2a3459; stroke-linecap: round\"/>\n     </g>\n     <g id=\"line2d_4\"/>\n     <g id=\"text_2\">\n      <!-- 2 -->\n      <g style=\"fill: #e6e6e6\" transform=\"translate(125.556946 300.781625) scale(0.14 -0.14)\">\n       <defs>\n        <path id=\"LiberationSans-32\" d=\"M 322 0 \nL 322 397 \nQ 481 763 711 1042 \nQ 941 1322 1194 1548 \nQ 1447 1775 1695 1969 \nQ 1944 2163 2144 2356 \nQ 2344 2550 2467 2762 \nQ 2591 2975 2591 3244 \nQ 2591 3606 2378 3806 \nQ 2166 4006 1788 4006 \nQ 1428 4006 1195 3811 \nQ 963 3616 922 3263 \nL 347 3316 \nQ 409 3844 795 4156 \nQ 1181 4469 1788 4469 \nQ 2453 4469 2811 4155 \nQ 3169 3841 3169 3263 \nQ 3169 3006 3051 2753 \nQ 2934 2500 2703 2247 \nQ 2472 1994 1819 1463 \nQ 1459 1169 1246 933 \nQ 1034 697 941 478 \nL 3238 478 \nL 3238 0 \nL 322 0 \nz\n\" transform=\"scale(0.015625)\"/>\n       </defs>\n       <use xlink:href=\"#LiberationSans-32\"/>\n      </g>\n     </g>\n    </g>\n    <g id=\"xtick_3\">\n     <g id=\"line2d_5\">\n      <path d=\"M 202.339784 287.136 \nL 202.339784 7.2 \n\" clip-path=\"url(#p6481e1c0a5)\" style=\"fill: none; stroke: #2a3459; stroke-linecap: round\"/>\n     </g>\n     <g id=\"line2d_6\"/>\n     <g id=\"text_3\">\n      <!-- 4 -->\n      <g style=\"fill: #e6e6e6\" transform=\"translate(198.447128 300.781625) scale(0.14 -0.14)\">\n       <defs>\n        <path id=\"LiberationSans-34\" d=\"M 2753 997 \nL 2753 0 \nL 2222 0 \nL 2222 997 \nL 147 997 \nL 147 1434 \nL 2163 4403 \nL 2753 4403 \nL 2753 1441 \nL 3372 1441 \nL 3372 997 \nL 2753 997 \nz\nM 2222 3769 \nQ 2216 3750 2134 3603 \nQ 2053 3456 2013 3397 \nL 884 1734 \nL 716 1503 \nL 666 1441 \nL 2222 1441 \nL 2222 3769 \nz\n\" transform=\"scale(0.015625)\"/>\n       </defs>\n       <use xlink:href=\"#LiberationSans-34\"/>\n      </g>\n     </g>\n    </g>\n    <g id=\"xtick_4\">\n     <g id=\"line2d_7\">\n      <path d=\"M 275.229966 287.136 \nL 275.229966 7.2 \n\" clip-path=\"url(#p6481e1c0a5)\" style=\"fill: none; stroke: #2a3459; stroke-linecap: round\"/>\n     </g>\n     <g id=\"line2d_8\"/>\n     <g id=\"text_4\">\n      <!-- 6 -->\n      <g style=\"fill: #e6e6e6\" transform=\"translate(271.33731 300.781625) scale(0.14 -0.14)\">\n       <defs>\n        <path id=\"LiberationSans-36\" d=\"M 3278 1441 \nQ 3278 744 2900 340 \nQ 2522 -63 1856 -63 \nQ 1113 -63 719 490 \nQ 325 1044 325 2100 \nQ 325 3244 734 3856 \nQ 1144 4469 1900 4469 \nQ 2897 4469 3156 3572 \nL 2619 3475 \nQ 2453 4013 1894 4013 \nQ 1413 4013 1148 3564 \nQ 884 3116 884 2266 \nQ 1038 2550 1316 2698 \nQ 1594 2847 1953 2847 \nQ 2563 2847 2920 2465 \nQ 3278 2084 3278 1441 \nz\nM 2706 1416 \nQ 2706 1894 2472 2153 \nQ 2238 2413 1819 2413 \nQ 1425 2413 1183 2183 \nQ 941 1953 941 1550 \nQ 941 1041 1192 716 \nQ 1444 391 1838 391 \nQ 2244 391 2475 664 \nQ 2706 938 2706 1416 \nz\n\" transform=\"scale(0.015625)\"/>\n       </defs>\n       <use xlink:href=\"#LiberationSans-36\"/>\n      </g>\n     </g>\n    </g>\n    <g id=\"xtick_5\">\n     <g id=\"line2d_9\">\n      <path d=\"M 348.120148 287.136 \nL 348.120148 7.2 \n\" clip-path=\"url(#p6481e1c0a5)\" style=\"fill: none; stroke: #2a3459; stroke-linecap: round\"/>\n     </g>\n     <g id=\"line2d_10\"/>\n     <g id=\"text_5\">\n      <!-- 8 -->\n      <g style=\"fill: #e6e6e6\" transform=\"translate(344.227491 300.781625) scale(0.14 -0.14)\">\n       <defs>\n        <path id=\"LiberationSans-38\" d=\"M 3281 1228 \nQ 3281 619 2893 278 \nQ 2506 -63 1781 -63 \nQ 1075 -63 676 271 \nQ 278 606 278 1222 \nQ 278 1653 525 1947 \nQ 772 2241 1156 2303 \nL 1156 2316 \nQ 797 2400 589 2681 \nQ 381 2963 381 3341 \nQ 381 3844 757 4156 \nQ 1134 4469 1769 4469 \nQ 2419 4469 2795 4162 \nQ 3172 3856 3172 3334 \nQ 3172 2956 2962 2675 \nQ 2753 2394 2391 2322 \nL 2391 2309 \nQ 2813 2241 3047 1952 \nQ 3281 1663 3281 1228 \nz\nM 2588 3303 \nQ 2588 4050 1769 4050 \nQ 1372 4050 1164 3862 \nQ 956 3675 956 3303 \nQ 956 2925 1170 2726 \nQ 1384 2528 1775 2528 \nQ 2172 2528 2380 2711 \nQ 2588 2894 2588 3303 \nz\nM 2697 1281 \nQ 2697 1691 2453 1898 \nQ 2209 2106 1769 2106 \nQ 1341 2106 1100 1882 \nQ 859 1659 859 1269 \nQ 859 359 1788 359 \nQ 2247 359 2472 579 \nQ 2697 800 2697 1281 \nz\n\" transform=\"scale(0.015625)\"/>\n       </defs>\n       <use xlink:href=\"#LiberationSans-38\"/>\n      </g>\n     </g>\n    </g>\n    <g id=\"xtick_6\">\n     <g id=\"line2d_11\">\n      <path d=\"M 421.01033 287.136 \nL 421.01033 7.2 \n\" clip-path=\"url(#p6481e1c0a5)\" style=\"fill: none; stroke: #2a3459; stroke-linecap: round\"/>\n     </g>\n     <g id=\"line2d_12\"/>\n     <g id=\"text_6\">\n      <!-- 10 -->\n      <g style=\"fill: #e6e6e6\" transform=\"translate(413.225017 300.781625) scale(0.14 -0.14)\">\n       <defs>\n        <path id=\"LiberationSans-31\" d=\"M 488 0 \nL 488 478 \nL 1609 478 \nL 1609 3866 \nL 616 3156 \nL 616 3688 \nL 1656 4403 \nL 2175 4403 \nL 2175 478 \nL 3247 478 \nL 3247 0 \nL 488 0 \nz\n\" transform=\"scale(0.015625)\"/>\n       </defs>\n       <use xlink:href=\"#LiberationSans-31\"/>\n       <use xlink:href=\"#LiberationSans-30\" x=\"55.615234\"/>\n      </g>\n     </g>\n    </g>\n   </g>\n   <g id=\"matplotlib.axis_2\">\n    <g id=\"ytick_1\">\n     <g id=\"line2d_13\">\n      <path d=\"M 38.336875 269.728234 \nL 439.232875 269.728234 \n\" clip-path=\"url(#p6481e1c0a5)\" style=\"fill: none; stroke: #2a3459; stroke-linecap: round\"/>\n     </g>\n     <g id=\"line2d_14\"/>\n     <g id=\"text_7\">\n      <!-- −0.6 -->\n      <g style=\"fill: #e6e6e6\" transform=\"translate(7.2 274.801047) scale(0.14 -0.14)\">\n       <defs>\n        <path id=\"LiberationSans-2212\" d=\"M 316 1900 \nL 316 2356 \nL 3425 2356 \nL 3425 1900 \nL 316 1900 \nz\n\" transform=\"scale(0.015625)\"/>\n        <path id=\"LiberationSans-2e\" d=\"M 584 0 \nL 584 684 \nL 1194 684 \nL 1194 0 \nL 584 0 \nz\n\" transform=\"scale(0.015625)\"/>\n       </defs>\n       <use xlink:href=\"#LiberationSans-2212\"/>\n       <use xlink:href=\"#LiberationSans-30\" x=\"58.398438\"/>\n       <use xlink:href=\"#LiberationSans-2e\" x=\"114.013672\"/>\n       <use xlink:href=\"#LiberationSans-36\" x=\"141.796875\"/>\n      </g>\n     </g>\n    </g>\n    <g id=\"ytick_2\">\n     <g id=\"line2d_15\">\n      <path d=\"M 38.336875 235.483023 \nL 439.232875 235.483023 \n\" clip-path=\"url(#p6481e1c0a5)\" style=\"fill: none; stroke: #2a3459; stroke-linecap: round\"/>\n     </g>\n     <g id=\"line2d_16\"/>\n     <g id=\"text_8\">\n      <!-- −0.4 -->\n      <g style=\"fill: #e6e6e6\" transform=\"translate(7.2 240.555836) scale(0.14 -0.14)\">\n       <use xlink:href=\"#LiberationSans-2212\"/>\n       <use xlink:href=\"#LiberationSans-30\" x=\"58.398438\"/>\n       <use xlink:href=\"#LiberationSans-2e\" x=\"114.013672\"/>\n       <use xlink:href=\"#LiberationSans-34\" x=\"141.796875\"/>\n      </g>\n     </g>\n    </g>\n    <g id=\"ytick_3\">\n     <g id=\"line2d_17\">\n      <path d=\"M 38.336875 201.237813 \nL 439.232875 201.237813 \n\" clip-path=\"url(#p6481e1c0a5)\" style=\"fill: none; stroke: #2a3459; stroke-linecap: round\"/>\n     </g>\n     <g id=\"line2d_18\"/>\n     <g id=\"text_9\">\n      <!-- −0.2 -->\n      <g style=\"fill: #e6e6e6\" transform=\"translate(7.2 206.310625) scale(0.14 -0.14)\">\n       <use xlink:href=\"#LiberationSans-2212\"/>\n       <use xlink:href=\"#LiberationSans-30\" x=\"58.398438\"/>\n       <use xlink:href=\"#LiberationSans-2e\" x=\"114.013672\"/>\n       <use xlink:href=\"#LiberationSans-32\" x=\"141.796875\"/>\n      </g>\n     </g>\n    </g>\n    <g id=\"ytick_4\">\n     <g id=\"line2d_19\">\n      <path d=\"M 38.336875 166.992602 \nL 439.232875 166.992602 \n\" clip-path=\"url(#p6481e1c0a5)\" style=\"fill: none; stroke: #2a3459; stroke-linecap: round\"/>\n     </g>\n     <g id=\"line2d_20\"/>\n     <g id=\"text_10\">\n      <!-- 0.0 -->\n      <g style=\"fill: #e6e6e6\" transform=\"translate(15.376875 172.065415) scale(0.14 -0.14)\">\n       <use xlink:href=\"#LiberationSans-30\"/>\n       <use xlink:href=\"#LiberationSans-2e\" x=\"55.615234\"/>\n       <use xlink:href=\"#LiberationSans-30\" x=\"83.398438\"/>\n      </g>\n     </g>\n    </g>\n    <g id=\"ytick_5\">\n     <g id=\"line2d_21\">\n      <path d=\"M 38.336875 132.747392 \nL 439.232875 132.747392 \n\" clip-path=\"url(#p6481e1c0a5)\" style=\"fill: none; stroke: #2a3459; stroke-linecap: round\"/>\n     </g>\n     <g id=\"line2d_22\"/>\n     <g id=\"text_11\">\n      <!-- 0.2 -->\n      <g style=\"fill: #e6e6e6\" transform=\"translate(15.376875 137.820204) scale(0.14 -0.14)\">\n       <use xlink:href=\"#LiberationSans-30\"/>\n       <use xlink:href=\"#LiberationSans-2e\" x=\"55.615234\"/>\n       <use xlink:href=\"#LiberationSans-32\" x=\"83.398438\"/>\n      </g>\n     </g>\n    </g>\n    <g id=\"ytick_6\">\n     <g id=\"line2d_23\">\n      <path d=\"M 38.336875 98.502181 \nL 439.232875 98.502181 \n\" clip-path=\"url(#p6481e1c0a5)\" style=\"fill: none; stroke: #2a3459; stroke-linecap: round\"/>\n     </g>\n     <g id=\"line2d_24\"/>\n     <g id=\"text_12\">\n      <!-- 0.4 -->\n      <g style=\"fill: #e6e6e6\" transform=\"translate(15.376875 103.574994) scale(0.14 -0.14)\">\n       <use xlink:href=\"#LiberationSans-30\"/>\n       <use xlink:href=\"#LiberationSans-2e\" x=\"55.615234\"/>\n       <use xlink:href=\"#LiberationSans-34\" x=\"83.398438\"/>\n      </g>\n     </g>\n    </g>\n    <g id=\"ytick_7\">\n     <g id=\"line2d_25\">\n      <path d=\"M 38.336875 64.256971 \nL 439.232875 64.256971 \n\" clip-path=\"url(#p6481e1c0a5)\" style=\"fill: none; stroke: #2a3459; stroke-linecap: round\"/>\n     </g>\n     <g id=\"line2d_26\"/>\n     <g id=\"text_13\">\n      <!-- 0.6 -->\n      <g style=\"fill: #e6e6e6\" transform=\"translate(15.376875 69.329783) scale(0.14 -0.14)\">\n       <use xlink:href=\"#LiberationSans-30\"/>\n       <use xlink:href=\"#LiberationSans-2e\" x=\"55.615234\"/>\n       <use xlink:href=\"#LiberationSans-36\" x=\"83.398438\"/>\n      </g>\n     </g>\n    </g>\n    <g id=\"ytick_8\">\n     <g id=\"line2d_27\">\n      <path d=\"M 38.336875 30.01176 \nL 439.232875 30.01176 \n\" clip-path=\"url(#p6481e1c0a5)\" style=\"fill: none; stroke: #2a3459; stroke-linecap: round\"/>\n     </g>\n     <g id=\"line2d_28\"/>\n     <g id=\"text_14\">\n      <!-- 0.8 -->\n      <g style=\"fill: #e6e6e6\" transform=\"translate(15.376875 35.084573) scale(0.14 -0.14)\">\n       <use xlink:href=\"#LiberationSans-30\"/>\n       <use xlink:href=\"#LiberationSans-2e\" x=\"55.615234\"/>\n       <use xlink:href=\"#LiberationSans-38\" x=\"83.398438\"/>\n      </g>\n     </g>\n    </g>\n   </g>\n   <g id=\"line2d_29\">\n    <path d=\"M 56.55942 166.992602 \nL 71.647688 100.906114 \nL 81.742978 65.154677 \nL 89.870234 43.234281 \nL 96.612575 30.34616 \nL 102.29801 23.430251 \nL 107.145207 20.440136 \nL 111.482172 20.019696 \nL 115.782693 21.661458 \nL 120.520555 25.758006 \nL 126.023764 33.356675 \nL 132.620325 46.12729 \nL 140.74758 66.555226 \nL 151.425992 99.293996 \nL 193.993858 236.122543 \nL 202.66779 254.448491 \nL 209.920363 265.407299 \nL 216.116028 271.389773 \nL 221.546347 274.010998 \nL 226.539324 274.269511 \nL 231.568747 272.498218 \nL 237.071956 268.329856 \nL 243.413402 260.847676 \nL 250.957535 248.646398 \nL 260.433259 229.225531 \nL 274.136613 196.031119 \nL 299.903292 133.295005 \nL 310.508814 113.037287 \nL 319.07341 100.712695 \nL 326.398874 93.459944 \nL 332.849655 89.734409 \nL 338.790204 88.537665 \nL 344.621419 89.410777 \nL 350.744194 92.415917 \nL 357.595871 98.124735 \nL 365.613791 107.56752 \nL 375.599746 122.642322 \nL 390.432898 149.13171 \nL 414.122207 191.173325 \nL 421.01033 201.260788 \nL 421.01033 201.260788 \n\" clip-path=\"url(#p6481e1c0a5)\" style=\"fill: none; stroke: #08f7fe; stroke-width: 4; stroke-linecap: round\"/>\n   </g>\n   <g id=\"patch_3\">\n    <path d=\"M 38.336875 287.136 \nL 38.336875 7.2 \n\" style=\"fill: none\"/>\n   </g>\n   <g id=\"patch_4\">\n    <path d=\"M 439.232875 287.136 \nL 439.232875 7.2 \n\" style=\"fill: none\"/>\n   </g>\n   <g id=\"patch_5\">\n    <path d=\"M 38.336875 287.136 \nL 439.232875 287.136 \n\" style=\"fill: none\"/>\n   </g>\n   <g id=\"patch_6\">\n    <path d=\"M 38.336875 7.2 \nL 439.232875 7.2 \n\" style=\"fill: none\"/>\n   </g>\n  </g>\n </g>\n <defs>\n  <clipPath id=\"p6481e1c0a5\">\n   <rect x=\"38.336875\" y=\"7.2\" width=\"400.896\" height=\"279.936\"/>\n  </clipPath>\n </defs>\n</svg>\n",
      "text/plain": [
       "<Figure size 640x480 with 1 Axes>"
      ]
     },
     "metadata": {},
     "output_type": "display_data"
    }
   ],
   "source": [
    "# 1\n",
    "N = 10000\n",
    "x = np.linspace(0, 10, N + 1)\n",
    "def f(x):\n",
    "    return np.exp(- x/10) * np.sin(x)\n",
    "y = f(x)\n",
    "plt.plot(x, y)"
   ]
  },
  {
   "cell_type": "code",
   "execution_count": 111,
   "metadata": {},
   "outputs": [
    {
     "name": "stdout",
     "output_type": "stream",
     "text": [
      "-0.2956023068963138\n",
      "0.31448753875085117\n"
     ]
    }
   ],
   "source": [
    "# 2\n",
    "cond = (x >= 4) & (x <= 7)\n",
    "x_space = x[cond] \n",
    "y1 = f(x_space)\n",
    "print(np.mean(y1))\n",
    "print(np.std(y1)) "
   ]
  },
  {
   "cell_type": "code",
   "execution_count": 112,
   "metadata": {},
   "outputs": [
    {
     "data": {
      "text/plain": [
       "0.06145551274590662"
      ]
     },
     "execution_count": 112,
     "metadata": {},
     "output_type": "execute_result"
    }
   ],
   "source": [
    "# 3 \n",
    "np.percentile(y1, 80)"
   ]
  },
  {
   "cell_type": "code",
   "execution_count": 117,
   "metadata": {},
   "outputs": [
    {
     "data": {
      "text/plain": [
       "[<matplotlib.lines.Line2D at 0x7fe8e9cc8dd0>]"
      ]
     },
     "execution_count": 117,
     "metadata": {},
     "output_type": "execute_result"
    },
    {
     "data": {
      "image/svg+xml": "<?xml version=\"1.0\" encoding=\"utf-8\" standalone=\"no\"?>\n<!DOCTYPE svg PUBLIC \"-//W3C//DTD SVG 1.1//EN\"\n  \"http://www.w3.org/Graphics/SVG/1.1/DTD/svg11.dtd\">\n<svg xmlns:xlink=\"http://www.w3.org/1999/xlink\" width=\"454.218187pt\" height=\"310.886625pt\" viewBox=\"0 0 454.218187 310.886625\" xmlns=\"http://www.w3.org/2000/svg\" version=\"1.1\">\n <metadata>\n  <rdf:RDF xmlns:dc=\"http://purl.org/dc/elements/1.1/\" xmlns:cc=\"http://creativecommons.org/ns#\" xmlns:rdf=\"http://www.w3.org/1999/02/22-rdf-syntax-ns#\">\n   <cc:Work>\n    <dc:type rdf:resource=\"http://purl.org/dc/dcmitype/StillImage\"/>\n    <dc:date>2023-02-20T20:47:32.140202</dc:date>\n    <dc:format>image/svg+xml</dc:format>\n    <dc:creator>\n     <cc:Agent>\n      <dc:title>Matplotlib v3.7.0, https://matplotlib.org/</dc:title>\n     </cc:Agent>\n    </dc:creator>\n   </cc:Work>\n  </rdf:RDF>\n </metadata>\n <defs>\n  <style type=\"text/css\">*{stroke-linejoin: round; stroke-linecap: butt}</style>\n </defs>\n <g id=\"figure_1\">\n  <g id=\"patch_1\">\n   <path d=\"M 0 310.886625 \nL 454.218187 310.886625 \nL 454.218187 0 \nL 0 0 \nz\n\" style=\"fill: #212946\"/>\n  </g>\n  <g id=\"axes_1\">\n   <g id=\"patch_2\">\n    <path d=\"M 46.122188 287.136 \nL 447.018188 287.136 \nL 447.018188 7.2 \nL 46.122188 7.2 \nz\n\" style=\"fill: #212946\"/>\n   </g>\n   <g id=\"matplotlib.axis_1\">\n    <g id=\"xtick_1\">\n     <g id=\"line2d_1\">\n      <path d=\"M 64.344733 287.136 \nL 64.344733 7.2 \n\" clip-path=\"url(#p3e4ed299ef)\" style=\"fill: none; stroke: #2a3459; stroke-linecap: round\"/>\n     </g>\n     <g id=\"line2d_2\"/>\n     <g id=\"text_1\">\n      <!-- 0 -->\n      <g style=\"fill: #e6e6e6\" transform=\"translate(60.452077 300.781625) scale(0.14 -0.14)\">\n       <defs>\n        <path id=\"LiberationSans-30\" d=\"M 3309 2203 \nQ 3309 1100 2920 518 \nQ 2531 -63 1772 -63 \nQ 1013 -63 631 515 \nQ 250 1094 250 2203 \nQ 250 3338 620 3903 \nQ 991 4469 1791 4469 \nQ 2569 4469 2939 3897 \nQ 3309 3325 3309 2203 \nz\nM 2738 2203 \nQ 2738 3156 2517 3584 \nQ 2297 4013 1791 4013 \nQ 1272 4013 1045 3591 \nQ 819 3169 819 2203 \nQ 819 1266 1048 831 \nQ 1278 397 1778 397 \nQ 2275 397 2506 840 \nQ 2738 1284 2738 2203 \nz\n\" transform=\"scale(0.015625)\"/>\n       </defs>\n       <use xlink:href=\"#LiberationSans-30\"/>\n      </g>\n     </g>\n    </g>\n    <g id=\"xtick_2\">\n     <g id=\"line2d_3\">\n      <path d=\"M 137.234915 287.136 \nL 137.234915 7.2 \n\" clip-path=\"url(#p3e4ed299ef)\" style=\"fill: none; stroke: #2a3459; stroke-linecap: round\"/>\n     </g>\n     <g id=\"line2d_4\"/>\n     <g id=\"text_2\">\n      <!-- 2 -->\n      <g style=\"fill: #e6e6e6\" transform=\"translate(133.342259 300.781625) scale(0.14 -0.14)\">\n       <defs>\n        <path id=\"LiberationSans-32\" d=\"M 322 0 \nL 322 397 \nQ 481 763 711 1042 \nQ 941 1322 1194 1548 \nQ 1447 1775 1695 1969 \nQ 1944 2163 2144 2356 \nQ 2344 2550 2467 2762 \nQ 2591 2975 2591 3244 \nQ 2591 3606 2378 3806 \nQ 2166 4006 1788 4006 \nQ 1428 4006 1195 3811 \nQ 963 3616 922 3263 \nL 347 3316 \nQ 409 3844 795 4156 \nQ 1181 4469 1788 4469 \nQ 2453 4469 2811 4155 \nQ 3169 3841 3169 3263 \nQ 3169 3006 3051 2753 \nQ 2934 2500 2703 2247 \nQ 2472 1994 1819 1463 \nQ 1459 1169 1246 933 \nQ 1034 697 941 478 \nL 3238 478 \nL 3238 0 \nL 322 0 \nz\n\" transform=\"scale(0.015625)\"/>\n       </defs>\n       <use xlink:href=\"#LiberationSans-32\"/>\n      </g>\n     </g>\n    </g>\n    <g id=\"xtick_3\">\n     <g id=\"line2d_5\">\n      <path d=\"M 210.125097 287.136 \nL 210.125097 7.2 \n\" clip-path=\"url(#p3e4ed299ef)\" style=\"fill: none; stroke: #2a3459; stroke-linecap: round\"/>\n     </g>\n     <g id=\"line2d_6\"/>\n     <g id=\"text_3\">\n      <!-- 4 -->\n      <g style=\"fill: #e6e6e6\" transform=\"translate(206.23244 300.781625) scale(0.14 -0.14)\">\n       <defs>\n        <path id=\"LiberationSans-34\" d=\"M 2753 997 \nL 2753 0 \nL 2222 0 \nL 2222 997 \nL 147 997 \nL 147 1434 \nL 2163 4403 \nL 2753 4403 \nL 2753 1441 \nL 3372 1441 \nL 3372 997 \nL 2753 997 \nz\nM 2222 3769 \nQ 2216 3750 2134 3603 \nQ 2053 3456 2013 3397 \nL 884 1734 \nL 716 1503 \nL 666 1441 \nL 2222 1441 \nL 2222 3769 \nz\n\" transform=\"scale(0.015625)\"/>\n       </defs>\n       <use xlink:href=\"#LiberationSans-34\"/>\n      </g>\n     </g>\n    </g>\n    <g id=\"xtick_4\">\n     <g id=\"line2d_7\">\n      <path d=\"M 283.015278 287.136 \nL 283.015278 7.2 \n\" clip-path=\"url(#p3e4ed299ef)\" style=\"fill: none; stroke: #2a3459; stroke-linecap: round\"/>\n     </g>\n     <g id=\"line2d_8\"/>\n     <g id=\"text_4\">\n      <!-- 6 -->\n      <g style=\"fill: #e6e6e6\" transform=\"translate(279.122622 300.781625) scale(0.14 -0.14)\">\n       <defs>\n        <path id=\"LiberationSans-36\" d=\"M 3278 1441 \nQ 3278 744 2900 340 \nQ 2522 -63 1856 -63 \nQ 1113 -63 719 490 \nQ 325 1044 325 2100 \nQ 325 3244 734 3856 \nQ 1144 4469 1900 4469 \nQ 2897 4469 3156 3572 \nL 2619 3475 \nQ 2453 4013 1894 4013 \nQ 1413 4013 1148 3564 \nQ 884 3116 884 2266 \nQ 1038 2550 1316 2698 \nQ 1594 2847 1953 2847 \nQ 2563 2847 2920 2465 \nQ 3278 2084 3278 1441 \nz\nM 2706 1416 \nQ 2706 1894 2472 2153 \nQ 2238 2413 1819 2413 \nQ 1425 2413 1183 2183 \nQ 941 1953 941 1550 \nQ 941 1041 1192 716 \nQ 1444 391 1838 391 \nQ 2244 391 2475 664 \nQ 2706 938 2706 1416 \nz\n\" transform=\"scale(0.015625)\"/>\n       </defs>\n       <use xlink:href=\"#LiberationSans-36\"/>\n      </g>\n     </g>\n    </g>\n    <g id=\"xtick_5\">\n     <g id=\"line2d_9\">\n      <path d=\"M 355.90546 287.136 \nL 355.90546 7.2 \n\" clip-path=\"url(#p3e4ed299ef)\" style=\"fill: none; stroke: #2a3459; stroke-linecap: round\"/>\n     </g>\n     <g id=\"line2d_10\"/>\n     <g id=\"text_5\">\n      <!-- 8 -->\n      <g style=\"fill: #e6e6e6\" transform=\"translate(352.012804 300.781625) scale(0.14 -0.14)\">\n       <defs>\n        <path id=\"LiberationSans-38\" d=\"M 3281 1228 \nQ 3281 619 2893 278 \nQ 2506 -63 1781 -63 \nQ 1075 -63 676 271 \nQ 278 606 278 1222 \nQ 278 1653 525 1947 \nQ 772 2241 1156 2303 \nL 1156 2316 \nQ 797 2400 589 2681 \nQ 381 2963 381 3341 \nQ 381 3844 757 4156 \nQ 1134 4469 1769 4469 \nQ 2419 4469 2795 4162 \nQ 3172 3856 3172 3334 \nQ 3172 2956 2962 2675 \nQ 2753 2394 2391 2322 \nL 2391 2309 \nQ 2813 2241 3047 1952 \nQ 3281 1663 3281 1228 \nz\nM 2588 3303 \nQ 2588 4050 1769 4050 \nQ 1372 4050 1164 3862 \nQ 956 3675 956 3303 \nQ 956 2925 1170 2726 \nQ 1384 2528 1775 2528 \nQ 2172 2528 2380 2711 \nQ 2588 2894 2588 3303 \nz\nM 2697 1281 \nQ 2697 1691 2453 1898 \nQ 2209 2106 1769 2106 \nQ 1341 2106 1100 1882 \nQ 859 1659 859 1269 \nQ 859 359 1788 359 \nQ 2247 359 2472 579 \nQ 2697 800 2697 1281 \nz\n\" transform=\"scale(0.015625)\"/>\n       </defs>\n       <use xlink:href=\"#LiberationSans-38\"/>\n      </g>\n     </g>\n    </g>\n    <g id=\"xtick_6\">\n     <g id=\"line2d_11\">\n      <path d=\"M 428.795642 287.136 \nL 428.795642 7.2 \n\" clip-path=\"url(#p3e4ed299ef)\" style=\"fill: none; stroke: #2a3459; stroke-linecap: round\"/>\n     </g>\n     <g id=\"line2d_12\"/>\n     <g id=\"text_6\">\n      <!-- 10 -->\n      <g style=\"fill: #e6e6e6\" transform=\"translate(421.01033 300.781625) scale(0.14 -0.14)\">\n       <defs>\n        <path id=\"LiberationSans-31\" d=\"M 488 0 \nL 488 478 \nL 1609 478 \nL 1609 3866 \nL 616 3156 \nL 616 3688 \nL 1656 4403 \nL 2175 4403 \nL 2175 478 \nL 3247 478 \nL 3247 0 \nL 488 0 \nz\n\" transform=\"scale(0.015625)\"/>\n       </defs>\n       <use xlink:href=\"#LiberationSans-31\"/>\n       <use xlink:href=\"#LiberationSans-30\" x=\"55.615234\"/>\n      </g>\n     </g>\n    </g>\n   </g>\n   <g id=\"matplotlib.axis_2\">\n    <g id=\"ytick_1\">\n     <g id=\"line2d_13\">\n      <path d=\"M 46.122188 275.125032 \nL 447.018188 275.125032 \n\" clip-path=\"url(#p3e4ed299ef)\" style=\"fill: none; stroke: #2a3459; stroke-linecap: round\"/>\n     </g>\n     <g id=\"line2d_14\"/>\n     <g id=\"text_7\">\n      <!-- −0.75 -->\n      <g style=\"fill: #e6e6e6\" transform=\"translate(7.2 280.197845) scale(0.14 -0.14)\">\n       <defs>\n        <path id=\"LiberationSans-2212\" d=\"M 316 1900 \nL 316 2356 \nL 3425 2356 \nL 3425 1900 \nL 316 1900 \nz\n\" transform=\"scale(0.015625)\"/>\n        <path id=\"LiberationSans-2e\" d=\"M 584 0 \nL 584 684 \nL 1194 684 \nL 1194 0 \nL 584 0 \nz\n\" transform=\"scale(0.015625)\"/>\n        <path id=\"LiberationSans-37\" d=\"M 3238 3947 \nQ 2563 2916 2284 2331 \nQ 2006 1747 1867 1178 \nQ 1728 609 1728 0 \nL 1141 0 \nQ 1141 844 1498 1776 \nQ 1856 2709 2694 3925 \nL 328 3925 \nL 328 4403 \nL 3238 4403 \nL 3238 3947 \nz\n\" transform=\"scale(0.015625)\"/>\n        <path id=\"LiberationSans-35\" d=\"M 3291 1434 \nQ 3291 738 2877 337 \nQ 2463 -63 1728 -63 \nQ 1113 -63 734 206 \nQ 356 475 256 984 \nL 825 1050 \nQ 1003 397 1741 397 \nQ 2194 397 2450 670 \nQ 2706 944 2706 1422 \nQ 2706 1838 2448 2094 \nQ 2191 2350 1753 2350 \nQ 1525 2350 1328 2278 \nQ 1131 2206 934 2034 \nL 384 2034 \nL 531 4403 \nL 3034 4403 \nL 3034 3925 \nL 1044 3925 \nL 959 2528 \nQ 1325 2809 1869 2809 \nQ 2519 2809 2905 2428 \nQ 3291 2047 3291 1434 \nz\n\" transform=\"scale(0.015625)\"/>\n       </defs>\n       <use xlink:href=\"#LiberationSans-2212\"/>\n       <use xlink:href=\"#LiberationSans-30\" x=\"58.398438\"/>\n       <use xlink:href=\"#LiberationSans-2e\" x=\"114.013672\"/>\n       <use xlink:href=\"#LiberationSans-37\" x=\"141.796875\"/>\n       <use xlink:href=\"#LiberationSans-35\" x=\"197.412109\"/>\n      </g>\n     </g>\n    </g>\n    <g id=\"ytick_2\">\n     <g id=\"line2d_15\">\n      <path d=\"M 46.122188 238.665707 \nL 447.018188 238.665707 \n\" clip-path=\"url(#p3e4ed299ef)\" style=\"fill: none; stroke: #2a3459; stroke-linecap: round\"/>\n     </g>\n     <g id=\"line2d_16\"/>\n     <g id=\"text_8\">\n      <!-- −0.50 -->\n      <g style=\"fill: #e6e6e6\" transform=\"translate(7.2 243.73852) scale(0.14 -0.14)\">\n       <use xlink:href=\"#LiberationSans-2212\"/>\n       <use xlink:href=\"#LiberationSans-30\" x=\"58.398438\"/>\n       <use xlink:href=\"#LiberationSans-2e\" x=\"114.013672\"/>\n       <use xlink:href=\"#LiberationSans-35\" x=\"141.796875\"/>\n       <use xlink:href=\"#LiberationSans-30\" x=\"197.412109\"/>\n      </g>\n     </g>\n    </g>\n    <g id=\"ytick_3\">\n     <g id=\"line2d_17\">\n      <path d=\"M 46.122188 202.206382 \nL 447.018188 202.206382 \n\" clip-path=\"url(#p3e4ed299ef)\" style=\"fill: none; stroke: #2a3459; stroke-linecap: round\"/>\n     </g>\n     <g id=\"line2d_18\"/>\n     <g id=\"text_9\">\n      <!-- −0.25 -->\n      <g style=\"fill: #e6e6e6\" transform=\"translate(7.2 207.279195) scale(0.14 -0.14)\">\n       <use xlink:href=\"#LiberationSans-2212\"/>\n       <use xlink:href=\"#LiberationSans-30\" x=\"58.398438\"/>\n       <use xlink:href=\"#LiberationSans-2e\" x=\"114.013672\"/>\n       <use xlink:href=\"#LiberationSans-32\" x=\"141.796875\"/>\n       <use xlink:href=\"#LiberationSans-35\" x=\"197.412109\"/>\n      </g>\n     </g>\n    </g>\n    <g id=\"ytick_4\">\n     <g id=\"line2d_19\">\n      <path d=\"M 46.122188 165.747057 \nL 447.018188 165.747057 \n\" clip-path=\"url(#p3e4ed299ef)\" style=\"fill: none; stroke: #2a3459; stroke-linecap: round\"/>\n     </g>\n     <g id=\"line2d_20\"/>\n     <g id=\"text_10\">\n      <!-- 0.00 -->\n      <g style=\"fill: #e6e6e6\" transform=\"translate(15.376875 170.819869) scale(0.14 -0.14)\">\n       <use xlink:href=\"#LiberationSans-30\"/>\n       <use xlink:href=\"#LiberationSans-2e\" x=\"55.615234\"/>\n       <use xlink:href=\"#LiberationSans-30\" x=\"83.398438\"/>\n       <use xlink:href=\"#LiberationSans-30\" x=\"139.013672\"/>\n      </g>\n     </g>\n    </g>\n    <g id=\"ytick_5\">\n     <g id=\"line2d_21\">\n      <path d=\"M 46.122188 129.287732 \nL 447.018188 129.287732 \n\" clip-path=\"url(#p3e4ed299ef)\" style=\"fill: none; stroke: #2a3459; stroke-linecap: round\"/>\n     </g>\n     <g id=\"line2d_22\"/>\n     <g id=\"text_11\">\n      <!-- 0.25 -->\n      <g style=\"fill: #e6e6e6\" transform=\"translate(15.376875 134.360544) scale(0.14 -0.14)\">\n       <use xlink:href=\"#LiberationSans-30\"/>\n       <use xlink:href=\"#LiberationSans-2e\" x=\"55.615234\"/>\n       <use xlink:href=\"#LiberationSans-32\" x=\"83.398438\"/>\n       <use xlink:href=\"#LiberationSans-35\" x=\"139.013672\"/>\n      </g>\n     </g>\n    </g>\n    <g id=\"ytick_6\">\n     <g id=\"line2d_23\">\n      <path d=\"M 46.122188 92.828407 \nL 447.018188 92.828407 \n\" clip-path=\"url(#p3e4ed299ef)\" style=\"fill: none; stroke: #2a3459; stroke-linecap: round\"/>\n     </g>\n     <g id=\"line2d_24\"/>\n     <g id=\"text_12\">\n      <!-- 0.50 -->\n      <g style=\"fill: #e6e6e6\" transform=\"translate(15.376875 97.901219) scale(0.14 -0.14)\">\n       <use xlink:href=\"#LiberationSans-30\"/>\n       <use xlink:href=\"#LiberationSans-2e\" x=\"55.615234\"/>\n       <use xlink:href=\"#LiberationSans-35\" x=\"83.398438\"/>\n       <use xlink:href=\"#LiberationSans-30\" x=\"139.013672\"/>\n      </g>\n     </g>\n    </g>\n    <g id=\"ytick_7\">\n     <g id=\"line2d_25\">\n      <path d=\"M 46.122188 56.369081 \nL 447.018188 56.369081 \n\" clip-path=\"url(#p3e4ed299ef)\" style=\"fill: none; stroke: #2a3459; stroke-linecap: round\"/>\n     </g>\n     <g id=\"line2d_26\"/>\n     <g id=\"text_13\">\n      <!-- 0.75 -->\n      <g style=\"fill: #e6e6e6\" transform=\"translate(15.376875 61.441894) scale(0.14 -0.14)\">\n       <use xlink:href=\"#LiberationSans-30\"/>\n       <use xlink:href=\"#LiberationSans-2e\" x=\"55.615234\"/>\n       <use xlink:href=\"#LiberationSans-37\" x=\"83.398438\"/>\n       <use xlink:href=\"#LiberationSans-35\" x=\"139.013672\"/>\n      </g>\n     </g>\n    </g>\n    <g id=\"ytick_8\">\n     <g id=\"line2d_27\">\n      <path d=\"M 46.122188 19.909756 \nL 447.018188 19.909756 \n\" clip-path=\"url(#p3e4ed299ef)\" style=\"fill: none; stroke: #2a3459; stroke-linecap: round\"/>\n     </g>\n     <g id=\"line2d_28\"/>\n     <g id=\"text_14\">\n      <!-- 1.00 -->\n      <g style=\"fill: #e6e6e6\" transform=\"translate(15.376875 24.982569) scale(0.14 -0.14)\">\n       <use xlink:href=\"#LiberationSans-31\"/>\n       <use xlink:href=\"#LiberationSans-2e\" x=\"55.615234\"/>\n       <use xlink:href=\"#LiberationSans-30\" x=\"83.398438\"/>\n       <use xlink:href=\"#LiberationSans-30\" x=\"139.013672\"/>\n      </g>\n     </g>\n    </g>\n   </g>\n   <g id=\"line2d_29\">\n    <path d=\"M 64.344733 19.924364 \nL 66.458548 21.837492 \nL 71.779532 28.712553 \nL 78.120977 40.415724 \nL 85.883782 59.255411 \nL 95.869737 89.169627 \nL 112.160692 145.378455 \nL 131.25792 209.273595 \nL 141.863441 238.0038 \nL 150.355148 255.613945 \nL 157.46194 266.072099 \nL 163.54827 271.721011 \nL 168.905699 274.115848 \nL 173.862231 274.196573 \nL 178.891654 272.236912 \nL 184.431308 267.81055 \nL 190.809198 259.992165 \nL 198.462668 247.227986 \nL 208.084172 226.999427 \nL 222.370647 191.701004 \nL 246.278627 132.806864 \nL 256.993484 111.878574 \nL 265.63097 99.125165 \nL 272.992878 91.607896 \nL 279.44366 87.716066 \nL 285.384209 86.392409 \nL 291.178979 87.156862 \nL 297.228864 90.030586 \nL 303.971206 95.550746 \nL 311.87979 104.773232 \nL 321.647075 119.455617 \nL 335.78777 144.761557 \nL 361.554449 191.039075 \nL 372.451532 206.274376 \nL 381.380579 215.50811 \nL 389.143383 220.805399 \nL 396.213731 223.297832 \nL 402.992518 223.589245 \nL 409.88064 221.848758 \nL 417.315438 217.825845 \nL 425.807145 210.831094 \nL 428.795642 207.863942 \nL 428.795642 207.863942 \n\" clip-path=\"url(#p3e4ed299ef)\" style=\"fill: none; stroke: #08f7fe; stroke-width: 4; stroke-linecap: round\"/>\n   </g>\n   <g id=\"patch_3\">\n    <path d=\"M 46.122188 287.136 \nL 46.122188 7.2 \n\" style=\"fill: none\"/>\n   </g>\n   <g id=\"patch_4\">\n    <path d=\"M 447.018188 287.136 \nL 447.018188 7.2 \n\" style=\"fill: none\"/>\n   </g>\n   <g id=\"patch_5\">\n    <path d=\"M 46.122188 287.136 \nL 447.018188 287.136 \n\" style=\"fill: none\"/>\n   </g>\n   <g id=\"patch_6\">\n    <path d=\"M 46.122188 7.2 \nL 447.018188 7.2 \n\" style=\"fill: none\"/>\n   </g>\n  </g>\n </g>\n <defs>\n  <clipPath id=\"p3e4ed299ef\">\n   <rect x=\"46.122188\" y=\"7.2\" width=\"400.896\" height=\"279.936\"/>\n  </clipPath>\n </defs>\n</svg>\n",
      "text/plain": [
       "<Figure size 640x480 with 1 Axes>"
      ]
     },
     "metadata": {},
     "output_type": "display_data"
    }
   ],
   "source": [
    "ydot = np.gradient(y, x)\n",
    "plt.plot(x, ydot)\n",
    "#plt.plot(x, y)"
   ]
  },
  {
   "cell_type": "code",
   "execution_count": 120,
   "metadata": {},
   "outputs": [
    {
     "data": {
      "text/plain": [
       "array([1.472, 4.613, 7.755])"
      ]
     },
     "execution_count": 120,
     "metadata": {},
     "output_type": "execute_result"
    }
   ],
   "source": [
    "# 5\n",
    "cond = ydot[1:] * ydot[:-1] < 0\n",
    "x[1:][cond]"
   ]
  },
  {
   "attachments": {},
   "cell_type": "markdown",
   "metadata": {},
   "source": [
    "### Question 2:\n",
    "\n",
    "Sum together every number from 0 to 10000 except for those that can be divided by 4 or 7. Do this in one line of code."
   ]
  },
  {
   "cell_type": "code",
   "execution_count": 121,
   "metadata": {},
   "outputs": [],
   "source": [
    "# I know that divisibility of a number by another can be checked with the modulo being equal to 0\n",
    "\n"
   ]
  },
  {
   "attachments": {},
   "cell_type": "markdown",
   "metadata": {},
   "source": [
    "### Question 3:\n",
    "\n",
    "Consider the flower petal $r(\\theta) = 1 + \\frac{3}{4} sin(3\\theta)$ for $\\theta \\in [0, 2\\pi]$.\n",
    "\n",
    "1. Make a plot of the flower (find x and y points).\n",
    "2. Compute the area using the calculus formula $ A = \\int_0^{2\\pi} \\frac{1}{2} r^2 \\, d\\theta$.\n",
    "3. Compute the arc length using the calculus formula $ L = \\int_0^{2\\pi} \\sqrt{r^2 + \\dot{r}^2} \\, d\\theta$."
   ]
  },
  {
   "cell_type": "code",
   "execution_count": null,
   "metadata": {},
   "outputs": [],
   "source": []
  }
 ],
 "metadata": {
  "kernelspec": {
   "display_name": "Python 3",
   "language": "python",
   "name": "python3"
  },
  "language_info": {
   "codemirror_mode": {
    "name": "ipython",
    "version": 3
   },
   "file_extension": ".py",
   "mimetype": "text/x-python",
   "name": "python",
   "nbconvert_exporter": "python",
   "pygments_lexer": "ipython3",
   "version": "3.11.1"
  },
  "orig_nbformat": 4,
  "vscode": {
   "interpreter": {
    "hash": "e7370f93d1d0cde622a1f8e1c04877d8463912d04d973331ad4851f04de6915a"
   }
  }
 },
 "nbformat": 4,
 "nbformat_minor": 2
}
