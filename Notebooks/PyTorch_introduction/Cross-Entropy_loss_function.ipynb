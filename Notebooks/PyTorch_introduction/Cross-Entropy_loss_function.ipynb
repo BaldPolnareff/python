{
 "cells": [
  {
   "cell_type": "code",
   "execution_count": 1,
   "metadata": {},
   "outputs": [],
   "source": [
    "import numpy as np \n",
    "import matplotlib.pyplot as plt \n",
    "import torch \n",
    "#import scienceplots\n",
    "#plt.style.use('notebook')\n",
    "%config InlineBackend.figure_format = 'svg'"
   ]
  },
  {
   "attachments": {},
   "cell_type": "markdown",
   "metadata": {},
   "source": [
    "# An Initial Problem \n",
    "\n",
    "Suppose I have a set of numbers $\\vec{p} = [1, 3, 5, 2, \\dots]$ of length $N$ and I want to know the corresponding set of numbers $\\vec{q} = [q_1, q_2, q_3, \\dots, q_N]$ such that the following function is minimized:\n",
    "\n",
    "$$ H(\\vec{p}, \\vec{q}) = -\\sum_{i=1}^N p_i \\log q_i $$ \n",
    "\n",
    "with the constraint that $\\sum p_i = \\sum q_i = 1$."
   ]
  },
  {
   "cell_type": "code",
   "execution_count": null,
   "metadata": {},
   "outputs": [],
   "source": []
  }
 ],
 "metadata": {
  "kernelspec": {
   "display_name": "base",
   "language": "python",
   "name": "python3"
  },
  "language_info": {
   "codemirror_mode": {
    "name": "ipython",
    "version": 3
   },
   "file_extension": ".py",
   "mimetype": "text/x-python",
   "name": "python",
   "nbconvert_exporter": "python",
   "pygments_lexer": "ipython3",
   "version": "3.9.13"
  },
  "orig_nbformat": 4,
  "vscode": {
   "interpreter": {
    "hash": "e2c9d14e2283efc71dd845cb84a05c6dc0b4f1a825c12450a6974e74c8800d0a"
   }
  }
 },
 "nbformat": 4,
 "nbformat_minor": 2
}
